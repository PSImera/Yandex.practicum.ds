{
 "cells": [
  {
   "cell_type": "markdown",
   "id": "c5d107f7",
   "metadata": {
    "deletable": false,
    "editable": false,
    "id": "c81daeeb"
   },
   "source": [
    "# Study of Borrowers' Reliability\n"
   ]
  },
  {
   "cell_type": "markdown",
   "id": "1519de81",
   "metadata": {
    "deletable": false,
    "editable": false,
    "id": "744d7639"
   },
   "source": [
    "## Let's open the table and examine general information about the data"
   ]
  },
  {
   "cell_type": "code",
   "execution_count": 1,
   "id": "e9da3423",
   "metadata": {
    "deletable": false,
    "id": "7bcf75c9"
   },
   "outputs": [],
   "source": [
    "import pandas as pd\n",
    "import os\n",
    "\n",
    "try:\n",
    "    path = os.path.join('datasets/data.csv')\n",
    "    df = pd.read_csv(path)\n",
    "except:\n",
    "    df = pd.read_csv('https://code.s3.yandex.net/datasets/data.csv')"
   ]
  },
  {
   "cell_type": "markdown",
   "id": "3e14eb4f",
   "metadata": {
    "deletable": false,
    "editable": false,
    "id": "b8038fe3"
   },
   "source": [
    "Let's display the first 20 lines of the `data` dataframe on the screen"
   ]
  },
  {
   "cell_type": "code",
   "execution_count": null,
   "id": "019f07b1",
   "metadata": {},
   "outputs": [
    {
     "data": {
      "text/html": [
       "<div>\n",
       "<style scoped>\n",
       "    .dataframe tbody tr th:only-of-type {\n",
       "        vertical-align: middle;\n",
       "    }\n",
       "\n",
       "    .dataframe tbody tr th {\n",
       "        vertical-align: top;\n",
       "    }\n",
       "\n",
       "    .dataframe thead th {\n",
       "        text-align: right;\n",
       "    }\n",
       "</style>\n",
       "<table border=\"1\" class=\"dataframe\">\n",
       "  <thead>\n",
       "    <tr style=\"text-align: right;\">\n",
       "      <th></th>\n",
       "      <th>children</th>\n",
       "      <th>days_employed</th>\n",
       "      <th>dob_years</th>\n",
       "      <th>education</th>\n",
       "      <th>education_id</th>\n",
       "      <th>family_status</th>\n",
       "      <th>family_status_id</th>\n",
       "      <th>gender</th>\n",
       "      <th>income_type</th>\n",
       "      <th>debt</th>\n",
       "      <th>total_income</th>\n",
       "      <th>purpose</th>\n",
       "    </tr>\n",
       "  </thead>\n",
       "  <tbody>\n",
       "    <tr>\n",
       "      <th>0</th>\n",
       "      <td>1</td>\n",
       "      <td>-8437.673028</td>\n",
       "      <td>42</td>\n",
       "      <td>высшее</td>\n",
       "      <td>0</td>\n",
       "      <td>женат / замужем</td>\n",
       "      <td>0</td>\n",
       "      <td>F</td>\n",
       "      <td>сотрудник</td>\n",
       "      <td>0</td>\n",
       "      <td>253875.639453</td>\n",
       "      <td>покупка жилья</td>\n",
       "    </tr>\n",
       "    <tr>\n",
       "      <th>1</th>\n",
       "      <td>1</td>\n",
       "      <td>-4024.803754</td>\n",
       "      <td>36</td>\n",
       "      <td>среднее</td>\n",
       "      <td>1</td>\n",
       "      <td>женат / замужем</td>\n",
       "      <td>0</td>\n",
       "      <td>F</td>\n",
       "      <td>сотрудник</td>\n",
       "      <td>0</td>\n",
       "      <td>112080.014102</td>\n",
       "      <td>приобретение автомобиля</td>\n",
       "    </tr>\n",
       "    <tr>\n",
       "      <th>2</th>\n",
       "      <td>0</td>\n",
       "      <td>-5623.422610</td>\n",
       "      <td>33</td>\n",
       "      <td>Среднее</td>\n",
       "      <td>1</td>\n",
       "      <td>женат / замужем</td>\n",
       "      <td>0</td>\n",
       "      <td>M</td>\n",
       "      <td>сотрудник</td>\n",
       "      <td>0</td>\n",
       "      <td>145885.952297</td>\n",
       "      <td>покупка жилья</td>\n",
       "    </tr>\n",
       "    <tr>\n",
       "      <th>3</th>\n",
       "      <td>3</td>\n",
       "      <td>-4124.747207</td>\n",
       "      <td>32</td>\n",
       "      <td>среднее</td>\n",
       "      <td>1</td>\n",
       "      <td>женат / замужем</td>\n",
       "      <td>0</td>\n",
       "      <td>M</td>\n",
       "      <td>сотрудник</td>\n",
       "      <td>0</td>\n",
       "      <td>267628.550329</td>\n",
       "      <td>дополнительное образование</td>\n",
       "    </tr>\n",
       "    <tr>\n",
       "      <th>4</th>\n",
       "      <td>0</td>\n",
       "      <td>340266.072047</td>\n",
       "      <td>53</td>\n",
       "      <td>среднее</td>\n",
       "      <td>1</td>\n",
       "      <td>гражданский брак</td>\n",
       "      <td>1</td>\n",
       "      <td>F</td>\n",
       "      <td>пенсионер</td>\n",
       "      <td>0</td>\n",
       "      <td>158616.077870</td>\n",
       "      <td>сыграть свадьбу</td>\n",
       "    </tr>\n",
       "    <tr>\n",
       "      <th>5</th>\n",
       "      <td>0</td>\n",
       "      <td>-926.185831</td>\n",
       "      <td>27</td>\n",
       "      <td>высшее</td>\n",
       "      <td>0</td>\n",
       "      <td>гражданский брак</td>\n",
       "      <td>1</td>\n",
       "      <td>M</td>\n",
       "      <td>компаньон</td>\n",
       "      <td>0</td>\n",
       "      <td>255763.565419</td>\n",
       "      <td>покупка жилья</td>\n",
       "    </tr>\n",
       "    <tr>\n",
       "      <th>6</th>\n",
       "      <td>0</td>\n",
       "      <td>-2879.202052</td>\n",
       "      <td>43</td>\n",
       "      <td>высшее</td>\n",
       "      <td>0</td>\n",
       "      <td>женат / замужем</td>\n",
       "      <td>0</td>\n",
       "      <td>F</td>\n",
       "      <td>компаньон</td>\n",
       "      <td>0</td>\n",
       "      <td>240525.971920</td>\n",
       "      <td>операции с жильем</td>\n",
       "    </tr>\n",
       "    <tr>\n",
       "      <th>7</th>\n",
       "      <td>0</td>\n",
       "      <td>-152.779569</td>\n",
       "      <td>50</td>\n",
       "      <td>СРЕДНЕЕ</td>\n",
       "      <td>1</td>\n",
       "      <td>женат / замужем</td>\n",
       "      <td>0</td>\n",
       "      <td>M</td>\n",
       "      <td>сотрудник</td>\n",
       "      <td>0</td>\n",
       "      <td>135823.934197</td>\n",
       "      <td>образование</td>\n",
       "    </tr>\n",
       "    <tr>\n",
       "      <th>8</th>\n",
       "      <td>2</td>\n",
       "      <td>-6929.865299</td>\n",
       "      <td>35</td>\n",
       "      <td>ВЫСШЕЕ</td>\n",
       "      <td>0</td>\n",
       "      <td>гражданский брак</td>\n",
       "      <td>1</td>\n",
       "      <td>F</td>\n",
       "      <td>сотрудник</td>\n",
       "      <td>0</td>\n",
       "      <td>95856.832424</td>\n",
       "      <td>на проведение свадьбы</td>\n",
       "    </tr>\n",
       "    <tr>\n",
       "      <th>9</th>\n",
       "      <td>0</td>\n",
       "      <td>-2188.756445</td>\n",
       "      <td>41</td>\n",
       "      <td>среднее</td>\n",
       "      <td>1</td>\n",
       "      <td>женат / замужем</td>\n",
       "      <td>0</td>\n",
       "      <td>M</td>\n",
       "      <td>сотрудник</td>\n",
       "      <td>0</td>\n",
       "      <td>144425.938277</td>\n",
       "      <td>покупка жилья для семьи</td>\n",
       "    </tr>\n",
       "    <tr>\n",
       "      <th>10</th>\n",
       "      <td>2</td>\n",
       "      <td>-4171.483647</td>\n",
       "      <td>36</td>\n",
       "      <td>высшее</td>\n",
       "      <td>0</td>\n",
       "      <td>женат / замужем</td>\n",
       "      <td>0</td>\n",
       "      <td>M</td>\n",
       "      <td>компаньон</td>\n",
       "      <td>0</td>\n",
       "      <td>113943.491460</td>\n",
       "      <td>покупка недвижимости</td>\n",
       "    </tr>\n",
       "    <tr>\n",
       "      <th>11</th>\n",
       "      <td>0</td>\n",
       "      <td>-792.701887</td>\n",
       "      <td>40</td>\n",
       "      <td>среднее</td>\n",
       "      <td>1</td>\n",
       "      <td>женат / замужем</td>\n",
       "      <td>0</td>\n",
       "      <td>F</td>\n",
       "      <td>сотрудник</td>\n",
       "      <td>0</td>\n",
       "      <td>77069.234271</td>\n",
       "      <td>покупка коммерческой недвижимости</td>\n",
       "    </tr>\n",
       "    <tr>\n",
       "      <th>12</th>\n",
       "      <td>0</td>\n",
       "      <td>NaN</td>\n",
       "      <td>65</td>\n",
       "      <td>среднее</td>\n",
       "      <td>1</td>\n",
       "      <td>гражданский брак</td>\n",
       "      <td>1</td>\n",
       "      <td>M</td>\n",
       "      <td>пенсионер</td>\n",
       "      <td>0</td>\n",
       "      <td>NaN</td>\n",
       "      <td>сыграть свадьбу</td>\n",
       "    </tr>\n",
       "    <tr>\n",
       "      <th>13</th>\n",
       "      <td>0</td>\n",
       "      <td>-1846.641941</td>\n",
       "      <td>54</td>\n",
       "      <td>неоконченное высшее</td>\n",
       "      <td>2</td>\n",
       "      <td>женат / замужем</td>\n",
       "      <td>0</td>\n",
       "      <td>F</td>\n",
       "      <td>сотрудник</td>\n",
       "      <td>0</td>\n",
       "      <td>130458.228857</td>\n",
       "      <td>приобретение автомобиля</td>\n",
       "    </tr>\n",
       "    <tr>\n",
       "      <th>14</th>\n",
       "      <td>0</td>\n",
       "      <td>-1844.956182</td>\n",
       "      <td>56</td>\n",
       "      <td>высшее</td>\n",
       "      <td>0</td>\n",
       "      <td>гражданский брак</td>\n",
       "      <td>1</td>\n",
       "      <td>F</td>\n",
       "      <td>компаньон</td>\n",
       "      <td>1</td>\n",
       "      <td>165127.911772</td>\n",
       "      <td>покупка жилой недвижимости</td>\n",
       "    </tr>\n",
       "    <tr>\n",
       "      <th>15</th>\n",
       "      <td>1</td>\n",
       "      <td>-972.364419</td>\n",
       "      <td>26</td>\n",
       "      <td>среднее</td>\n",
       "      <td>1</td>\n",
       "      <td>женат / замужем</td>\n",
       "      <td>0</td>\n",
       "      <td>F</td>\n",
       "      <td>сотрудник</td>\n",
       "      <td>0</td>\n",
       "      <td>116820.904450</td>\n",
       "      <td>строительство собственной недвижимости</td>\n",
       "    </tr>\n",
       "    <tr>\n",
       "      <th>16</th>\n",
       "      <td>0</td>\n",
       "      <td>-1719.934226</td>\n",
       "      <td>35</td>\n",
       "      <td>среднее</td>\n",
       "      <td>1</td>\n",
       "      <td>женат / замужем</td>\n",
       "      <td>0</td>\n",
       "      <td>F</td>\n",
       "      <td>сотрудник</td>\n",
       "      <td>0</td>\n",
       "      <td>289202.704229</td>\n",
       "      <td>недвижимость</td>\n",
       "    </tr>\n",
       "    <tr>\n",
       "      <th>17</th>\n",
       "      <td>0</td>\n",
       "      <td>-2369.999720</td>\n",
       "      <td>33</td>\n",
       "      <td>высшее</td>\n",
       "      <td>0</td>\n",
       "      <td>гражданский брак</td>\n",
       "      <td>1</td>\n",
       "      <td>M</td>\n",
       "      <td>сотрудник</td>\n",
       "      <td>0</td>\n",
       "      <td>90410.586745</td>\n",
       "      <td>строительство недвижимости</td>\n",
       "    </tr>\n",
       "    <tr>\n",
       "      <th>18</th>\n",
       "      <td>0</td>\n",
       "      <td>400281.136913</td>\n",
       "      <td>53</td>\n",
       "      <td>среднее</td>\n",
       "      <td>1</td>\n",
       "      <td>вдовец / вдова</td>\n",
       "      <td>2</td>\n",
       "      <td>F</td>\n",
       "      <td>пенсионер</td>\n",
       "      <td>0</td>\n",
       "      <td>56823.777243</td>\n",
       "      <td>на покупку подержанного автомобиля</td>\n",
       "    </tr>\n",
       "    <tr>\n",
       "      <th>19</th>\n",
       "      <td>0</td>\n",
       "      <td>-10038.818549</td>\n",
       "      <td>48</td>\n",
       "      <td>СРЕДНЕЕ</td>\n",
       "      <td>1</td>\n",
       "      <td>в разводе</td>\n",
       "      <td>3</td>\n",
       "      <td>F</td>\n",
       "      <td>сотрудник</td>\n",
       "      <td>0</td>\n",
       "      <td>242831.107982</td>\n",
       "      <td>на покупку своего автомобиля</td>\n",
       "    </tr>\n",
       "  </tbody>\n",
       "</table>\n",
       "</div>"
      ],
      "text/plain": [
       "    children  days_employed  dob_years            education  education_id  \\\n",
       "0          1   -8437.673028         42               высшее             0   \n",
       "1          1   -4024.803754         36              среднее             1   \n",
       "2          0   -5623.422610         33              Среднее             1   \n",
       "3          3   -4124.747207         32              среднее             1   \n",
       "4          0  340266.072047         53              среднее             1   \n",
       "5          0    -926.185831         27               высшее             0   \n",
       "6          0   -2879.202052         43               высшее             0   \n",
       "7          0    -152.779569         50              СРЕДНЕЕ             1   \n",
       "8          2   -6929.865299         35               ВЫСШЕЕ             0   \n",
       "9          0   -2188.756445         41              среднее             1   \n",
       "10         2   -4171.483647         36               высшее             0   \n",
       "11         0    -792.701887         40              среднее             1   \n",
       "12         0            NaN         65              среднее             1   \n",
       "13         0   -1846.641941         54  неоконченное высшее             2   \n",
       "14         0   -1844.956182         56               высшее             0   \n",
       "15         1    -972.364419         26              среднее             1   \n",
       "16         0   -1719.934226         35              среднее             1   \n",
       "17         0   -2369.999720         33               высшее             0   \n",
       "18         0  400281.136913         53              среднее             1   \n",
       "19         0  -10038.818549         48              СРЕДНЕЕ             1   \n",
       "\n",
       "       family_status  family_status_id gender income_type  debt  \\\n",
       "0    женат / замужем                 0      F   сотрудник     0   \n",
       "1    женат / замужем                 0      F   сотрудник     0   \n",
       "2    женат / замужем                 0      M   сотрудник     0   \n",
       "3    женат / замужем                 0      M   сотрудник     0   \n",
       "4   гражданский брак                 1      F   пенсионер     0   \n",
       "5   гражданский брак                 1      M   компаньон     0   \n",
       "6    женат / замужем                 0      F   компаньон     0   \n",
       "7    женат / замужем                 0      M   сотрудник     0   \n",
       "8   гражданский брак                 1      F   сотрудник     0   \n",
       "9    женат / замужем                 0      M   сотрудник     0   \n",
       "10   женат / замужем                 0      M   компаньон     0   \n",
       "11   женат / замужем                 0      F   сотрудник     0   \n",
       "12  гражданский брак                 1      M   пенсионер     0   \n",
       "13   женат / замужем                 0      F   сотрудник     0   \n",
       "14  гражданский брак                 1      F   компаньон     1   \n",
       "15   женат / замужем                 0      F   сотрудник     0   \n",
       "16   женат / замужем                 0      F   сотрудник     0   \n",
       "17  гражданский брак                 1      M   сотрудник     0   \n",
       "18    вдовец / вдова                 2      F   пенсионер     0   \n",
       "19         в разводе                 3      F   сотрудник     0   \n",
       "\n",
       "     total_income                                 purpose  \n",
       "0   253875.639453                           покупка жилья  \n",
       "1   112080.014102                 приобретение автомобиля  \n",
       "2   145885.952297                           покупка жилья  \n",
       "3   267628.550329              дополнительное образование  \n",
       "4   158616.077870                         сыграть свадьбу  \n",
       "5   255763.565419                           покупка жилья  \n",
       "6   240525.971920                       операции с жильем  \n",
       "7   135823.934197                             образование  \n",
       "8    95856.832424                   на проведение свадьбы  \n",
       "9   144425.938277                 покупка жилья для семьи  \n",
       "10  113943.491460                    покупка недвижимости  \n",
       "11   77069.234271       покупка коммерческой недвижимости  \n",
       "12            NaN                         сыграть свадьбу  \n",
       "13  130458.228857                 приобретение автомобиля  \n",
       "14  165127.911772              покупка жилой недвижимости  \n",
       "15  116820.904450  строительство собственной недвижимости  \n",
       "16  289202.704229                            недвижимость  \n",
       "17   90410.586745              строительство недвижимости  \n",
       "18   56823.777243      на покупку подержанного автомобиля  \n",
       "19  242831.107982            на покупку своего автомобиля  "
      ]
     },
     "metadata": {},
     "output_type": "display_data"
    }
   ],
   "source": [
    "df.head(20)"
   ]
  },
  {
   "cell_type": "markdown",
   "id": "f1845f18",
   "metadata": {},
   "source": [
    "Let's watch the general info about data"
   ]
  },
  {
   "cell_type": "code",
   "execution_count": null,
   "id": "54b33922",
   "metadata": {},
   "outputs": [
    {
     "name": "stdout",
     "output_type": "stream",
     "text": [
      "<class 'pandas.core.frame.DataFrame'>\n",
      "RangeIndex: 21525 entries, 0 to 21524\n",
      "Data columns (total 12 columns):\n",
      " #   Column            Non-Null Count  Dtype  \n",
      "---  ------            --------------  -----  \n",
      " 0   children          21525 non-null  int64  \n",
      " 1   days_employed     19351 non-null  float64\n",
      " 2   dob_years         21525 non-null  int64  \n",
      " 3   education         21525 non-null  object \n",
      " 4   education_id      21525 non-null  int64  \n",
      " 5   family_status     21525 non-null  object \n",
      " 6   family_status_id  21525 non-null  int64  \n",
      " 7   gender            21525 non-null  object \n",
      " 8   income_type       21525 non-null  object \n",
      " 9   debt              21525 non-null  int64  \n",
      " 10  total_income      19351 non-null  float64\n",
      " 11  purpose           21525 non-null  object \n",
      "dtypes: float64(2), int64(5), object(5)\n",
      "memory usage: 2.0+ MB\n"
     ]
    }
   ],
   "source": [
    "df.info()"
   ]
  },
  {
   "cell_type": "markdown",
   "id": "73499951",
   "metadata": {},
   "source": [
    "## Data preprocessing"
   ]
  },
  {
   "cell_type": "markdown",
   "id": "ea157d83",
   "metadata": {},
   "source": [
    "### Missing values check"
   ]
  },
  {
   "cell_type": "markdown",
   "id": "75d33cc3",
   "metadata": {},
   "source": [
    "Let's whatch omissions count for every column"
   ]
  },
  {
   "cell_type": "code",
   "execution_count": null,
   "id": "f2b2ae26",
   "metadata": {},
   "outputs": [
    {
     "data": {
      "text/plain": [
       "children               0\n",
       "days_employed       2174\n",
       "dob_years              0\n",
       "education              0\n",
       "education_id           0\n",
       "family_status          0\n",
       "family_status_id       0\n",
       "gender                 0\n",
       "income_type            0\n",
       "debt                   0\n",
       "total_income        2174\n",
       "purpose                0\n",
       "dtype: int64"
      ]
     },
     "metadata": {},
     "output_type": "display_data"
    }
   ],
   "source": [
    "df.isna().sum()"
   ]
  },
  {
   "cell_type": "markdown",
   "id": "6f386d33",
   "metadata": {},
   "source": [
    "Two columns have missing values. One of them is `days_employed`. this column will be processed on the next step. Another column with missing values, `total_income`, stores income data. The amount of income is most influenced by the type of employment, so we will fill the omissions in this column with the median value for each type from the `income_type` column. For example, for a person with an employment type of `сотрудник`, the omissions in the `total_income` column will be filled with the median income among all values off this type"
   ]
  },
  {
   "cell_type": "code",
   "execution_count": null,
   "id": "b62902f1",
   "metadata": {},
   "outputs": [],
   "source": [
    "for t in df['income_type'].unique():\n",
    "    df.loc[(df['income_type'] == t) & (df['total_income'].isna()), 'total_income'] = \\\n",
    "    df.loc[(df['income_type'] == t), 'total_income'].median()"
   ]
  },
  {
   "cell_type": "markdown",
   "id": "9e19380b",
   "metadata": {},
   "source": [
    "### Обработка аномальных значений"
   ]
  },
  {
   "cell_type": "markdown",
   "id": "ff9b6afe",
   "metadata": {},
   "source": [
    "В данных могут встречаться артефакты — значения, которые не отражают действительность и появились по какой-то ошибке. таким артефактом будет отрицательное количество дней трудового стажа в столбце `days_employed`. Для реальных данных это нормально. Обработаем значения в этом столбце: заменим все отрицательные значения положительными"
   ]
  },
  {
   "cell_type": "code",
   "execution_count": null,
   "id": "8d0b39ae",
   "metadata": {},
   "outputs": [],
   "source": [
    "df['days_employed'] = df['days_employed'].abs()"
   ]
  },
  {
   "cell_type": "markdown",
   "id": "18e68fd8",
   "metadata": {},
   "source": [
    "Для каждого типа занятости выведем медианное значение трудового стажа `days_employed` в днях"
   ]
  },
  {
   "cell_type": "code",
   "execution_count": null,
   "id": "021e1569",
   "metadata": {},
   "outputs": [
    {
     "data": {
      "text/plain": [
       "income_type\n",
       "безработный        366413.652744\n",
       "в декрете            3296.759962\n",
       "госслужащий          2689.368353\n",
       "компаньон            1547.382223\n",
       "пенсионер          365213.306266\n",
       "предприниматель       520.848083\n",
       "сотрудник            1574.202821\n",
       "студент               578.751554\n",
       "Name: days_employed, dtype: float64"
      ]
     },
     "metadata": {},
     "output_type": "display_data"
    }
   ],
   "source": [
    "df.groupby('income_type')['days_employed'].agg('median')"
   ]
  },
  {
   "cell_type": "markdown",
   "id": "80158ad8",
   "metadata": {},
   "source": [
    "У двух типов (безработные и пенсионеры) получатся аномально большие значения. Исправить такие значения сложно, поэтому оставьте их как есть. Тем более этот столбец не понадобится вам для исследования."
   ]
  },
  {
   "cell_type": "markdown",
   "id": "e58eb45d",
   "metadata": {},
   "source": [
    "Выведем перечень уникальных значений столбца `children`"
   ]
  },
  {
   "cell_type": "code",
   "execution_count": null,
   "id": "6604372c",
   "metadata": {},
   "outputs": [
    {
     "data": {
      "text/plain": [
       "array([ 1,  0,  3,  2, -1,  4, 20,  5], dtype=int64)"
      ]
     },
     "metadata": {},
     "output_type": "display_data"
    }
   ],
   "source": [
    "df['children'].unique()"
   ]
  },
  {
   "cell_type": "markdown",
   "id": "dc2a37ca",
   "metadata": {},
   "source": [
    "В столбце `children` есть два аномальных значения. Удалим строки, в которых встречаются такие аномальные значения"
   ]
  },
  {
   "cell_type": "code",
   "execution_count": null,
   "id": "dc3cbac5",
   "metadata": {},
   "outputs": [],
   "source": [
    "df = df[(df['children'] != -1) & (df['children'] != 20)]"
   ]
  },
  {
   "cell_type": "markdown",
   "id": "95e4010a",
   "metadata": {},
   "source": [
    "Ещё раз выведем перечень уникальных значений столбца `children`, чтобы убедиться, что артефакты удалены"
   ]
  },
  {
   "cell_type": "code",
   "execution_count": null,
   "id": "1212f4e2",
   "metadata": {},
   "outputs": [
    {
     "data": {
      "text/plain": [
       "array([1, 0, 3, 2, 4, 5], dtype=int64)"
      ]
     },
     "metadata": {},
     "output_type": "display_data"
    }
   ],
   "source": [
    "df['children'].unique()"
   ]
  },
  {
   "cell_type": "markdown",
   "id": "f29eae2e",
   "metadata": {},
   "source": [
    "### Удаление пропусков (продолжение)"
   ]
  },
  {
   "cell_type": "markdown",
   "id": "d6d99d4d",
   "metadata": {},
   "source": [
    "Заполним пропуски в столбце `days_employed` медианными значениями по каждому типа занятости `income_type`"
   ]
  },
  {
   "cell_type": "code",
   "execution_count": null,
   "id": "36094f6f",
   "metadata": {},
   "outputs": [],
   "source": [
    "for t in df['income_type'].unique():\n",
    "    df.loc[(df['income_type'] == t) & (df['days_employed'].isna()), 'days_employed'] = \\\n",
    "    df.loc[(df['income_type'] == t), 'days_employed'].median()"
   ]
  },
  {
   "cell_type": "markdown",
   "id": "1c67aadf",
   "metadata": {},
   "source": [
    "Убедимся, что все пропуски заполнены"
   ]
  },
  {
   "cell_type": "code",
   "execution_count": null,
   "id": "63ba1038",
   "metadata": {},
   "outputs": [
    {
     "data": {
      "text/plain": [
       "children            0\n",
       "days_employed       0\n",
       "dob_years           0\n",
       "education           0\n",
       "education_id        0\n",
       "family_status       0\n",
       "family_status_id    0\n",
       "gender              0\n",
       "income_type         0\n",
       "debt                0\n",
       "total_income        0\n",
       "purpose             0\n",
       "dtype: int64"
      ]
     },
     "metadata": {},
     "output_type": "display_data"
    }
   ],
   "source": [
    "df.isna().sum()"
   ]
  },
  {
   "cell_type": "markdown",
   "id": "1cd0aac6",
   "metadata": {},
   "source": [
    "### Изменение типов данных"
   ]
  },
  {
   "cell_type": "markdown",
   "id": "b3c7e85d",
   "metadata": {},
   "source": [
    "Заменим вещественный тип данных в столбце `total_income` на целочисленный"
   ]
  },
  {
   "cell_type": "code",
   "execution_count": null,
   "id": "be0c737c",
   "metadata": {},
   "outputs": [],
   "source": [
    "df['total_income'] = df['total_income'].astype(int)"
   ]
  },
  {
   "cell_type": "markdown",
   "id": "748cdd49",
   "metadata": {},
   "source": [
    "### Обработка дубликатов"
   ]
  },
  {
   "cell_type": "markdown",
   "id": "87c628cb",
   "metadata": {},
   "source": [
    "Обработаем неявные дубликаты в столбце `education`. В этом столбце есть одни и те же значения, но записанные по-разному: с использованием заглавных и строчных букв. Приведем их к нижнему регистру"
   ]
  },
  {
   "cell_type": "code",
   "execution_count": null,
   "id": "5ac5d923",
   "metadata": {},
   "outputs": [],
   "source": [
    "df['education'] = df['education'].str.lower()"
   ]
  },
  {
   "cell_type": "markdown",
   "id": "58e0f997",
   "metadata": {},
   "source": [
    "Выведем на экран количество строк-дубликатов в данных"
   ]
  },
  {
   "cell_type": "code",
   "execution_count": null,
   "id": "0cad649f",
   "metadata": {},
   "outputs": [
    {
     "data": {
      "text/plain": [
       "71"
      ]
     },
     "metadata": {},
     "output_type": "display_data"
    }
   ],
   "source": [
    "df.duplicated().sum()"
   ]
  },
  {
   "cell_type": "code",
   "execution_count": null,
   "id": "23473fc0",
   "metadata": {},
   "outputs": [],
   "source": [
    "df = df.drop_duplicates()"
   ]
  },
  {
   "cell_type": "markdown",
   "id": "b40903a5",
   "metadata": {},
   "source": [
    "### Категоризация данных"
   ]
  },
  {
   "cell_type": "markdown",
   "id": "0f102b88",
   "metadata": {},
   "source": [
    "На основании диапазонов, указанных ниже, создадим столбец `total_income_category` с категориями:\n",
    "\n",
    "- 0–30000 — `'E'`;\n",
    "- 30001–50000 — `'D'`;\n",
    "- 50001–200000 — `'C'`;\n",
    "- 200001–1000000 — `'B'`;\n",
    "- 1000001 и выше — `'A'`.\n",
    "\n",
    "\n",
    "Например, кредитополучателю с доходом 25000 назначим категорию `'E'`, а клиенту, получающему 235000, — `'B'`"
   ]
  },
  {
   "cell_type": "code",
   "execution_count": null,
   "id": "75ee5c12",
   "metadata": {},
   "outputs": [],
   "source": [
    "def categorize_income(income):\n",
    "    try:\n",
    "        if 0 <= income <= 30000:\n",
    "            return 'E'\n",
    "        elif 30001 <= income <= 50000:\n",
    "            return 'D'\n",
    "        elif 50001 <= income <= 200000:\n",
    "            return 'C'\n",
    "        elif 200001 <= income <= 1000000:\n",
    "            return 'B'\n",
    "        elif income >= 1000001:\n",
    "            return 'A'\n",
    "    except:\n",
    "        pass\n",
    "\n",
    "df['total_income_category'] = df['total_income'].apply(categorize_income)"
   ]
  },
  {
   "cell_type": "code",
   "execution_count": null,
   "id": "e1413d69",
   "metadata": {},
   "outputs": [],
   "source": []
  },
  {
   "cell_type": "markdown",
   "id": "dda58d6f",
   "metadata": {},
   "source": [
    "Выведем на экран перечень уникальных целей взятия кредита из столбца `purpose`"
   ]
  },
  {
   "cell_type": "code",
   "execution_count": null,
   "id": "c6d0e19b",
   "metadata": {},
   "outputs": [
    {
     "data": {
      "text/plain": [
       "array(['покупка жилья', 'приобретение автомобиля',\n",
       "       'дополнительное образование', 'сыграть свадьбу',\n",
       "       'операции с жильем', 'образование', 'на проведение свадьбы',\n",
       "       'покупка жилья для семьи', 'покупка недвижимости',\n",
       "       'покупка коммерческой недвижимости', 'покупка жилой недвижимости',\n",
       "       'строительство собственной недвижимости', 'недвижимость',\n",
       "       'строительство недвижимости', 'на покупку подержанного автомобиля',\n",
       "       'на покупку своего автомобиля',\n",
       "       'операции с коммерческой недвижимостью',\n",
       "       'строительство жилой недвижимости', 'жилье',\n",
       "       'операции со своей недвижимостью', 'автомобили',\n",
       "       'заняться образованием', 'сделка с подержанным автомобилем',\n",
       "       'получение образования', 'автомобиль', 'свадьба',\n",
       "       'получение дополнительного образования', 'покупка своего жилья',\n",
       "       'операции с недвижимостью', 'получение высшего образования',\n",
       "       'свой автомобиль', 'сделка с автомобилем',\n",
       "       'профильное образование', 'высшее образование',\n",
       "       'покупка жилья для сдачи', 'на покупку автомобиля', 'ремонт жилью',\n",
       "       'заняться высшим образованием'], dtype=object)"
      ]
     },
     "metadata": {},
     "output_type": "display_data"
    }
   ],
   "source": [
    "df['purpose'].unique()"
   ]
  },
  {
   "cell_type": "markdown",
   "id": "87bad231",
   "metadata": {},
   "source": [
    "Создадим функцию, которая на основании данных из столбца `purpose` сформирует новый столбец `purpose_category`, в который войдут следующие категории:\n",
    "\n",
    "- `'операции с автомобилем'`,\n",
    "- `'операции с недвижимостью'`,\n",
    "- `'проведение свадьбы'`,\n",
    "- `'получение образования'`.\n",
    "\n",
    "Например, если в столбце `purpose` находится подстрока `'на покупку автомобиля'`, то в столбце `purpose_category` должна появиться строка `'операции с автомобилем'`"
   ]
  },
  {
   "cell_type": "code",
   "execution_count": null,
   "id": "4bbe5077",
   "metadata": {},
   "outputs": [],
   "source": [
    "def categorize_purpose(row):\n",
    "    try:\n",
    "        if 'автом' in row:\n",
    "            return 'операции с автомобилем'\n",
    "        elif 'жил' in row or 'недвиж' in row:\n",
    "            return 'операции с недвижимостью'\n",
    "        elif 'свад' in row:\n",
    "            return 'проведение свадьбы'\n",
    "        elif 'образов' in row:\n",
    "            return 'получение образования'\n",
    "    except:\n",
    "        return 'нет категории'\n",
    "    \n",
    "df['purpose_category'] = df['purpose'].apply(categorize_purpose)"
   ]
  },
  {
   "cell_type": "code",
   "execution_count": null,
   "id": "9c353ff5",
   "metadata": {},
   "outputs": [],
   "source": []
  },
  {
   "cell_type": "markdown",
   "id": "7932b098",
   "metadata": {},
   "source": [
    "### Шаг 3. Исследуйте данные и ответьте на вопросы"
   ]
  },
  {
   "cell_type": "markdown",
   "id": "2ca6bdcb",
   "metadata": {},
   "source": [
    "#### 3.1 Есть ли зависимость между количеством детей и возвратом кредита в срок?"
   ]
  },
  {
   "cell_type": "code",
   "execution_count": null,
   "id": "1abec547",
   "metadata": {},
   "outputs": [
    {
     "data": {
      "text/html": [
       "<div>\n",
       "<style scoped>\n",
       "    .dataframe tbody tr th:only-of-type {\n",
       "        vertical-align: middle;\n",
       "    }\n",
       "\n",
       "    .dataframe tbody tr th {\n",
       "        vertical-align: top;\n",
       "    }\n",
       "\n",
       "    .dataframe thead th {\n",
       "        text-align: right;\n",
       "    }\n",
       "</style>\n",
       "<table border=\"1\" class=\"dataframe\">\n",
       "  <thead>\n",
       "    <tr style=\"text-align: right;\">\n",
       "      <th></th>\n",
       "      <th>общее число заемщиков</th>\n",
       "      <th>доля должников в %</th>\n",
       "    </tr>\n",
       "    <tr>\n",
       "      <th>children</th>\n",
       "      <th></th>\n",
       "      <th></th>\n",
       "    </tr>\n",
       "  </thead>\n",
       "  <tbody>\n",
       "    <tr>\n",
       "      <th>0</th>\n",
       "      <td>14091</td>\n",
       "      <td>7.543822</td>\n",
       "    </tr>\n",
       "    <tr>\n",
       "      <th>1</th>\n",
       "      <td>4808</td>\n",
       "      <td>9.234609</td>\n",
       "    </tr>\n",
       "    <tr>\n",
       "      <th>2</th>\n",
       "      <td>2052</td>\n",
       "      <td>9.454191</td>\n",
       "    </tr>\n",
       "    <tr>\n",
       "      <th>3</th>\n",
       "      <td>330</td>\n",
       "      <td>8.181818</td>\n",
       "    </tr>\n",
       "    <tr>\n",
       "      <th>4</th>\n",
       "      <td>41</td>\n",
       "      <td>9.756098</td>\n",
       "    </tr>\n",
       "    <tr>\n",
       "      <th>5</th>\n",
       "      <td>9</td>\n",
       "      <td>0.000000</td>\n",
       "    </tr>\n",
       "  </tbody>\n",
       "</table>\n",
       "</div>"
      ],
      "text/plain": [
       "          общее число заемщиков  доля должников в %\n",
       "children                                           \n",
       "0                         14091            7.543822\n",
       "1                          4808            9.234609\n",
       "2                          2052            9.454191\n",
       "3                           330            8.181818\n",
       "4                            41            9.756098\n",
       "5                             9            0.000000"
      ]
     },
     "metadata": {},
     "output_type": "display_data"
    }
   ],
   "source": [
    "def correlation_pivot(df, index):\n",
    "    correlation = df.pivot_table(index=[index], values='debt', aggfunc={'count', 'mean'})\n",
    "    correlation['mean'] = correlation['mean'] * 100\n",
    "    correlation = correlation.rename(columns={'count': 'общее число заемщиков', 'mean': 'доля должников в %'})\n",
    "    return correlation\n",
    "\n",
    "correlation_pivot(df, 'children')"
   ]
  },
  {
   "cell_type": "markdown",
   "id": "924529be",
   "metadata": {},
   "source": [
    "**Вывод:** отсутствие детей снижает риск проблем с возвратом кредита в срок.\n",
    "\n",
    "- **7.5%** бездетных кредиторов имели проблемы с возвращением кредита в срок.\n",
    "- **9.2%** с одним ребёнком\n",
    "- **9.5%** с двумя детьми\n",
    "- **8.2%** с тремя детьми (3 и более детей в датасете это маленькая выборка, поэтому результаты менее репрезентативны)\n",
    "- **9.8%** с четырьмя детьми\n",
    "- **0%**   с пятью детьми (всего 9 случаев, из них ни одного проблемного)"
   ]
  },
  {
   "cell_type": "markdown",
   "id": "4a0b7395",
   "metadata": {},
   "source": [
    "#### 3.2 Есть ли зависимость между семейным положением и возвратом кредита в срок?"
   ]
  },
  {
   "cell_type": "markdown",
   "id": "7f503c33",
   "metadata": {},
   "source": [
    "##### 3.2.1 Мужчины"
   ]
  },
  {
   "cell_type": "code",
   "execution_count": null,
   "id": "47fa93d2",
   "metadata": {},
   "outputs": [
    {
     "data": {
      "text/html": [
       "<div>\n",
       "<style scoped>\n",
       "    .dataframe tbody tr th:only-of-type {\n",
       "        vertical-align: middle;\n",
       "    }\n",
       "\n",
       "    .dataframe tbody tr th {\n",
       "        vertical-align: top;\n",
       "    }\n",
       "\n",
       "    .dataframe thead th {\n",
       "        text-align: right;\n",
       "    }\n",
       "</style>\n",
       "<table border=\"1\" class=\"dataframe\">\n",
       "  <thead>\n",
       "    <tr style=\"text-align: right;\">\n",
       "      <th></th>\n",
       "      <th>общее число заемщиков</th>\n",
       "      <th>доля должников в %</th>\n",
       "    </tr>\n",
       "    <tr>\n",
       "      <th>family_status</th>\n",
       "      <th></th>\n",
       "      <th></th>\n",
       "    </tr>\n",
       "  </thead>\n",
       "  <tbody>\n",
       "    <tr>\n",
       "      <th>Не женат / не замужем</th>\n",
       "      <td>1073</td>\n",
       "      <td>14.445480</td>\n",
       "    </tr>\n",
       "    <tr>\n",
       "      <th>в разводе</th>\n",
       "      <td>258</td>\n",
       "      <td>8.914729</td>\n",
       "    </tr>\n",
       "    <tr>\n",
       "      <th>вдовец / вдова</th>\n",
       "      <td>55</td>\n",
       "      <td>20.000000</td>\n",
       "    </tr>\n",
       "    <tr>\n",
       "      <th>гражданский брак</th>\n",
       "      <td>1301</td>\n",
       "      <td>11.760184</td>\n",
       "    </tr>\n",
       "    <tr>\n",
       "      <th>женат / замужем</th>\n",
       "      <td>4551</td>\n",
       "      <td>8.811250</td>\n",
       "    </tr>\n",
       "  </tbody>\n",
       "</table>\n",
       "</div>"
      ],
      "text/plain": [
       "                       общее число заемщиков  доля должников в %\n",
       "family_status                                                   \n",
       "Не женат / не замужем                   1073           14.445480\n",
       "в разводе                                258            8.914729\n",
       "вдовец / вдова                            55           20.000000\n",
       "гражданский брак                        1301           11.760184\n",
       "женат / замужем                         4551            8.811250"
      ]
     },
     "metadata": {},
     "output_type": "display_data"
    }
   ],
   "source": [
    "df_m = df.loc[df['gender'] == 'M']\n",
    "correlation_pivot(df_m, 'family_status')"
   ]
  },
  {
   "cell_type": "markdown",
   "id": "a543db89",
   "metadata": {},
   "source": [
    "##### 3.2.2 Женщины"
   ]
  },
  {
   "cell_type": "code",
   "execution_count": null,
   "id": "d516b2e9",
   "metadata": {},
   "outputs": [
    {
     "data": {
      "text/html": [
       "<div>\n",
       "<style scoped>\n",
       "    .dataframe tbody tr th:only-of-type {\n",
       "        vertical-align: middle;\n",
       "    }\n",
       "\n",
       "    .dataframe tbody tr th {\n",
       "        vertical-align: top;\n",
       "    }\n",
       "\n",
       "    .dataframe thead th {\n",
       "        text-align: right;\n",
       "    }\n",
       "</style>\n",
       "<table border=\"1\" class=\"dataframe\">\n",
       "  <thead>\n",
       "    <tr style=\"text-align: right;\">\n",
       "      <th></th>\n",
       "      <th>общее число заемщиков</th>\n",
       "      <th>доля должников в %</th>\n",
       "    </tr>\n",
       "    <tr>\n",
       "      <th>family_status</th>\n",
       "      <th></th>\n",
       "      <th></th>\n",
       "    </tr>\n",
       "  </thead>\n",
       "  <tbody>\n",
       "    <tr>\n",
       "      <th>Не женат / не замужем</th>\n",
       "      <td>1723</td>\n",
       "      <td>6.848520</td>\n",
       "    </tr>\n",
       "    <tr>\n",
       "      <th>в разводе</th>\n",
       "      <td>931</td>\n",
       "      <td>6.552095</td>\n",
       "    </tr>\n",
       "    <tr>\n",
       "      <th>вдовец / вдова</th>\n",
       "      <td>896</td>\n",
       "      <td>5.803571</td>\n",
       "    </tr>\n",
       "    <tr>\n",
       "      <th>гражданский брак</th>\n",
       "      <td>2832</td>\n",
       "      <td>8.192090</td>\n",
       "    </tr>\n",
       "    <tr>\n",
       "      <th>женат / замужем</th>\n",
       "      <td>7710</td>\n",
       "      <td>6.822309</td>\n",
       "    </tr>\n",
       "  </tbody>\n",
       "</table>\n",
       "</div>"
      ],
      "text/plain": [
       "                       общее число заемщиков  доля должников в %\n",
       "family_status                                                   \n",
       "Не женат / не замужем                   1723            6.848520\n",
       "в разводе                                931            6.552095\n",
       "вдовец / вдова                           896            5.803571\n",
       "гражданский брак                        2832            8.192090\n",
       "женат / замужем                         7710            6.822309"
      ]
     },
     "metadata": {},
     "output_type": "display_data"
    }
   ],
   "source": [
    "df_f = df.loc[df['gender'] == 'F']\n",
    "correlation_pivot(df_f, 'family_status')"
   ]
  },
  {
   "cell_type": "markdown",
   "id": "7921aaea",
   "metadata": {},
   "source": [
    "**Вывод:** больше всего проблем с выплатой кредита в срок имеют мужчины, особенно из категорий **\"вдовец\" - 20%** (хотя тут сложно говорить о достоверности ввиду слишком маленькой выборки)  и **\"не женат\" (14.4%)**, после них идут категории **\"гражданский брак\" (11.8%)**, **\"в разводе\" (8.9%)** и **\"женат\" (8.8%)**.\n",
    "Женщины более благонадёжны, даже в самой проблемной категории среди женщин **\"гражданский брак\" (8.2%)**, ситуация всё равно лучше чем самые надёжные категории среди мужчин. Женщина и **женатая** и **\"не замужем\"** имеет показатель **6.8%**, **в разводе 6.6%**, **вдова 5.8%**.\n",
    "\n",
    "Похоже что на женщинах семейное положение сказывается в меньшей степени"
   ]
  },
  {
   "cell_type": "markdown",
   "id": "48e330be",
   "metadata": {},
   "source": [
    "#### 3.3 Есть ли зависимость между уровнем дохода и возвратом кредита в срок?"
   ]
  },
  {
   "cell_type": "code",
   "execution_count": null,
   "id": "debcd187",
   "metadata": {},
   "outputs": [
    {
     "data": {
      "text/html": [
       "<div>\n",
       "<style scoped>\n",
       "    .dataframe tbody tr th:only-of-type {\n",
       "        vertical-align: middle;\n",
       "    }\n",
       "\n",
       "    .dataframe tbody tr th {\n",
       "        vertical-align: top;\n",
       "    }\n",
       "\n",
       "    .dataframe thead th {\n",
       "        text-align: right;\n",
       "    }\n",
       "</style>\n",
       "<table border=\"1\" class=\"dataframe\">\n",
       "  <thead>\n",
       "    <tr style=\"text-align: right;\">\n",
       "      <th></th>\n",
       "      <th>общее число заемщиков</th>\n",
       "      <th>доля должников в %</th>\n",
       "    </tr>\n",
       "    <tr>\n",
       "      <th>total_income_category</th>\n",
       "      <th></th>\n",
       "      <th></th>\n",
       "    </tr>\n",
       "  </thead>\n",
       "  <tbody>\n",
       "    <tr>\n",
       "      <th>A</th>\n",
       "      <td>25</td>\n",
       "      <td>8.000000</td>\n",
       "    </tr>\n",
       "    <tr>\n",
       "      <th>B</th>\n",
       "      <td>5014</td>\n",
       "      <td>7.060231</td>\n",
       "    </tr>\n",
       "    <tr>\n",
       "      <th>C</th>\n",
       "      <td>15921</td>\n",
       "      <td>8.498210</td>\n",
       "    </tr>\n",
       "    <tr>\n",
       "      <th>D</th>\n",
       "      <td>349</td>\n",
       "      <td>6.017192</td>\n",
       "    </tr>\n",
       "    <tr>\n",
       "      <th>E</th>\n",
       "      <td>22</td>\n",
       "      <td>9.090909</td>\n",
       "    </tr>\n",
       "  </tbody>\n",
       "</table>\n",
       "</div>"
      ],
      "text/plain": [
       "                       общее число заемщиков  доля должников в %\n",
       "total_income_category                                           \n",
       "A                                         25            8.000000\n",
       "B                                       5014            7.060231\n",
       "C                                      15921            8.498210\n",
       "D                                        349            6.017192\n",
       "E                                         22            9.090909"
      ]
     },
     "metadata": {},
     "output_type": "display_data"
    }
   ],
   "source": [
    "correlation_pivot(df, 'total_income_category')"
   ]
  },
  {
   "cell_type": "markdown",
   "id": "42f98f69",
   "metadata": {},
   "source": [
    "**Вывод:** распределение по доходам выглядит следующим образом:\n",
    "- **E** (менее 30 000) --- **9%**\n",
    "- **D** (30 000 - 50 000) --- **6%**\n",
    "- **C** (50 000 - 200 000) --- **8.5%**\n",
    "- **B** (200 000 - 1 000 000) --- **7%**\n",
    "- **A** (более 1 000 000) --- **8%**\n",
    "\n",
    "Ввиду слишком маленькой выборки по категориям **E**, **D** и **A**, делать выводы о них не целесообразно. Исходя из данных категорий **C** и **B**, люди с более высоким доходом более надёжны"
   ]
  },
  {
   "cell_type": "markdown",
   "id": "026c490d",
   "metadata": {},
   "source": [
    "#### 3.4 Как разные цели кредита влияют на его возврат в срок?"
   ]
  },
  {
   "cell_type": "code",
   "execution_count": null,
   "id": "9852697b",
   "metadata": {},
   "outputs": [
    {
     "data": {
      "text/html": [
       "<div>\n",
       "<style scoped>\n",
       "    .dataframe tbody tr th:only-of-type {\n",
       "        vertical-align: middle;\n",
       "    }\n",
       "\n",
       "    .dataframe tbody tr th {\n",
       "        vertical-align: top;\n",
       "    }\n",
       "\n",
       "    .dataframe thead th {\n",
       "        text-align: right;\n",
       "    }\n",
       "</style>\n",
       "<table border=\"1\" class=\"dataframe\">\n",
       "  <thead>\n",
       "    <tr style=\"text-align: right;\">\n",
       "      <th></th>\n",
       "      <th>общее число заемщиков</th>\n",
       "      <th>доля должников в %</th>\n",
       "    </tr>\n",
       "    <tr>\n",
       "      <th>purpose_category</th>\n",
       "      <th></th>\n",
       "      <th></th>\n",
       "    </tr>\n",
       "  </thead>\n",
       "  <tbody>\n",
       "    <tr>\n",
       "      <th>операции с автомобилем</th>\n",
       "      <td>4279</td>\n",
       "      <td>9.347978</td>\n",
       "    </tr>\n",
       "    <tr>\n",
       "      <th>операции с недвижимостью</th>\n",
       "      <td>10751</td>\n",
       "      <td>7.255139</td>\n",
       "    </tr>\n",
       "    <tr>\n",
       "      <th>получение образования</th>\n",
       "      <td>3988</td>\n",
       "      <td>9.252758</td>\n",
       "    </tr>\n",
       "    <tr>\n",
       "      <th>проведение свадьбы</th>\n",
       "      <td>2313</td>\n",
       "      <td>7.911803</td>\n",
       "    </tr>\n",
       "  </tbody>\n",
       "</table>\n",
       "</div>"
      ],
      "text/plain": [
       "                          общее число заемщиков  доля должников в %\n",
       "purpose_category                                                   \n",
       "операции с автомобилем                     4279            9.347978\n",
       "операции с недвижимостью                  10751            7.255139\n",
       "получение образования                      3988            9.252758\n",
       "проведение свадьбы                         2313            7.911803"
      ]
     },
     "metadata": {},
     "output_type": "display_data"
    }
   ],
   "source": [
    "correlation_pivot(df, 'purpose_category')"
   ]
  },
  {
   "cell_type": "markdown",
   "id": "27e44aaf",
   "metadata": {},
   "source": [
    "**Вывод:** Кредиты на **авто** и **образование** имеют больший процент проблем"
   ]
  },
  {
   "cell_type": "markdown",
   "id": "2b9899d5",
   "metadata": {},
   "source": [
    "#### 3.5 Приведите возможные причины появления пропусков в исходных данных."
   ]
  },
  {
   "cell_type": "markdown",
   "id": "f2bfc7a2",
   "metadata": {},
   "source": [
    "*Ответ:* пропуски были в столбцах с трудовым стажем и с уровнем доходов. Даже беглый взгляд на вывод оглавления таблицы, показывает наличие случаев пропуска в обоих столбцах одной и той-же строки (как в строке с индексом 12), пенсионера, у которого вероятнее всего должен быть трудовой стаж. Можно проверить гипотезу что все пропуски встречаются в одних и тех же строках:"
   ]
  },
  {
   "cell_type": "code",
   "execution_count": null,
   "id": "22fd8b48",
   "metadata": {},
   "outputs": [
    {
     "data": {
      "text/plain": [
       "2174"
      ]
     },
     "metadata": {},
     "output_type": "display_data"
    }
   ],
   "source": [
    "try:\n",
    "    original_df = pd.read_csv('datasets/data.csv')\n",
    "except:\n",
    "    original_df = pd.read_csv('https://code.s3.yandex.net/datasets/data.csv')\n",
    "    \n",
    "len(original_df.loc[(original_df['days_employed'].isna()) & (original_df['total_income'].isna())])"
   ]
  },
  {
   "cell_type": "markdown",
   "id": "6acdb03c",
   "metadata": {},
   "source": [
    "Гипотеза подтверждается, значений 2174, совпадает со значениями пропусков в обоих столбцах по отдельности.\n",
    "Более подробное изучение уникальных пропусков покывает что уровень доходов так же отсутствует у сотрудников и госслужащих, которые такой доход имеют. Следовательно пропуски скорее всего вызваны не остутствием данных, а какой-то технической ошибкой, при копировании, считывании, смене формата или при записи данных. Неправильный запрос, объединение таблиц также может быть причиной. Не стоит отбрасывать и возможность ошибки в связи с человеческим фактором. Клиенты могли не предоставить данные. Возможно, эту информацию не требуют в некоторых случаях. Тем не менее стоит доложить об этом разработчикам"
   ]
  },
  {
   "cell_type": "markdown",
   "id": "952d556f",
   "metadata": {},
   "source": [
    "#### 3.6 Объясните, почему заполнить пропуски медианным значением — лучшее решение для количественных переменных."
   ]
  },
  {
   "cell_type": "markdown",
   "id": "299ed701",
   "metadata": {},
   "source": [
    "*Ответ:* для исследования были выбраны медианные значения при заполнении пропуков, так как в сравненнии со средними значениями они менее подвержены влиянию аномально больших и маленьких значений в статистике, что особенно заметно на показателях вроде уровня доходов"
   ]
  },
  {
   "cell_type": "markdown",
   "id": "a426ff49",
   "metadata": {},
   "source": [
    "### Шаг 4: общий вывод."
   ]
  },
  {
   "cell_type": "markdown",
   "id": "9fce4fd9",
   "metadata": {},
   "source": [
    "Исследование показало много зависимостей от категории лиц, которые коррелируют с возвратом кредита в срок. \n",
    "\n",
    "Самые надёжные категории, с которой менее всего проблем это **люди без детей, женщины, с более высокими доходами, берут кредит на недвижимость или свадьбу**. Таким категориям граждан можно доверять больше.\n",
    "\n",
    "наименее надёжные категории: **мужчины (особенно не женатые), с детьми, с доходом ниже среднего, берут кредит на авто или учёбу**. Таким категориям граждан стоит доверять меньше.\n"
   ]
  }
 ],
 "metadata": {
  "ExecuteTimeLog": [
   {
    "duration": 58,
    "start_time": "2022-09-22T08:06:27.296Z"
   },
   {
    "duration": 469,
    "start_time": "2022-09-22T08:06:56.584Z"
   },
   {
    "duration": 24,
    "start_time": "2022-09-22T08:06:57.055Z"
   },
   {
    "duration": 15,
    "start_time": "2022-09-22T08:06:57.081Z"
   },
   {
    "duration": 25,
    "start_time": "2022-09-22T08:06:57.098Z"
   },
   {
    "duration": 38,
    "start_time": "2022-09-22T08:06:57.134Z"
   },
   {
    "duration": 3,
    "start_time": "2022-09-22T08:06:57.174Z"
   },
   {
    "duration": 12,
    "start_time": "2022-09-22T08:06:57.179Z"
   },
   {
    "duration": 9,
    "start_time": "2022-09-22T08:06:57.194Z"
   },
   {
    "duration": 11,
    "start_time": "2022-09-22T08:06:57.205Z"
   },
   {
    "duration": 17,
    "start_time": "2022-09-22T08:06:57.217Z"
   },
   {
    "duration": 36,
    "start_time": "2022-09-22T08:06:57.236Z"
   },
   {
    "duration": 11,
    "start_time": "2022-09-22T08:06:57.274Z"
   },
   {
    "duration": 4,
    "start_time": "2022-09-22T08:06:57.287Z"
   },
   {
    "duration": 41,
    "start_time": "2022-09-22T08:06:57.294Z"
   },
   {
    "duration": 20,
    "start_time": "2022-09-22T08:06:57.337Z"
   },
   {
    "duration": 17,
    "start_time": "2022-09-22T08:06:57.359Z"
   },
   {
    "duration": 4,
    "start_time": "2022-09-22T08:06:57.377Z"
   },
   {
    "duration": 14,
    "start_time": "2022-09-22T08:06:57.383Z"
   },
   {
    "duration": 22,
    "start_time": "2022-09-22T08:06:57.399Z"
   },
   {
    "duration": 13,
    "start_time": "2022-09-22T08:06:57.423Z"
   },
   {
    "duration": 10,
    "start_time": "2022-09-22T08:06:57.438Z"
   },
   {
    "duration": 17,
    "start_time": "2022-09-22T08:07:01.313Z"
   },
   {
    "duration": 21,
    "start_time": "2022-09-22T08:11:15.572Z"
   },
   {
    "duration": 7,
    "start_time": "2022-09-22T08:11:56.415Z"
   },
   {
    "duration": 7,
    "start_time": "2022-09-22T08:12:30.689Z"
   },
   {
    "duration": 9,
    "start_time": "2022-09-22T08:12:43.610Z"
   },
   {
    "duration": 9,
    "start_time": "2022-09-22T08:13:30.882Z"
   },
   {
    "duration": 7,
    "start_time": "2022-09-22T08:13:37.914Z"
   },
   {
    "duration": 10,
    "start_time": "2022-09-22T08:14:57.279Z"
   },
   {
    "duration": 9,
    "start_time": "2022-09-22T08:15:13.080Z"
   },
   {
    "duration": 9,
    "start_time": "2022-09-22T08:16:13.859Z"
   },
   {
    "duration": 9,
    "start_time": "2022-09-22T08:16:18.991Z"
   },
   {
    "duration": 34,
    "start_time": "2022-09-22T08:22:31.395Z"
   },
   {
    "duration": 12,
    "start_time": "2022-09-22T08:25:02.704Z"
   },
   {
    "duration": 16,
    "start_time": "2022-09-22T08:25:09.423Z"
   },
   {
    "duration": 488,
    "start_time": "2022-09-22T08:25:17.026Z"
   },
   {
    "duration": 22,
    "start_time": "2022-09-22T08:25:17.515Z"
   },
   {
    "duration": 16,
    "start_time": "2022-09-22T08:25:17.538Z"
   },
   {
    "duration": 11,
    "start_time": "2022-09-22T08:25:17.556Z"
   },
   {
    "duration": 33,
    "start_time": "2022-09-22T08:25:17.569Z"
   },
   {
    "duration": 3,
    "start_time": "2022-09-22T08:25:17.604Z"
   },
   {
    "duration": 9,
    "start_time": "2022-09-22T08:25:17.634Z"
   },
   {
    "duration": 5,
    "start_time": "2022-09-22T08:25:17.644Z"
   },
   {
    "duration": 9,
    "start_time": "2022-09-22T08:25:17.651Z"
   },
   {
    "duration": 5,
    "start_time": "2022-09-22T08:25:17.663Z"
   },
   {
    "duration": 39,
    "start_time": "2022-09-22T08:25:17.669Z"
   },
   {
    "duration": 28,
    "start_time": "2022-09-22T08:25:17.709Z"
   },
   {
    "duration": 6,
    "start_time": "2022-09-22T08:25:17.739Z"
   },
   {
    "duration": 17,
    "start_time": "2022-09-22T08:25:17.746Z"
   },
   {
    "duration": 21,
    "start_time": "2022-09-22T08:25:17.764Z"
   },
   {
    "duration": 16,
    "start_time": "2022-09-22T08:25:17.786Z"
   },
   {
    "duration": 3,
    "start_time": "2022-09-22T08:25:17.803Z"
   },
   {
    "duration": 28,
    "start_time": "2022-09-22T08:25:17.807Z"
   },
   {
    "duration": 16,
    "start_time": "2022-09-22T08:25:17.836Z"
   },
   {
    "duration": 5,
    "start_time": "2022-09-22T08:25:17.853Z"
   },
   {
    "duration": 14,
    "start_time": "2022-09-22T08:25:17.860Z"
   },
   {
    "duration": 15,
    "start_time": "2022-09-22T08:25:19.226Z"
   },
   {
    "duration": 6,
    "start_time": "2022-09-22T08:28:40.447Z"
   },
   {
    "duration": 6,
    "start_time": "2022-09-22T08:28:42.038Z"
   },
   {
    "duration": 11,
    "start_time": "2022-09-22T08:28:49.039Z"
   },
   {
    "duration": 14,
    "start_time": "2022-09-22T08:30:42.325Z"
   },
   {
    "duration": 17,
    "start_time": "2022-09-22T08:31:03.047Z"
   },
   {
    "duration": 120,
    "start_time": "2022-09-22T08:34:50.171Z"
   },
   {
    "duration": 14,
    "start_time": "2022-09-22T08:34:51.606Z"
   },
   {
    "duration": 11,
    "start_time": "2022-09-22T08:35:15.154Z"
   },
   {
    "duration": 14,
    "start_time": "2022-09-22T08:35:58.858Z"
   },
   {
    "duration": 17,
    "start_time": "2022-09-22T08:36:57.320Z"
   },
   {
    "duration": 66,
    "start_time": "2022-09-22T08:42:47.382Z"
   },
   {
    "duration": 10,
    "start_time": "2022-09-22T08:43:37.351Z"
   },
   {
    "duration": 16,
    "start_time": "2022-09-22T08:45:49.770Z"
   },
   {
    "duration": 1296,
    "start_time": "2022-09-22T08:46:13.679Z"
   },
   {
    "duration": 18,
    "start_time": "2022-09-22T08:46:17.581Z"
   },
   {
    "duration": 21,
    "start_time": "2022-09-22T08:47:42.756Z"
   },
   {
    "duration": 19,
    "start_time": "2022-09-22T08:59:19.345Z"
   },
   {
    "duration": 19,
    "start_time": "2022-09-22T09:01:34.125Z"
   },
   {
    "duration": 21,
    "start_time": "2022-09-22T09:01:46.891Z"
   },
   {
    "duration": 3,
    "start_time": "2022-09-22T09:07:43.832Z"
   },
   {
    "duration": 2,
    "start_time": "2022-09-22T09:07:44.754Z"
   },
   {
    "duration": 981,
    "start_time": "2022-09-22T09:10:41.493Z"
   },
   {
    "duration": 25,
    "start_time": "2022-09-22T09:11:22.171Z"
   },
   {
    "duration": 2,
    "start_time": "2022-09-22T09:13:00.129Z"
   },
   {
    "duration": 3,
    "start_time": "2022-09-22T09:13:01.156Z"
   },
   {
    "duration": 25,
    "start_time": "2022-09-22T09:13:37.954Z"
   },
   {
    "duration": 19,
    "start_time": "2022-09-22T09:35:15.557Z"
   },
   {
    "duration": 42,
    "start_time": "2022-09-22T09:35:36.933Z"
   },
   {
    "duration": 17,
    "start_time": "2022-09-22T09:50:25.571Z"
   },
   {
    "duration": 14,
    "start_time": "2022-09-22T09:50:51.883Z"
   },
   {
    "duration": 77,
    "start_time": "2022-09-22T09:59:28.121Z"
   },
   {
    "duration": 63,
    "start_time": "2022-09-22T10:00:07.034Z"
   },
   {
    "duration": 87,
    "start_time": "2022-09-22T10:00:11.205Z"
   },
   {
    "duration": 16,
    "start_time": "2022-09-22T10:00:15.800Z"
   },
   {
    "duration": 12,
    "start_time": "2022-09-22T10:00:40.549Z"
   },
   {
    "duration": 475,
    "start_time": "2022-09-22T10:00:57.634Z"
   },
   {
    "duration": 23,
    "start_time": "2022-09-22T10:00:58.500Z"
   },
   {
    "duration": 12,
    "start_time": "2022-09-22T10:01:03.756Z"
   },
   {
    "duration": 10,
    "start_time": "2022-09-22T10:01:17.489Z"
   },
   {
    "duration": 11,
    "start_time": "2022-09-22T10:01:20.628Z"
   },
   {
    "duration": 69,
    "start_time": "2022-09-22T10:01:27.165Z"
   },
   {
    "duration": 24,
    "start_time": "2022-09-22T10:01:43.614Z"
   },
   {
    "duration": 19,
    "start_time": "2022-09-22T10:01:47.037Z"
   },
   {
    "duration": 11,
    "start_time": "2022-09-22T10:01:50.500Z"
   },
   {
    "duration": 10,
    "start_time": "2022-09-22T10:02:12.822Z"
   },
   {
    "duration": 46,
    "start_time": "2022-09-22T10:02:16.181Z"
   },
   {
    "duration": 4,
    "start_time": "2022-09-22T10:02:17.072Z"
   },
   {
    "duration": 8,
    "start_time": "2022-09-22T10:02:18.246Z"
   },
   {
    "duration": 5,
    "start_time": "2022-09-22T10:02:20.294Z"
   },
   {
    "duration": 7,
    "start_time": "2022-09-22T10:02:21.216Z"
   },
   {
    "duration": 5,
    "start_time": "2022-09-22T10:02:23.644Z"
   },
   {
    "duration": 32,
    "start_time": "2022-09-22T10:02:25.925Z"
   },
   {
    "duration": 16,
    "start_time": "2022-09-22T10:02:26.965Z"
   },
   {
    "duration": 4,
    "start_time": "2022-09-22T10:02:29.025Z"
   },
   {
    "duration": 11,
    "start_time": "2022-09-22T10:02:30.027Z"
   },
   {
    "duration": 18,
    "start_time": "2022-09-22T10:02:32.361Z"
   },
   {
    "duration": 16,
    "start_time": "2022-09-22T10:02:32.952Z"
   },
   {
    "duration": 4,
    "start_time": "2022-09-22T10:02:36.447Z"
   },
   {
    "duration": 11,
    "start_time": "2022-09-22T10:02:37.429Z"
   },
   {
    "duration": 6,
    "start_time": "2022-09-22T10:02:38.995Z"
   },
   {
    "duration": 4,
    "start_time": "2022-09-22T10:02:41.764Z"
   },
   {
    "duration": 12,
    "start_time": "2022-09-22T10:02:42.640Z"
   },
   {
    "duration": 15,
    "start_time": "2022-09-22T10:02:44.176Z"
   },
   {
    "duration": 28,
    "start_time": "2022-09-22T10:02:46.116Z"
   },
   {
    "duration": 20,
    "start_time": "2022-09-22T10:02:48.349Z"
   },
   {
    "duration": 16,
    "start_time": "2022-09-22T10:02:50.103Z"
   },
   {
    "duration": 15,
    "start_time": "2022-09-22T10:03:02.827Z"
   },
   {
    "duration": 56,
    "start_time": "2022-09-22T12:37:01.177Z"
   },
   {
    "duration": 7,
    "start_time": "2022-09-22T12:37:46.874Z"
   },
   {
    "duration": 786,
    "start_time": "2022-09-22T12:38:00.154Z"
   },
   {
    "duration": 22,
    "start_time": "2022-09-22T12:38:02.274Z"
   },
   {
    "duration": 16,
    "start_time": "2022-09-22T12:38:04.842Z"
   },
   {
    "duration": 18,
    "start_time": "2022-09-22T12:38:07.930Z"
   },
   {
    "duration": 51,
    "start_time": "2022-09-22T12:38:09.674Z"
   },
   {
    "duration": 3,
    "start_time": "2022-09-22T12:38:10.644Z"
   },
   {
    "duration": 11,
    "start_time": "2022-09-22T12:38:11.445Z"
   },
   {
    "duration": 20,
    "start_time": "2022-09-22T12:38:12.697Z"
   },
   {
    "duration": 8,
    "start_time": "2022-09-22T12:38:13.638Z"
   },
   {
    "duration": 6,
    "start_time": "2022-09-22T12:38:15.980Z"
   },
   {
    "duration": 4,
    "start_time": "2022-09-22T12:38:16.994Z"
   },
   {
    "duration": 32,
    "start_time": "2022-09-22T12:38:18.741Z"
   },
   {
    "duration": 9,
    "start_time": "2022-09-22T12:38:20.237Z"
   },
   {
    "duration": 3,
    "start_time": "2022-09-22T12:38:21.534Z"
   },
   {
    "duration": 11,
    "start_time": "2022-09-22T12:38:22.536Z"
   },
   {
    "duration": 16,
    "start_time": "2022-09-22T12:38:23.739Z"
   },
   {
    "duration": 18,
    "start_time": "2022-09-22T12:38:24.651Z"
   },
   {
    "duration": 4,
    "start_time": "2022-09-22T12:38:26.642Z"
   },
   {
    "duration": 8,
    "start_time": "2022-09-22T12:38:28.173Z"
   },
   {
    "duration": 6,
    "start_time": "2022-09-22T12:38:29.280Z"
   },
   {
    "duration": 4,
    "start_time": "2022-09-22T12:38:32.974Z"
   },
   {
    "duration": 10,
    "start_time": "2022-09-22T12:38:33.834Z"
   },
   {
    "duration": 47,
    "start_time": "2022-09-22T12:38:36.473Z"
   },
   {
    "duration": 14,
    "start_time": "2022-09-22T12:59:14.145Z"
   },
   {
    "duration": 33,
    "start_time": "2022-09-22T13:16:18.036Z"
   },
   {
    "duration": 38,
    "start_time": "2022-09-22T13:19:46.182Z"
   },
   {
    "duration": 38,
    "start_time": "2022-09-22T13:27:20.243Z"
   },
   {
    "duration": 36,
    "start_time": "2022-09-22T13:27:57.191Z"
   },
   {
    "duration": 36,
    "start_time": "2022-09-22T13:31:09.423Z"
   },
   {
    "duration": 15,
    "start_time": "2022-09-22T13:34:36.073Z"
   },
   {
    "duration": 16,
    "start_time": "2022-09-22T13:35:13.968Z"
   },
   {
    "duration": 13,
    "start_time": "2022-09-22T13:38:29.676Z"
   },
   {
    "duration": 10,
    "start_time": "2022-09-22T13:40:39.836Z"
   },
   {
    "duration": 18,
    "start_time": "2022-09-22T13:41:14.171Z"
   },
   {
    "duration": 32,
    "start_time": "2022-09-22T13:45:26.898Z"
   },
   {
    "duration": 26,
    "start_time": "2022-09-22T13:46:01.517Z"
   },
   {
    "duration": 35,
    "start_time": "2022-09-22T13:46:30.448Z"
   },
   {
    "duration": 36,
    "start_time": "2022-09-22T13:48:11.134Z"
   },
   {
    "duration": 33,
    "start_time": "2022-09-22T13:49:08.035Z"
   },
   {
    "duration": 44,
    "start_time": "2022-09-22T13:49:10.681Z"
   },
   {
    "duration": 28,
    "start_time": "2022-09-22T13:50:03.342Z"
   },
   {
    "duration": 19,
    "start_time": "2022-09-22T13:53:21.837Z"
   },
   {
    "duration": 21,
    "start_time": "2022-09-22T13:53:47.334Z"
   },
   {
    "duration": 19,
    "start_time": "2022-09-22T13:54:55.864Z"
   },
   {
    "duration": 44,
    "start_time": "2022-09-22T13:56:42.993Z"
   },
   {
    "duration": 47,
    "start_time": "2022-09-22T13:57:12.697Z"
   },
   {
    "duration": 19,
    "start_time": "2022-09-22T13:57:21.250Z"
   },
   {
    "duration": 33,
    "start_time": "2022-09-22T14:00:13.844Z"
   },
   {
    "duration": 28,
    "start_time": "2022-09-22T14:00:21.851Z"
   },
   {
    "duration": 37,
    "start_time": "2022-09-22T14:01:04.453Z"
   },
   {
    "duration": 22,
    "start_time": "2022-09-22T14:01:15.966Z"
   },
   {
    "duration": 30,
    "start_time": "2022-09-22T14:01:54.825Z"
   },
   {
    "duration": 29,
    "start_time": "2022-09-22T14:02:13.675Z"
   },
   {
    "duration": 42,
    "start_time": "2022-09-22T14:03:29.479Z"
   },
   {
    "duration": 29,
    "start_time": "2022-09-22T14:04:20.150Z"
   },
   {
    "duration": 43,
    "start_time": "2022-09-22T14:05:07.372Z"
   },
   {
    "duration": 21,
    "start_time": "2022-09-22T14:05:23.774Z"
   },
   {
    "duration": 26,
    "start_time": "2022-09-22T14:06:49.142Z"
   },
   {
    "duration": 26,
    "start_time": "2022-09-22T14:07:15.852Z"
   },
   {
    "duration": 34,
    "start_time": "2022-09-22T14:11:29.337Z"
   },
   {
    "duration": 38,
    "start_time": "2022-09-22T14:11:45.674Z"
   },
   {
    "duration": 0,
    "start_time": "2022-09-22T14:13:04.555Z"
   },
   {
    "duration": 20,
    "start_time": "2022-09-22T14:13:12.865Z"
   },
   {
    "duration": 27,
    "start_time": "2022-09-22T14:13:49.788Z"
   },
   {
    "duration": 19,
    "start_time": "2022-09-22T14:14:53.442Z"
   },
   {
    "duration": 21,
    "start_time": "2022-09-22T14:16:09.072Z"
   },
   {
    "duration": 32,
    "start_time": "2022-09-22T14:17:56.379Z"
   },
   {
    "duration": 49,
    "start_time": "2022-09-22T14:18:47.494Z"
   },
   {
    "duration": 15,
    "start_time": "2022-09-22T14:19:06.548Z"
   },
   {
    "duration": 20,
    "start_time": "2022-09-22T14:19:33.638Z"
   },
   {
    "duration": 22,
    "start_time": "2022-09-22T14:20:17.255Z"
   },
   {
    "duration": 181,
    "start_time": "2022-09-22T14:50:14.121Z"
   },
   {
    "duration": 77,
    "start_time": "2022-09-22T14:50:20.236Z"
   },
   {
    "duration": 442,
    "start_time": "2022-09-22T18:14:53.560Z"
   },
   {
    "duration": 36,
    "start_time": "2022-09-22T18:14:54.004Z"
   },
   {
    "duration": 17,
    "start_time": "2022-09-22T18:14:54.041Z"
   },
   {
    "duration": 12,
    "start_time": "2022-09-22T18:14:54.060Z"
   },
   {
    "duration": 50,
    "start_time": "2022-09-22T18:14:54.073Z"
   },
   {
    "duration": 4,
    "start_time": "2022-09-22T18:14:54.131Z"
   },
   {
    "duration": 15,
    "start_time": "2022-09-22T18:14:54.136Z"
   },
   {
    "duration": 5,
    "start_time": "2022-09-22T18:14:54.153Z"
   },
   {
    "duration": 11,
    "start_time": "2022-09-22T18:14:54.160Z"
   },
   {
    "duration": 6,
    "start_time": "2022-09-22T18:14:54.174Z"
   },
   {
    "duration": 37,
    "start_time": "2022-09-22T18:14:54.181Z"
   },
   {
    "duration": 18,
    "start_time": "2022-09-22T18:14:54.219Z"
   },
   {
    "duration": 16,
    "start_time": "2022-09-22T18:14:54.238Z"
   },
   {
    "duration": 18,
    "start_time": "2022-09-22T18:14:54.256Z"
   },
   {
    "duration": 60,
    "start_time": "2022-09-22T18:14:54.276Z"
   },
   {
    "duration": 25,
    "start_time": "2022-09-22T18:14:54.338Z"
   },
   {
    "duration": 4,
    "start_time": "2022-09-22T18:14:54.365Z"
   },
   {
    "duration": 23,
    "start_time": "2022-09-22T18:14:54.371Z"
   },
   {
    "duration": 8,
    "start_time": "2022-09-22T18:14:54.396Z"
   },
   {
    "duration": 46,
    "start_time": "2022-09-22T18:14:54.406Z"
   },
   {
    "duration": 46,
    "start_time": "2022-09-22T18:14:54.454Z"
   },
   {
    "duration": 62,
    "start_time": "2022-09-22T18:14:54.502Z"
   },
   {
    "duration": 42,
    "start_time": "2022-09-22T18:14:54.566Z"
   },
   {
    "duration": 35,
    "start_time": "2022-09-22T18:14:54.619Z"
   },
   {
    "duration": 40,
    "start_time": "2022-09-22T18:14:54.657Z"
   },
   {
    "duration": 50,
    "start_time": "2022-09-22T18:14:54.699Z"
   },
   {
    "duration": 93,
    "start_time": "2022-09-22T18:14:54.751Z"
   },
   {
    "duration": 666,
    "start_time": "2022-09-28T05:17:58.576Z"
   },
   {
    "duration": 20,
    "start_time": "2022-09-28T05:17:59.244Z"
   },
   {
    "duration": 12,
    "start_time": "2022-09-28T05:17:59.265Z"
   },
   {
    "duration": 7,
    "start_time": "2022-09-28T05:17:59.279Z"
   },
   {
    "duration": 30,
    "start_time": "2022-09-28T05:17:59.287Z"
   },
   {
    "duration": 3,
    "start_time": "2022-09-28T05:17:59.319Z"
   },
   {
    "duration": 10,
    "start_time": "2022-09-28T05:17:59.323Z"
   },
   {
    "duration": 3,
    "start_time": "2022-09-28T05:17:59.335Z"
   },
   {
    "duration": 9,
    "start_time": "2022-09-28T05:17:59.339Z"
   },
   {
    "duration": 4,
    "start_time": "2022-09-28T05:17:59.350Z"
   },
   {
    "duration": 54,
    "start_time": "2022-09-28T05:17:59.355Z"
   },
   {
    "duration": 10,
    "start_time": "2022-09-28T05:17:59.411Z"
   },
   {
    "duration": 10,
    "start_time": "2022-09-28T05:17:59.422Z"
   },
   {
    "duration": 14,
    "start_time": "2022-09-28T05:17:59.433Z"
   },
   {
    "duration": 21,
    "start_time": "2022-09-28T05:17:59.448Z"
   },
   {
    "duration": 29,
    "start_time": "2022-09-28T05:17:59.471Z"
   },
   {
    "duration": 3,
    "start_time": "2022-09-28T05:17:59.502Z"
   },
   {
    "duration": 10,
    "start_time": "2022-09-28T05:17:59.506Z"
   },
   {
    "duration": 5,
    "start_time": "2022-09-28T05:17:59.518Z"
   },
   {
    "duration": 3,
    "start_time": "2022-09-28T05:17:59.524Z"
   },
   {
    "duration": 13,
    "start_time": "2022-09-28T05:17:59.529Z"
   },
   {
    "duration": 22,
    "start_time": "2022-09-28T05:18:00.809Z"
   }
  ],
  "colab": {
   "name": "dpp_template_part2.ipynb",
   "provenance": []
  },
  "kernelspec": {
   "display_name": "Python 3.10.6 64-bit",
   "language": "python",
   "name": "python3"
  },
  "language_info": {
   "codemirror_mode": {
    "name": "ipython",
    "version": 3
   },
   "file_extension": ".py",
   "mimetype": "text/x-python",
   "name": "python",
   "nbconvert_exporter": "python",
   "pygments_lexer": "ipython3",
   "version": "3.9.0"
  },
  "toc": {
   "base_numbering": 1,
   "nav_menu": {},
   "number_sections": true,
   "sideBar": true,
   "skip_h1_title": true,
   "title_cell": "Table of Contents",
   "title_sidebar": "Contents",
   "toc_cell": false,
   "toc_position": {},
   "toc_section_display": true,
   "toc_window_display": false
  },
  "vscode": {
   "interpreter": {
    "hash": "37811bdfc6fdb6c968a2f7a0edac0b64107bacc71e6db274a8ad61f133bdb9b1"
   }
  }
 },
 "nbformat": 4,
 "nbformat_minor": 5
}
