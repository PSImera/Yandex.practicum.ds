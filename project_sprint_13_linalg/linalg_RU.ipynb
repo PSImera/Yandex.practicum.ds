{
 "cells": [
  {
   "cell_type": "markdown",
   "metadata": {},
   "source": [
    "# Защита персональных данных клиентов"
   ]
  },
  {
   "cell_type": "markdown",
   "metadata": {},
   "source": [
    "Нам нужно защитить данные клиентов страховой компании «Хоть потоп». Разработаем такой метод преобразования данных, чтобы по ним было сложно восстановить персональную информацию, а качество моделей машинного обучения не ухудшилось. Обоснуем корректность его работы. Подбирать наилучшую модель не требуется."
   ]
  },
  {
   "cell_type": "markdown",
   "metadata": {},
   "source": [
    "## Загрузка данных"
   ]
  },
  {
   "cell_type": "code",
   "execution_count": 1,
   "metadata": {},
   "outputs": [],
   "source": [
    "# отключим предупреждающие уведомления\n",
    "import warnings\n",
    "warnings.filterwarnings('ignore')\n",
    "\n",
    "# Добавим основные библиотеки\n",
    "import pandas as pd\n",
    "import numpy as np\n",
    "import os\n",
    "import matplotlib.pyplot as plt\n",
    "\n",
    "from sklearn.model_selection import train_test_split\n",
    "from sklearn.metrics import r2_score\n",
    "\n",
    "# Сделаем небольшие настройки pandas для комфортного отображения проекта\n",
    "pd.set_option('display.max_columns', None)\n",
    "pd.set_option('display.float_format', lambda x: '%.2f' % x)\n",
    "pd.options.mode.chained_assignment = None\n",
    "plt.style.use('dark_background')"
   ]
  },
  {
   "cell_type": "code",
   "execution_count": 2,
   "metadata": {},
   "outputs": [
    {
     "name": "stdout",
     "output_type": "stream",
     "text": [
      "df is loaded from the address: /datasets/insurance.csv\n"
     ]
    }
   ],
   "source": [
    "# Импортируем датасеты методом try/except и установим индексом столбец date\n",
    "pth1 = '/datasets/insurance.csv'\n",
    "pth2 = 'https://code.s3.yandex.net/datasets/insurance.csv'\n",
    "    \n",
    "if os.path.exists(pth1):\n",
    "    df = pd.read_csv(pth1)\n",
    "    print('df is loaded from the address: /datasets/insurance.csv')\n",
    "elif os.path.exists(pth2):\n",
    "    df = pd.read_csv(pth2)\n",
    "    print('df is loaded from the address: https://code.s3.yandex.net/datasets/insurance.csv')\n",
    "else:\n",
    "    print('error: wrong path')"
   ]
  },
  {
   "cell_type": "code",
   "execution_count": 3,
   "metadata": {},
   "outputs": [
    {
     "data": {
      "text/html": [
       "<div>\n",
       "<style scoped>\n",
       "    .dataframe tbody tr th:only-of-type {\n",
       "        vertical-align: middle;\n",
       "    }\n",
       "\n",
       "    .dataframe tbody tr th {\n",
       "        vertical-align: top;\n",
       "    }\n",
       "\n",
       "    .dataframe thead th {\n",
       "        text-align: right;\n",
       "    }\n",
       "</style>\n",
       "<table border=\"1\" class=\"dataframe\">\n",
       "  <thead>\n",
       "    <tr style=\"text-align: right;\">\n",
       "      <th></th>\n",
       "      <th>Пол</th>\n",
       "      <th>Возраст</th>\n",
       "      <th>Зарплата</th>\n",
       "      <th>Члены семьи</th>\n",
       "      <th>Страховые выплаты</th>\n",
       "    </tr>\n",
       "  </thead>\n",
       "  <tbody>\n",
       "    <tr>\n",
       "      <th>0</th>\n",
       "      <td>1</td>\n",
       "      <td>41.00</td>\n",
       "      <td>49600.00</td>\n",
       "      <td>1</td>\n",
       "      <td>0</td>\n",
       "    </tr>\n",
       "    <tr>\n",
       "      <th>1</th>\n",
       "      <td>0</td>\n",
       "      <td>46.00</td>\n",
       "      <td>38000.00</td>\n",
       "      <td>1</td>\n",
       "      <td>1</td>\n",
       "    </tr>\n",
       "    <tr>\n",
       "      <th>2</th>\n",
       "      <td>0</td>\n",
       "      <td>29.00</td>\n",
       "      <td>21000.00</td>\n",
       "      <td>0</td>\n",
       "      <td>0</td>\n",
       "    </tr>\n",
       "    <tr>\n",
       "      <th>3</th>\n",
       "      <td>0</td>\n",
       "      <td>21.00</td>\n",
       "      <td>41700.00</td>\n",
       "      <td>2</td>\n",
       "      <td>0</td>\n",
       "    </tr>\n",
       "    <tr>\n",
       "      <th>4</th>\n",
       "      <td>1</td>\n",
       "      <td>28.00</td>\n",
       "      <td>26100.00</td>\n",
       "      <td>0</td>\n",
       "      <td>0</td>\n",
       "    </tr>\n",
       "  </tbody>\n",
       "</table>\n",
       "</div>"
      ],
      "text/plain": [
       "   Пол  Возраст  Зарплата  Члены семьи  Страховые выплаты\n",
       "0    1    41.00  49600.00            1                  0\n",
       "1    0    46.00  38000.00            1                  1\n",
       "2    0    29.00  21000.00            0                  0\n",
       "3    0    21.00  41700.00            2                  0\n",
       "4    1    28.00  26100.00            0                  0"
      ]
     },
     "execution_count": 3,
     "metadata": {},
     "output_type": "execute_result"
    }
   ],
   "source": [
    "df.head()"
   ]
  },
  {
   "cell_type": "code",
   "execution_count": 4,
   "metadata": {},
   "outputs": [
    {
     "name": "stdout",
     "output_type": "stream",
     "text": [
      "<class 'pandas.core.frame.DataFrame'>\n",
      "RangeIndex: 5000 entries, 0 to 4999\n",
      "Data columns (total 5 columns):\n",
      " #   Column             Non-Null Count  Dtype  \n",
      "---  ------             --------------  -----  \n",
      " 0   Пол                5000 non-null   int64  \n",
      " 1   Возраст            5000 non-null   float64\n",
      " 2   Зарплата           5000 non-null   float64\n",
      " 3   Члены семьи        5000 non-null   int64  \n",
      " 4   Страховые выплаты  5000 non-null   int64  \n",
      "dtypes: float64(2), int64(3)\n",
      "memory usage: 195.4 KB\n"
     ]
    }
   ],
   "source": [
    "df.info()"
   ]
  },
  {
   "cell_type": "code",
   "execution_count": 5,
   "metadata": {},
   "outputs": [
    {
     "data": {
      "text/html": [
       "<div>\n",
       "<style scoped>\n",
       "    .dataframe tbody tr th:only-of-type {\n",
       "        vertical-align: middle;\n",
       "    }\n",
       "\n",
       "    .dataframe tbody tr th {\n",
       "        vertical-align: top;\n",
       "    }\n",
       "\n",
       "    .dataframe thead th {\n",
       "        text-align: right;\n",
       "    }\n",
       "</style>\n",
       "<table border=\"1\" class=\"dataframe\">\n",
       "  <thead>\n",
       "    <tr style=\"text-align: right;\">\n",
       "      <th></th>\n",
       "      <th>Пол</th>\n",
       "      <th>Возраст</th>\n",
       "      <th>Зарплата</th>\n",
       "      <th>Члены семьи</th>\n",
       "      <th>Страховые выплаты</th>\n",
       "    </tr>\n",
       "  </thead>\n",
       "  <tbody>\n",
       "    <tr>\n",
       "      <th>count</th>\n",
       "      <td>5000.00</td>\n",
       "      <td>5000.00</td>\n",
       "      <td>5000.00</td>\n",
       "      <td>5000.00</td>\n",
       "      <td>5000.00</td>\n",
       "    </tr>\n",
       "    <tr>\n",
       "      <th>mean</th>\n",
       "      <td>0.50</td>\n",
       "      <td>30.95</td>\n",
       "      <td>39916.36</td>\n",
       "      <td>1.19</td>\n",
       "      <td>0.15</td>\n",
       "    </tr>\n",
       "    <tr>\n",
       "      <th>std</th>\n",
       "      <td>0.50</td>\n",
       "      <td>8.44</td>\n",
       "      <td>9900.08</td>\n",
       "      <td>1.09</td>\n",
       "      <td>0.46</td>\n",
       "    </tr>\n",
       "    <tr>\n",
       "      <th>min</th>\n",
       "      <td>0.00</td>\n",
       "      <td>18.00</td>\n",
       "      <td>5300.00</td>\n",
       "      <td>0.00</td>\n",
       "      <td>0.00</td>\n",
       "    </tr>\n",
       "    <tr>\n",
       "      <th>25%</th>\n",
       "      <td>0.00</td>\n",
       "      <td>24.00</td>\n",
       "      <td>33300.00</td>\n",
       "      <td>0.00</td>\n",
       "      <td>0.00</td>\n",
       "    </tr>\n",
       "    <tr>\n",
       "      <th>50%</th>\n",
       "      <td>0.00</td>\n",
       "      <td>30.00</td>\n",
       "      <td>40200.00</td>\n",
       "      <td>1.00</td>\n",
       "      <td>0.00</td>\n",
       "    </tr>\n",
       "    <tr>\n",
       "      <th>75%</th>\n",
       "      <td>1.00</td>\n",
       "      <td>37.00</td>\n",
       "      <td>46600.00</td>\n",
       "      <td>2.00</td>\n",
       "      <td>0.00</td>\n",
       "    </tr>\n",
       "    <tr>\n",
       "      <th>max</th>\n",
       "      <td>1.00</td>\n",
       "      <td>65.00</td>\n",
       "      <td>79000.00</td>\n",
       "      <td>6.00</td>\n",
       "      <td>5.00</td>\n",
       "    </tr>\n",
       "  </tbody>\n",
       "</table>\n",
       "</div>"
      ],
      "text/plain": [
       "          Пол  Возраст  Зарплата  Члены семьи  Страховые выплаты\n",
       "count 5000.00  5000.00   5000.00      5000.00            5000.00\n",
       "mean     0.50    30.95  39916.36         1.19               0.15\n",
       "std      0.50     8.44   9900.08         1.09               0.46\n",
       "min      0.00    18.00   5300.00         0.00               0.00\n",
       "25%      0.00    24.00  33300.00         0.00               0.00\n",
       "50%      0.00    30.00  40200.00         1.00               0.00\n",
       "75%      1.00    37.00  46600.00         2.00               0.00\n",
       "max      1.00    65.00  79000.00         6.00               5.00"
      ]
     },
     "execution_count": 5,
     "metadata": {},
     "output_type": "execute_result"
    }
   ],
   "source": [
    "df.describe()"
   ]
  },
  {
   "cell_type": "code",
   "execution_count": 6,
   "metadata": {},
   "outputs": [
    {
     "data": {
      "image/png": "[encoded data removed]",
      "text/plain": [
       "<Figure size 864x432 with 6 Axes>"
      ]
     },
     "metadata": {},
     "output_type": "display_data"
    }
   ],
   "source": [
    "df.hist(bins=50, figsize=(12, 6));"
   ]
  },
  {
   "cell_type": "markdown",
   "metadata": {},
   "source": [
    "Данные осмотрены. Пропусков нет, анамалий не обнаружено, с данными можно работать"
   ]
  },
  {
   "cell_type": "markdown",
   "metadata": {},
   "source": [
    "## Умножение матриц"
   ]
  },
  {
   "cell_type": "markdown",
   "metadata": {},
   "source": [
    "Обозначения:\n",
    "\n",
    "- $X$ — матрица признаков (нулевой столбец состоит из единиц)\n",
    "\n",
    "- $y$ — вектор целевого признака\n",
    "\n",
    "- $O$ — матрица, на которую умножаются признаки\n",
    "\n",
    "- $w$ — вектор весов линейной регрессии (нулевой элемент равен сдвигу)"
   ]
  },
  {
   "cell_type": "markdown",
   "metadata": {},
   "source": [
    "Предсказания:\n",
    "\n",
    "$$\n",
    "a = Xw\n",
    "$$\n",
    "\n",
    "Задача обучения:\n",
    "\n",
    "$$\n",
    "w = \\arg\\min_w MSE(Xw, y)\n",
    "$$\n",
    "\n",
    "Формула обучения:\n",
    "\n",
    "$$\n",
    "w = (X^T X)^{-1} X^T y\n",
    "$$"
   ]
  },
  {
   "cell_type": "markdown",
   "metadata": {},
   "source": [
    "**Вопрос:** Признаки умножают на обратимую матрицу. Изменится ли качество линейной регрессии? (Её можно обучить заново.)\n",
    " - a. Изменится. Приведите примеры матриц.\n",
    " - b. Не изменится. Укажите, как связаны параметры линейной регрессии в исходной задаче и в преобразованной.\n",
    "\n",
    "**Ответ:** \n",
    "- b. Не изменится.\n",
    "\n",
    "**Обоснование:** \n",
    "\n",
    "Признаки $X$ умножаем на обратимую матрцу $O$, обозначим результат как $M$\n",
    "\n",
    "$$ M = XO $$\n",
    "\n",
    "Вычислим чему будут равны предсказания при условии замены $X$ на $M$\n",
    "\n",
    "$$ a_1 = Mw_1 $$\n",
    "\n",
    "Задача обучения при этом станет выглядеть так:\n",
    "\n",
    "$$ w_1 = (M^TM)^{-1} M^Ty $$\n",
    "\n",
    "Для обоснования нам потребуется понимание следующих свойств матриц:\n",
    "\n",
    "$$ (AB)^{-1} = B^{-1}A^{-1} $$\n",
    "$$ (ABC)^{-1} = C^{-1} B^{-1} A^{-1} $$\n",
    "$$ (AB)^T = B^TA^T $$\n",
    "$$ AA^{-1} = A^{-1} A = E $$ \n",
    "$$ AE = EA = A $$ \n",
    "\n",
    "Теперь представим нашу формулу предсказания с заменой параметров, но в полном виде\n",
    "\n",
    "$$ w_1 = ((XO)^TXO)^{-1} (XO)^Ty $$\n",
    "\n",
    "Используя указанные выше свойства матриц, поочерёдно раскроем скобки\n",
    "\n",
    "$$ w_1 = ((XO)^TXO)^{-1}(XO)^Ty = (O^TX^TXO)^{-1}O^TX^Ty = O^{-1}(X^T X)^{-1}(O^T)^{-1}O^TX^Ty $$\n",
    "\n",
    "Далее сокращаем $(O^T)^{-1}O^T$\n",
    "\n",
    "$$ w_1 = O^{-1}(X^T X)^{-1}X^Ty $$\n",
    "\n",
    "Можно заметить что в правой части формулы мы получили $(X^T X)^{-1}X^Ty$, что является формулой обучения $w$\n",
    "\n",
    "$$ w_1 = O^{-1}w $$\n",
    "\n",
    "соответственно\n",
    "\n",
    "$$ a_1 = Mw_1 $$\n",
    "\n",
    "Подставляем $XO$ вместо $M$, обратные матрицы сокращаются\n",
    "\n",
    "$$ a_1 = XOO^{-1}w = Xw = a $$\n",
    "\n",
    "$$ a_1 = a $$\n",
    "\n",
    "Что и требовалось доказать. Из продемонстрированного наглядно видно почему обратимость матрицы является необходимым условием"
   ]
  },
  {
   "cell_type": "markdown",
   "metadata": {},
   "source": [
    "## Алгоритм преобразования"
   ]
  },
  {
   "cell_type": "markdown",
   "metadata": {},
   "source": [
    "**Алгоритм**\n",
    "\n",
    "1. Сгенерируем рандомную квадратную матрицу $O$ размерностью в ширину наших признаков\n",
    "2. Проверим матрицу $O$ на обратимость (в случае необратимости матрицы, повторить шаг 1)\n",
    "3. Помножим наши признаки $X$ на матрицу $O$ $(M = XO)$ \n",
    "4. Применим преобразованные параметры в дальнейшем алгоритме"
   ]
  },
  {
   "cell_type": "markdown",
   "metadata": {},
   "source": [
    "**Обоснование**\n",
    "\n",
    "Размерность матрицы $O$ должна быть $(n,n)$, при $n$ равной количеству признаков. Тогда матрица $M$ будет такой же размерности что и матрица оригинальных признаков $X$. Обратная матрица  существует только для квадратных невырожденных матриц (определитель которых не равен нулю).\n",
    "\n",
    "рассмотрим на примере:"
   ]
  },
  {
   "cell_type": "code",
   "execution_count": 7,
   "metadata": {},
   "outputs": [
    {
     "name": "stdout",
     "output_type": "stream",
     "text": [
      "Матрица X\n",
      "[[8 9 8]\n",
      " [8 3 3]\n",
      " [5 9 7]\n",
      " [7 8 9]\n",
      " [2 7 7]\n",
      " [3 3 9]]\n",
      "\n",
      "Матрица O\n",
      "[[2 8 4]\n",
      " [2 4 4]\n",
      " [5 9 9]]\n",
      "Детерминант матрицы = 8.000000000000002\n",
      "Матрица обратима\n",
      "\n",
      "Матрица M\n",
      "[[ 74 172 140]\n",
      " [ 37 103  71]\n",
      " [ 63 139 119]\n",
      " [ 75 169 141]\n",
      " [ 53 107  99]\n",
      " [ 57 117 105]]\n"
     ]
    }
   ],
   "source": [
    "np.random.seed(1337)\n",
    "X = np.random.randint(1,10,(6,3))\n",
    "O = np.random.randint(1,10,(3,3))\n",
    "M = X @ O\n",
    "\n",
    "print('Матрица X')\n",
    "print(X)\n",
    "print()\n",
    "print('Матрица O')\n",
    "print(O)\n",
    "if np.linalg.det(O) != 0:\n",
    "    print('Детерминант матрицы =', np.linalg.det(O))\n",
    "    print('Матрица обратима')\n",
    "else:\n",
    "    print('Детерминант матрицы =', np.linalg.det(O))\n",
    "    print('Матрица необратима')\n",
    "print()\n",
    "print('Матрица M')\n",
    "print(M)"
   ]
  },
  {
   "cell_type": "code",
   "execution_count": 8,
   "metadata": {},
   "outputs": [
    {
     "name": "stdout",
     "output_type": "stream",
     "text": [
      "Целевые признаки [1 2 3 4 5 6]\n",
      "Вес признаков [-0.13494351 -0.28343227  0.8210042 ]\n",
      "Предсказание [2.93759511 0.53316771 2.52142144 4.1769751  3.49311652 6.13391048]\n",
      "Вес зашифрованных признаков [ 2.91745361  0.03712219 -1.56670706]\n",
      "Предсказание из зашифрованных признаков [2.93759511 0.53316771 2.52142144 4.1769751  3.49311652 6.13391048]\n",
      "\n",
      "Проверяем на разных этапах преобразования формулы. Если они равны, значит всё верно\n",
      "Вес зашифрованных признаков\n",
      "[ 2.91745361  0.03712219 -1.56670706]\n",
      "[ 2.91745361  0.03712219 -1.56670706]\n",
      "[ 2.91745361  0.03712219 -1.56670706]\n",
      "[ 2.91745361  0.03712219 -1.56670706]\n",
      "[ 2.91745361  0.03712219 -1.56670706]\n",
      "[ 2.91745361  0.03712219 -1.56670706]\n",
      "[ 2.91745361  0.03712219 -1.56670706]\n"
     ]
    }
   ],
   "source": [
    "np.random.seed(1337)\n",
    "y = np.array([1,2,3,4,5,6])\n",
    "w = np.linalg.inv(X.T @ X) @ X.T @ y\n",
    "a = X @ w\n",
    "w1 = np.linalg.inv(M.T @ M) @ M.T @ y\n",
    "a1 = M @ w1\n",
    "\n",
    "print('Целевые признаки', y)\n",
    "print('Вес признаков', w)\n",
    "print('Предсказание', a)\n",
    "print('Вес зашифрованных признаков', w1)\n",
    "print('Предсказание из зашифрованных признаков', a1)\n",
    "print()\n",
    "print('Проверяем на разных этапах преобразования формулы. Если они равны, значит всё верно')\n",
    "print('Вес зашифрованных признаков')\n",
    "print(w1)\n",
    "print(np.linalg.inv(M.T @ M) @ M.T @ y)\n",
    "print(np.linalg.inv(((X @ O).T) @ (X @ O)) @ (X @ O).T @ y)\n",
    "print(np.linalg.inv(O.T @ X.T @ X @ O) @ O.T @ X.T @ y)\n",
    "print(np.linalg.inv(O) @ np.linalg.inv(X.T @ X) @ np.linalg.inv(O.T) @ O.T @ X.T @ y)\n",
    "print(np.linalg.inv(O) @ np.linalg.inv(X.T @ X) @ X.T @ y)\n",
    "print(np.linalg.inv(O) @ w)"
   ]
  },
  {
   "cell_type": "markdown",
   "metadata": {},
   "source": [
    "## Проверка алгоритма"
   ]
  },
  {
   "cell_type": "code",
   "execution_count": 9,
   "metadata": {},
   "outputs": [
    {
     "name": "stdout",
     "output_type": "stream",
     "text": [
      "Размер тренировочной выборки:\n",
      "признаки (3750, 4);\n",
      "целевой признак (3750,)\n",
      "это 75% от датасета\n",
      "\n",
      "Размер тестовой выборки:\n",
      "признаки (1250, 4);\n",
      "целевой признак (1250,)\n",
      "это 25% от датасета\n"
     ]
    }
   ],
   "source": [
    "X = df.drop('Страховые выплаты', axis=1)\n",
    "y = df['Страховые выплаты']\n",
    "\n",
    "X_train, X_test, y_train, y_test = train_test_split(\n",
    "        X, y, test_size=0.25, random_state=1337)\n",
    "\n",
    "print('Размер тренировочной выборки:')\n",
    "print(f'признаки {X_train.shape};')\n",
    "print(f'целевой признак {y_train.shape}')\n",
    "print(f'это {round((y_train.count() / y.count()) * 100)}% от датасета')\n",
    "print()\n",
    "print('Размер тестовой выборки:')\n",
    "print(f'признаки {X_test.shape};')\n",
    "print(f'целевой признак {y_test.shape}')\n",
    "print(f'это {round((y_test.count() / y.count()) * 100)}% от датасета')"
   ]
  },
  {
   "cell_type": "code",
   "execution_count": 10,
   "metadata": {},
   "outputs": [],
   "source": [
    "class LinearRegression:\n",
    "    def fit(self, train_features, train_target):\n",
    "        X = np.concatenate((np.ones((train_features.shape[0], 1)), train_features), axis=1)\n",
    "        y = train_target\n",
    "        w = np.linalg.inv(X.T @ X) @ X.T @ y\n",
    "        self.w = w[1:]\n",
    "        self.w0 = w[0]\n",
    "\n",
    "    def predict(self, test_features):\n",
    "        return test_features.dot(self.w) + self.w0"
   ]
  },
  {
   "cell_type": "code",
   "execution_count": 11,
   "metadata": {},
   "outputs": [
    {
     "name": "stdout",
     "output_type": "stream",
     "text": [
      "R2 score модели = 0.43\n"
     ]
    }
   ],
   "source": [
    "model = LinearRegression()\n",
    "model.fit(X_train, y_train)\n",
    "pred = model.predict(X_test)\n",
    "score = r2_score(y_test, pred)\n",
    "\n",
    "print('R2 score модели =', round(score, 2))\n"
   ]
  },
  {
   "cell_type": "markdown",
   "metadata": {},
   "source": [
    "Напишем формулу шифрования данных"
   ]
  },
  {
   "cell_type": "code",
   "execution_count": 12,
   "metadata": {},
   "outputs": [],
   "source": [
    "def crypto(X):\n",
    "    n = X.shape[1]\n",
    "    np.random.seed(1337)\n",
    "    crypto_mx = np.random.randint(1, 10, (n,n))\n",
    "    det = np.linalg.det(crypto_mx)\n",
    "    tryes_counter = 0\n",
    "    while det == 0:\n",
    "        tryes_counter += 1\n",
    "        np.random.seed(1337 + tryes_counter)\n",
    "        crypto_mx = np.random.randint(1, 10, (n,n))\n",
    "        det = np.linalg.det(crypto_mx)\n",
    "    crypted_X = X @ crypto_mx\n",
    "    return crypted_X, crypto_mx"
   ]
  },
  {
   "cell_type": "markdown",
   "metadata": {},
   "source": [
    "Зашифруем наши признаки и убедимся что всё сработало выведя первые строки таблиц и ключ шифрования"
   ]
  },
  {
   "cell_type": "code",
   "execution_count": 13,
   "metadata": {},
   "outputs": [
    {
     "name": "stdout",
     "output_type": "stream",
     "text": [
      "Признаки до шифровки\n"
     ]
    },
    {
     "data": {
      "text/html": [
       "<div>\n",
       "<style scoped>\n",
       "    .dataframe tbody tr th:only-of-type {\n",
       "        vertical-align: middle;\n",
       "    }\n",
       "\n",
       "    .dataframe tbody tr th {\n",
       "        vertical-align: top;\n",
       "    }\n",
       "\n",
       "    .dataframe thead th {\n",
       "        text-align: right;\n",
       "    }\n",
       "</style>\n",
       "<table border=\"1\" class=\"dataframe\">\n",
       "  <thead>\n",
       "    <tr style=\"text-align: right;\">\n",
       "      <th></th>\n",
       "      <th>Пол</th>\n",
       "      <th>Возраст</th>\n",
       "      <th>Зарплата</th>\n",
       "      <th>Члены семьи</th>\n",
       "    </tr>\n",
       "  </thead>\n",
       "  <tbody>\n",
       "    <tr>\n",
       "      <th>0</th>\n",
       "      <td>1</td>\n",
       "      <td>41.00</td>\n",
       "      <td>49600.00</td>\n",
       "      <td>1</td>\n",
       "    </tr>\n",
       "    <tr>\n",
       "      <th>1</th>\n",
       "      <td>0</td>\n",
       "      <td>46.00</td>\n",
       "      <td>38000.00</td>\n",
       "      <td>1</td>\n",
       "    </tr>\n",
       "    <tr>\n",
       "      <th>2</th>\n",
       "      <td>0</td>\n",
       "      <td>29.00</td>\n",
       "      <td>21000.00</td>\n",
       "      <td>0</td>\n",
       "    </tr>\n",
       "    <tr>\n",
       "      <th>3</th>\n",
       "      <td>0</td>\n",
       "      <td>21.00</td>\n",
       "      <td>41700.00</td>\n",
       "      <td>2</td>\n",
       "    </tr>\n",
       "    <tr>\n",
       "      <th>4</th>\n",
       "      <td>1</td>\n",
       "      <td>28.00</td>\n",
       "      <td>26100.00</td>\n",
       "      <td>0</td>\n",
       "    </tr>\n",
       "  </tbody>\n",
       "</table>\n",
       "</div>"
      ],
      "text/plain": [
       "   Пол  Возраст  Зарплата  Члены семьи\n",
       "0    1    41.00  49600.00            1\n",
       "1    0    46.00  38000.00            1\n",
       "2    0    29.00  21000.00            0\n",
       "3    0    21.00  41700.00            2\n",
       "4    1    28.00  26100.00            0"
      ]
     },
     "metadata": {},
     "output_type": "display_data"
    },
    {
     "name": "stdout",
     "output_type": "stream",
     "text": [
      "\n",
      "Признаки после шифровки\n"
     ]
    },
    {
     "data": {
      "text/html": [
       "<div>\n",
       "<style scoped>\n",
       "    .dataframe tbody tr th:only-of-type {\n",
       "        vertical-align: middle;\n",
       "    }\n",
       "\n",
       "    .dataframe tbody tr th {\n",
       "        vertical-align: top;\n",
       "    }\n",
       "\n",
       "    .dataframe thead th {\n",
       "        text-align: right;\n",
       "    }\n",
       "</style>\n",
       "<table border=\"1\" class=\"dataframe\">\n",
       "  <thead>\n",
       "    <tr style=\"text-align: right;\">\n",
       "      <th></th>\n",
       "      <th>0</th>\n",
       "      <th>1</th>\n",
       "      <th>2</th>\n",
       "      <th>3</th>\n",
       "    </tr>\n",
       "  </thead>\n",
       "  <tbody>\n",
       "    <tr>\n",
       "      <th>0</th>\n",
       "      <td>347333.00</td>\n",
       "      <td>347339.00</td>\n",
       "      <td>397020.00</td>\n",
       "      <td>446780.00</td>\n",
       "    </tr>\n",
       "    <tr>\n",
       "      <th>1</th>\n",
       "      <td>266140.00</td>\n",
       "      <td>266145.00</td>\n",
       "      <td>304237.00</td>\n",
       "      <td>342417.00</td>\n",
       "    </tr>\n",
       "    <tr>\n",
       "      <th>2</th>\n",
       "      <td>147087.00</td>\n",
       "      <td>147087.00</td>\n",
       "      <td>168145.00</td>\n",
       "      <td>189261.00</td>\n",
       "    </tr>\n",
       "    <tr>\n",
       "      <th>3</th>\n",
       "      <td>291967.00</td>\n",
       "      <td>291977.00</td>\n",
       "      <td>333719.00</td>\n",
       "      <td>375495.00</td>\n",
       "    </tr>\n",
       "    <tr>\n",
       "      <th>4</th>\n",
       "      <td>182792.00</td>\n",
       "      <td>182793.00</td>\n",
       "      <td>208948.00</td>\n",
       "      <td>235160.00</td>\n",
       "    </tr>\n",
       "  </tbody>\n",
       "</table>\n",
       "</div>"
      ],
      "text/plain": [
       "          0         1         2         3\n",
       "0 347333.00 347339.00 397020.00 446780.00\n",
       "1 266140.00 266145.00 304237.00 342417.00\n",
       "2 147087.00 147087.00 168145.00 189261.00\n",
       "3 291967.00 291977.00 333719.00 375495.00\n",
       "4 182792.00 182793.00 208948.00 235160.00"
      ]
     },
     "metadata": {},
     "output_type": "display_data"
    },
    {
     "name": "stdout",
     "output_type": "stream",
     "text": [
      "\n",
      "матрица/ключ шифровки\n"
     ]
    },
    {
     "data": {
      "text/plain": [
       "array([[8, 9, 8, 8],\n",
       "       [3, 3, 5, 9],\n",
       "       [7, 7, 8, 9],\n",
       "       [2, 7, 7, 3]])"
      ]
     },
     "execution_count": 13,
     "metadata": {},
     "output_type": "execute_result"
    }
   ],
   "source": [
    "crypted_X, crypto_mx = crypto(X)\n",
    "\n",
    "print('Признаки до шифровки')\n",
    "display(X.head())\n",
    "print()\n",
    "print('Признаки после шифровки')\n",
    "display(crypted_X.head())\n",
    "print()\n",
    "print('матрица/ключ шифровки')\n",
    "crypto_mx"
   ]
  },
  {
   "cell_type": "code",
   "execution_count": 14,
   "metadata": {},
   "outputs": [
    {
     "name": "stdout",
     "output_type": "stream",
     "text": [
      "R2 score модели = 0.43\n"
     ]
    }
   ],
   "source": [
    "crypted_X_train, crypted_X_test, y_train, y_test = train_test_split(\n",
    "        crypted_X, y, test_size=0.25, random_state=1337)\n",
    "\n",
    "model = LinearRegression()\n",
    "model.fit(crypted_X_train, y_train)\n",
    "pred = model.predict(crypted_X_test)\n",
    "crypted_score = r2_score(y_test, pred)\n",
    "\n",
    "print('R2 score модели =', round(crypted_score, 2))"
   ]
  },
  {
   "cell_type": "code",
   "execution_count": 15,
   "metadata": {},
   "outputs": [],
   "source": [
    "scores_names = ['обычные данные', \n",
    "                'зашифрованные данные'  \n",
    "               ]\n",
    "scores = [score,\n",
    "          crypted_score\n",
    "         ]\n",
    "\n",
    "results = pd.DataFrame({'Тип':scores_names,\n",
    "                        'Значение R2':crypted_score\n",
    "                        })"
   ]
  },
  {
   "cell_type": "markdown",
   "metadata": {},
   "source": [
    "## Вывод"
   ]
  },
  {
   "cell_type": "markdown",
   "metadata": {},
   "source": [
    "Пройденные этапы:\n",
    "- Загружены и изучены данные\n",
    "- Теоретически обосновано что при умножении данных на обратимую матрицу, качество работы линейной регрессии не изменится\n",
    "- Предложен алгоритм преобразования данных\n",
    "- Предложен алгоритм преобразования данных\n",
    "- Алгоритм проверен на практике и показал что теоретическия верна"
   ]
  },
  {
   "cell_type": "code",
   "execution_count": 16,
   "metadata": {},
   "outputs": [
    {
     "name": "stdout",
     "output_type": "stream",
     "text": [
      "Признаки до шифровки\n"
     ]
    },
    {
     "data": {
      "text/html": [
       "<div>\n",
       "<style scoped>\n",
       "    .dataframe tbody tr th:only-of-type {\n",
       "        vertical-align: middle;\n",
       "    }\n",
       "\n",
       "    .dataframe tbody tr th {\n",
       "        vertical-align: top;\n",
       "    }\n",
       "\n",
       "    .dataframe thead th {\n",
       "        text-align: right;\n",
       "    }\n",
       "</style>\n",
       "<table border=\"1\" class=\"dataframe\">\n",
       "  <thead>\n",
       "    <tr style=\"text-align: right;\">\n",
       "      <th></th>\n",
       "      <th>Пол</th>\n",
       "      <th>Возраст</th>\n",
       "      <th>Зарплата</th>\n",
       "      <th>Члены семьи</th>\n",
       "    </tr>\n",
       "  </thead>\n",
       "  <tbody>\n",
       "    <tr>\n",
       "      <th>0</th>\n",
       "      <td>1</td>\n",
       "      <td>41.00</td>\n",
       "      <td>49600.00</td>\n",
       "      <td>1</td>\n",
       "    </tr>\n",
       "    <tr>\n",
       "      <th>1</th>\n",
       "      <td>0</td>\n",
       "      <td>46.00</td>\n",
       "      <td>38000.00</td>\n",
       "      <td>1</td>\n",
       "    </tr>\n",
       "    <tr>\n",
       "      <th>2</th>\n",
       "      <td>0</td>\n",
       "      <td>29.00</td>\n",
       "      <td>21000.00</td>\n",
       "      <td>0</td>\n",
       "    </tr>\n",
       "    <tr>\n",
       "      <th>3</th>\n",
       "      <td>0</td>\n",
       "      <td>21.00</td>\n",
       "      <td>41700.00</td>\n",
       "      <td>2</td>\n",
       "    </tr>\n",
       "    <tr>\n",
       "      <th>4</th>\n",
       "      <td>1</td>\n",
       "      <td>28.00</td>\n",
       "      <td>26100.00</td>\n",
       "      <td>0</td>\n",
       "    </tr>\n",
       "  </tbody>\n",
       "</table>\n",
       "</div>"
      ],
      "text/plain": [
       "   Пол  Возраст  Зарплата  Члены семьи\n",
       "0    1    41.00  49600.00            1\n",
       "1    0    46.00  38000.00            1\n",
       "2    0    29.00  21000.00            0\n",
       "3    0    21.00  41700.00            2\n",
       "4    1    28.00  26100.00            0"
      ]
     },
     "metadata": {},
     "output_type": "display_data"
    },
    {
     "name": "stdout",
     "output_type": "stream",
     "text": [
      "\n",
      "Признаки после шифровки\n"
     ]
    },
    {
     "data": {
      "text/html": [
       "<div>\n",
       "<style scoped>\n",
       "    .dataframe tbody tr th:only-of-type {\n",
       "        vertical-align: middle;\n",
       "    }\n",
       "\n",
       "    .dataframe tbody tr th {\n",
       "        vertical-align: top;\n",
       "    }\n",
       "\n",
       "    .dataframe thead th {\n",
       "        text-align: right;\n",
       "    }\n",
       "</style>\n",
       "<table border=\"1\" class=\"dataframe\">\n",
       "  <thead>\n",
       "    <tr style=\"text-align: right;\">\n",
       "      <th></th>\n",
       "      <th>0</th>\n",
       "      <th>1</th>\n",
       "      <th>2</th>\n",
       "      <th>3</th>\n",
       "    </tr>\n",
       "  </thead>\n",
       "  <tbody>\n",
       "    <tr>\n",
       "      <th>0</th>\n",
       "      <td>347333.00</td>\n",
       "      <td>347339.00</td>\n",
       "      <td>397020.00</td>\n",
       "      <td>446780.00</td>\n",
       "    </tr>\n",
       "    <tr>\n",
       "      <th>1</th>\n",
       "      <td>266140.00</td>\n",
       "      <td>266145.00</td>\n",
       "      <td>304237.00</td>\n",
       "      <td>342417.00</td>\n",
       "    </tr>\n",
       "    <tr>\n",
       "      <th>2</th>\n",
       "      <td>147087.00</td>\n",
       "      <td>147087.00</td>\n",
       "      <td>168145.00</td>\n",
       "      <td>189261.00</td>\n",
       "    </tr>\n",
       "    <tr>\n",
       "      <th>3</th>\n",
       "      <td>291967.00</td>\n",
       "      <td>291977.00</td>\n",
       "      <td>333719.00</td>\n",
       "      <td>375495.00</td>\n",
       "    </tr>\n",
       "    <tr>\n",
       "      <th>4</th>\n",
       "      <td>182792.00</td>\n",
       "      <td>182793.00</td>\n",
       "      <td>208948.00</td>\n",
       "      <td>235160.00</td>\n",
       "    </tr>\n",
       "  </tbody>\n",
       "</table>\n",
       "</div>"
      ],
      "text/plain": [
       "          0         1         2         3\n",
       "0 347333.00 347339.00 397020.00 446780.00\n",
       "1 266140.00 266145.00 304237.00 342417.00\n",
       "2 147087.00 147087.00 168145.00 189261.00\n",
       "3 291967.00 291977.00 333719.00 375495.00\n",
       "4 182792.00 182793.00 208948.00 235160.00"
      ]
     },
     "metadata": {},
     "output_type": "display_data"
    },
    {
     "data": {
      "text/html": [
       "<div>\n",
       "<style scoped>\n",
       "    .dataframe tbody tr th:only-of-type {\n",
       "        vertical-align: middle;\n",
       "    }\n",
       "\n",
       "    .dataframe tbody tr th {\n",
       "        vertical-align: top;\n",
       "    }\n",
       "\n",
       "    .dataframe thead th {\n",
       "        text-align: right;\n",
       "    }\n",
       "</style>\n",
       "<table border=\"1\" class=\"dataframe\">\n",
       "  <thead>\n",
       "    <tr style=\"text-align: right;\">\n",
       "      <th></th>\n",
       "      <th>Тип</th>\n",
       "      <th>Значение R2</th>\n",
       "    </tr>\n",
       "  </thead>\n",
       "  <tbody>\n",
       "    <tr>\n",
       "      <th>0</th>\n",
       "      <td>обычные данные</td>\n",
       "      <td>0.43</td>\n",
       "    </tr>\n",
       "    <tr>\n",
       "      <th>1</th>\n",
       "      <td>зашифрованные данные</td>\n",
       "      <td>0.43</td>\n",
       "    </tr>\n",
       "  </tbody>\n",
       "</table>\n",
       "</div>"
      ],
      "text/plain": [
       "                    Тип  Значение R2\n",
       "0        обычные данные         0.43\n",
       "1  зашифрованные данные         0.43"
      ]
     },
     "execution_count": 16,
     "metadata": {},
     "output_type": "execute_result"
    }
   ],
   "source": [
    "print('Признаки до шифровки')\n",
    "display(X.head())\n",
    "print()\n",
    "print('Признаки после шифровки')\n",
    "display(crypted_X.head())\n",
    "\n",
    "results"
   ]
  },
  {
   "cell_type": "markdown",
   "metadata": {},
   "source": [
    "Как видно метрика R2 в обоих случаях одинакова, а данные пользователей надёжно зашифрованы"
   ]
  },
  {
   "cell_type": "code",
   "execution_count": null,
   "metadata": {},
   "outputs": [],
   "source": []
  }
 ],
 "metadata": {
  "ExecuteTimeLog": [
   {
    "duration": 59,
    "start_time": "2023-01-20T05:11:48.227Z"
   },
   {
    "duration": 53,
    "start_time": "2023-01-20T05:27:52.213Z"
   },
   {
    "duration": 1423,
    "start_time": "2023-01-20T05:28:00.893Z"
   },
   {
    "duration": 44,
    "start_time": "2023-01-20T05:28:02.318Z"
   },
   {
    "duration": 115,
    "start_time": "2023-01-20T05:28:02.364Z"
   },
   {
    "duration": 0,
    "start_time": "2023-01-20T05:28:02.481Z"
   },
   {
    "duration": 0,
    "start_time": "2023-01-20T05:28:02.482Z"
   },
   {
    "duration": 0,
    "start_time": "2023-01-20T05:28:02.483Z"
   },
   {
    "duration": 0,
    "start_time": "2023-01-20T05:28:02.484Z"
   },
   {
    "duration": 0,
    "start_time": "2023-01-20T05:28:02.486Z"
   },
   {
    "duration": 0,
    "start_time": "2023-01-20T05:28:02.487Z"
   },
   {
    "duration": 0,
    "start_time": "2023-01-20T05:28:02.488Z"
   },
   {
    "duration": 0,
    "start_time": "2023-01-20T05:28:02.490Z"
   },
   {
    "duration": 0,
    "start_time": "2023-01-20T05:28:02.491Z"
   },
   {
    "duration": 0,
    "start_time": "2023-01-20T05:28:02.493Z"
   },
   {
    "duration": 0,
    "start_time": "2023-01-20T05:28:02.494Z"
   },
   {
    "duration": 0,
    "start_time": "2023-01-20T05:28:02.496Z"
   },
   {
    "duration": 0,
    "start_time": "2023-01-20T05:28:02.497Z"
   },
   {
    "duration": 1378,
    "start_time": "2023-01-20T05:29:12.058Z"
   },
   {
    "duration": 50,
    "start_time": "2023-01-20T05:29:13.594Z"
   },
   {
    "duration": 104,
    "start_time": "2023-01-20T05:30:29.438Z"
   },
   {
    "duration": 1369,
    "start_time": "2023-01-20T05:30:44.045Z"
   },
   {
    "duration": 32,
    "start_time": "2023-01-20T05:30:45.416Z"
   },
   {
    "duration": 11,
    "start_time": "2023-01-20T05:30:45.450Z"
   },
   {
    "duration": 14,
    "start_time": "2023-01-20T05:30:45.463Z"
   },
   {
    "duration": 24,
    "start_time": "2023-01-20T05:30:45.479Z"
   },
   {
    "duration": 862,
    "start_time": "2023-01-20T05:30:45.505Z"
   },
   {
    "duration": 116,
    "start_time": "2023-01-20T05:30:46.369Z"
   },
   {
    "duration": 0,
    "start_time": "2023-01-20T05:30:46.487Z"
   },
   {
    "duration": 0,
    "start_time": "2023-01-20T05:30:46.488Z"
   },
   {
    "duration": 0,
    "start_time": "2023-01-20T05:30:46.490Z"
   },
   {
    "duration": 0,
    "start_time": "2023-01-20T05:30:46.491Z"
   },
   {
    "duration": 0,
    "start_time": "2023-01-20T05:30:46.492Z"
   },
   {
    "duration": 0,
    "start_time": "2023-01-20T05:30:46.493Z"
   },
   {
    "duration": 0,
    "start_time": "2023-01-20T05:30:46.496Z"
   },
   {
    "duration": 0,
    "start_time": "2023-01-20T05:30:46.497Z"
   },
   {
    "duration": 0,
    "start_time": "2023-01-20T05:30:46.501Z"
   },
   {
    "duration": 7,
    "start_time": "2023-01-20T05:32:26.510Z"
   },
   {
    "duration": 11,
    "start_time": "2023-01-20T05:32:43.562Z"
   },
   {
    "duration": 18,
    "start_time": "2023-01-20T05:32:48.379Z"
   },
   {
    "duration": 21,
    "start_time": "2023-01-20T05:40:39.396Z"
   },
   {
    "duration": 15,
    "start_time": "2023-01-20T05:42:01.910Z"
   },
   {
    "duration": 23,
    "start_time": "2023-01-20T05:42:10.411Z"
   },
   {
    "duration": 22,
    "start_time": "2023-01-20T05:42:53.310Z"
   },
   {
    "duration": 41,
    "start_time": "2023-01-20T05:43:36.297Z"
   },
   {
    "duration": 20,
    "start_time": "2023-01-20T05:43:44.055Z"
   },
   {
    "duration": 17,
    "start_time": "2023-01-20T05:44:05.175Z"
   },
   {
    "duration": 25,
    "start_time": "2023-01-20T05:45:23.003Z"
   },
   {
    "duration": 17,
    "start_time": "2023-01-20T05:49:49.628Z"
   },
   {
    "duration": 1389,
    "start_time": "2023-01-20T05:50:22.817Z"
   },
   {
    "duration": 32,
    "start_time": "2023-01-20T05:50:24.209Z"
   },
   {
    "duration": 15,
    "start_time": "2023-01-20T05:50:24.246Z"
   },
   {
    "duration": 31,
    "start_time": "2023-01-20T05:50:24.263Z"
   },
   {
    "duration": 32,
    "start_time": "2023-01-20T05:50:24.297Z"
   },
   {
    "duration": 816,
    "start_time": "2023-01-20T05:50:24.331Z"
   },
   {
    "duration": 8,
    "start_time": "2023-01-20T05:50:25.149Z"
   },
   {
    "duration": 19,
    "start_time": "2023-01-20T05:50:25.158Z"
   },
   {
    "duration": 64,
    "start_time": "2023-01-20T05:50:25.179Z"
   },
   {
    "duration": 20,
    "start_time": "2023-01-20T05:50:25.245Z"
   },
   {
    "duration": 88,
    "start_time": "2023-01-20T05:50:25.267Z"
   },
   {
    "duration": 83,
    "start_time": "2023-01-20T05:50:25.357Z"
   },
   {
    "duration": 110,
    "start_time": "2023-01-20T05:50:25.443Z"
   },
   {
    "duration": 11,
    "start_time": "2023-01-20T05:50:25.556Z"
   },
   {
    "duration": 73,
    "start_time": "2023-01-20T05:50:25.568Z"
   },
   {
    "duration": 112,
    "start_time": "2023-01-20T05:50:25.644Z"
   },
   {
    "duration": 1397,
    "start_time": "2023-01-20T05:51:41.645Z"
   },
   {
    "duration": 32,
    "start_time": "2023-01-20T05:51:43.045Z"
   },
   {
    "duration": 14,
    "start_time": "2023-01-20T05:51:43.081Z"
   },
   {
    "duration": 22,
    "start_time": "2023-01-20T05:51:43.096Z"
   },
   {
    "duration": 35,
    "start_time": "2023-01-20T05:51:43.120Z"
   },
   {
    "duration": 853,
    "start_time": "2023-01-20T05:51:43.157Z"
   },
   {
    "duration": 7,
    "start_time": "2023-01-20T05:51:44.012Z"
   },
   {
    "duration": 25,
    "start_time": "2023-01-20T05:51:44.021Z"
   },
   {
    "duration": 91,
    "start_time": "2023-01-20T05:51:44.048Z"
   },
   {
    "duration": 6,
    "start_time": "2023-01-20T05:51:44.141Z"
   },
   {
    "duration": 89,
    "start_time": "2023-01-20T05:51:44.149Z"
   },
   {
    "duration": 9,
    "start_time": "2023-01-20T05:51:44.240Z"
   },
   {
    "duration": 101,
    "start_time": "2023-01-20T05:51:44.252Z"
   },
   {
    "duration": 12,
    "start_time": "2023-01-20T05:51:44.356Z"
   },
   {
    "duration": 81,
    "start_time": "2023-01-20T05:51:44.370Z"
   },
   {
    "duration": 107,
    "start_time": "2023-01-20T05:51:44.453Z"
   }
  ],
  "kernelspec": {
   "display_name": "Python 3 (ipykernel)",
   "language": "python",
   "name": "python3"
  },
  "language_info": {
   "codemirror_mode": {
    "name": "ipython",
    "version": 3
   },
   "file_extension": ".py",
   "mimetype": "text/x-python",
   "name": "python",
   "nbconvert_exporter": "python",
   "pygments_lexer": "ipython3",
   "version": "3.10.6"
  },
  "toc": {
   "base_numbering": 1,
   "nav_menu": {},
   "number_sections": true,
   "sideBar": true,
   "skip_h1_title": true,
   "title_cell": "Содержание",
   "title_sidebar": "Contents",
   "toc_cell": true,
   "toc_position": {},
   "toc_section_display": true,
   "toc_window_display": true
  },
  "vscode": {
   "interpreter": {
    "hash": "37811bdfc6fdb6c968a2f7a0edac0b64107bacc71e6db274a8ad61f133bdb9b1"
   }
  }
 },
 "nbformat": 4,
 "nbformat_minor": 2
}
