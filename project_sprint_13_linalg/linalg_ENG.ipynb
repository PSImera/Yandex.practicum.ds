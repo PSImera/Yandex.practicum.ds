{
 "cells": [
  {
   "cell_type": "markdown",
   "metadata": {},
   "source": [
    "# Protection of personal customer data"
   ]
  },
  {
   "cell_type": "markdown",
   "metadata": {},
   "source": [
    "We need to protect the data of the clients of the insurance company \"Though the Flood\".We develop this method of data transformation so that it is difficult to restore personal information on them, and the quality of machine learning models will not worsen.We justify the correctness of his work.The best model is not required to select the best model."
   ]
  },
  {
   "cell_type": "markdown",
   "metadata": {},
   "source": [
    "## Data load"
   ]
  },
  {
   "cell_type": "code",
   "execution_count": 30,
   "metadata": {},
   "outputs": [],
   "source": [
    "# отключим предупреждающие уведомления\n",
    "import warnings\n",
    "warnings.filterwarnings('ignore')\n",
    "\n",
    "# Добавим основные библиотеки\n",
    "import pandas as pd\n",
    "import numpy as np\n",
    "import os\n",
    "import matplotlib.pyplot as plt\n",
    "\n",
    "from sklearn.model_selection import train_test_split\n",
    "from sklearn.metrics import r2_score\n",
    "\n",
    "# Сделаем небольшие настройки pandas для комфортного отображения проекта\n",
    "pd.set_option('display.max_columns', None)\n",
    "pd.set_option('display.float_format', lambda x: '%.2f' % x)\n",
    "pd.options.mode.chained_assignment = None\n",
    "plt.style.use('dark_background')"
   ]
  },
  {
   "cell_type": "code",
   "execution_count": 31,
   "metadata": {},
   "outputs": [
    {
     "name": "stdout",
     "output_type": "stream",
     "text": [
      "df is loaded from the address: datasets/insurance.csv\n"
     ]
    }
   ],
   "source": [
    "# Импортируем датасеты методом try/except и установим индексом столбец date\n",
    "pth1 = 'datasets/insurance.csv'\n",
    "pth2 = 'https://code.s3.yandex.net/datasets/insurance.csv'\n",
    "    \n",
    "if os.path.exists(pth1):\n",
    "    df = pd.read_csv(pth1)\n",
    "    print('df is loaded from the address: datasets/insurance.csv')\n",
    "elif os.path.exists(pth2):\n",
    "    df = pd.read_csv(pth2)\n",
    "    print('df is loaded from the address: https://code.s3.yandex.net/datasets/insurance.csv')\n",
    "else:\n",
    "    print('error: wrong path')"
   ]
  },
  {
   "cell_type": "code",
   "execution_count": 32,
   "metadata": {},
   "outputs": [
    {
     "data": {
      "text/html": [
       "<div>\n",
       "<style scoped>\n",
       "    .dataframe tbody tr th:only-of-type {\n",
       "        vertical-align: middle;\n",
       "    }\n",
       "\n",
       "    .dataframe tbody tr th {\n",
       "        vertical-align: top;\n",
       "    }\n",
       "\n",
       "    .dataframe thead th {\n",
       "        text-align: right;\n",
       "    }\n",
       "</style>\n",
       "<table border=\"1\" class=\"dataframe\">\n",
       "  <thead>\n",
       "    <tr style=\"text-align: right;\">\n",
       "      <th></th>\n",
       "      <th>Пол</th>\n",
       "      <th>Возраст</th>\n",
       "      <th>Зарплата</th>\n",
       "      <th>Члены семьи</th>\n",
       "      <th>Страховые выплаты</th>\n",
       "    </tr>\n",
       "  </thead>\n",
       "  <tbody>\n",
       "    <tr>\n",
       "      <th>0</th>\n",
       "      <td>1</td>\n",
       "      <td>41.00</td>\n",
       "      <td>49600.00</td>\n",
       "      <td>1</td>\n",
       "      <td>0</td>\n",
       "    </tr>\n",
       "    <tr>\n",
       "      <th>1</th>\n",
       "      <td>0</td>\n",
       "      <td>46.00</td>\n",
       "      <td>38000.00</td>\n",
       "      <td>1</td>\n",
       "      <td>1</td>\n",
       "    </tr>\n",
       "    <tr>\n",
       "      <th>2</th>\n",
       "      <td>0</td>\n",
       "      <td>29.00</td>\n",
       "      <td>21000.00</td>\n",
       "      <td>0</td>\n",
       "      <td>0</td>\n",
       "    </tr>\n",
       "    <tr>\n",
       "      <th>3</th>\n",
       "      <td>0</td>\n",
       "      <td>21.00</td>\n",
       "      <td>41700.00</td>\n",
       "      <td>2</td>\n",
       "      <td>0</td>\n",
       "    </tr>\n",
       "    <tr>\n",
       "      <th>4</th>\n",
       "      <td>1</td>\n",
       "      <td>28.00</td>\n",
       "      <td>26100.00</td>\n",
       "      <td>0</td>\n",
       "      <td>0</td>\n",
       "    </tr>\n",
       "  </tbody>\n",
       "</table>\n",
       "</div>"
      ],
      "text/plain": [
       "   Пол  Возраст  Зарплата  Члены семьи  Страховые выплаты\n",
       "0    1    41.00  49600.00            1                  0\n",
       "1    0    46.00  38000.00            1                  1\n",
       "2    0    29.00  21000.00            0                  0\n",
       "3    0    21.00  41700.00            2                  0\n",
       "4    1    28.00  26100.00            0                  0"
      ]
     },
     "execution_count": 32,
     "metadata": {},
     "output_type": "execute_result"
    }
   ],
   "source": [
    "df.head()"
   ]
  },
  {
   "cell_type": "markdown",
   "metadata": {},
   "source": [
    "Since the column names are in Russian, let's rename them"
   ]
  },
  {
   "cell_type": "code",
   "execution_count": 33,
   "metadata": {},
   "outputs": [],
   "source": [
    "df.rename(columns={'Пол': 'Gender',\n",
    "                   'Возраст': 'Age',\n",
    "                   'Зарплата': 'Salary',\n",
    "                   'Члены семьи': 'Family members',\n",
    "                   'Страховые выплаты': 'Insurance payments'}, inplace=True)"
   ]
  },
  {
   "cell_type": "code",
   "execution_count": 34,
   "metadata": {},
   "outputs": [
    {
     "name": "stdout",
     "output_type": "stream",
     "text": [
      "<class 'pandas.core.frame.DataFrame'>\n",
      "RangeIndex: 5000 entries, 0 to 4999\n",
      "Data columns (total 5 columns):\n",
      " #   Column              Non-Null Count  Dtype  \n",
      "---  ------              --------------  -----  \n",
      " 0   Gender              5000 non-null   int64  \n",
      " 1   Age                 5000 non-null   float64\n",
      " 2   Salary              5000 non-null   float64\n",
      " 3   Family members      5000 non-null   int64  \n",
      " 4   Insurance payments  5000 non-null   int64  \n",
      "dtypes: float64(2), int64(3)\n",
      "memory usage: 195.4 KB\n"
     ]
    }
   ],
   "source": [
    "df.info()"
   ]
  },
  {
   "cell_type": "code",
   "execution_count": 35,
   "metadata": {},
   "outputs": [
    {
     "data": {
      "text/html": [
       "<div>\n",
       "<style scoped>\n",
       "    .dataframe tbody tr th:only-of-type {\n",
       "        vertical-align: middle;\n",
       "    }\n",
       "\n",
       "    .dataframe tbody tr th {\n",
       "        vertical-align: top;\n",
       "    }\n",
       "\n",
       "    .dataframe thead th {\n",
       "        text-align: right;\n",
       "    }\n",
       "</style>\n",
       "<table border=\"1\" class=\"dataframe\">\n",
       "  <thead>\n",
       "    <tr style=\"text-align: right;\">\n",
       "      <th></th>\n",
       "      <th>Gender</th>\n",
       "      <th>Age</th>\n",
       "      <th>Salary</th>\n",
       "      <th>Family members</th>\n",
       "      <th>Insurance payments</th>\n",
       "    </tr>\n",
       "  </thead>\n",
       "  <tbody>\n",
       "    <tr>\n",
       "      <th>count</th>\n",
       "      <td>5000.00</td>\n",
       "      <td>5000.00</td>\n",
       "      <td>5000.00</td>\n",
       "      <td>5000.00</td>\n",
       "      <td>5000.00</td>\n",
       "    </tr>\n",
       "    <tr>\n",
       "      <th>mean</th>\n",
       "      <td>0.50</td>\n",
       "      <td>30.95</td>\n",
       "      <td>39916.36</td>\n",
       "      <td>1.19</td>\n",
       "      <td>0.15</td>\n",
       "    </tr>\n",
       "    <tr>\n",
       "      <th>std</th>\n",
       "      <td>0.50</td>\n",
       "      <td>8.44</td>\n",
       "      <td>9900.08</td>\n",
       "      <td>1.09</td>\n",
       "      <td>0.46</td>\n",
       "    </tr>\n",
       "    <tr>\n",
       "      <th>min</th>\n",
       "      <td>0.00</td>\n",
       "      <td>18.00</td>\n",
       "      <td>5300.00</td>\n",
       "      <td>0.00</td>\n",
       "      <td>0.00</td>\n",
       "    </tr>\n",
       "    <tr>\n",
       "      <th>25%</th>\n",
       "      <td>0.00</td>\n",
       "      <td>24.00</td>\n",
       "      <td>33300.00</td>\n",
       "      <td>0.00</td>\n",
       "      <td>0.00</td>\n",
       "    </tr>\n",
       "    <tr>\n",
       "      <th>50%</th>\n",
       "      <td>0.00</td>\n",
       "      <td>30.00</td>\n",
       "      <td>40200.00</td>\n",
       "      <td>1.00</td>\n",
       "      <td>0.00</td>\n",
       "    </tr>\n",
       "    <tr>\n",
       "      <th>75%</th>\n",
       "      <td>1.00</td>\n",
       "      <td>37.00</td>\n",
       "      <td>46600.00</td>\n",
       "      <td>2.00</td>\n",
       "      <td>0.00</td>\n",
       "    </tr>\n",
       "    <tr>\n",
       "      <th>max</th>\n",
       "      <td>1.00</td>\n",
       "      <td>65.00</td>\n",
       "      <td>79000.00</td>\n",
       "      <td>6.00</td>\n",
       "      <td>5.00</td>\n",
       "    </tr>\n",
       "  </tbody>\n",
       "</table>\n",
       "</div>"
      ],
      "text/plain": [
       "       Gender     Age   Salary  Family members  Insurance payments\n",
       "count 5000.00 5000.00  5000.00         5000.00             5000.00\n",
       "mean     0.50   30.95 39916.36            1.19                0.15\n",
       "std      0.50    8.44  9900.08            1.09                0.46\n",
       "min      0.00   18.00  5300.00            0.00                0.00\n",
       "25%      0.00   24.00 33300.00            0.00                0.00\n",
       "50%      0.00   30.00 40200.00            1.00                0.00\n",
       "75%      1.00   37.00 46600.00            2.00                0.00\n",
       "max      1.00   65.00 79000.00            6.00                5.00"
      ]
     },
     "execution_count": 35,
     "metadata": {},
     "output_type": "execute_result"
    }
   ],
   "source": [
    "df.describe()"
   ]
  },
  {
   "cell_type": "code",
   "execution_count": 36,
   "metadata": {},
   "outputs": [
    {
     "data": {
      "image/png": "[encoded data removed]",
      "text/plain": [
       "<Figure size 1200x600 with 6 Axes>"
      ]
     },
     "metadata": {},
     "output_type": "display_data"
    }
   ],
   "source": [
    "df.hist(bins=50, figsize=(12, 6));"
   ]
  },
  {
   "cell_type": "markdown",
   "metadata": {},
   "source": [
    "The data is examined.There are no passes, no anamalies were found, with data you can work"
   ]
  },
  {
   "cell_type": "markdown",
   "metadata": {},
   "source": [
    "## Multiplication of matrices"
   ]
  },
  {
   "cell_type": "markdown",
   "metadata": {},
   "source": [
    "Designations:\n",
    "\n",
    "- $ x $ - a matrix of signs (the zero column consists of units)\n",
    "\n",
    "- $ y $ - vector of the target sign\n",
    "\n",
    "- $ p $ is a matrix, which is multiplied by signs\n",
    "\n",
    "- $ w $ - vector of linear regression weights (zero element is equal to the shift)"
   ]
  },
  {
   "cell_type": "markdown",
   "metadata": {},
   "source": [
    "Predictions:\n",
    "\n",
    "$$\n",
    "A = XW\n",
    "$$\n",
    "\n",
    "The task of learning:\n",
    "\n",
    "$$\n",
    "w = \\arg\\min_w MSE(Xw, y)\n",
    "$$\n",
    "\n",
    "\n",
    "Learning formula:\n",
    "\n",
    "$$\n",
    "w = (X^T X)^{-1} X^T y\n",
    "$$"
   ]
  },
  {
   "cell_type": "markdown",
   "metadata": {},
   "source": [
    "** Question: ** Signs multiply by the reversible matrix.Will the quality of linear regression change?(It can be taught again.)\n",
    "- a.Change.Give examples of matrices.\n",
    "- b.It will not change.Indicate how the parameters of linear regression are related in the initial task and in the transformed.\n",
    "\n",
    "**Answer:**\n",
    "- b.It will not change.\n",
    "\n",
    "**justification:**\n",
    "\n",
    "Signs of $X$ are multiplying by reversible mattra $O$, denot the result as $M$\n",
    "\n",
    "$$ M = XO $$\n",
    "\n",
    "We calculate what the predictions will be equal to the replacement of $X$ by $M$\n",
    "\n",
    "$$ a_1 = Mw_1 $$\n",
    "\n",
    "The task of learning will look like this:\n",
    "\n",
    "$$ w_1 = (M^TM)^{-1} M^Ty $$\n",
    "\n",
    "To justify, we need to understand the following properties of matrices:\n",
    "\n",
    "$$ (AB)^{-1} = B^{-1}A^{-1} $$\n",
    "$$ (ABC)^{-1} = C^{-1} B^{-1} A^{-1} $$\n",
    "$$ (AB)^T = B^TA^T $$\n",
    "$$ AA^{-1} = A^{-1} A = E $$ \n",
    "$$ AE = EA = A $$ \n",
    "\n",
    "Now we will present our prediction formula with the replacement of the parameters, but in full\n",
    "\n",
    "$$ w_1 = ((XO)^TXO)^{-1} (XO)^Ty $$\n",
    "\n",
    "Using the above properties of matrices, we will alternately open the brackets\n",
    "\n",
    "$$ w_1 = ((XO)^TXO)^{-1}(XO)^Ty = (O^TX^TXO)^{-1}O^TX^Ty = O^{-1}(X^T X)^{-1}(O^T)^{-1}O^TX^Ty $$\n",
    "\n",
    "Next, reduce $(O^T)^{-1}O^T$\n",
    "\n",
    "$$ w_1 = O^{-1}(X^T X)^{-1}X^Ty $$\n",
    "\n",
    "You may notice that in the right side of the formula we received $(X^T X)^{-1}X^Ty$, which is a formula for learning $w$\n",
    "\n",
    "$$ w_1 = O^{-1}w $$\n",
    "\n",
    "respectively\n",
    "\n",
    "$$ a_1 = Mw_1 $$\n",
    "\n",
    "We substitute $ xo $ instead of $ m $, reverse matrices are reduced\n",
    "\n",
    "$$ a_1 = XOO^{-1}w = Xw = a $$\n",
    "\n",
    "$$ a_1 = a $$\n",
    "\n",
    "Q.E.D.From the demonstrated clearly shows why the reversibility of the matrix is ​​a prerequisite"
   ]
  },
  {
   "cell_type": "markdown",
   "metadata": {},
   "source": [
    "## transformation algorithm"
   ]
  },
  {
   "cell_type": "markdown",
   "metadata": {},
   "source": [
    "**Algorithm**\n",
    "\n",
    "1. Generate the random square matrix $O$ dimensions in width of our signs\n",
    "2. Check the matrix $O$ for reversibility (in case of irreversibility of the matrix, repeat the step 1)\n",
    "3. Lost our signs $X$ per matrix $O$ $(M = XO)$\n",
    "4. We apply the transformed parameters in the future algorithm"
   ]
  },
  {
   "cell_type": "markdown",
   "metadata": {},
   "source": [
    "**rationale**\n",
    "\n",
    "The dimension of the matrix $O$ should be $(n, n)$, at $n$ equal to the number of signs.Then the $M$ matrix will be the same dimension as the matrix of the original signs of $X$. The reverse matrix exists only for the square unpertured matrices (the determinant of which is not equal to zero).\n",
    "\n",
    "Consider the example:"
   ]
  },
  {
   "cell_type": "code",
   "execution_count": 37,
   "metadata": {},
   "outputs": [
    {
     "name": "stdout",
     "output_type": "stream",
     "text": [
      "Matrix X\n",
      "[[8 9 8]\n",
      " [8 3 3]\n",
      " [5 9 7]\n",
      " [7 8 9]\n",
      " [2 7 7]\n",
      " [3 3 9]]\n",
      "\n",
      "Matrix O\n",
      "[[2 8 4]\n",
      " [2 4 4]\n",
      " [5 9 9]]\n",
      "Matrix determinant = 8.000000000000002\n",
      "The matrix is ​​invertible\n",
      "\n",
      "Matrix M\n",
      "[[ 74 172 140]\n",
      " [ 37 103  71]\n",
      " [ 63 139 119]\n",
      " [ 75 169 141]\n",
      " [ 53 107  99]\n",
      " [ 57 117 105]]\n"
     ]
    }
   ],
   "source": [
    "np.random.seed(1337)\n",
    "X = np.random.randint(1,10,(6,3))\n",
    "O = np.random.randint(1,10,(3,3))\n",
    "M = X @ O\n",
    "\n",
    "print('Matrix X')\n",
    "print(X)\n",
    "print()\n",
    "print('Matrix O')\n",
    "print(O)\n",
    "if np.linalg.det(O) != 0:\n",
    "    print('Matrix determinant =', np.linalg.det(O))\n",
    "    print('The matrix is ​​invertible')\n",
    "else:\n",
    "    print('Matrix determinant =', np.linalg.det(O))\n",
    "    print('The matrix not ​​invertible')\n",
    "print()\n",
    "print('Matrix M')\n",
    "print(M)"
   ]
  },
  {
   "cell_type": "code",
   "execution_count": 38,
   "metadata": {},
   "outputs": [
    {
     "name": "stdout",
     "output_type": "stream",
     "text": [
      "Target features [1 2 3 4 5 6]\n",
      "Feature weight [-0.13494351 -0.28343227  0.8210042 ]\n",
      "Prediction [2.93759511 0.53316771 2.52142144 4.1769751  3.49311652 6.13391048]\n",
      "Encrypted feature weight [ 2.91745361  0.03712219 -1.56670706]\n",
      "Prediction from encrypted features [2.93759511 0.53316771 2.52142144 4.1769751  3.49311652 6.13391048]\n",
      "\n",
      "We check at different stages of formula transformation. If they are equal, then everything is correct\n",
      "Encrypted feature weight\n",
      "[ 2.91745361  0.03712219 -1.56670706]\n",
      "[ 2.91745361  0.03712219 -1.56670706]\n",
      "[ 2.91745361  0.03712219 -1.56670706]\n",
      "[ 2.91745361  0.03712219 -1.56670706]\n",
      "[ 2.91745361  0.03712219 -1.56670706]\n",
      "[ 2.91745361  0.03712219 -1.56670706]\n",
      "[ 2.91745361  0.03712219 -1.56670706]\n"
     ]
    }
   ],
   "source": [
    "np.random.seed(1337)\n",
    "y = np.array([1,2,3,4,5,6])\n",
    "w = np.linalg.inv(X.T @ X) @ X.T @ y\n",
    "a = X @ w\n",
    "w1 = np.linalg.inv(M.T @ M) @ M.T @ y\n",
    "a1 = M @ w1\n",
    "\n",
    "print('Target features', y)\n",
    "print('Feature weight', w)\n",
    "print('Prediction', a)\n",
    "print('Encrypted feature weight', w1)\n",
    "print('Prediction from encrypted features', a1)\n",
    "print()\n",
    "print('We check at different stages of formula transformation. If they are equal, then everything is correct')\n",
    "print('Encrypted feature weight')\n",
    "print(w1)\n",
    "print(np.linalg.inv(M.T @ M) @ M.T @ y)\n",
    "print(np.linalg.inv(((X @ O).T) @ (X @ O)) @ (X @ O).T @ y)\n",
    "print(np.linalg.inv(O.T @ X.T @ X @ O) @ O.T @ X.T @ y)\n",
    "print(np.linalg.inv(O) @ np.linalg.inv(X.T @ X) @ np.linalg.inv(O.T) @ O.T @ X.T @ y)\n",
    "print(np.linalg.inv(O) @ np.linalg.inv(X.T @ X) @ X.T @ y)\n",
    "print(np.linalg.inv(O) @ w)"
   ]
  },
  {
   "cell_type": "markdown",
   "metadata": {},
   "source": [
    "## Checking the algorithm"
   ]
  },
  {
   "cell_type": "code",
   "execution_count": 39,
   "metadata": {},
   "outputs": [
    {
     "name": "stdout",
     "output_type": "stream",
     "text": [
      "Training sample size:\n",
      "features (3750, 4);\n",
      "target feature (3750,)\n",
      "It is 75% of dataset\n",
      "\n",
      "Test sample size:\n",
      "features (1250, 4);\n",
      "target feature (1250,)\n",
      "It is 25% of the dataset\n"
     ]
    }
   ],
   "source": [
    "X = df.drop('Insurance payments', axis=1)\n",
    "y = df['Insurance payments']\n",
    "\n",
    "X_train, X_test, y_train, y_test = train_test_split(\n",
    "X, y, test_size=0.25, random_state=1337)\n",
    "\n",
    "print('Training sample size:')\n",
    "print(f'features {X_train.shape};')\n",
    "print(f'target feature {y_train.shape}')\n",
    "print(f'It is {round((y_train.count() / y.count()) * 100)}% of dataset')\n",
    "print()\n",
    "print('Test sample size:')\n",
    "print(f'features {X_test.shape};')\n",
    "print(f'target feature {y_test.shape}')\n",
    "print(f'It is {round((y_test.count() / y.count()) * 100)}% of the dataset')"
   ]
  },
  {
   "cell_type": "code",
   "execution_count": 40,
   "metadata": {},
   "outputs": [],
   "source": [
    "class LinearRegression:\n",
    "    def fit(self, train_features, train_target):\n",
    "        X = np.concatenate((np.ones((train_features.shape[0], 1)), train_features), axis=1)\n",
    "        y = train_target\n",
    "        w = np.linalg.inv(X.T @ X) @ X.T @ y\n",
    "        self.w = w[1:]\n",
    "        self.w0 = w[0]\n",
    "\n",
    "    def predict(self, test_features):\n",
    "        return test_features.dot(self.w) + self.w0"
   ]
  },
  {
   "cell_type": "code",
   "execution_count": 41,
   "metadata": {},
   "outputs": [
    {
     "name": "stdout",
     "output_type": "stream",
     "text": [
      "R2 score of model = 0.43\n"
     ]
    }
   ],
   "source": [
    "model = LinearRegression()\n",
    "model.fit(X_train, y_train)\n",
    "pred = model.predict(X_test)\n",
    "score = r2_score(y_test, pred)\n",
    "\n",
    "print('R2 score of model =', round(score, 2))\n"
   ]
  },
  {
   "cell_type": "markdown",
   "metadata": {},
   "source": [
    "Let's write the data encryption formula"
   ]
  },
  {
   "cell_type": "code",
   "execution_count": 42,
   "metadata": {},
   "outputs": [],
   "source": [
    "def crypto(X):\n",
    "    n = X.shape[1]\n",
    "    np.random.seed(1337)\n",
    "    crypto_mx = np.random.randint(1, 10, (n,n))\n",
    "    det = np.linalg.det(crypto_mx)\n",
    "    tryes_counter = 0\n",
    "    while det == 0:\n",
    "        tryes_counter += 1\n",
    "        np.random.seed(1337 + tryes_counter)\n",
    "        crypto_mx = np.random.randint(1, 10, (n,n))\n",
    "        det = np.linalg.det(crypto_mx)\n",
    "    crypted_X = X @ crypto_mx\n",
    "    return crypted_X, crypto_mx"
   ]
  },
  {
   "cell_type": "markdown",
   "metadata": {},
   "source": [
    "We encrypt our signs and make sure that everything worked out by taking the first lines of the tables and the encryption key"
   ]
  },
  {
   "cell_type": "code",
   "execution_count": 43,
   "metadata": {},
   "outputs": [
    {
     "name": "stdout",
     "output_type": "stream",
     "text": [
      "Features before encryption\n"
     ]
    },
    {
     "data": {
      "text/html": [
       "<div>\n",
       "<style scoped>\n",
       "    .dataframe tbody tr th:only-of-type {\n",
       "        vertical-align: middle;\n",
       "    }\n",
       "\n",
       "    .dataframe tbody tr th {\n",
       "        vertical-align: top;\n",
       "    }\n",
       "\n",
       "    .dataframe thead th {\n",
       "        text-align: right;\n",
       "    }\n",
       "</style>\n",
       "<table border=\"1\" class=\"dataframe\">\n",
       "  <thead>\n",
       "    <tr style=\"text-align: right;\">\n",
       "      <th></th>\n",
       "      <th>Gender</th>\n",
       "      <th>Age</th>\n",
       "      <th>Salary</th>\n",
       "      <th>Family members</th>\n",
       "    </tr>\n",
       "  </thead>\n",
       "  <tbody>\n",
       "    <tr>\n",
       "      <th>0</th>\n",
       "      <td>1</td>\n",
       "      <td>41.00</td>\n",
       "      <td>49600.00</td>\n",
       "      <td>1</td>\n",
       "    </tr>\n",
       "    <tr>\n",
       "      <th>1</th>\n",
       "      <td>0</td>\n",
       "      <td>46.00</td>\n",
       "      <td>38000.00</td>\n",
       "      <td>1</td>\n",
       "    </tr>\n",
       "    <tr>\n",
       "      <th>2</th>\n",
       "      <td>0</td>\n",
       "      <td>29.00</td>\n",
       "      <td>21000.00</td>\n",
       "      <td>0</td>\n",
       "    </tr>\n",
       "    <tr>\n",
       "      <th>3</th>\n",
       "      <td>0</td>\n",
       "      <td>21.00</td>\n",
       "      <td>41700.00</td>\n",
       "      <td>2</td>\n",
       "    </tr>\n",
       "    <tr>\n",
       "      <th>4</th>\n",
       "      <td>1</td>\n",
       "      <td>28.00</td>\n",
       "      <td>26100.00</td>\n",
       "      <td>0</td>\n",
       "    </tr>\n",
       "  </tbody>\n",
       "</table>\n",
       "</div>"
      ],
      "text/plain": [
       "   Gender   Age   Salary  Family members\n",
       "0       1 41.00 49600.00               1\n",
       "1       0 46.00 38000.00               1\n",
       "2       0 29.00 21000.00               0\n",
       "3       0 21.00 41700.00               2\n",
       "4       1 28.00 26100.00               0"
      ]
     },
     "metadata": {},
     "output_type": "display_data"
    },
    {
     "name": "stdout",
     "output_type": "stream",
     "text": [
      "\n",
      "Features after encryption\n"
     ]
    },
    {
     "data": {
      "text/html": [
       "<div>\n",
       "<style scoped>\n",
       "    .dataframe tbody tr th:only-of-type {\n",
       "        vertical-align: middle;\n",
       "    }\n",
       "\n",
       "    .dataframe tbody tr th {\n",
       "        vertical-align: top;\n",
       "    }\n",
       "\n",
       "    .dataframe thead th {\n",
       "        text-align: right;\n",
       "    }\n",
       "</style>\n",
       "<table border=\"1\" class=\"dataframe\">\n",
       "  <thead>\n",
       "    <tr style=\"text-align: right;\">\n",
       "      <th></th>\n",
       "      <th>0</th>\n",
       "      <th>1</th>\n",
       "      <th>2</th>\n",
       "      <th>3</th>\n",
       "    </tr>\n",
       "  </thead>\n",
       "  <tbody>\n",
       "    <tr>\n",
       "      <th>0</th>\n",
       "      <td>347333.00</td>\n",
       "      <td>347339.00</td>\n",
       "      <td>397020.00</td>\n",
       "      <td>446780.00</td>\n",
       "    </tr>\n",
       "    <tr>\n",
       "      <th>1</th>\n",
       "      <td>266140.00</td>\n",
       "      <td>266145.00</td>\n",
       "      <td>304237.00</td>\n",
       "      <td>342417.00</td>\n",
       "    </tr>\n",
       "    <tr>\n",
       "      <th>2</th>\n",
       "      <td>147087.00</td>\n",
       "      <td>147087.00</td>\n",
       "      <td>168145.00</td>\n",
       "      <td>189261.00</td>\n",
       "    </tr>\n",
       "    <tr>\n",
       "      <th>3</th>\n",
       "      <td>291967.00</td>\n",
       "      <td>291977.00</td>\n",
       "      <td>333719.00</td>\n",
       "      <td>375495.00</td>\n",
       "    </tr>\n",
       "    <tr>\n",
       "      <th>4</th>\n",
       "      <td>182792.00</td>\n",
       "      <td>182793.00</td>\n",
       "      <td>208948.00</td>\n",
       "      <td>235160.00</td>\n",
       "    </tr>\n",
       "  </tbody>\n",
       "</table>\n",
       "</div>"
      ],
      "text/plain": [
       "          0         1         2         3\n",
       "0 347333.00 347339.00 397020.00 446780.00\n",
       "1 266140.00 266145.00 304237.00 342417.00\n",
       "2 147087.00 147087.00 168145.00 189261.00\n",
       "3 291967.00 291977.00 333719.00 375495.00\n",
       "4 182792.00 182793.00 208948.00 235160.00"
      ]
     },
     "metadata": {},
     "output_type": "display_data"
    },
    {
     "name": "stdout",
     "output_type": "stream",
     "text": [
      "\n",
      "matrix/encryption key\n"
     ]
    },
    {
     "data": {
      "text/plain": [
       "array([[8, 9, 8, 8],\n",
       "       [3, 3, 5, 9],\n",
       "       [7, 7, 8, 9],\n",
       "       [2, 7, 7, 3]])"
      ]
     },
     "execution_count": 43,
     "metadata": {},
     "output_type": "execute_result"
    }
   ],
   "source": [
    "crypted_X, crypto_mx = crypto(X)\n",
    "\n",
    "print('Features before encryption')\n",
    "display(X.head())\n",
    "print()\n",
    "print('Features after encryption')\n",
    "display(crypted_X.head())\n",
    "print()\n",
    "print('matrix/encryption key')\n",
    "crypto_mx"
   ]
  },
  {
   "cell_type": "code",
   "execution_count": 44,
   "metadata": {},
   "outputs": [
    {
     "name": "stdout",
     "output_type": "stream",
     "text": [
      "R2 score of model = 0.43\n"
     ]
    }
   ],
   "source": [
    "crypted_X_train, crypted_X_test, y_train, y_test = train_test_split(\n",
    "        crypted_X, y, test_size=0.25, random_state=1337)\n",
    "\n",
    "model = LinearRegression()\n",
    "model.fit(crypted_X_train, y_train)\n",
    "pred = model.predict(crypted_X_test)\n",
    "crypted_score = r2_score(y_test, pred)\n",
    "\n",
    "print('R2 score of model =', round(crypted_score, 2))"
   ]
  },
  {
   "cell_type": "code",
   "execution_count": 45,
   "metadata": {},
   "outputs": [],
   "source": [
    "scores_names = ['data', \n",
    "                'crypted data'  \n",
    "               ]\n",
    "scores = [score,\n",
    "          crypted_score\n",
    "         ]\n",
    "\n",
    "results = pd.DataFrame({'type':scores_names,\n",
    "                        'R2 score':crypted_score\n",
    "                        })"
   ]
  },
  {
   "cell_type": "markdown",
   "metadata": {},
   "source": [
    "## Conclusion"
   ]
  },
  {
   "cell_type": "markdown",
   "metadata": {},
   "source": [
    "The stages passed:\n",
    "- data loaded and studied\n",
    "- Theoretically substantiated that when multiplying data by a reversible matrix, the quality of linear regression will not change\n",
    "- The data transformation algorithm is proposed\n",
    "- The data transformation algorithm is proposed\n",
    "- the algorithm is tested in practice and showed that theoretical is true"
   ]
  },
  {
   "cell_type": "code",
   "execution_count": 46,
   "metadata": {},
   "outputs": [
    {
     "name": "stdout",
     "output_type": "stream",
     "text": [
      "Features before encryption\n"
     ]
    },
    {
     "data": {
      "text/html": [
       "<div>\n",
       "<style scoped>\n",
       "    .dataframe tbody tr th:only-of-type {\n",
       "        vertical-align: middle;\n",
       "    }\n",
       "\n",
       "    .dataframe tbody tr th {\n",
       "        vertical-align: top;\n",
       "    }\n",
       "\n",
       "    .dataframe thead th {\n",
       "        text-align: right;\n",
       "    }\n",
       "</style>\n",
       "<table border=\"1\" class=\"dataframe\">\n",
       "  <thead>\n",
       "    <tr style=\"text-align: right;\">\n",
       "      <th></th>\n",
       "      <th>Gender</th>\n",
       "      <th>Age</th>\n",
       "      <th>Salary</th>\n",
       "      <th>Family members</th>\n",
       "    </tr>\n",
       "  </thead>\n",
       "  <tbody>\n",
       "    <tr>\n",
       "      <th>0</th>\n",
       "      <td>1</td>\n",
       "      <td>41.00</td>\n",
       "      <td>49600.00</td>\n",
       "      <td>1</td>\n",
       "    </tr>\n",
       "    <tr>\n",
       "      <th>1</th>\n",
       "      <td>0</td>\n",
       "      <td>46.00</td>\n",
       "      <td>38000.00</td>\n",
       "      <td>1</td>\n",
       "    </tr>\n",
       "    <tr>\n",
       "      <th>2</th>\n",
       "      <td>0</td>\n",
       "      <td>29.00</td>\n",
       "      <td>21000.00</td>\n",
       "      <td>0</td>\n",
       "    </tr>\n",
       "    <tr>\n",
       "      <th>3</th>\n",
       "      <td>0</td>\n",
       "      <td>21.00</td>\n",
       "      <td>41700.00</td>\n",
       "      <td>2</td>\n",
       "    </tr>\n",
       "    <tr>\n",
       "      <th>4</th>\n",
       "      <td>1</td>\n",
       "      <td>28.00</td>\n",
       "      <td>26100.00</td>\n",
       "      <td>0</td>\n",
       "    </tr>\n",
       "  </tbody>\n",
       "</table>\n",
       "</div>"
      ],
      "text/plain": [
       "   Gender   Age   Salary  Family members\n",
       "0       1 41.00 49600.00               1\n",
       "1       0 46.00 38000.00               1\n",
       "2       0 29.00 21000.00               0\n",
       "3       0 21.00 41700.00               2\n",
       "4       1 28.00 26100.00               0"
      ]
     },
     "metadata": {},
     "output_type": "display_data"
    },
    {
     "name": "stdout",
     "output_type": "stream",
     "text": [
      "\n",
      "Features after encryption\n"
     ]
    },
    {
     "data": {
      "text/html": [
       "<div>\n",
       "<style scoped>\n",
       "    .dataframe tbody tr th:only-of-type {\n",
       "        vertical-align: middle;\n",
       "    }\n",
       "\n",
       "    .dataframe tbody tr th {\n",
       "        vertical-align: top;\n",
       "    }\n",
       "\n",
       "    .dataframe thead th {\n",
       "        text-align: right;\n",
       "    }\n",
       "</style>\n",
       "<table border=\"1\" class=\"dataframe\">\n",
       "  <thead>\n",
       "    <tr style=\"text-align: right;\">\n",
       "      <th></th>\n",
       "      <th>0</th>\n",
       "      <th>1</th>\n",
       "      <th>2</th>\n",
       "      <th>3</th>\n",
       "    </tr>\n",
       "  </thead>\n",
       "  <tbody>\n",
       "    <tr>\n",
       "      <th>0</th>\n",
       "      <td>347333.00</td>\n",
       "      <td>347339.00</td>\n",
       "      <td>397020.00</td>\n",
       "      <td>446780.00</td>\n",
       "    </tr>\n",
       "    <tr>\n",
       "      <th>1</th>\n",
       "      <td>266140.00</td>\n",
       "      <td>266145.00</td>\n",
       "      <td>304237.00</td>\n",
       "      <td>342417.00</td>\n",
       "    </tr>\n",
       "    <tr>\n",
       "      <th>2</th>\n",
       "      <td>147087.00</td>\n",
       "      <td>147087.00</td>\n",
       "      <td>168145.00</td>\n",
       "      <td>189261.00</td>\n",
       "    </tr>\n",
       "    <tr>\n",
       "      <th>3</th>\n",
       "      <td>291967.00</td>\n",
       "      <td>291977.00</td>\n",
       "      <td>333719.00</td>\n",
       "      <td>375495.00</td>\n",
       "    </tr>\n",
       "    <tr>\n",
       "      <th>4</th>\n",
       "      <td>182792.00</td>\n",
       "      <td>182793.00</td>\n",
       "      <td>208948.00</td>\n",
       "      <td>235160.00</td>\n",
       "    </tr>\n",
       "  </tbody>\n",
       "</table>\n",
       "</div>"
      ],
      "text/plain": [
       "          0         1         2         3\n",
       "0 347333.00 347339.00 397020.00 446780.00\n",
       "1 266140.00 266145.00 304237.00 342417.00\n",
       "2 147087.00 147087.00 168145.00 189261.00\n",
       "3 291967.00 291977.00 333719.00 375495.00\n",
       "4 182792.00 182793.00 208948.00 235160.00"
      ]
     },
     "metadata": {},
     "output_type": "display_data"
    },
    {
     "data": {
      "text/html": [
       "<div>\n",
       "<style scoped>\n",
       "    .dataframe tbody tr th:only-of-type {\n",
       "        vertical-align: middle;\n",
       "    }\n",
       "\n",
       "    .dataframe tbody tr th {\n",
       "        vertical-align: top;\n",
       "    }\n",
       "\n",
       "    .dataframe thead th {\n",
       "        text-align: right;\n",
       "    }\n",
       "</style>\n",
       "<table border=\"1\" class=\"dataframe\">\n",
       "  <thead>\n",
       "    <tr style=\"text-align: right;\">\n",
       "      <th></th>\n",
       "      <th>type</th>\n",
       "      <th>R2 score</th>\n",
       "    </tr>\n",
       "  </thead>\n",
       "  <tbody>\n",
       "    <tr>\n",
       "      <th>0</th>\n",
       "      <td>data</td>\n",
       "      <td>0.43</td>\n",
       "    </tr>\n",
       "    <tr>\n",
       "      <th>1</th>\n",
       "      <td>crypted data</td>\n",
       "      <td>0.43</td>\n",
       "    </tr>\n",
       "  </tbody>\n",
       "</table>\n",
       "</div>"
      ],
      "text/plain": [
       "           type  R2 score\n",
       "0          data      0.43\n",
       "1  crypted data      0.43"
      ]
     },
     "execution_count": 46,
     "metadata": {},
     "output_type": "execute_result"
    }
   ],
   "source": [
    "print('Features before encryption')\n",
    "display(X.head())\n",
    "print()\n",
    "print('Features after encryption')\n",
    "display(crypted_X.head())\n",
    "\n",
    "results"
   ]
  },
  {
   "cell_type": "markdown",
   "metadata": {},
   "source": [
    "As can be seen, the metric R2 is the same in both cases, and user data is reliably encrypted"
   ]
  },
  {
   "cell_type": "code",
   "execution_count": null,
   "metadata": {},
   "outputs": [],
   "source": []
  }
 ],
 "metadata": {
  "ExecuteTimeLog": [
   {
    "duration": 59,
    "start_time": "2023-01-20T05:11:48.227Z"
   },
   {
    "duration": 53,
    "start_time": "2023-01-20T05:27:52.213Z"
   },
   {
    "duration": 1423,
    "start_time": "2023-01-20T05:28:00.893Z"
   },
   {
    "duration": 44,
    "start_time": "2023-01-20T05:28:02.318Z"
   },
   {
    "duration": 115,
    "start_time": "2023-01-20T05:28:02.364Z"
   },
   {
    "duration": 0,
    "start_time": "2023-01-20T05:28:02.481Z"
   },
   {
    "duration": 0,
    "start_time": "2023-01-20T05:28:02.482Z"
   },
   {
    "duration": 0,
    "start_time": "2023-01-20T05:28:02.483Z"
   },
   {
    "duration": 0,
    "start_time": "2023-01-20T05:28:02.484Z"
   },
   {
    "duration": 0,
    "start_time": "2023-01-20T05:28:02.486Z"
   },
   {
    "duration": 0,
    "start_time": "2023-01-20T05:28:02.487Z"
   },
   {
    "duration": 0,
    "start_time": "2023-01-20T05:28:02.488Z"
   },
   {
    "duration": 0,
    "start_time": "2023-01-20T05:28:02.490Z"
   },
   {
    "duration": 0,
    "start_time": "2023-01-20T05:28:02.491Z"
   },
   {
    "duration": 0,
    "start_time": "2023-01-20T05:28:02.493Z"
   },
   {
    "duration": 0,
    "start_time": "2023-01-20T05:28:02.494Z"
   },
   {
    "duration": 0,
    "start_time": "2023-01-20T05:28:02.496Z"
   },
   {
    "duration": 0,
    "start_time": "2023-01-20T05:28:02.497Z"
   },
   {
    "duration": 1378,
    "start_time": "2023-01-20T05:29:12.058Z"
   },
   {
    "duration": 50,
    "start_time": "2023-01-20T05:29:13.594Z"
   },
   {
    "duration": 104,
    "start_time": "2023-01-20T05:30:29.438Z"
   },
   {
    "duration": 1369,
    "start_time": "2023-01-20T05:30:44.045Z"
   },
   {
    "duration": 32,
    "start_time": "2023-01-20T05:30:45.416Z"
   },
   {
    "duration": 11,
    "start_time": "2023-01-20T05:30:45.450Z"
   },
   {
    "duration": 14,
    "start_time": "2023-01-20T05:30:45.463Z"
   },
   {
    "duration": 24,
    "start_time": "2023-01-20T05:30:45.479Z"
   },
   {
    "duration": 862,
    "start_time": "2023-01-20T05:30:45.505Z"
   },
   {
    "duration": 116,
    "start_time": "2023-01-20T05:30:46.369Z"
   },
   {
    "duration": 0,
    "start_time": "2023-01-20T05:30:46.487Z"
   },
   {
    "duration": 0,
    "start_time": "2023-01-20T05:30:46.488Z"
   },
   {
    "duration": 0,
    "start_time": "2023-01-20T05:30:46.490Z"
   },
   {
    "duration": 0,
    "start_time": "2023-01-20T05:30:46.491Z"
   },
   {
    "duration": 0,
    "start_time": "2023-01-20T05:30:46.492Z"
   },
   {
    "duration": 0,
    "start_time": "2023-01-20T05:30:46.493Z"
   },
   {
    "duration": 0,
    "start_time": "2023-01-20T05:30:46.496Z"
   },
   {
    "duration": 0,
    "start_time": "2023-01-20T05:30:46.497Z"
   },
   {
    "duration": 0,
    "start_time": "2023-01-20T05:30:46.501Z"
   },
   {
    "duration": 7,
    "start_time": "2023-01-20T05:32:26.510Z"
   },
   {
    "duration": 11,
    "start_time": "2023-01-20T05:32:43.562Z"
   },
   {
    "duration": 18,
    "start_time": "2023-01-20T05:32:48.379Z"
   },
   {
    "duration": 21,
    "start_time": "2023-01-20T05:40:39.396Z"
   },
   {
    "duration": 15,
    "start_time": "2023-01-20T05:42:01.910Z"
   },
   {
    "duration": 23,
    "start_time": "2023-01-20T05:42:10.411Z"
   },
   {
    "duration": 22,
    "start_time": "2023-01-20T05:42:53.310Z"
   },
   {
    "duration": 41,
    "start_time": "2023-01-20T05:43:36.297Z"
   },
   {
    "duration": 20,
    "start_time": "2023-01-20T05:43:44.055Z"
   },
   {
    "duration": 17,
    "start_time": "2023-01-20T05:44:05.175Z"
   },
   {
    "duration": 25,
    "start_time": "2023-01-20T05:45:23.003Z"
   },
   {
    "duration": 17,
    "start_time": "2023-01-20T05:49:49.628Z"
   },
   {
    "duration": 1389,
    "start_time": "2023-01-20T05:50:22.817Z"
   },
   {
    "duration": 32,
    "start_time": "2023-01-20T05:50:24.209Z"
   },
   {
    "duration": 15,
    "start_time": "2023-01-20T05:50:24.246Z"
   },
   {
    "duration": 31,
    "start_time": "2023-01-20T05:50:24.263Z"
   },
   {
    "duration": 32,
    "start_time": "2023-01-20T05:50:24.297Z"
   },
   {
    "duration": 816,
    "start_time": "2023-01-20T05:50:24.331Z"
   },
   {
    "duration": 8,
    "start_time": "2023-01-20T05:50:25.149Z"
   },
   {
    "duration": 19,
    "start_time": "2023-01-20T05:50:25.158Z"
   },
   {
    "duration": 64,
    "start_time": "2023-01-20T05:50:25.179Z"
   },
   {
    "duration": 20,
    "start_time": "2023-01-20T05:50:25.245Z"
   },
   {
    "duration": 88,
    "start_time": "2023-01-20T05:50:25.267Z"
   },
   {
    "duration": 83,
    "start_time": "2023-01-20T05:50:25.357Z"
   },
   {
    "duration": 110,
    "start_time": "2023-01-20T05:50:25.443Z"
   },
   {
    "duration": 11,
    "start_time": "2023-01-20T05:50:25.556Z"
   },
   {
    "duration": 73,
    "start_time": "2023-01-20T05:50:25.568Z"
   },
   {
    "duration": 112,
    "start_time": "2023-01-20T05:50:25.644Z"
   },
   {
    "duration": 1397,
    "start_time": "2023-01-20T05:51:41.645Z"
   },
   {
    "duration": 32,
    "start_time": "2023-01-20T05:51:43.045Z"
   },
   {
    "duration": 14,
    "start_time": "2023-01-20T05:51:43.081Z"
   },
   {
    "duration": 22,
    "start_time": "2023-01-20T05:51:43.096Z"
   },
   {
    "duration": 35,
    "start_time": "2023-01-20T05:51:43.120Z"
   },
   {
    "duration": 853,
    "start_time": "2023-01-20T05:51:43.157Z"
   },
   {
    "duration": 7,
    "start_time": "2023-01-20T05:51:44.012Z"
   },
   {
    "duration": 25,
    "start_time": "2023-01-20T05:51:44.021Z"
   },
   {
    "duration": 91,
    "start_time": "2023-01-20T05:51:44.048Z"
   },
   {
    "duration": 6,
    "start_time": "2023-01-20T05:51:44.141Z"
   },
   {
    "duration": 89,
    "start_time": "2023-01-20T05:51:44.149Z"
   },
   {
    "duration": 9,
    "start_time": "2023-01-20T05:51:44.240Z"
   },
   {
    "duration": 101,
    "start_time": "2023-01-20T05:51:44.252Z"
   },
   {
    "duration": 12,
    "start_time": "2023-01-20T05:51:44.356Z"
   },
   {
    "duration": 81,
    "start_time": "2023-01-20T05:51:44.370Z"
   },
   {
    "duration": 107,
    "start_time": "2023-01-20T05:51:44.453Z"
   }
  ],
  "kernelspec": {
   "display_name": "Python 3 (ipykernel)",
   "language": "python",
   "name": "python3"
  },
  "language_info": {
   "codemirror_mode": {
    "name": "ipython",
    "version": 3
   },
   "file_extension": ".py",
   "mimetype": "text/x-python",
   "name": "python",
   "nbconvert_exporter": "python",
   "pygments_lexer": "ipython3",
   "version": "3.9.0"
  },
  "toc": {
   "base_numbering": 1,
   "nav_menu": {},
   "number_sections": true,
   "sideBar": true,
   "skip_h1_title": true,
   "title_cell": "Содержание",
   "title_sidebar": "Contents",
   "toc_cell": true,
   "toc_position": {},
   "toc_section_display": true,
   "toc_window_display": true
  },
  "vscode": {
   "interpreter": {
    "hash": "37811bdfc6fdb6c968a2f7a0edac0b64107bacc71e6db274a8ad61f133bdb9b1"
   }
  }
 },
 "nbformat": 4,
 "nbformat_minor": 2
}
