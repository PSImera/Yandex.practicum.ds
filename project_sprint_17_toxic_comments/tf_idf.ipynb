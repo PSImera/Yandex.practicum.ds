{
 "cells": [
  {
   "cell_type": "code",
   "execution_count": 2,
   "metadata": {},
   "outputs": [
    {
     "name": "stderr",
     "output_type": "stream",
     "text": [
      "[nltk_data] Downloading package stopwords to\n",
      "[nltk_data]     C:\\Users\\PSImera\\AppData\\Roaming\\nltk_data...\n",
      "[nltk_data]   Package stopwords is already up-to-date!\n"
     ]
    }
   ],
   "source": [
    "import pandas as pd\n",
    "import nltk\n",
    "nltk.download('stopwords')\n",
    "from sklearn.feature_extraction.text import TfidfVectorizer \n",
    "from sklearn.linear_model import LogisticRegression \n",
    "\n",
    "train = pd.read_csv('datasets/tweets_lemm_train.csv')\n",
    "test = pd.read_csv('datasets/tweets_lemm_test.csv')\n",
    "train_corpus = train['lemm_text'].values.astype('U')\n",
    "test_corpus = test['lemm_text'].values.astype('U')\n",
    "\n",
    "count_tf_idf = TfidfVectorizer(stop_words=nltk.corpus.stopwords.words('russian'))\n",
    "\n",
    "X_train = count_tf_idf.fit_transform(train_corpus)\n",
    "y_train = train['positive']\n",
    "X_test = count_tf_idf.transform(test_corpus)\n",
    "\n",
    "model = LogisticRegression()\n",
    "model.fit(X_train, y_train)\n",
    "\n",
    "test['positive'] = model.predict(X_test) \n",
    "test.to_csv('datasets/predictions.csv') \n"
   ]
  }
 ],
 "metadata": {
  "kernelspec": {
   "display_name": "Python 3",
   "language": "python",
   "name": "python3"
  },
  "language_info": {
   "codemirror_mode": {
    "name": "ipython",
    "version": 3
   },
   "file_extension": ".py",
   "mimetype": "text/x-python",
   "name": "python",
   "nbconvert_exporter": "python",
   "pygments_lexer": "ipython3",
   "version": "3.10.6"
  },
  "orig_nbformat": 4,
  "vscode": {
   "interpreter": {
    "hash": "37811bdfc6fdb6c968a2f7a0edac0b64107bacc71e6db274a8ad61f133bdb9b1"
   }
  }
 },
 "nbformat": 4,
 "nbformat_minor": 2
}
