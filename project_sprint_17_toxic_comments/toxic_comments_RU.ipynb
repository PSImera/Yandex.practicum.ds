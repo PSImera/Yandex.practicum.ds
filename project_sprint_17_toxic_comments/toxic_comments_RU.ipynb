{
 "cells": [
  {
   "cell_type": "markdown",
   "metadata": {},
   "source": [
    "# Проект для «Викишоп» с BERT"
   ]
  },
  {
   "cell_type": "markdown",
   "metadata": {},
   "source": [
    "Интернет-магазин «Викишоп» запускает новый сервис. Теперь пользователи могут редактировать и дополнять описания товаров, как в вики-сообществах. То есть клиенты предлагают свои правки и комментируют изменения других. Магазину нужен инструмент, который будет искать токсичные комментарии и отправлять их на модерацию. \n",
    "\n",
    "Обучите модель классифицировать комментарии на позитивные и негативные. В вашем распоряжении набор данных с разметкой о токсичности правок.\n",
    "\n",
    "Постройте модель со значением метрики качества *F1* не меньше 0.75. \n",
    "\n",
    "**Инструкция по выполнению проекта**\n",
    "\n",
    "1. Загрузите и подготовьте данные.\n",
    "2. Обучите разные модели. \n",
    "3. Сделайте выводы.\n",
    "\n",
    "Для выполнения проекта применять *BERT* необязательно, но вы можете попробовать.\n",
    "\n",
    "**Описание данных**\n",
    "\n",
    "Данные находятся в файле `toxic_comments.csv`. Столбец *text* в нём содержит текст комментария, а *toxic* — целевой признак."
   ]
  },
  {
   "cell_type": "markdown",
   "metadata": {},
   "source": [
    "## Подготовка"
   ]
  },
  {
   "cell_type": "code",
   "execution_count": 2,
   "metadata": {},
   "outputs": [
    {
     "name": "stderr",
     "output_type": "stream",
     "text": [
      "[nltk_data] Downloading package punkt to\n",
      "[nltk_data]     C:\\Users\\PSImera\\AppData\\Roaming\\nltk_data...\n",
      "[nltk_data]   Package punkt is already up-to-date!\n",
      "[nltk_data] Downloading package wordnet to\n",
      "[nltk_data]     C:\\Users\\PSImera\\AppData\\Roaming\\nltk_data...\n",
      "[nltk_data]   Package wordnet is already up-to-date!\n",
      "[nltk_data] Downloading package stopwords to\n",
      "[nltk_data]     C:\\Users\\PSImera\\AppData\\Roaming\\nltk_data...\n",
      "[nltk_data]   Package stopwords is already up-to-date!\n"
     ]
    }
   ],
   "source": [
    "# отключим предупреждающие уведомления\n",
    "import warnings\n",
    "warnings.filterwarnings('ignore')\n",
    "\n",
    "# Добавим основные библиотеки\n",
    "import pandas as pd\n",
    "import numpy as np\n",
    "import os.path\n",
    "import re\n",
    "\n",
    "# добавим библиотеки для работы с текстами\n",
    "import nltk\n",
    "nltk.download('punkt')\n",
    "nltk.download('wordnet')\n",
    "nltk.download('stopwords')\n",
    "from sklearn.feature_extraction.text import TfidfVectorizer\n",
    "\n",
    "# библиотеки для работы с BERT \n",
    "import torch\n",
    "import transformers as ppb\n",
    "\n",
    "# Добавим библиотеки для отрисовки графиков\n",
    "import matplotlib.pyplot as plt\n",
    "plt.style.use('dark_background')\n",
    "\n",
    "# добавим необходимые библиотеки для построения моделей\n",
    "from imblearn.pipeline import Pipeline, make_pipeline\n",
    "from sklearn.model_selection import train_test_split, GridSearchCV\n",
    "from sklearn.linear_model import LogisticRegression\n",
    "from sklearn.svm import LinearSVC\n",
    "from sklearn.metrics import f1_score\n",
    "\n",
    "# Сделаем небольшие настройки pandas для комфортного отображения проекта\n",
    "pd.set_option('display.max_columns', None)\n",
    "pd.set_option('display.float_format', lambda x: '%.4f' % x)\n",
    "pd.options.mode.chained_assignment = None"
   ]
  },
  {
   "cell_type": "code",
   "execution_count": 3,
   "metadata": {},
   "outputs": [],
   "source": [
    "# Импортируем датасеты методом try/except и установим индексом столбец date\n",
    "try:\n",
    "    path_df = os.path.join('datasets/toxic_comments.csv') \n",
    "    df = pd.read_csv(path_df)\n",
    "except:\n",
    "    df = pd.read_csv('https://code.s3.yandex.net/datasets/toxic_comments.csv')"
   ]
  },
  {
   "cell_type": "code",
   "execution_count": 4,
   "metadata": {},
   "outputs": [
    {
     "name": "stdout",
     "output_type": "stream",
     "text": [
      "<class 'pandas.core.frame.DataFrame'>\n",
      "RangeIndex: 159292 entries, 0 to 159291\n",
      "Data columns (total 3 columns):\n",
      " #   Column      Non-Null Count   Dtype \n",
      "---  ------      --------------   ----- \n",
      " 0   Unnamed: 0  159292 non-null  int64 \n",
      " 1   text        159292 non-null  object\n",
      " 2   toxic       159292 non-null  int64 \n",
      "dtypes: int64(2), object(1)\n",
      "memory usage: 3.6+ MB\n"
     ]
    }
   ],
   "source": [
    "df.info()"
   ]
  },
  {
   "cell_type": "code",
   "execution_count": 5,
   "metadata": {},
   "outputs": [
    {
     "data": {
      "text/html": [
       "<div>\n",
       "<style scoped>\n",
       "    .dataframe tbody tr th:only-of-type {\n",
       "        vertical-align: middle;\n",
       "    }\n",
       "\n",
       "    .dataframe tbody tr th {\n",
       "        vertical-align: top;\n",
       "    }\n",
       "\n",
       "    .dataframe thead th {\n",
       "        text-align: right;\n",
       "    }\n",
       "</style>\n",
       "<table border=\"1\" class=\"dataframe\">\n",
       "  <thead>\n",
       "    <tr style=\"text-align: right;\">\n",
       "      <th></th>\n",
       "      <th>Unnamed: 0</th>\n",
       "      <th>text</th>\n",
       "      <th>toxic</th>\n",
       "    </tr>\n",
       "  </thead>\n",
       "  <tbody>\n",
       "    <tr>\n",
       "      <th>0</th>\n",
       "      <td>0</td>\n",
       "      <td>Explanation\\r\\nWhy the edits made under my use...</td>\n",
       "      <td>0</td>\n",
       "    </tr>\n",
       "    <tr>\n",
       "      <th>1</th>\n",
       "      <td>1</td>\n",
       "      <td>D'aww! He matches this background colour I'm s...</td>\n",
       "      <td>0</td>\n",
       "    </tr>\n",
       "    <tr>\n",
       "      <th>2</th>\n",
       "      <td>2</td>\n",
       "      <td>Hey man, I'm really not trying to edit war. It...</td>\n",
       "      <td>0</td>\n",
       "    </tr>\n",
       "    <tr>\n",
       "      <th>3</th>\n",
       "      <td>3</td>\n",
       "      <td>\"\\r\\nMore\\r\\nI can't make any real suggestions...</td>\n",
       "      <td>0</td>\n",
       "    </tr>\n",
       "    <tr>\n",
       "      <th>4</th>\n",
       "      <td>4</td>\n",
       "      <td>You, sir, are my hero. Any chance you remember...</td>\n",
       "      <td>0</td>\n",
       "    </tr>\n",
       "  </tbody>\n",
       "</table>\n",
       "</div>"
      ],
      "text/plain": [
       "   Unnamed: 0                                               text  toxic\n",
       "0           0  Explanation\\r\\nWhy the edits made under my use...      0\n",
       "1           1  D'aww! He matches this background colour I'm s...      0\n",
       "2           2  Hey man, I'm really not trying to edit war. It...      0\n",
       "3           3  \"\\r\\nMore\\r\\nI can't make any real suggestions...      0\n",
       "4           4  You, sir, are my hero. Any chance you remember...      0"
      ]
     },
     "metadata": {},
     "output_type": "display_data"
    },
    {
     "data": {
      "text/html": [
       "<div>\n",
       "<style scoped>\n",
       "    .dataframe tbody tr th:only-of-type {\n",
       "        vertical-align: middle;\n",
       "    }\n",
       "\n",
       "    .dataframe tbody tr th {\n",
       "        vertical-align: top;\n",
       "    }\n",
       "\n",
       "    .dataframe thead th {\n",
       "        text-align: right;\n",
       "    }\n",
       "</style>\n",
       "<table border=\"1\" class=\"dataframe\">\n",
       "  <thead>\n",
       "    <tr style=\"text-align: right;\">\n",
       "      <th></th>\n",
       "      <th>Unnamed: 0</th>\n",
       "      <th>text</th>\n",
       "      <th>toxic</th>\n",
       "    </tr>\n",
       "  </thead>\n",
       "  <tbody>\n",
       "    <tr>\n",
       "      <th>159287</th>\n",
       "      <td>159446</td>\n",
       "      <td>\":::::And for the second time of asking, when ...</td>\n",
       "      <td>0</td>\n",
       "    </tr>\n",
       "    <tr>\n",
       "      <th>159288</th>\n",
       "      <td>159447</td>\n",
       "      <td>You should be ashamed of yourself \\r\\n\\r\\nThat...</td>\n",
       "      <td>0</td>\n",
       "    </tr>\n",
       "    <tr>\n",
       "      <th>159289</th>\n",
       "      <td>159448</td>\n",
       "      <td>Spitzer \\r\\n\\r\\nUmm, theres no actual article ...</td>\n",
       "      <td>0</td>\n",
       "    </tr>\n",
       "    <tr>\n",
       "      <th>159290</th>\n",
       "      <td>159449</td>\n",
       "      <td>And it looks like it was actually you who put ...</td>\n",
       "      <td>0</td>\n",
       "    </tr>\n",
       "    <tr>\n",
       "      <th>159291</th>\n",
       "      <td>159450</td>\n",
       "      <td>\"\\r\\nAnd ... I really don't think you understa...</td>\n",
       "      <td>0</td>\n",
       "    </tr>\n",
       "  </tbody>\n",
       "</table>\n",
       "</div>"
      ],
      "text/plain": [
       "        Unnamed: 0                                               text  toxic\n",
       "159287      159446  \":::::And for the second time of asking, when ...      0\n",
       "159288      159447  You should be ashamed of yourself \\r\\n\\r\\nThat...      0\n",
       "159289      159448  Spitzer \\r\\n\\r\\nUmm, theres no actual article ...      0\n",
       "159290      159449  And it looks like it was actually you who put ...      0\n",
       "159291      159450  \"\\r\\nAnd ... I really don't think you understa...      0"
      ]
     },
     "metadata": {},
     "output_type": "display_data"
    }
   ],
   "source": [
    "display(df.head(5))\n",
    "display(df.tail(5))"
   ]
  },
  {
   "cell_type": "markdown",
   "metadata": {},
   "source": [
    "Столбец `Unnamed: 0` похож на столбец индексов, но последние его значения не совпадают с количеством значений датасета, а следовательно там содержатся пропуски. Эти старые индексы нам не понадобятся, удалим этот столбец"
   ]
  },
  {
   "cell_type": "code",
   "execution_count": 6,
   "metadata": {},
   "outputs": [],
   "source": [
    "df.drop(['Unnamed: 0'], axis=1, inplace=True)"
   ]
  },
  {
   "cell_type": "code",
   "execution_count": 7,
   "metadata": {},
   "outputs": [
    {
     "name": "stdout",
     "output_type": "stream",
     "text": [
      "В датасете 10.16% токсичный комментариев\n"
     ]
    }
   ],
   "source": [
    "toxic_percent = round(df['toxic'].mean()*100, 2) \n",
    "print(f'В датасете {toxic_percent}% токсичный комментариев')"
   ]
  },
  {
   "cell_type": "markdown",
   "metadata": {},
   "source": [
    "Дисбаланс классов весьма значительный. Разобивать датасет на выборки стоит с учётом этого дисбаланса"
   ]
  },
  {
   "cell_type": "code",
   "execution_count": 9,
   "metadata": {},
   "outputs": [
    {
     "name": "stdout",
     "output_type": "stream",
     "text": [
      "В тренировочной выборке 10.16% токсичный комментариев\n",
      "В тестовой выборке 10.16% токсичный комментариев\n"
     ]
    }
   ],
   "source": [
    "train, test = train_test_split(df, test_size=0.2, random_state=1337, stratify=df['toxic'])\n",
    "\n",
    "# проверяем разбивку с учётом дисбаланса\n",
    "train_toxic_percent = round(train['toxic'].mean()*100, 2)\n",
    "test_toxic_percent = round(test['toxic'].mean()*100, 2) \n",
    "print(f'В тренировочной выборке {train_toxic_percent}% токсичный комментариев')\n",
    "print(f'В тестовой выборке {test_toxic_percent}% токсичный комментариев')"
   ]
  },
  {
   "cell_type": "markdown",
   "metadata": {},
   "source": [
    "Выделим целевой признак"
   ]
  },
  {
   "cell_type": "code",
   "execution_count": 17,
   "metadata": {},
   "outputs": [],
   "source": [
    "def X_y_split(df, y):\n",
    "    X = df.drop([y], axis=1)\n",
    "    y = df[y]\n",
    "    return X, y\n",
    "\n",
    "X_train, y_train, = X_y_split(train, 'toxic')\n",
    "X_test, y_test = X_y_split(test, 'toxic')"
   ]
  },
  {
   "cell_type": "markdown",
   "metadata": {},
   "source": [
    "### Лемматизация"
   ]
  },
  {
   "cell_type": "code",
   "execution_count": 18,
   "metadata": {},
   "outputs": [],
   "source": [
    "lemmatizer = nltk.stem.WordNetLemmatizer()\n",
    "def lemmatization(text):\n",
    "    tokenized = nltk.tokenize.word_tokenize(text)\n",
    "    lemmatized = ' '.join([lemmatizer.lemmatize(x) for x in tokenized])\n",
    "    result = ' '.join(re.sub(r'[^a-z]', ' ',lemmatized.lower()).split())\n",
    "    return result\n",
    "\n",
    "X_train['lemmatized'] = X_train['text'].apply(lemmatization)\n",
    "X_test['lemmatized'] = X_test['text'].apply(lemmatization)"
   ]
  },
  {
   "cell_type": "markdown",
   "metadata": {},
   "source": [
    "### Векторизация"
   ]
  },
  {
   "cell_type": "code",
   "execution_count": 19,
   "metadata": {},
   "outputs": [],
   "source": [
    "# stop_words = set(nltk.corpus.stopwords.words('english'))\n",
    "stop_words = nltk.corpus.stopwords.words('english')\n",
    "\n",
    "tfidf_vectorizer = TfidfVectorizer(stop_words=stop_words, ngram_range=(1,2))\n",
    "\n",
    "X_vec_train = tfidf_vectorizer.fit_transform(X_train['lemmatized'])\n",
    "X_vec_test = tfidf_vectorizer.transform(X_test['lemmatized'])"
   ]
  },
  {
   "cell_type": "markdown",
   "metadata": {},
   "source": [
    "### Подготовим данные для BERT модели\""
   ]
  },
  {
   "cell_type": "code",
   "execution_count": 20,
   "metadata": {},
   "outputs": [
    {
     "data": {
      "application/vnd.jupyter.widget-view+json": {
       "model_id": "4a90f1c9deba475eacee3f336ce573ea",
       "version_major": 2,
       "version_minor": 0
      },
      "text/plain": [
       "tokenizer_config.json:   0%|          | 0.00/174 [00:00<?, ?B/s]"
      ]
     },
     "metadata": {},
     "output_type": "display_data"
    },
    {
     "data": {
      "application/vnd.jupyter.widget-view+json": {
       "model_id": "e780ffa42e6f4bf39dfb8357f83b94bb",
       "version_major": 2,
       "version_minor": 0
      },
      "text/plain": [
       "config.json:   0%|          | 0.00/811 [00:00<?, ?B/s]"
      ]
     },
     "metadata": {},
     "output_type": "display_data"
    },
    {
     "data": {
      "application/vnd.jupyter.widget-view+json": {
       "model_id": "c17d83baeb374c838569a7de8636e7f7",
       "version_major": 2,
       "version_minor": 0
      },
      "text/plain": [
       "vocab.txt:   0%|          | 0.00/232k [00:00<?, ?B/s]"
      ]
     },
     "metadata": {},
     "output_type": "display_data"
    },
    {
     "data": {
      "application/vnd.jupyter.widget-view+json": {
       "model_id": "f83963bb2cc0436987bc609d3a03efd4",
       "version_major": 2,
       "version_minor": 0
      },
      "text/plain": [
       "special_tokens_map.json:   0%|          | 0.00/112 [00:00<?, ?B/s]"
      ]
     },
     "metadata": {},
     "output_type": "display_data"
    },
    {
     "data": {
      "application/vnd.jupyter.widget-view+json": {
       "model_id": "dcca600bb2114484b4b73e5b68ce298e",
       "version_major": 2,
       "version_minor": 0
      },
      "text/plain": [
       "model.safetensors:   0%|          | 0.00/438M [00:00<?, ?B/s]"
      ]
     },
     "metadata": {},
     "output_type": "display_data"
    }
   ],
   "source": [
    "# загрузка предобученной модели и токенизатора\n",
    "tokenizer = ppb.AutoTokenizer.from_pretrained('unitary/toxic-bert')\n",
    "bert_model = ppb.AutoModelForSequenceClassification.from_pretrained('unitary/toxic-bert')\n",
    "\n",
    "# токенезируем тексты\n",
    "tokenized = df['text'].apply(lambda x: tokenizer.encode(x, add_special_tokens=True, padding=True, truncation=True, max_length=512))\n",
    "\n",
    "# определим максимальную длинну вектора после токенизации\n",
    "max_len = max([len(v) for v in tokenized.values])\n",
    "\n",
    "# увеличим вектора до длинны вмаксимального\n",
    "padded = np.array([i + [0]*(max_len - len(i)) for i in tokenized.values])\n",
    "\n",
    "# создадим маску важных токенов\n",
    "attention_mask = np.where(padded != 0, 1, 0)"
   ]
  },
  {
   "cell_type": "code",
   "execution_count": 21,
   "metadata": {},
   "outputs": [],
   "source": [
    "# создадим девайс для расчетов с помощью CUDA если такая возможность есть\n",
    "device = torch.device('cuda' if torch.cuda.is_available() else 'cpu')\n",
    "bert_model.to(device)\n",
    "\n",
    "# в качестве размера батча возьмём максимальный кратный делитель датасета, но не более заданного параметра\n",
    "max_batch_size = 100\n",
    "batch_size = max([r for r in [x for x in range(1, df.shape[0]+1) if df.shape[0] % x == 0] if r <= max_batch_size])\n",
    "\n",
    "embeddings = []\n",
    "for i in range(padded.shape[0] // batch_size):\n",
    "        batch = torch.tensor(padded[batch_size*i:batch_size*(i+1)]).to(device) \n",
    "        mask = torch.tensor(attention_mask[batch_size*i:batch_size*(i+1)]).to(device) \n",
    "        \n",
    "        with torch.no_grad():\n",
    "            bert_model.eval()\n",
    "            batch_embeddings = bert_model(batch, attention_mask=mask)\n",
    "        \n",
    "        embeddings.append(batch_embeddings[0].detach().cpu().numpy())\n",
    "\n",
    "X_bert = np.concatenate(embeddings)"
   ]
  },
  {
   "cell_type": "markdown",
   "metadata": {},
   "source": [
    "Создадим выборки для обучения моделей после эмбеддинга BERT"
   ]
  },
  {
   "cell_type": "code",
   "execution_count": 22,
   "metadata": {},
   "outputs": [],
   "source": [
    "X_bert_train, X_bert_test = train_test_split(X_bert, test_size=0.2, random_state=1337, stratify=df['toxic'])"
   ]
  },
  {
   "cell_type": "markdown",
   "metadata": {},
   "source": [
    "## Обучение"
   ]
  },
  {
   "cell_type": "code",
   "execution_count": 23,
   "metadata": {},
   "outputs": [],
   "source": [
    "results = pd.DataFrame(columns=['Модель', 'F1 Метрика'])"
   ]
  },
  {
   "cell_type": "markdown",
   "metadata": {},
   "source": [
    "### LogisticRegression"
   ]
  },
  {
   "cell_type": "markdown",
   "metadata": {},
   "source": [
    "Используем кроссвалидацию для поиска параметров с помощью `GridSearchCV`"
   ]
  },
  {
   "cell_type": "code",
   "execution_count": 24,
   "metadata": {},
   "outputs": [
    {
     "name": "stdout",
     "output_type": "stream",
     "text": [
      "Fitting 5 folds for each of 9 candidates, totalling 45 fits\n",
      "[CV 1/5; 1/9] START clf__C=0.1..................................................\n",
      "[CV 1/5; 1/9] END ...................clf__C=0.1;, score=0.686 total time=  24.0s\n",
      "[CV 2/5; 1/9] START clf__C=0.1..................................................\n",
      "[CV 2/5; 1/9] END ...................clf__C=0.1;, score=0.689 total time=  22.4s\n",
      "[CV 3/5; 1/9] START clf__C=0.1..................................................\n",
      "[CV 3/5; 1/9] END ...................clf__C=0.1;, score=0.678 total time=  21.8s\n",
      "[CV 4/5; 1/9] START clf__C=0.1..................................................\n",
      "[CV 4/5; 1/9] END ...................clf__C=0.1;, score=0.687 total time=  21.4s\n",
      "[CV 5/5; 1/9] START clf__C=0.1..................................................\n",
      "[CV 5/5; 1/9] END ...................clf__C=0.1;, score=0.682 total time=  21.4s\n",
      "[CV 1/5; 2/9] START clf__C=0.2..................................................\n",
      "[CV 1/5; 2/9] END ...................clf__C=0.2;, score=0.704 total time=  21.7s\n",
      "[CV 2/5; 2/9] START clf__C=0.2..................................................\n",
      "[CV 2/5; 2/9] END ...................clf__C=0.2;, score=0.702 total time=  22.3s\n",
      "[CV 3/5; 2/9] START clf__C=0.2..................................................\n",
      "[CV 3/5; 2/9] END ...................clf__C=0.2;, score=0.695 total time=  22.2s\n",
      "[CV 4/5; 2/9] START clf__C=0.2..................................................\n",
      "[CV 4/5; 2/9] END ...................clf__C=0.2;, score=0.703 total time=  22.1s\n",
      "[CV 5/5; 2/9] START clf__C=0.2..................................................\n",
      "[CV 5/5; 2/9] END ...................clf__C=0.2;, score=0.697 total time=  22.3s\n",
      "[CV 1/5; 3/9] START clf__C=0.4..................................................\n",
      "[CV 1/5; 3/9] END ...................clf__C=0.4;, score=0.728 total time=  22.6s\n",
      "[CV 2/5; 3/9] START clf__C=0.4..................................................\n",
      "[CV 2/5; 3/9] END ...................clf__C=0.4;, score=0.721 total time=  22.1s\n",
      "[CV 3/5; 3/9] START clf__C=0.4..................................................\n",
      "[CV 3/5; 3/9] END ...................clf__C=0.4;, score=0.710 total time=  22.3s\n",
      "[CV 4/5; 3/9] START clf__C=0.4..................................................\n",
      "[CV 4/5; 3/9] END ...................clf__C=0.4;, score=0.718 total time=  28.2s\n",
      "[CV 5/5; 3/9] START clf__C=0.4..................................................\n",
      "[CV 5/5; 3/9] END ...................clf__C=0.4;, score=0.711 total time=  22.3s\n",
      "[CV 1/5; 4/9] START clf__C=0.6..................................................\n",
      "[CV 1/5; 4/9] END ...................clf__C=0.6;, score=0.734 total time=  22.6s\n",
      "[CV 2/5; 4/9] START clf__C=0.6..................................................\n",
      "[CV 2/5; 4/9] END ...................clf__C=0.6;, score=0.731 total time=  22.8s\n",
      "[CV 3/5; 4/9] START clf__C=0.6..................................................\n",
      "[CV 3/5; 4/9] END ...................clf__C=0.6;, score=0.721 total time=  21.8s\n",
      "[CV 4/5; 4/9] START clf__C=0.6..................................................\n",
      "[CV 4/5; 4/9] END ...................clf__C=0.6;, score=0.725 total time=  22.0s\n",
      "[CV 5/5; 4/9] START clf__C=0.6..................................................\n",
      "[CV 5/5; 4/9] END ...................clf__C=0.6;, score=0.720 total time=  22.7s\n",
      "[CV 1/5; 5/9] START clf__C=0.8..................................................\n",
      "[CV 1/5; 5/9] END ...................clf__C=0.8;, score=0.744 total time=  25.6s\n",
      "[CV 2/5; 5/9] START clf__C=0.8..................................................\n",
      "[CV 2/5; 5/9] END ...................clf__C=0.8;, score=0.739 total time=  22.0s\n",
      "[CV 3/5; 5/9] START clf__C=0.8..................................................\n",
      "[CV 3/5; 5/9] END ...................clf__C=0.8;, score=0.724 total time=  21.5s\n",
      "[CV 4/5; 5/9] START clf__C=0.8..................................................\n",
      "[CV 4/5; 5/9] END ...................clf__C=0.8;, score=0.735 total time=  30.4s\n",
      "[CV 5/5; 5/9] START clf__C=0.8..................................................\n",
      "[CV 5/5; 5/9] END ...................clf__C=0.8;, score=0.728 total time=  22.4s\n",
      "[CV 1/5; 6/9] START clf__C=1.0..................................................\n",
      "[CV 1/5; 6/9] END ...................clf__C=1.0;, score=0.749 total time=  23.8s\n",
      "[CV 2/5; 6/9] START clf__C=1.0..................................................\n",
      "[CV 2/5; 6/9] END ...................clf__C=1.0;, score=0.747 total time=  22.6s\n",
      "[CV 3/5; 6/9] START clf__C=1.0..................................................\n",
      "[CV 3/5; 6/9] END ...................clf__C=1.0;, score=0.732 total time=  25.5s\n",
      "[CV 4/5; 6/9] START clf__C=1.0..................................................\n",
      "[CV 4/5; 6/9] END ...................clf__C=1.0;, score=0.739 total time=  24.7s\n",
      "[CV 5/5; 6/9] START clf__C=1.0..................................................\n",
      "[CV 5/5; 6/9] END ...................clf__C=1.0;, score=0.733 total time=  22.5s\n",
      "[CV 1/5; 7/9] START clf__C=2.0..................................................\n",
      "[CV 1/5; 7/9] END ...................clf__C=2.0;, score=0.771 total time=  27.6s\n",
      "[CV 2/5; 7/9] START clf__C=2.0..................................................\n",
      "[CV 2/5; 7/9] END ...................clf__C=2.0;, score=0.762 total time=  26.0s\n",
      "[CV 3/5; 7/9] START clf__C=2.0..................................................\n",
      "[CV 3/5; 7/9] END ...................clf__C=2.0;, score=0.742 total time=  25.7s\n",
      "[CV 4/5; 7/9] START clf__C=2.0..................................................\n",
      "[CV 4/5; 7/9] END ...................clf__C=2.0;, score=0.751 total time=  26.6s\n",
      "[CV 5/5; 7/9] START clf__C=2.0..................................................\n",
      "[CV 5/5; 7/9] END ...................clf__C=2.0;, score=0.755 total time=  26.5s\n",
      "[CV 1/5; 8/9] START clf__C=4.0..................................................\n",
      "[CV 1/5; 8/9] END ...................clf__C=4.0;, score=0.776 total time=  31.0s\n",
      "[CV 2/5; 8/9] START clf__C=4.0..................................................\n",
      "[CV 2/5; 8/9] END ...................clf__C=4.0;, score=0.768 total time=  26.5s\n",
      "[CV 3/5; 8/9] START clf__C=4.0..................................................\n",
      "[CV 3/5; 8/9] END ...................clf__C=4.0;, score=0.750 total time=  25.4s\n",
      "[CV 4/5; 8/9] START clf__C=4.0..................................................\n",
      "[CV 4/5; 8/9] END ...................clf__C=4.0;, score=0.759 total time=  29.3s\n",
      "[CV 5/5; 8/9] START clf__C=4.0..................................................\n",
      "[CV 5/5; 8/9] END ...................clf__C=4.0;, score=0.762 total time=  25.9s\n",
      "[CV 1/5; 9/9] START clf__C=9.0..................................................\n",
      "[CV 1/5; 9/9] END ...................clf__C=9.0;, score=0.785 total time=  26.7s\n",
      "[CV 2/5; 9/9] START clf__C=9.0..................................................\n",
      "[CV 2/5; 9/9] END ...................clf__C=9.0;, score=0.782 total time=  29.2s\n",
      "[CV 3/5; 9/9] START clf__C=9.0..................................................\n",
      "[CV 3/5; 9/9] END ...................clf__C=9.0;, score=0.767 total time=  34.3s\n",
      "[CV 4/5; 9/9] START clf__C=9.0..................................................\n",
      "[CV 4/5; 9/9] END ...................clf__C=9.0;, score=0.770 total time=  25.9s\n",
      "[CV 5/5; 9/9] START clf__C=9.0..................................................\n",
      "[CV 5/5; 9/9] END ...................clf__C=9.0;, score=0.770 total time=  29.8s\n",
      "LogisticRegression\n",
      "Наилучший показатель f1 на кросс-валидации : 0.7747\n",
      "при параметрах: {'clf__C': 9.0}\n"
     ]
    }
   ],
   "source": [
    "lr_parameters = {'clf__C': [0.1, 0.2, 0.4, 0.6, 0.8, 1.0, 2.0, 4.0, 9.0]}\n",
    "\n",
    "lr_pipe = Pipeline([('vect', TfidfVectorizer(stop_words=stop_words, ngram_range=(1,2))),\n",
    "                    ('clf', LogisticRegression(random_state=1337, class_weight='balanced', max_iter=1000))])\n",
    "\n",
    "lr_grsch = GridSearchCV(lr_pipe,\n",
    "                        lr_parameters,\n",
    "                        cv=5,\n",
    "                        scoring='f1',\n",
    "                        verbose=10\n",
    "                        )\n",
    "\n",
    "lr_grsch.fit(X_train['lemmatized'], y_train)\n",
    "\n",
    "results.loc[0] = ['LogisticRegression CV', lr_grsch.best_score_]\n",
    "print('LogisticRegression')\n",
    "print(f'Наилучший показатель f1 на кросс-валидации : {round(lr_grsch.best_score_, 4)}')\n",
    "print(f'при параметрах: {lr_grsch.best_params_}')"
   ]
  },
  {
   "cell_type": "code",
   "execution_count": 25,
   "metadata": {},
   "outputs": [
    {
     "name": "stdout",
     "output_type": "stream",
     "text": [
      "Fitting 5 folds for each of 9 candidates, totalling 45 fits\n",
      "LogisticRegression BERT\n",
      "Наилучший показатель f1 на кросс-валидации : 0.908\n",
      "при параметрах: {'C': 9.0}\n"
     ]
    }
   ],
   "source": [
    "lr_bert_parameters = {'C': [0.1, 0.2, 0.4, 0.6, 0.8, 1.0, 2.0, 4.0, 9.0]}\n",
    "\n",
    "lr_bert_model = LogisticRegression(max_iter=1000, random_state=1337, class_weight='balanced')\n",
    "lr_bert_grsch = GridSearchCV(lr_bert_model,\n",
    "                             lr_bert_parameters,\n",
    "                             cv=5,\n",
    "                             scoring='f1',\n",
    "                             n_jobs=-1,\n",
    "                             verbose=10\n",
    "                             )\n",
    "\n",
    "lr_bert_grsch.fit(X_bert_train, y_train)\n",
    "\n",
    "results.loc[1] = ['LogisticRegression BERT CV', lr_bert_grsch.best_score_]\n",
    "print('LogisticRegression BERT')\n",
    "print(f'Наилучший показатель f1 на кросс-валидации : {round(lr_bert_grsch.best_score_, 4)}')\n",
    "print(f'при параметрах: {lr_bert_grsch.best_params_}')"
   ]
  },
  {
   "cell_type": "markdown",
   "metadata": {},
   "source": [
    "### LinearSVC"
   ]
  },
  {
   "cell_type": "code",
   "execution_count": 26,
   "metadata": {},
   "outputs": [
    {
     "name": "stdout",
     "output_type": "stream",
     "text": [
      "Fitting 5 folds for each of 10 candidates, totalling 50 fits\n",
      "[CV 1/5; 1/10] START clf__C=0.1.................................................\n",
      "[CV 1/5; 1/10] END ..................clf__C=0.1;, score=0.762 total time=  20.2s\n",
      "[CV 2/5; 1/10] START clf__C=0.1.................................................\n",
      "[CV 2/5; 1/10] END ..................clf__C=0.1;, score=0.751 total time=  19.8s\n",
      "[CV 3/5; 1/10] START clf__C=0.1.................................................\n",
      "[CV 3/5; 1/10] END ..................clf__C=0.1;, score=0.740 total time=  19.8s\n",
      "[CV 4/5; 1/10] START clf__C=0.1.................................................\n",
      "[CV 4/5; 1/10] END ..................clf__C=0.1;, score=0.744 total time=  19.8s\n",
      "[CV 5/5; 1/10] START clf__C=0.1.................................................\n",
      "[CV 5/5; 1/10] END ..................clf__C=0.1;, score=0.746 total time=  21.1s\n",
      "[CV 1/5; 2/10] START clf__C=0.2.................................................\n",
      "[CV 1/5; 2/10] END ..................clf__C=0.2;, score=0.780 total time=  21.6s\n",
      "[CV 2/5; 2/10] START clf__C=0.2.................................................\n",
      "[CV 2/5; 2/10] END ..................clf__C=0.2;, score=0.772 total time=  21.1s\n",
      "[CV 3/5; 2/10] START clf__C=0.2.................................................\n",
      "[CV 3/5; 2/10] END ..................clf__C=0.2;, score=0.758 total time=  22.3s\n",
      "[CV 4/5; 2/10] START clf__C=0.2.................................................\n",
      "[CV 4/5; 2/10] END ..................clf__C=0.2;, score=0.764 total time=  20.3s\n",
      "[CV 5/5; 2/10] START clf__C=0.2.................................................\n",
      "[CV 5/5; 2/10] END ..................clf__C=0.2;, score=0.764 total time=  20.5s\n",
      "[CV 1/5; 3/10] START clf__C=0.30000000000000004.................................\n",
      "[CV 1/5; 3/10] END ..clf__C=0.30000000000000004;, score=0.787 total time=  21.8s\n",
      "[CV 2/5; 3/10] START clf__C=0.30000000000000004.................................\n",
      "[CV 2/5; 3/10] END ..clf__C=0.30000000000000004;, score=0.780 total time=  20.6s\n",
      "[CV 3/5; 3/10] START clf__C=0.30000000000000004.................................\n",
      "[CV 3/5; 3/10] END ..clf__C=0.30000000000000004;, score=0.768 total time=  21.0s\n",
      "[CV 4/5; 3/10] START clf__C=0.30000000000000004.................................\n",
      "[CV 4/5; 3/10] END ..clf__C=0.30000000000000004;, score=0.773 total time=  20.9s\n",
      "[CV 5/5; 3/10] START clf__C=0.30000000000000004.................................\n",
      "[CV 5/5; 3/10] END ..clf__C=0.30000000000000004;, score=0.771 total time=  21.2s\n",
      "[CV 1/5; 4/10] START clf__C=0.4.................................................\n",
      "[CV 1/5; 4/10] END ..................clf__C=0.4;, score=0.791 total time=  21.6s\n",
      "[CV 2/5; 4/10] START clf__C=0.4.................................................\n",
      "[CV 2/5; 4/10] END ..................clf__C=0.4;, score=0.784 total time=  21.1s\n",
      "[CV 3/5; 4/10] START clf__C=0.4.................................................\n",
      "[CV 3/5; 4/10] END ..................clf__C=0.4;, score=0.774 total time=  21.9s\n",
      "[CV 4/5; 4/10] START clf__C=0.4.................................................\n",
      "[CV 4/5; 4/10] END ..................clf__C=0.4;, score=0.779 total time=  21.3s\n",
      "[CV 5/5; 4/10] START clf__C=0.4.................................................\n",
      "[CV 5/5; 4/10] END ..................clf__C=0.4;, score=0.776 total time=  21.4s\n",
      "[CV 1/5; 5/10] START clf__C=0.5.................................................\n",
      "[CV 1/5; 5/10] END ..................clf__C=0.5;, score=0.793 total time=  21.8s\n",
      "[CV 2/5; 5/10] START clf__C=0.5.................................................\n",
      "[CV 2/5; 5/10] END ..................clf__C=0.5;, score=0.786 total time=  20.8s\n",
      "[CV 3/5; 5/10] START clf__C=0.5.................................................\n",
      "[CV 3/5; 5/10] END ..................clf__C=0.5;, score=0.776 total time=  20.8s\n",
      "[CV 4/5; 5/10] START clf__C=0.5.................................................\n",
      "[CV 4/5; 5/10] END ..................clf__C=0.5;, score=0.780 total time=  20.5s\n",
      "[CV 5/5; 5/10] START clf__C=0.5.................................................\n",
      "[CV 5/5; 5/10] END ..................clf__C=0.5;, score=0.779 total time=  21.0s\n",
      "[CV 1/5; 6/10] START clf__C=0.6.................................................\n",
      "[CV 1/5; 6/10] END ..................clf__C=0.6;, score=0.794 total time=  21.9s\n",
      "[CV 2/5; 6/10] START clf__C=0.6.................................................\n",
      "[CV 2/5; 6/10] END ..................clf__C=0.6;, score=0.787 total time=  22.7s\n",
      "[CV 3/5; 6/10] START clf__C=0.6.................................................\n",
      "[CV 3/5; 6/10] END ..................clf__C=0.6;, score=0.777 total time=  21.8s\n",
      "[CV 4/5; 6/10] START clf__C=0.6.................................................\n",
      "[CV 4/5; 6/10] END ..................clf__C=0.6;, score=0.781 total time=  21.7s\n",
      "[CV 5/5; 6/10] START clf__C=0.6.................................................\n",
      "[CV 5/5; 6/10] END ..................clf__C=0.6;, score=0.782 total time=  21.7s\n",
      "[CV 1/5; 7/10] START clf__C=0.7000000000000001..................................\n",
      "[CV 1/5; 7/10] END ...clf__C=0.7000000000000001;, score=0.794 total time=  22.9s\n",
      "[CV 2/5; 7/10] START clf__C=0.7000000000000001..................................\n",
      "[CV 2/5; 7/10] END ...clf__C=0.7000000000000001;, score=0.788 total time=  22.2s\n",
      "[CV 3/5; 7/10] START clf__C=0.7000000000000001..................................\n",
      "[CV 3/5; 7/10] END ...clf__C=0.7000000000000001;, score=0.779 total time=  21.8s\n",
      "[CV 4/5; 7/10] START clf__C=0.7000000000000001..................................\n",
      "[CV 4/5; 7/10] END ...clf__C=0.7000000000000001;, score=0.784 total time=  21.7s\n",
      "[CV 5/5; 7/10] START clf__C=0.7000000000000001..................................\n",
      "[CV 5/5; 7/10] END ...clf__C=0.7000000000000001;, score=0.784 total time=  23.2s\n",
      "[CV 1/5; 8/10] START clf__C=0.8.................................................\n",
      "[CV 1/5; 8/10] END ..................clf__C=0.8;, score=0.794 total time=  23.3s\n",
      "[CV 2/5; 8/10] START clf__C=0.8.................................................\n",
      "[CV 2/5; 8/10] END ..................clf__C=0.8;, score=0.786 total time=  23.3s\n",
      "[CV 3/5; 8/10] START clf__C=0.8.................................................\n",
      "[CV 3/5; 8/10] END ..................clf__C=0.8;, score=0.780 total time=  23.7s\n",
      "[CV 4/5; 8/10] START clf__C=0.8.................................................\n",
      "[CV 4/5; 8/10] END ..................clf__C=0.8;, score=0.785 total time=  22.7s\n",
      "[CV 5/5; 8/10] START clf__C=0.8.................................................\n",
      "[CV 5/5; 8/10] END ..................clf__C=0.8;, score=0.785 total time=  22.9s\n",
      "[CV 1/5; 9/10] START clf__C=0.9.................................................\n",
      "[CV 1/5; 9/10] END ..................clf__C=0.9;, score=0.792 total time=  23.2s\n",
      "[CV 2/5; 9/10] START clf__C=0.9.................................................\n",
      "[CV 2/5; 9/10] END ..................clf__C=0.9;, score=0.789 total time=  23.4s\n",
      "[CV 3/5; 9/10] START clf__C=0.9.................................................\n",
      "[CV 3/5; 9/10] END ..................clf__C=0.9;, score=0.780 total time=  22.9s\n",
      "[CV 4/5; 9/10] START clf__C=0.9.................................................\n",
      "[CV 4/5; 9/10] END ..................clf__C=0.9;, score=0.787 total time=  22.4s\n",
      "[CV 5/5; 9/10] START clf__C=0.9.................................................\n",
      "[CV 5/5; 9/10] END ..................clf__C=0.9;, score=0.785 total time=  22.6s\n",
      "[CV 1/5; 10/10] START clf__C=1.0................................................\n",
      "[CV 1/5; 10/10] END .................clf__C=1.0;, score=0.793 total time=  23.5s\n",
      "[CV 2/5; 10/10] START clf__C=1.0................................................\n",
      "[CV 2/5; 10/10] END .................clf__C=1.0;, score=0.790 total time=  23.3s\n",
      "[CV 3/5; 10/10] START clf__C=1.0................................................\n",
      "[CV 3/5; 10/10] END .................clf__C=1.0;, score=0.780 total time=  23.3s\n",
      "[CV 4/5; 10/10] START clf__C=1.0................................................\n",
      "[CV 4/5; 10/10] END .................clf__C=1.0;, score=0.789 total time=  23.1s\n",
      "[CV 5/5; 10/10] START clf__C=1.0................................................\n",
      "[CV 5/5; 10/10] END .................clf__C=1.0;, score=0.785 total time=  23.1s\n",
      "LinearSVC\n",
      "Наилучший показатель f1 на кросс-валидации : 0.7874\n",
      "при параметрах: {'clf__C': 1.0}\n"
     ]
    }
   ],
   "source": [
    "svc_parameters = {'clf__C': np.linspace(0.1, 1, num=10, endpoint=True)}\n",
    "\n",
    "svc_pipe = Pipeline([('vect', TfidfVectorizer(stop_words=stop_words, ngram_range=(1,2))),\n",
    "                    ('clf', LinearSVC(random_state=1337, class_weight='balanced'))])\n",
    "\n",
    "svc_model = LinearSVC(random_state=1337, class_weight='balanced')\n",
    "svc_grsch = GridSearchCV(svc_pipe,\n",
    "                         svc_parameters,\n",
    "                         cv=5,\n",
    "                         scoring='f1',\n",
    "                         verbose=10\n",
    "                         )\n",
    "\n",
    "svc_grsch.fit(X_train['lemmatized'], y_train)\n",
    "\n",
    "results.loc[2] = ['LinearSVC CV', svc_grsch.best_score_]\n",
    "print('LinearSVC')\n",
    "print(f'Наилучший показатель f1 на кросс-валидации : {round(svc_grsch.best_score_, 4)}')\n",
    "print(f'при параметрах: {svc_grsch.best_params_}')"
   ]
  },
  {
   "cell_type": "code",
   "execution_count": 27,
   "metadata": {},
   "outputs": [
    {
     "name": "stdout",
     "output_type": "stream",
     "text": [
      "Fitting 5 folds for each of 10 candidates, totalling 50 fits\n",
      "[CV 1/5] END .............................C=0.1;, score=0.910 total time=   1.8s\n",
      "[CV 2/5] END .............................C=0.1;, score=0.902 total time=   1.9s\n",
      "[CV 3/5] END .............................C=0.1;, score=0.904 total time=   1.9s\n",
      "[CV 4/5] END .............................C=0.1;, score=0.907 total time=   1.9s\n",
      "[CV 5/5] END .............................C=0.1;, score=0.908 total time=   1.9s\n",
      "[CV 1/5] END .............................C=0.2;, score=0.911 total time=   2.0s\n",
      "[CV 2/5] END .............................C=0.2;, score=0.904 total time=   2.1s\n",
      "[CV 3/5] END .............................C=0.2;, score=0.905 total time=   2.2s\n",
      "[CV 4/5] END .............................C=0.2;, score=0.908 total time=   2.2s\n",
      "[CV 5/5] END .............................C=0.2;, score=0.908 total time=   2.3s\n",
      "[CV 1/5] END .............C=0.30000000000000004;, score=0.916 total time=   2.8s\n",
      "[CV 2/5] END .............C=0.30000000000000004;, score=0.906 total time=   2.7s\n",
      "[CV 3/5] END .............C=0.30000000000000004;, score=0.909 total time=   2.6s\n",
      "[CV 4/5] END .............C=0.30000000000000004;, score=0.912 total time=   2.7s\n",
      "[CV 5/5] END .............C=0.30000000000000004;, score=0.910 total time=   2.6s\n",
      "[CV 1/5] END .............................C=0.4;, score=0.902 total time=   2.5s\n",
      "[CV 2/5] END .............................C=0.4;, score=0.908 total time=   2.4s\n",
      "[CV 3/5] END .............................C=0.4;, score=0.910 total time=   2.6s\n",
      "[CV 4/5] END .............................C=0.4;, score=0.914 total time=   2.5s\n",
      "[CV 5/5] END .............................C=0.4;, score=0.914 total time=   2.7s\n",
      "[CV 1/5] END .............................C=0.5;, score=0.921 total time=   2.6s\n",
      "[CV 2/5] END .............................C=0.5;, score=0.880 total time=   2.8s\n",
      "[CV 3/5] END .............................C=0.5;, score=0.910 total time=   2.6s\n",
      "[CV 4/5] END .............................C=0.5;, score=0.921 total time=   2.6s\n",
      "[CV 5/5] END .............................C=0.5;, score=0.915 total time=   3.1s\n",
      "[CV 1/5] END .............................C=0.6;, score=0.919 total time=   2.8s\n",
      "[CV 2/5] END .............................C=0.6;, score=0.867 total time=   2.7s\n",
      "[CV 3/5] END .............................C=0.6;, score=0.915 total time=   2.8s\n",
      "[CV 4/5] END .............................C=0.6;, score=0.921 total time=   2.8s\n",
      "[CV 5/5] END .............................C=0.6;, score=0.914 total time=   2.9s\n",
      "[CV 1/5] END ..............C=0.7000000000000001;, score=0.923 total time=   2.7s\n",
      "[CV 2/5] END ..............C=0.7000000000000001;, score=0.918 total time=   2.8s\n",
      "[CV 3/5] END ..............C=0.7000000000000001;, score=0.916 total time=   2.6s\n",
      "[CV 4/5] END ..............C=0.7000000000000001;, score=0.920 total time=   3.0s\n",
      "[CV 5/5] END ..............C=0.7000000000000001;, score=0.922 total time=   2.8s\n",
      "[CV 1/5] END .............................C=0.8;, score=0.931 total time=   3.1s\n",
      "[CV 2/5] END .............................C=0.8;, score=0.916 total time=   2.7s\n",
      "[CV 3/5] END .............................C=0.8;, score=0.920 total time=   2.9s\n",
      "[CV 4/5] END .............................C=0.8;, score=0.922 total time=   3.1s\n",
      "[CV 5/5] END .............................C=0.8;, score=0.923 total time=   3.0s\n",
      "[CV 1/5] END .............................C=0.9;, score=0.927 total time=   3.1s\n",
      "[CV 2/5] END .............................C=0.9;, score=0.926 total time=   3.0s\n",
      "[CV 3/5] END .............................C=0.9;, score=0.925 total time=   3.3s\n",
      "[CV 4/5] END .............................C=0.9;, score=0.926 total time=   2.9s\n",
      "[CV 5/5] END .............................C=0.9;, score=0.930 total time=   2.9s\n",
      "[CV 1/5] END .............................C=1.0;, score=0.928 total time=   3.0s\n",
      "[CV 2/5] END .............................C=1.0;, score=0.918 total time=   2.9s\n",
      "[CV 3/5] END .............................C=1.0;, score=0.922 total time=   3.1s\n",
      "[CV 4/5] END .............................C=1.0;, score=0.925 total time=   3.2s\n",
      "[CV 5/5] END .............................C=1.0;, score=0.925 total time=   3.3s\n",
      "LinearSVC BERT\n",
      "Наилучший показатель f1 на кросс-валидации : 0.927\n",
      "при параметрах: {'C': 0.9}\n"
     ]
    }
   ],
   "source": [
    "svc_bert_parameters = {'C': np.linspace(0.1, 1, num=10, endpoint=True)}\n",
    "\n",
    "svc_bert_model = LinearSVC(random_state=1337, class_weight='balanced')\n",
    "svc_bert_grsch = GridSearchCV(svc_bert_model,\n",
    "                              svc_bert_parameters,\n",
    "                              cv=5,\n",
    "                              scoring='f1',\n",
    "                              verbose=3\n",
    "                              )\n",
    "\n",
    "svc_bert_grsch.fit(X_bert_train, y_train)\n",
    "\n",
    "results.loc[3] = ['LinearSVC BERT CV', svc_bert_grsch.best_score_]\n",
    "print('LinearSVC BERT')\n",
    "print(f'Наилучший показатель f1 на кросс-валидации : {round(svc_bert_grsch.best_score_, 4)}')\n",
    "print(f'при параметрах: {svc_bert_grsch.best_params_}')"
   ]
  },
  {
   "cell_type": "code",
   "execution_count": 28,
   "metadata": {},
   "outputs": [
    {
     "data": {
      "text/html": [
       "<div>\n",
       "<style scoped>\n",
       "    .dataframe tbody tr th:only-of-type {\n",
       "        vertical-align: middle;\n",
       "    }\n",
       "\n",
       "    .dataframe tbody tr th {\n",
       "        vertical-align: top;\n",
       "    }\n",
       "\n",
       "    .dataframe thead th {\n",
       "        text-align: right;\n",
       "    }\n",
       "</style>\n",
       "<table border=\"1\" class=\"dataframe\">\n",
       "  <thead>\n",
       "    <tr style=\"text-align: right;\">\n",
       "      <th></th>\n",
       "      <th>Модель</th>\n",
       "      <th>F1 Метрика</th>\n",
       "    </tr>\n",
       "  </thead>\n",
       "  <tbody>\n",
       "    <tr>\n",
       "      <th>0</th>\n",
       "      <td>LogisticRegression CV</td>\n",
       "      <td>0.7747</td>\n",
       "    </tr>\n",
       "    <tr>\n",
       "      <th>1</th>\n",
       "      <td>LogisticRegression BERT CV</td>\n",
       "      <td>0.9080</td>\n",
       "    </tr>\n",
       "    <tr>\n",
       "      <th>2</th>\n",
       "      <td>LinearSVC CV</td>\n",
       "      <td>0.7874</td>\n",
       "    </tr>\n",
       "    <tr>\n",
       "      <th>3</th>\n",
       "      <td>LinearSVC BERT CV</td>\n",
       "      <td>0.9270</td>\n",
       "    </tr>\n",
       "  </tbody>\n",
       "</table>\n",
       "</div>"
      ],
      "text/plain": [
       "                       Модель  F1 Метрика\n",
       "0       LogisticRegression CV      0.7747\n",
       "1  LogisticRegression BERT CV      0.9080\n",
       "2                LinearSVC CV      0.7874\n",
       "3           LinearSVC BERT CV      0.9270"
      ]
     },
     "execution_count": 28,
     "metadata": {},
     "output_type": "execute_result"
    }
   ],
   "source": [
    "results"
   ]
  },
  {
   "attachments": {},
   "cell_type": "markdown",
   "metadata": {},
   "source": [
    "## Проверим работу модели с найденными параметрами на тестовой выборке"
   ]
  },
  {
   "cell_type": "code",
   "execution_count": 29,
   "metadata": {},
   "outputs": [
    {
     "name": "stdout",
     "output_type": "stream",
     "text": [
      "LinearSVC BERT 0.9331\n"
     ]
    }
   ],
   "source": [
    "svc_bert_predict = svc_bert_grsch.best_estimator_.predict(X_bert_test)\n",
    "\n",
    "svc_bert_f1_score = f1_score(y_test, svc_bert_predict)\n",
    "\n",
    "results.loc[7] = ['LinearSVC BERT', svc_bert_f1_score]\n",
    "print('LinearSVC BERT', round(svc_bert_f1_score, 4))"
   ]
  },
  {
   "cell_type": "markdown",
   "metadata": {},
   "source": [
    "## Выводы"
   ]
  },
  {
   "cell_type": "markdown",
   "metadata": {},
   "source": [
    "Использовано два метода предподготовки данных векторизация `tf-idf` и `toxic-bert`. Так же использовано две модели `LogisticRegression` и `LinearSVC`. Кроссвалидацией при помощи `GridSearchCV` найдены параметры для разных комбинаций векторизации и модели, лучший результат на кроссвалидации показала `LinearSVC` модель после BERT векторизации с показателем 0.9247. На тестовой выборке модель показала результат F1 = 0.9331"
   ]
  },
  {
   "cell_type": "markdown",
   "metadata": {},
   "source": []
  }
 ],
 "metadata": {
  "kernelspec": {
   "display_name": "Python 3 (ipykernel)",
   "language": "python",
   "name": "python3"
  },
  "language_info": {
   "codemirror_mode": {
    "name": "ipython",
    "version": 3
   },
   "file_extension": ".py",
   "mimetype": "text/x-python",
   "name": "python",
   "nbconvert_exporter": "python",
   "pygments_lexer": "ipython3",
   "version": "3.9.0"
  },
  "toc": {
   "base_numbering": 1,
   "nav_menu": {},
   "number_sections": true,
   "sideBar": true,
   "skip_h1_title": true,
   "title_cell": "Содержание",
   "title_sidebar": "Contents",
   "toc_cell": true,
   "toc_position": {
    "height": "calc(100% - 180px)",
    "left": "10px",
    "top": "150px",
    "width": "302.391px"
   },
   "toc_section_display": true,
   "toc_window_display": false
  },
  "vscode": {
   "interpreter": {
    "hash": "11938c6bc6919ae2720b4d5011047913343b08a43b18698fd82dedb0d4417594"
   }
  }
 },
 "nbformat": 4,
 "nbformat_minor": 2
}
