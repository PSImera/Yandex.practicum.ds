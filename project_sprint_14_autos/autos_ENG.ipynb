{
 "cells": [
  {
   "cell_type": "markdown",
   "metadata": {},
   "source": [
    "# Determining the cost of cars"
   ]
  },
  {
   "cell_type": "markdown",
   "metadata": {},
   "source": [
    "The service for the sale of cars with “not bit, not painted” is developing an application to attract new customers.In it you can quickly find out the market value of your car.At your disposal historical data: technical characteristics, configuration and prices of cars.You need to build a model to determine the cost.\n",
    "\n",
    "The customer is important:\n",
    "\n",
    "- quality of prediction;\n",
    "- the speed of prediction;\n",
    "- The time of training."
   ]
  },
  {
   "cell_type": "markdown",
   "metadata": {},
   "source": [
    "Instructions for the implementation of the project\n",
    "\n",
    "To strengthen the study, do not limit yourself to gradient boosting.Try simpler models - sometimes they work better.These rare cases are easy to skip if only boosting is always used.\n",
    "Experiment and compare the characteristics of models: training time, prediction time, accuracy of the result.\n",
    "\n",
    "Main steps:\n",
    "\n",
    "- Download the data, the path to the file: `/datasets/autos.csv`\n",
    "- Study the data.Fill in the missed values ​​and process anomalies in column.If there are non -informative ones among the signs, remove them\n",
    "- Prepare samples for teaching models\n",
    "- Teach different models, one of which is LightGBM, at least one - not boosting.For each model, try different hyperparameters\n",
    "- Analyze the time of training, the time of prediction and the quality of the models\n",
    "- Based on the customer’s criteria, choose the best model, check its quality in a test sample\n",
    "\n",
    "Notes:\n",
    "- To assess the quality of models, use RMSE metric\n",
    "- the value of the RMSE metric should be less than 2500\n",
    "- Start the LightGBM library yourself and build a gradient boosting model with its means\n",
    "- The time of execution of the Jupyter Notebook code can be obtained by a special team.Find it\n",
    "- The model of gradient boosting can study for a long time, so change her only two or three parameters\n",
    "- If Jupyter Notebook stops working, delete extra variables `Del`\n",
    "\n",
    "Del features_train\n",
    "\n",
    "Data description\n",
    "- Data are in the file [/datasets/autos.csv ,(Https://code.s3.yandex.net/datasets/autos.csv \"Code.s3.S3.yandex.NET/DATASTS/ATOS.CSV\")\n",
    "\n",
    "Signs\n",
    "- `DATECRAWLED` - Date of downloading of the questionnaire from the base\n",
    "- `vehicleType` - type of car body\n",
    "- `registrationyear` - year of registration of the car\n",
    "- `gearbox` - type of gearbox\n",
    "- `Power` - power (p.)\n",
    "- `Model` - car model\n",
    "- `kilometer` - mileage (km)\n",
    "- `registrationMonth` - Month of car registration\n",
    "- `fueltype` - fuel type\n",
    "- `Brand` - car brand\n",
    "- `repaired` - there was a car in repair or not\n",
    "- `DATECREATED` - Date of creation of a questionnaire\n",
    "- `numberofpictures` - number of car photos\n",
    "- `postalcode` - postal index of the questionnaire (user)\n",
    "- `Lastseen` - Date of the last user activity\n",
    "\n",
    "Target sign\n",
    "- `price` - price (euro)"
   ]
  },
  {
   "cell_type": "markdown",
   "metadata": {},
   "source": [
    "## Data Preparation"
   ]
  },
  {
   "cell_type": "code",
   "execution_count": 3,
   "metadata": {},
   "outputs": [],
   "source": [
    "# отключим предупреждающие уведомления\n",
    "import warnings\n",
    "warnings.filterwarnings('ignore')\n",
    "\n",
    "# Добавим основные библиотеки\n",
    "import pandas as pd\n",
    "import numpy as np\n",
    "import os.path\n",
    "import math\n",
    "\n",
    "# Добавим библиотеки для отрисовки графиков\n",
    "import matplotlib.pyplot as plt\n",
    "import seaborn as sns\n",
    "plt.style.use('dark_background')\n",
    "\n",
    "# добавим необходимые библиотеки для построения моделей\n",
    "from sklearn.model_selection import train_test_split\n",
    "from category_encoders.binary import BinaryEncoder\n",
    "from sklearn.model_selection import KFold\n",
    "from sklearn.model_selection import cross_val_score\n",
    "from lightgbm import LGBMRegressor\n",
    "from sklearn.ensemble import RandomForestRegressor\n",
    "from sklearn.metrics import mean_squared_error\n",
    "from sklearn.model_selection import GridSearchCV, RandomizedSearchCV\n",
    "\n",
    "# Сделаем небольшие настройки pandas для комфортного отображения проекта\n",
    "pd.set_option('display.max_columns', None)\n",
    "pd.set_option('display.float_format', lambda x: '%.2f' % x)\n",
    "pd.options.mode.chained_assignment = None"
   ]
  },
  {
   "cell_type": "code",
   "execution_count": 4,
   "metadata": {},
   "outputs": [],
   "source": [
    "# Импортируем датасеты методом try/except и установим индексом столбец date\n",
    "try:\n",
    "    path_df = os.path.join('datasets/autos.csv')\n",
    "    df = pd.read_csv(path_df)\n",
    "except:\n",
    "    df = pd.read_csv('https://code.s3.yandex.net/datasets/autos.csv')"
   ]
  },
  {
   "cell_type": "code",
   "execution_count": 5,
   "metadata": {},
   "outputs": [],
   "source": [
    "# Функция для вывода первичной информации по датасету\n",
    "def first_view(data):\n",
    "    title_lenght = 79\n",
    "    title_one = 'Обзор данных первых и последних пяти строк'\n",
    "    print('~' * int((title_lenght - len(title_one)) / 2), title_one, '~' * (title_lenght - len(title_one) - int((title_lenght - len(title_one)) / 2)))\n",
    "    display(data.head(5))\n",
    "    display(data.tail(5))\n",
    "    print()\n",
    "    title_two = 'Основная описательная статистика'\n",
    "    print('~' * int((title_lenght - len(title_two)) / 2), title_two, '~' * (title_lenght - len(title_two) - int((title_lenght - len(title_two)) / 2)))\n",
    "    display(data.describe())\n",
    "    print()\n",
    "    title_three = 'Тип данных' \n",
    "    print('~' * int((title_lenght - len(title_three)) / 2), title_three, '~' * (title_lenght - len(title_three) - int((title_lenght - len(title_three)) / 2)))\n",
    "    data.info()\n",
    "    print()\n",
    "    title_four = 'Подсчёт пропусков'\n",
    "    print('~' * int((title_lenght - len(title_four)) / 2), title_four, '~' * (title_lenght - len(title_four) - int((title_lenght - len(title_four)) / 2)))\n",
    "    all_nulls = 0\n",
    "    for col in data.columns:\n",
    "       if data[col].isna().sum() > 0:\n",
    "            all_nulls += 1\n",
    "            print(data[col].isna().sum(), 'пропущенных значений в колонке', col, 'это', round(data[col].isna().mean() * 100,), '%')\n",
    "    if all_nulls == 0:\n",
    "        print('В датафрейме пропуски отсутствуют')\n",
    "    print()\n",
    "    title_five = 'Явные дубликаты'\n",
    "    print('~' * int((title_lenght - len(title_five)) / 2), title_five, '~' * (title_lenght - len(title_five) - int((title_lenght - len(title_five)) / 2)))\n",
    "    if data.duplicated().sum() > 0:\n",
    "        print('Количество явных дубликатов - ', data.duplicated().sum())\n",
    "    else:\n",
    "        print('Явные дубликаты в датасете отсутствуют')\n",
    "    print()\n",
    "    title_six = 'Просмотр гистограмм датафрейма'\n",
    "    print('~' * int((title_lenght - len(title_six)) / 2), title_six, '~' * (title_lenght - len(title_six) - int((title_lenght - len(title_six)) / 2)))\n",
    "    data.hist(bins=50, figsize = (8, 8));"
   ]
  },
  {
   "cell_type": "code",
   "execution_count": 6,
   "metadata": {},
   "outputs": [
    {
     "name": "stdout",
     "output_type": "stream",
     "text": [
      "~~~~~~~~~~~~~~~~~~ Обзор данных первых и последних пяти строк ~~~~~~~~~~~~~~~~~~~\n"
     ]
    },
    {
     "data": {
      "text/html": [
       "<div>\n",
       "<style scoped>\n",
       "    .dataframe tbody tr th:only-of-type {\n",
       "        vertical-align: middle;\n",
       "    }\n",
       "\n",
       "    .dataframe tbody tr th {\n",
       "        vertical-align: top;\n",
       "    }\n",
       "\n",
       "    .dataframe thead th {\n",
       "        text-align: right;\n",
       "    }\n",
       "</style>\n",
       "<table border=\"1\" class=\"dataframe\">\n",
       "  <thead>\n",
       "    <tr style=\"text-align: right;\">\n",
       "      <th></th>\n",
       "      <th>DateCrawled</th>\n",
       "      <th>Price</th>\n",
       "      <th>VehicleType</th>\n",
       "      <th>RegistrationYear</th>\n",
       "      <th>Gearbox</th>\n",
       "      <th>Power</th>\n",
       "      <th>Model</th>\n",
       "      <th>Kilometer</th>\n",
       "      <th>RegistrationMonth</th>\n",
       "      <th>FuelType</th>\n",
       "      <th>Brand</th>\n",
       "      <th>Repaired</th>\n",
       "      <th>DateCreated</th>\n",
       "      <th>NumberOfPictures</th>\n",
       "      <th>PostalCode</th>\n",
       "      <th>LastSeen</th>\n",
       "    </tr>\n",
       "  </thead>\n",
       "  <tbody>\n",
       "    <tr>\n",
       "      <th>0</th>\n",
       "      <td>2016-03-24 11:52:17</td>\n",
       "      <td>480</td>\n",
       "      <td>NaN</td>\n",
       "      <td>1993</td>\n",
       "      <td>manual</td>\n",
       "      <td>0</td>\n",
       "      <td>golf</td>\n",
       "      <td>150000</td>\n",
       "      <td>0</td>\n",
       "      <td>petrol</td>\n",
       "      <td>volkswagen</td>\n",
       "      <td>NaN</td>\n",
       "      <td>2016-03-24 00:00:00</td>\n",
       "      <td>0</td>\n",
       "      <td>70435</td>\n",
       "      <td>2016-04-07 03:16:57</td>\n",
       "    </tr>\n",
       "    <tr>\n",
       "      <th>1</th>\n",
       "      <td>2016-03-24 10:58:45</td>\n",
       "      <td>18300</td>\n",
       "      <td>coupe</td>\n",
       "      <td>2011</td>\n",
       "      <td>manual</td>\n",
       "      <td>190</td>\n",
       "      <td>NaN</td>\n",
       "      <td>125000</td>\n",
       "      <td>5</td>\n",
       "      <td>gasoline</td>\n",
       "      <td>audi</td>\n",
       "      <td>yes</td>\n",
       "      <td>2016-03-24 00:00:00</td>\n",
       "      <td>0</td>\n",
       "      <td>66954</td>\n",
       "      <td>2016-04-07 01:46:50</td>\n",
       "    </tr>\n",
       "    <tr>\n",
       "      <th>2</th>\n",
       "      <td>2016-03-14 12:52:21</td>\n",
       "      <td>9800</td>\n",
       "      <td>suv</td>\n",
       "      <td>2004</td>\n",
       "      <td>auto</td>\n",
       "      <td>163</td>\n",
       "      <td>grand</td>\n",
       "      <td>125000</td>\n",
       "      <td>8</td>\n",
       "      <td>gasoline</td>\n",
       "      <td>jeep</td>\n",
       "      <td>NaN</td>\n",
       "      <td>2016-03-14 00:00:00</td>\n",
       "      <td>0</td>\n",
       "      <td>90480</td>\n",
       "      <td>2016-04-05 12:47:46</td>\n",
       "    </tr>\n",
       "    <tr>\n",
       "      <th>3</th>\n",
       "      <td>2016-03-17 16:54:04</td>\n",
       "      <td>1500</td>\n",
       "      <td>small</td>\n",
       "      <td>2001</td>\n",
       "      <td>manual</td>\n",
       "      <td>75</td>\n",
       "      <td>golf</td>\n",
       "      <td>150000</td>\n",
       "      <td>6</td>\n",
       "      <td>petrol</td>\n",
       "      <td>volkswagen</td>\n",
       "      <td>no</td>\n",
       "      <td>2016-03-17 00:00:00</td>\n",
       "      <td>0</td>\n",
       "      <td>91074</td>\n",
       "      <td>2016-03-17 17:40:17</td>\n",
       "    </tr>\n",
       "    <tr>\n",
       "      <th>4</th>\n",
       "      <td>2016-03-31 17:25:20</td>\n",
       "      <td>3600</td>\n",
       "      <td>small</td>\n",
       "      <td>2008</td>\n",
       "      <td>manual</td>\n",
       "      <td>69</td>\n",
       "      <td>fabia</td>\n",
       "      <td>90000</td>\n",
       "      <td>7</td>\n",
       "      <td>gasoline</td>\n",
       "      <td>skoda</td>\n",
       "      <td>no</td>\n",
       "      <td>2016-03-31 00:00:00</td>\n",
       "      <td>0</td>\n",
       "      <td>60437</td>\n",
       "      <td>2016-04-06 10:17:21</td>\n",
       "    </tr>\n",
       "  </tbody>\n",
       "</table>\n",
       "</div>"
      ],
      "text/plain": [
       "           DateCrawled  Price VehicleType  RegistrationYear Gearbox  Power  \\\n",
       "0  2016-03-24 11:52:17    480         NaN              1993  manual      0   \n",
       "1  2016-03-24 10:58:45  18300       coupe              2011  manual    190   \n",
       "2  2016-03-14 12:52:21   9800         suv              2004    auto    163   \n",
       "3  2016-03-17 16:54:04   1500       small              2001  manual     75   \n",
       "4  2016-03-31 17:25:20   3600       small              2008  manual     69   \n",
       "\n",
       "   Model  Kilometer  RegistrationMonth  FuelType       Brand Repaired  \\\n",
       "0   golf     150000                  0    petrol  volkswagen      NaN   \n",
       "1    NaN     125000                  5  gasoline        audi      yes   \n",
       "2  grand     125000                  8  gasoline        jeep      NaN   \n",
       "3   golf     150000                  6    petrol  volkswagen       no   \n",
       "4  fabia      90000                  7  gasoline       skoda       no   \n",
       "\n",
       "           DateCreated  NumberOfPictures  PostalCode             LastSeen  \n",
       "0  2016-03-24 00:00:00                 0       70435  2016-04-07 03:16:57  \n",
       "1  2016-03-24 00:00:00                 0       66954  2016-04-07 01:46:50  \n",
       "2  2016-03-14 00:00:00                 0       90480  2016-04-05 12:47:46  \n",
       "3  2016-03-17 00:00:00                 0       91074  2016-03-17 17:40:17  \n",
       "4  2016-03-31 00:00:00                 0       60437  2016-04-06 10:17:21  "
      ]
     },
     "metadata": {},
     "output_type": "display_data"
    },
    {
     "data": {
      "text/html": [
       "<div>\n",
       "<style scoped>\n",
       "    .dataframe tbody tr th:only-of-type {\n",
       "        vertical-align: middle;\n",
       "    }\n",
       "\n",
       "    .dataframe tbody tr th {\n",
       "        vertical-align: top;\n",
       "    }\n",
       "\n",
       "    .dataframe thead th {\n",
       "        text-align: right;\n",
       "    }\n",
       "</style>\n",
       "<table border=\"1\" class=\"dataframe\">\n",
       "  <thead>\n",
       "    <tr style=\"text-align: right;\">\n",
       "      <th></th>\n",
       "      <th>DateCrawled</th>\n",
       "      <th>Price</th>\n",
       "      <th>VehicleType</th>\n",
       "      <th>RegistrationYear</th>\n",
       "      <th>Gearbox</th>\n",
       "      <th>Power</th>\n",
       "      <th>Model</th>\n",
       "      <th>Kilometer</th>\n",
       "      <th>RegistrationMonth</th>\n",
       "      <th>FuelType</th>\n",
       "      <th>Brand</th>\n",
       "      <th>Repaired</th>\n",
       "      <th>DateCreated</th>\n",
       "      <th>NumberOfPictures</th>\n",
       "      <th>PostalCode</th>\n",
       "      <th>LastSeen</th>\n",
       "    </tr>\n",
       "  </thead>\n",
       "  <tbody>\n",
       "    <tr>\n",
       "      <th>354364</th>\n",
       "      <td>2016-03-21 09:50:58</td>\n",
       "      <td>0</td>\n",
       "      <td>NaN</td>\n",
       "      <td>2005</td>\n",
       "      <td>manual</td>\n",
       "      <td>0</td>\n",
       "      <td>colt</td>\n",
       "      <td>150000</td>\n",
       "      <td>7</td>\n",
       "      <td>petrol</td>\n",
       "      <td>mitsubishi</td>\n",
       "      <td>yes</td>\n",
       "      <td>2016-03-21 00:00:00</td>\n",
       "      <td>0</td>\n",
       "      <td>2694</td>\n",
       "      <td>2016-03-21 10:42:49</td>\n",
       "    </tr>\n",
       "    <tr>\n",
       "      <th>354365</th>\n",
       "      <td>2016-03-14 17:48:27</td>\n",
       "      <td>2200</td>\n",
       "      <td>NaN</td>\n",
       "      <td>2005</td>\n",
       "      <td>NaN</td>\n",
       "      <td>0</td>\n",
       "      <td>NaN</td>\n",
       "      <td>20000</td>\n",
       "      <td>1</td>\n",
       "      <td>NaN</td>\n",
       "      <td>sonstige_autos</td>\n",
       "      <td>NaN</td>\n",
       "      <td>2016-03-14 00:00:00</td>\n",
       "      <td>0</td>\n",
       "      <td>39576</td>\n",
       "      <td>2016-04-06 00:46:52</td>\n",
       "    </tr>\n",
       "    <tr>\n",
       "      <th>354366</th>\n",
       "      <td>2016-03-05 19:56:21</td>\n",
       "      <td>1199</td>\n",
       "      <td>convertible</td>\n",
       "      <td>2000</td>\n",
       "      <td>auto</td>\n",
       "      <td>101</td>\n",
       "      <td>fortwo</td>\n",
       "      <td>125000</td>\n",
       "      <td>3</td>\n",
       "      <td>petrol</td>\n",
       "      <td>smart</td>\n",
       "      <td>no</td>\n",
       "      <td>2016-03-05 00:00:00</td>\n",
       "      <td>0</td>\n",
       "      <td>26135</td>\n",
       "      <td>2016-03-11 18:17:12</td>\n",
       "    </tr>\n",
       "    <tr>\n",
       "      <th>354367</th>\n",
       "      <td>2016-03-19 18:57:12</td>\n",
       "      <td>9200</td>\n",
       "      <td>bus</td>\n",
       "      <td>1996</td>\n",
       "      <td>manual</td>\n",
       "      <td>102</td>\n",
       "      <td>transporter</td>\n",
       "      <td>150000</td>\n",
       "      <td>3</td>\n",
       "      <td>gasoline</td>\n",
       "      <td>volkswagen</td>\n",
       "      <td>no</td>\n",
       "      <td>2016-03-19 00:00:00</td>\n",
       "      <td>0</td>\n",
       "      <td>87439</td>\n",
       "      <td>2016-04-07 07:15:26</td>\n",
       "    </tr>\n",
       "    <tr>\n",
       "      <th>354368</th>\n",
       "      <td>2016-03-20 19:41:08</td>\n",
       "      <td>3400</td>\n",
       "      <td>wagon</td>\n",
       "      <td>2002</td>\n",
       "      <td>manual</td>\n",
       "      <td>100</td>\n",
       "      <td>golf</td>\n",
       "      <td>150000</td>\n",
       "      <td>6</td>\n",
       "      <td>gasoline</td>\n",
       "      <td>volkswagen</td>\n",
       "      <td>NaN</td>\n",
       "      <td>2016-03-20 00:00:00</td>\n",
       "      <td>0</td>\n",
       "      <td>40764</td>\n",
       "      <td>2016-03-24 12:45:21</td>\n",
       "    </tr>\n",
       "  </tbody>\n",
       "</table>\n",
       "</div>"
      ],
      "text/plain": [
       "                DateCrawled  Price  VehicleType  RegistrationYear Gearbox  \\\n",
       "354364  2016-03-21 09:50:58      0          NaN              2005  manual   \n",
       "354365  2016-03-14 17:48:27   2200          NaN              2005     NaN   \n",
       "354366  2016-03-05 19:56:21   1199  convertible              2000    auto   \n",
       "354367  2016-03-19 18:57:12   9200          bus              1996  manual   \n",
       "354368  2016-03-20 19:41:08   3400        wagon              2002  manual   \n",
       "\n",
       "        Power        Model  Kilometer  RegistrationMonth  FuelType  \\\n",
       "354364      0         colt     150000                  7    petrol   \n",
       "354365      0          NaN      20000                  1       NaN   \n",
       "354366    101       fortwo     125000                  3    petrol   \n",
       "354367    102  transporter     150000                  3  gasoline   \n",
       "354368    100         golf     150000                  6  gasoline   \n",
       "\n",
       "                 Brand Repaired          DateCreated  NumberOfPictures  \\\n",
       "354364      mitsubishi      yes  2016-03-21 00:00:00                 0   \n",
       "354365  sonstige_autos      NaN  2016-03-14 00:00:00                 0   \n",
       "354366           smart       no  2016-03-05 00:00:00                 0   \n",
       "354367      volkswagen       no  2016-03-19 00:00:00                 0   \n",
       "354368      volkswagen      NaN  2016-03-20 00:00:00                 0   \n",
       "\n",
       "        PostalCode             LastSeen  \n",
       "354364        2694  2016-03-21 10:42:49  \n",
       "354365       39576  2016-04-06 00:46:52  \n",
       "354366       26135  2016-03-11 18:17:12  \n",
       "354367       87439  2016-04-07 07:15:26  \n",
       "354368       40764  2016-03-24 12:45:21  "
      ]
     },
     "metadata": {},
     "output_type": "display_data"
    },
    {
     "name": "stdout",
     "output_type": "stream",
     "text": [
      "\n",
      "~~~~~~~~~~~~~~~~~~~~~~~ Основная описательная статистика ~~~~~~~~~~~~~~~~~~~~~~~~\n"
     ]
    },
    {
     "data": {
      "text/html": [
       "<div>\n",
       "<style scoped>\n",
       "    .dataframe tbody tr th:only-of-type {\n",
       "        vertical-align: middle;\n",
       "    }\n",
       "\n",
       "    .dataframe tbody tr th {\n",
       "        vertical-align: top;\n",
       "    }\n",
       "\n",
       "    .dataframe thead th {\n",
       "        text-align: right;\n",
       "    }\n",
       "</style>\n",
       "<table border=\"1\" class=\"dataframe\">\n",
       "  <thead>\n",
       "    <tr style=\"text-align: right;\">\n",
       "      <th></th>\n",
       "      <th>Price</th>\n",
       "      <th>RegistrationYear</th>\n",
       "      <th>Power</th>\n",
       "      <th>Kilometer</th>\n",
       "      <th>RegistrationMonth</th>\n",
       "      <th>NumberOfPictures</th>\n",
       "      <th>PostalCode</th>\n",
       "    </tr>\n",
       "  </thead>\n",
       "  <tbody>\n",
       "    <tr>\n",
       "      <th>count</th>\n",
       "      <td>354369.00</td>\n",
       "      <td>354369.00</td>\n",
       "      <td>354369.00</td>\n",
       "      <td>354369.00</td>\n",
       "      <td>354369.00</td>\n",
       "      <td>354369.00</td>\n",
       "      <td>354369.00</td>\n",
       "    </tr>\n",
       "    <tr>\n",
       "      <th>mean</th>\n",
       "      <td>4416.66</td>\n",
       "      <td>2004.23</td>\n",
       "      <td>110.09</td>\n",
       "      <td>128211.17</td>\n",
       "      <td>5.71</td>\n",
       "      <td>0.00</td>\n",
       "      <td>50508.69</td>\n",
       "    </tr>\n",
       "    <tr>\n",
       "      <th>std</th>\n",
       "      <td>4514.16</td>\n",
       "      <td>90.23</td>\n",
       "      <td>189.85</td>\n",
       "      <td>37905.34</td>\n",
       "      <td>3.73</td>\n",
       "      <td>0.00</td>\n",
       "      <td>25783.10</td>\n",
       "    </tr>\n",
       "    <tr>\n",
       "      <th>min</th>\n",
       "      <td>0.00</td>\n",
       "      <td>1000.00</td>\n",
       "      <td>0.00</td>\n",
       "      <td>5000.00</td>\n",
       "      <td>0.00</td>\n",
       "      <td>0.00</td>\n",
       "      <td>1067.00</td>\n",
       "    </tr>\n",
       "    <tr>\n",
       "      <th>25%</th>\n",
       "      <td>1050.00</td>\n",
       "      <td>1999.00</td>\n",
       "      <td>69.00</td>\n",
       "      <td>125000.00</td>\n",
       "      <td>3.00</td>\n",
       "      <td>0.00</td>\n",
       "      <td>30165.00</td>\n",
       "    </tr>\n",
       "    <tr>\n",
       "      <th>50%</th>\n",
       "      <td>2700.00</td>\n",
       "      <td>2003.00</td>\n",
       "      <td>105.00</td>\n",
       "      <td>150000.00</td>\n",
       "      <td>6.00</td>\n",
       "      <td>0.00</td>\n",
       "      <td>49413.00</td>\n",
       "    </tr>\n",
       "    <tr>\n",
       "      <th>75%</th>\n",
       "      <td>6400.00</td>\n",
       "      <td>2008.00</td>\n",
       "      <td>143.00</td>\n",
       "      <td>150000.00</td>\n",
       "      <td>9.00</td>\n",
       "      <td>0.00</td>\n",
       "      <td>71083.00</td>\n",
       "    </tr>\n",
       "    <tr>\n",
       "      <th>max</th>\n",
       "      <td>20000.00</td>\n",
       "      <td>9999.00</td>\n",
       "      <td>20000.00</td>\n",
       "      <td>150000.00</td>\n",
       "      <td>12.00</td>\n",
       "      <td>0.00</td>\n",
       "      <td>99998.00</td>\n",
       "    </tr>\n",
       "  </tbody>\n",
       "</table>\n",
       "</div>"
      ],
      "text/plain": [
       "          Price  RegistrationYear     Power  Kilometer  RegistrationMonth  \\\n",
       "count 354369.00         354369.00 354369.00  354369.00          354369.00   \n",
       "mean    4416.66           2004.23    110.09  128211.17               5.71   \n",
       "std     4514.16             90.23    189.85   37905.34               3.73   \n",
       "min        0.00           1000.00      0.00    5000.00               0.00   \n",
       "25%     1050.00           1999.00     69.00  125000.00               3.00   \n",
       "50%     2700.00           2003.00    105.00  150000.00               6.00   \n",
       "75%     6400.00           2008.00    143.00  150000.00               9.00   \n",
       "max    20000.00           9999.00  20000.00  150000.00              12.00   \n",
       "\n",
       "       NumberOfPictures  PostalCode  \n",
       "count         354369.00   354369.00  \n",
       "mean               0.00    50508.69  \n",
       "std                0.00    25783.10  \n",
       "min                0.00     1067.00  \n",
       "25%                0.00    30165.00  \n",
       "50%                0.00    49413.00  \n",
       "75%                0.00    71083.00  \n",
       "max                0.00    99998.00  "
      ]
     },
     "metadata": {},
     "output_type": "display_data"
    },
    {
     "name": "stdout",
     "output_type": "stream",
     "text": [
      "\n",
      "~~~~~~~~~~~~~~~~~~~~~~~~~~~~~~~~~~ Тип данных ~~~~~~~~~~~~~~~~~~~~~~~~~~~~~~~~~~~\n",
      "<class 'pandas.core.frame.DataFrame'>\n",
      "RangeIndex: 354369 entries, 0 to 354368\n",
      "Data columns (total 16 columns):\n",
      " #   Column             Non-Null Count   Dtype \n",
      "---  ------             --------------   ----- \n",
      " 0   DateCrawled        354369 non-null  object\n",
      " 1   Price              354369 non-null  int64 \n",
      " 2   VehicleType        316879 non-null  object\n",
      " 3   RegistrationYear   354369 non-null  int64 \n",
      " 4   Gearbox            334536 non-null  object\n",
      " 5   Power              354369 non-null  int64 \n",
      " 6   Model              334664 non-null  object\n",
      " 7   Kilometer          354369 non-null  int64 \n",
      " 8   RegistrationMonth  354369 non-null  int64 \n",
      " 9   FuelType           321474 non-null  object\n",
      " 10  Brand              354369 non-null  object\n",
      " 11  Repaired           283215 non-null  object\n",
      " 12  DateCreated        354369 non-null  object\n",
      " 13  NumberOfPictures   354369 non-null  int64 \n",
      " 14  PostalCode         354369 non-null  int64 \n",
      " 15  LastSeen           354369 non-null  object\n",
      "dtypes: int64(7), object(9)\n",
      "memory usage: 43.3+ MB\n",
      "\n",
      "~~~~~~~~~~~~~~~~~~~~~~~~~~~~~~~ Подсчёт пропусков ~~~~~~~~~~~~~~~~~~~~~~~~~~~~~~~\n",
      "37490 пропущенных значений в колонке VehicleType это 11 %\n",
      "19833 пропущенных значений в колонке Gearbox это 6 %\n",
      "19705 пропущенных значений в колонке Model это 6 %\n",
      "32895 пропущенных значений в колонке FuelType это 9 %\n",
      "71154 пропущенных значений в колонке Repaired это 20 %\n",
      "\n",
      "~~~~~~~~~~~~~~~~~~~~~~~~~~~~~~~~ Явные дубликаты ~~~~~~~~~~~~~~~~~~~~~~~~~~~~~~~~\n",
      "Количество явных дубликатов -  4\n",
      "\n",
      "~~~~~~~~~~~~~~~~~~~~~~~~ Просмотр гистограмм датафрейма ~~~~~~~~~~~~~~~~~~~~~~~~~\n"
     ]
    },
    {
     "data": {
      "image/png": "[encoded data removed]",
      "text/plain": [
       "<Figure size 576x576 with 9 Axes>"
      ]
     },
     "metadata": {},
     "output_type": "display_data"
    }
   ],
   "source": [
    "first_view(df)"
   ]
  },
  {
   "cell_type": "markdown",
   "metadata": {},
   "source": [
    "Conclusion from the initial data inspection:\n",
    "\n",
    "- There are gaps\n",
    "- There are duplicates\n",
    "- there are anamal values ​​in the parameters of the year of registration and engine power\n",
    "- the number of images is a completely empty column in which all values ​​are zero\n",
    "- There are zero values ​​of the price in the target feature\n",
    "- In the column, the month of registration is zero value and this is not the beginning of the reference from zero, because there is 12"
   ]
  },
  {
   "cell_type": "markdown",
   "metadata": {},
   "source": [
    "We will analyze the data in more detail, preparing the data in the course of the case"
   ]
  },
  {
   "cell_type": "markdown",
   "metadata": {},
   "source": [
    "To begin with, rename the columns, group them in meaning for convenience and immediately get rid of the excess (an empty column with zero number of pictures everywhere)"
   ]
  },
  {
   "cell_type": "code",
   "execution_count": 7,
   "metadata": {},
   "outputs": [
    {
     "data": {
      "text/plain": [
       "['DateCrawled',\n",
       " 'Price',\n",
       " 'VehicleType',\n",
       " 'RegistrationYear',\n",
       " 'Gearbox',\n",
       " 'Power',\n",
       " 'Model',\n",
       " 'Kilometer',\n",
       " 'RegistrationMonth',\n",
       " 'FuelType',\n",
       " 'Brand',\n",
       " 'Repaired',\n",
       " 'DateCreated',\n",
       " 'NumberOfPictures',\n",
       " 'PostalCode',\n",
       " 'LastSeen']"
      ]
     },
     "execution_count": 7,
     "metadata": {},
     "output_type": "execute_result"
    }
   ],
   "source": [
    "df.columns.tolist()"
   ]
  },
  {
   "cell_type": "code",
   "execution_count": 8,
   "metadata": {},
   "outputs": [
    {
     "data": {
      "text/plain": [
       "['date_crawled',\n",
       " 'price',\n",
       " 'vehicle_type',\n",
       " 'reg_year',\n",
       " 'gearbox',\n",
       " 'power',\n",
       " 'model',\n",
       " 'km',\n",
       " 'reg_month',\n",
       " 'fuel_type',\n",
       " 'brand',\n",
       " 'repaired',\n",
       " 'date_created',\n",
       " 'NumberOfPictures',\n",
       " 'postal_code',\n",
       " 'date_last_seen']"
      ]
     },
     "execution_count": 8,
     "metadata": {},
     "output_type": "execute_result"
    }
   ],
   "source": [
    "df = df.rename(columns={\n",
    "    'Price':'price',\n",
    "    'VehicleType':'vehicle_type',\n",
    "    'RegistrationYear':'reg_year',\n",
    "    'Gearbox':'gearbox',\n",
    "    'Power':'power',\n",
    "    'Model':'model',\n",
    "    'Kilometer':'km',\n",
    "    'RegistrationMonth':'reg_month',\n",
    "    'FuelType':'fuel_type',\n",
    "    'Brand':'brand',\n",
    "    'Repaired':'repaired',\n",
    "    'PostalCode':'postal_code',\n",
    "    'DateCreated':'date_created',\n",
    "    'DateCrawled':'date_crawled',\n",
    "    'LastSeen':'date_last_seen'\n",
    "})\n",
    "\n",
    "df.columns.tolist() # проверяем"
   ]
  },
  {
   "cell_type": "code",
   "execution_count": 9,
   "metadata": {},
   "outputs": [],
   "source": [
    "df = df[['date_created',\n",
    "         'date_crawled',\n",
    "         'date_last_seen',\n",
    "         'postal_code',\n",
    "         'vehicle_type',\n",
    "         'fuel_type',\n",
    "         'brand',\n",
    "         'model',\n",
    "         'reg_year',\n",
    "         'reg_month',\n",
    "         'km',\n",
    "         'gearbox',\n",
    "         'power',\n",
    "         'repaired',\n",
    "         'price'\n",
    "         ]]"
   ]
  },
  {
   "cell_type": "markdown",
   "metadata": {},
   "source": [
    "Get rid of duplicates"
   ]
  },
  {
   "cell_type": "code",
   "execution_count": 10,
   "metadata": {},
   "outputs": [],
   "source": [
    "df.drop_duplicates(inplace=True, ignore_index=True)"
   ]
  },
  {
   "cell_type": "markdown",
   "metadata": {},
   "source": [
    "We will get rid of anomalies in a column with a CAR COMP COMP"
   ]
  },
  {
   "cell_type": "code",
   "execution_count": 11,
   "metadata": {},
   "outputs": [
    {
     "name": "stdout",
     "output_type": "stream",
     "text": [
      "удалено строк: 24195\n"
     ]
    }
   ],
   "source": [
    "shape_before = df.shape[0]\n",
    "df = df.loc[(df['reg_year'] > 1900) & (df['reg_year'] < 2016)]\n",
    "print(f'удалено строк: {shape_before - df.shape[0]}')"
   ]
  },
  {
   "cell_type": "markdown",
   "metadata": {},
   "source": [
    "Get rid of anomalies in a column with engine power"
   ]
  },
  {
   "cell_type": "code",
   "execution_count": 12,
   "metadata": {},
   "outputs": [
    {
     "data": {
      "image/png": "[encoded data removed]",
      "text/plain": [
       "<Figure size 1080x144 with 1 Axes>"
      ]
     },
     "metadata": {},
     "output_type": "display_data"
    }
   ],
   "source": [
    "plt.figure(figsize=(15,2))\n",
    "plt.boxplot(df['power'], vert=False, widths=0.7)\n",
    "plt.xlim(0,1500)\n",
    "plt.show();"
   ]
  },
  {
   "cell_type": "markdown",
   "metadata": {},
   "source": [
    "There are very large emissions.Of course, there are cars with such powerful engines, but rather this is anomalies in the data.Let's look at these emissions"
   ]
  },
  {
   "cell_type": "code",
   "execution_count": 13,
   "metadata": {},
   "outputs": [
    {
     "data": {
      "text/html": [
       "<div>\n",
       "<style scoped>\n",
       "    .dataframe tbody tr th:only-of-type {\n",
       "        vertical-align: middle;\n",
       "    }\n",
       "\n",
       "    .dataframe tbody tr th {\n",
       "        vertical-align: top;\n",
       "    }\n",
       "\n",
       "    .dataframe thead th {\n",
       "        text-align: right;\n",
       "    }\n",
       "</style>\n",
       "<table border=\"1\" class=\"dataframe\">\n",
       "  <thead>\n",
       "    <tr style=\"text-align: right;\">\n",
       "      <th></th>\n",
       "      <th>date_created</th>\n",
       "      <th>date_crawled</th>\n",
       "      <th>date_last_seen</th>\n",
       "      <th>postal_code</th>\n",
       "      <th>vehicle_type</th>\n",
       "      <th>fuel_type</th>\n",
       "      <th>brand</th>\n",
       "      <th>model</th>\n",
       "      <th>reg_year</th>\n",
       "      <th>reg_month</th>\n",
       "      <th>km</th>\n",
       "      <th>gearbox</th>\n",
       "      <th>power</th>\n",
       "      <th>repaired</th>\n",
       "      <th>price</th>\n",
       "    </tr>\n",
       "  </thead>\n",
       "  <tbody>\n",
       "    <tr>\n",
       "      <th>219583</th>\n",
       "      <td>2016-03-09 00:00:00</td>\n",
       "      <td>2016-03-09 15:43:53</td>\n",
       "      <td>2016-03-30 08:47:08</td>\n",
       "      <td>19406</td>\n",
       "      <td>coupe</td>\n",
       "      <td>petrol</td>\n",
       "      <td>mercedes_benz</td>\n",
       "      <td>clk</td>\n",
       "      <td>1999</td>\n",
       "      <td>1</td>\n",
       "      <td>150000</td>\n",
       "      <td>auto</td>\n",
       "      <td>20000</td>\n",
       "      <td>no</td>\n",
       "      <td>4300</td>\n",
       "    </tr>\n",
       "    <tr>\n",
       "      <th>299177</th>\n",
       "      <td>2016-03-09 00:00:00</td>\n",
       "      <td>2016-03-09 08:53:11</td>\n",
       "      <td>2016-04-07 11:44:34</td>\n",
       "      <td>21129</td>\n",
       "      <td>wagon</td>\n",
       "      <td>NaN</td>\n",
       "      <td>bmw</td>\n",
       "      <td>5er</td>\n",
       "      <td>1997</td>\n",
       "      <td>1</td>\n",
       "      <td>150000</td>\n",
       "      <td>manual</td>\n",
       "      <td>19312</td>\n",
       "      <td>no</td>\n",
       "      <td>1500</td>\n",
       "    </tr>\n",
       "    <tr>\n",
       "      <th>114106</th>\n",
       "      <td>2016-04-03 00:00:00</td>\n",
       "      <td>2016-04-03 07:36:21</td>\n",
       "      <td>2016-04-07 10:16:10</td>\n",
       "      <td>45964</td>\n",
       "      <td>sedan</td>\n",
       "      <td>gasoline</td>\n",
       "      <td>bmw</td>\n",
       "      <td>1er</td>\n",
       "      <td>2006</td>\n",
       "      <td>0</td>\n",
       "      <td>125000</td>\n",
       "      <td>manual</td>\n",
       "      <td>19211</td>\n",
       "      <td>NaN</td>\n",
       "      <td>9999</td>\n",
       "    </tr>\n",
       "    <tr>\n",
       "      <th>132485</th>\n",
       "      <td>2016-03-25 00:00:00</td>\n",
       "      <td>2016-03-25 14:55:49</td>\n",
       "      <td>2016-03-30 05:16:18</td>\n",
       "      <td>59556</td>\n",
       "      <td>wagon</td>\n",
       "      <td>NaN</td>\n",
       "      <td>bmw</td>\n",
       "      <td>5er</td>\n",
       "      <td>2001</td>\n",
       "      <td>5</td>\n",
       "      <td>150000</td>\n",
       "      <td>manual</td>\n",
       "      <td>19208</td>\n",
       "      <td>yes</td>\n",
       "      <td>2100</td>\n",
       "    </tr>\n",
       "    <tr>\n",
       "      <th>63986</th>\n",
       "      <td>2016-03-28 00:00:00</td>\n",
       "      <td>2016-03-28 11:49:56</td>\n",
       "      <td>2016-04-06 14:17:21</td>\n",
       "      <td>86641</td>\n",
       "      <td>sedan</td>\n",
       "      <td>petrol</td>\n",
       "      <td>opel</td>\n",
       "      <td>omega</td>\n",
       "      <td>2001</td>\n",
       "      <td>6</td>\n",
       "      <td>150000</td>\n",
       "      <td>auto</td>\n",
       "      <td>17932</td>\n",
       "      <td>NaN</td>\n",
       "      <td>3250</td>\n",
       "    </tr>\n",
       "    <tr>\n",
       "      <th>...</th>\n",
       "      <td>...</td>\n",
       "      <td>...</td>\n",
       "      <td>...</td>\n",
       "      <td>...</td>\n",
       "      <td>...</td>\n",
       "      <td>...</td>\n",
       "      <td>...</td>\n",
       "      <td>...</td>\n",
       "      <td>...</td>\n",
       "      <td>...</td>\n",
       "      <td>...</td>\n",
       "      <td>...</td>\n",
       "      <td>...</td>\n",
       "      <td>...</td>\n",
       "      <td>...</td>\n",
       "    </tr>\n",
       "    <tr>\n",
       "      <th>128896</th>\n",
       "      <td>2016-03-19 00:00:00</td>\n",
       "      <td>2016-03-19 23:36:35</td>\n",
       "      <td>2016-04-02 05:15:39</td>\n",
       "      <td>25764</td>\n",
       "      <td>other</td>\n",
       "      <td>petrol</td>\n",
       "      <td>daihatsu</td>\n",
       "      <td>cuore</td>\n",
       "      <td>1998</td>\n",
       "      <td>4</td>\n",
       "      <td>125000</td>\n",
       "      <td>manual</td>\n",
       "      <td>301</td>\n",
       "      <td>no</td>\n",
       "      <td>1000</td>\n",
       "    </tr>\n",
       "    <tr>\n",
       "      <th>130007</th>\n",
       "      <td>2016-03-06 00:00:00</td>\n",
       "      <td>2016-03-06 10:49:30</td>\n",
       "      <td>2016-03-14 19:15:18</td>\n",
       "      <td>46483</td>\n",
       "      <td>coupe</td>\n",
       "      <td>petrol</td>\n",
       "      <td>nissan</td>\n",
       "      <td>NaN</td>\n",
       "      <td>2007</td>\n",
       "      <td>8</td>\n",
       "      <td>125000</td>\n",
       "      <td>manual</td>\n",
       "      <td>301</td>\n",
       "      <td>no</td>\n",
       "      <td>13900</td>\n",
       "    </tr>\n",
       "    <tr>\n",
       "      <th>224430</th>\n",
       "      <td>2016-04-04 00:00:00</td>\n",
       "      <td>2016-04-04 14:48:57</td>\n",
       "      <td>2016-04-06 16:17:21</td>\n",
       "      <td>84036</td>\n",
       "      <td>coupe</td>\n",
       "      <td>petrol</td>\n",
       "      <td>audi</td>\n",
       "      <td>NaN</td>\n",
       "      <td>1998</td>\n",
       "      <td>0</td>\n",
       "      <td>125000</td>\n",
       "      <td>manual</td>\n",
       "      <td>301</td>\n",
       "      <td>no</td>\n",
       "      <td>5990</td>\n",
       "    </tr>\n",
       "    <tr>\n",
       "      <th>11197</th>\n",
       "      <td>2016-03-26 00:00:00</td>\n",
       "      <td>2016-03-26 22:51:57</td>\n",
       "      <td>2016-04-06 18:48:25</td>\n",
       "      <td>10829</td>\n",
       "      <td>coupe</td>\n",
       "      <td>petrol</td>\n",
       "      <td>nissan</td>\n",
       "      <td>other</td>\n",
       "      <td>2005</td>\n",
       "      <td>5</td>\n",
       "      <td>150000</td>\n",
       "      <td>manual</td>\n",
       "      <td>301</td>\n",
       "      <td>NaN</td>\n",
       "      <td>11000</td>\n",
       "    </tr>\n",
       "    <tr>\n",
       "      <th>175148</th>\n",
       "      <td>2016-03-05 00:00:00</td>\n",
       "      <td>2016-03-05 18:51:58</td>\n",
       "      <td>2016-04-01 17:15:52</td>\n",
       "      <td>6667</td>\n",
       "      <td>coupe</td>\n",
       "      <td>NaN</td>\n",
       "      <td>nissan</td>\n",
       "      <td>NaN</td>\n",
       "      <td>2003</td>\n",
       "      <td>0</td>\n",
       "      <td>20000</td>\n",
       "      <td>manual</td>\n",
       "      <td>301</td>\n",
       "      <td>no</td>\n",
       "      <td>7500</td>\n",
       "    </tr>\n",
       "  </tbody>\n",
       "</table>\n",
       "<p>3317 rows × 15 columns</p>\n",
       "</div>"
      ],
      "text/plain": [
       "               date_created         date_crawled       date_last_seen  \\\n",
       "219583  2016-03-09 00:00:00  2016-03-09 15:43:53  2016-03-30 08:47:08   \n",
       "299177  2016-03-09 00:00:00  2016-03-09 08:53:11  2016-04-07 11:44:34   \n",
       "114106  2016-04-03 00:00:00  2016-04-03 07:36:21  2016-04-07 10:16:10   \n",
       "132485  2016-03-25 00:00:00  2016-03-25 14:55:49  2016-03-30 05:16:18   \n",
       "63986   2016-03-28 00:00:00  2016-03-28 11:49:56  2016-04-06 14:17:21   \n",
       "...                     ...                  ...                  ...   \n",
       "128896  2016-03-19 00:00:00  2016-03-19 23:36:35  2016-04-02 05:15:39   \n",
       "130007  2016-03-06 00:00:00  2016-03-06 10:49:30  2016-03-14 19:15:18   \n",
       "224430  2016-04-04 00:00:00  2016-04-04 14:48:57  2016-04-06 16:17:21   \n",
       "11197   2016-03-26 00:00:00  2016-03-26 22:51:57  2016-04-06 18:48:25   \n",
       "175148  2016-03-05 00:00:00  2016-03-05 18:51:58  2016-04-01 17:15:52   \n",
       "\n",
       "        postal_code vehicle_type fuel_type          brand  model  reg_year  \\\n",
       "219583        19406        coupe    petrol  mercedes_benz    clk      1999   \n",
       "299177        21129        wagon       NaN            bmw    5er      1997   \n",
       "114106        45964        sedan  gasoline            bmw    1er      2006   \n",
       "132485        59556        wagon       NaN            bmw    5er      2001   \n",
       "63986         86641        sedan    petrol           opel  omega      2001   \n",
       "...             ...          ...       ...            ...    ...       ...   \n",
       "128896        25764        other    petrol       daihatsu  cuore      1998   \n",
       "130007        46483        coupe    petrol         nissan    NaN      2007   \n",
       "224430        84036        coupe    petrol           audi    NaN      1998   \n",
       "11197         10829        coupe    petrol         nissan  other      2005   \n",
       "175148         6667        coupe       NaN         nissan    NaN      2003   \n",
       "\n",
       "        reg_month      km gearbox  power repaired  price  \n",
       "219583          1  150000    auto  20000       no   4300  \n",
       "299177          1  150000  manual  19312       no   1500  \n",
       "114106          0  125000  manual  19211      NaN   9999  \n",
       "132485          5  150000  manual  19208      yes   2100  \n",
       "63986           6  150000    auto  17932      NaN   3250  \n",
       "...           ...     ...     ...    ...      ...    ...  \n",
       "128896          4  125000  manual    301       no   1000  \n",
       "130007          8  125000  manual    301       no  13900  \n",
       "224430          0  125000  manual    301       no   5990  \n",
       "11197           5  150000  manual    301      NaN  11000  \n",
       "175148          0   20000  manual    301       no   7500  \n",
       "\n",
       "[3317 rows x 15 columns]"
      ]
     },
     "execution_count": 13,
     "metadata": {},
     "output_type": "execute_result"
    }
   ],
   "source": [
    "df.loc[df['power'] > 300].sort_values(by='power', ascending=False)"
   ]
  },
  {
   "cell_type": "markdown",
   "metadata": {},
   "source": [
    "More often these are serial cars (Audi, Opel, BMW) and there is a high probability that the power is extremely high, but really powerful cars like Porshe come across.It is difficult to draw a line between anomalies and just emissions, you will have to either leave part of the anomalies, but save useful data, or cut off useful data, but get rid of anomalies.We will leave part of the anomalies and get rid of only obvious anomalies in order not to lose useful data in the segment of powerful cars.We also remove cars with a power to zero L.S."
   ]
  },
  {
   "cell_type": "code",
   "execution_count": 14,
   "metadata": {},
   "outputs": [
    {
     "name": "stdout",
     "output_type": "stream",
     "text": [
      "удалено строк: 34081\n"
     ]
    }
   ],
   "source": [
    "shape_before = df.shape[0]\n",
    "df = df.loc[(df['power'] < 500) & (df['power'] != 0)]\n",
    "print(f'удалено строк: {shape_before - df.shape[0]}')"
   ]
  },
  {
   "cell_type": "markdown",
   "metadata": {},
   "source": [
    "Remove the anomalies in the target sign"
   ]
  },
  {
   "cell_type": "code",
   "execution_count": 15,
   "metadata": {},
   "outputs": [
    {
     "name": "stdout",
     "output_type": "stream",
     "text": [
      "удалено строк: 5996\n"
     ]
    }
   ],
   "source": [
    "shape_before = df.shape[0]\n",
    "df = df.loc[df['price'] != 0]\n",
    "print(f'удалено строк: {shape_before - df.shape[0]}')"
   ]
  },
  {
   "cell_type": "markdown",
   "metadata": {},
   "source": [
    "Passes fill in the field `unknown` becauseWe do not know real information from missed cells and if we try to fill them out with data, we will rather make more distortions, it is better to let the model predicts the price on the basis that the data is missing"
   ]
  },
  {
   "cell_type": "code",
   "execution_count": 16,
   "metadata": {},
   "outputs": [],
   "source": [
    "df.fillna('unknown', inplace=True)"
   ]
  },
  {
   "cell_type": "markdown",
   "metadata": {},
   "source": [
    "Let's see what is with the dates and if we need them"
   ]
  },
  {
   "cell_type": "code",
   "execution_count": 17,
   "metadata": {},
   "outputs": [
    {
     "data": {
      "image/png": "[encoded data removed]",
      "text/plain": [
       "<Figure size 1080x360 with 1 Axes>"
      ]
     },
     "metadata": {},
     "output_type": "display_data"
    }
   ],
   "source": [
    "# посмотрим на зависимость цены от года регистрации авто\n",
    "plt.figure(figsize=(15,5))\n",
    "sns.boxplot(x='reg_year', y='price', data=df, palette=\"Set1\", width=0.5)\n",
    "plt.xticks(rotation=90, ha='right')\n",
    "plt.show()"
   ]
  },
  {
   "cell_type": "code",
   "execution_count": 18,
   "metadata": {},
   "outputs": [
    {
     "data": {
      "image/png": "[encoded data removed]",
      "text/plain": [
       "<Figure size 432x288 with 1 Axes>"
      ]
     },
     "metadata": {},
     "output_type": "display_data"
    }
   ],
   "source": [
    "# посмотрим на зависимость цены от месяца регистрации авто\n",
    "sns.boxplot(x='reg_month', y='price', data=df, palette=\"Set1\", width=0.5)\n",
    "plt.show()"
   ]
  },
  {
   "cell_type": "code",
   "execution_count": 19,
   "metadata": {},
   "outputs": [],
   "source": [
    "# сконвертируем столбцы с датой в формат datetime64\n",
    "df['date_created'] = pd.to_datetime(df['date_created'], format='%Y-%m-%dT%H:%M:%S')\n",
    "df['date_crawled'] = pd.to_datetime(df['date_crawled'], format='%Y-%m-%dT%H:%M:%S')\n",
    "df['date_last_seen'] = pd.to_datetime(df['date_last_seen'], format='%Y-%m-%dT%H:%M:%S')"
   ]
  },
  {
   "cell_type": "code",
   "execution_count": 20,
   "metadata": {},
   "outputs": [
    {
     "name": "stdout",
     "output_type": "stream",
     "text": [
      "[2016 2015]\n",
      "[2016]\n",
      "[2016]\n"
     ]
    }
   ],
   "source": [
    "# посмотрим какие уникальные значения года есть в столбцах\n",
    "print(df['date_created'].dt.year.unique())\n",
    "print(df['date_crawled'].dt.year.unique())\n",
    "print(df['date_last_seen'].dt.year.unique())"
   ]
  },
  {
   "cell_type": "code",
   "execution_count": 21,
   "metadata": {},
   "outputs": [
    {
     "data": {
      "text/plain": [
       "2016    290069\n",
       "2015        24\n",
       "Name: date_created, dtype: int64"
      ]
     },
     "execution_count": 21,
     "metadata": {},
     "output_type": "execute_result"
    }
   ],
   "source": [
    "# посмотрим на соотношение количества записей по разным годам в столбце даты создания\n",
    "df['date_created'].dt.year.value_counts()"
   ]
  },
  {
   "cell_type": "code",
   "execution_count": 22,
   "metadata": {},
   "outputs": [
    {
     "data": {
      "text/html": [
       "<div>\n",
       "<style scoped>\n",
       "    .dataframe tbody tr th:only-of-type {\n",
       "        vertical-align: middle;\n",
       "    }\n",
       "\n",
       "    .dataframe tbody tr th {\n",
       "        vertical-align: top;\n",
       "    }\n",
       "\n",
       "    .dataframe thead th {\n",
       "        text-align: right;\n",
       "    }\n",
       "</style>\n",
       "<table border=\"1\" class=\"dataframe\">\n",
       "  <thead>\n",
       "    <tr style=\"text-align: right;\">\n",
       "      <th></th>\n",
       "      <th>created</th>\n",
       "      <th>crawled</th>\n",
       "      <th>last seen</th>\n",
       "    </tr>\n",
       "  </thead>\n",
       "  <tbody>\n",
       "    <tr>\n",
       "      <th>1</th>\n",
       "      <td>8341.88</td>\n",
       "      <td>NaN</td>\n",
       "      <td>NaN</td>\n",
       "    </tr>\n",
       "    <tr>\n",
       "      <th>2</th>\n",
       "      <td>6367.48</td>\n",
       "      <td>NaN</td>\n",
       "      <td>NaN</td>\n",
       "    </tr>\n",
       "    <tr>\n",
       "      <th>3</th>\n",
       "      <td>4864.26</td>\n",
       "      <td>4866.11</td>\n",
       "      <td>4095.27</td>\n",
       "    </tr>\n",
       "    <tr>\n",
       "      <th>4</th>\n",
       "      <td>5086.82</td>\n",
       "      <td>5092.07</td>\n",
       "      <td>5490.21</td>\n",
       "    </tr>\n",
       "    <tr>\n",
       "      <th>8</th>\n",
       "      <td>9725.00</td>\n",
       "      <td>NaN</td>\n",
       "      <td>NaN</td>\n",
       "    </tr>\n",
       "    <tr>\n",
       "      <th>9</th>\n",
       "      <td>3566.67</td>\n",
       "      <td>NaN</td>\n",
       "      <td>NaN</td>\n",
       "    </tr>\n",
       "    <tr>\n",
       "      <th>11</th>\n",
       "      <td>7753.89</td>\n",
       "      <td>NaN</td>\n",
       "      <td>NaN</td>\n",
       "    </tr>\n",
       "    <tr>\n",
       "      <th>12</th>\n",
       "      <td>7249.89</td>\n",
       "      <td>NaN</td>\n",
       "      <td>NaN</td>\n",
       "    </tr>\n",
       "  </tbody>\n",
       "</table>\n",
       "</div>"
      ],
      "text/plain": [
       "    created  crawled  last seen\n",
       "1   8341.88      NaN        NaN\n",
       "2   6367.48      NaN        NaN\n",
       "3   4864.26  4866.11    4095.27\n",
       "4   5086.82  5092.07    5490.21\n",
       "8   9725.00      NaN        NaN\n",
       "9   3566.67      NaN        NaN\n",
       "11  7753.89      NaN        NaN\n",
       "12  7249.89      NaN        NaN"
      ]
     },
     "execution_count": 22,
     "metadata": {},
     "output_type": "execute_result"
    }
   ],
   "source": [
    "# создадим отдельные столбцы с месяцами по каждому из столбцов\n",
    "df['month_created'] = df['date_created'].dt.month\n",
    "df['month_crawled'] = df['date_crawled'].dt.month\n",
    "df['month_last_seen'] = df['date_last_seen'].dt.month\n",
    "\n",
    "# создадим мини датасет со сводной информацией по средней цене за месяца\n",
    "month = pd.DataFrame({'created': df.groupby('month_created')['price'].mean(),\n",
    "                     'crawled': df.groupby('month_crawled')['price'].mean(),\n",
    "                     'last seen': df.groupby('month_last_seen')['price'].mean()})\n",
    "\n",
    "# посмотрим на эти данные\n",
    "month"
   ]
  },
  {
   "cell_type": "code",
   "execution_count": 23,
   "metadata": {},
   "outputs": [
    {
     "data": {
      "text/plain": [
       "month_created\n",
       "1         57\n",
       "2        351\n",
       "3     242669\n",
       "4      46993\n",
       "8          2\n",
       "9          3\n",
       "11         9\n",
       "12         9\n",
       "Name: price, dtype: int64"
      ]
     },
     "execution_count": 23,
     "metadata": {},
     "output_type": "execute_result"
    }
   ],
   "source": [
    "# посмотрим на количество записей по месяцам в столбце даты создания\n",
    "df.groupby('month_created')['price'].count()"
   ]
  },
  {
   "cell_type": "code",
   "execution_count": 24,
   "metadata": {},
   "outputs": [
    {
     "data": {
      "text/plain": [
       "month_crawled\n",
       "3    242735\n",
       "4     47358\n",
       "Name: price, dtype: int64"
      ]
     },
     "execution_count": 24,
     "metadata": {},
     "output_type": "execute_result"
    }
   ],
   "source": [
    "# повторим для других столбцов\n",
    "df.groupby('month_crawled')['price'].count()"
   ]
  },
  {
   "cell_type": "code",
   "execution_count": 25,
   "metadata": {},
   "outputs": [
    {
     "data": {
      "text/plain": [
       "month_last_seen\n",
       "3    122118\n",
       "4    167975\n",
       "Name: price, dtype: int64"
      ]
     },
     "execution_count": 25,
     "metadata": {},
     "output_type": "execute_result"
    }
   ],
   "source": [
    "df.groupby('month_last_seen')['price'].count()"
   ]
  },
  {
   "cell_type": "code",
   "execution_count": 26,
   "metadata": {},
   "outputs": [
    {
     "data": {
      "image/png": "[encoded data removed]",
      "text/plain": [
       "<Figure size 288x144 with 1 Axes>"
      ]
     },
     "metadata": {},
     "output_type": "display_data"
    }
   ],
   "source": [
    "# создадим столбцы  по неделям\n",
    "df['weekday_created'] = df['date_created'].dt.weekday\n",
    "df['weekday_crawled'] = df['date_crawled'].dt.weekday\n",
    "df['weekday_last_seen'] = df['date_last_seen'].dt.weekday\n",
    "\n",
    "# создадим сводную таблицу со средними ценами за неделю\n",
    "week = pd.DataFrame({'created': df.groupby('weekday_created')['price'].mean(),\n",
    "                     'crawled': df.groupby('weekday_crawled')['price'].mean(),\n",
    "                     'last seen': df.groupby('weekday_last_seen')['price'].mean()})\n",
    "\n",
    "# выведем эти данные в виде таблиц\n",
    "bars = ('пн', 'вт', 'ср', 'чт', 'пт', 'сб', 'вс')\n",
    "y_pos = np.arange(len(bars))\n",
    "\n",
    "plt.figure(figsize=(4,2))\n",
    "plt.bar(y_pos, week['created'])\n",
    "plt.xticks(y_pos, bars)\n",
    "plt.show()"
   ]
  },
  {
   "cell_type": "code",
   "execution_count": 27,
   "metadata": {},
   "outputs": [
    {
     "data": {
      "image/png": "[encoded data removed]",
      "text/plain": [
       "<Figure size 288x144 with 1 Axes>"
      ]
     },
     "metadata": {},
     "output_type": "display_data"
    }
   ],
   "source": [
    "plt.figure(figsize=(4,2))\n",
    "plt.bar(y_pos, week['crawled'])\n",
    "plt.xticks(y_pos, bars)\n",
    "plt.show()"
   ]
  },
  {
   "cell_type": "code",
   "execution_count": 28,
   "metadata": {},
   "outputs": [
    {
     "data": {
      "image/png": "[encoded data removed]",
      "text/plain": [
       "<Figure size 288x144 with 1 Axes>"
      ]
     },
     "metadata": {},
     "output_type": "display_data"
    }
   ],
   "source": [
    "plt.figure(figsize=(4,2))\n",
    "plt.bar(y_pos, week['last seen'])\n",
    "plt.xticks(y_pos, bars)\n",
    "plt.show()"
   ]
  },
  {
   "cell_type": "markdown",
   "metadata": {},
   "source": [
    "Year of registration of cars\n",
    "\n",
    "Prices for cars 20 or less, falls than the car is older than the car, after 20 years, prices on the contrary begin to grow, the retro car segment begins.Here you can create an additional class for segmentation on retro/new.\n",
    "\n",
    "A month of registration of a car\n",
    "\n",
    "In all 12 months, there is no significant impact on the price, moreover, there is an incomprehensible zero month that just affects the price.Perhaps people selling an old and cheap car do not bother to enter a month correctly.Be that as it may, this column only bothers us, get rid of it.\n",
    "\n",
    "\n",
    "columns with the dates of creation/registration/unloading\n",
    "\n",
    "Everywhere there is one in all three columns, with the exception of several records of not 2016, but one column that can be dedicated to.\n",
    "\n",
    "Almost all notes occur for 3 and 4 months in all three columns with dates, this is strange, the reason for this is not clear, but using such data dubious idea.\n",
    "\n",
    "The days of the week from the two columns are almost never flooded, there is a slight inflinking for the price in the column that is responsible for the last appearance of the user on the site.This is strange, the price of a car is unlikely to depend on when the person was last on the site.\n",
    "\n",
    "It looks so that these columns can simply remove and do not load the model with them, it will be learned without them faster and these data will not enter errors, so the quality will be better without them."
   ]
  },
  {
   "cell_type": "code",
   "execution_count": 29,
   "metadata": {},
   "outputs": [],
   "source": [
    "df = df.drop(['date_created','date_crawled','date_last_seen',\n",
    "              'weekday_created','weekday_crawled','weekday_last_seen',\n",
    "              'month_created', 'month_crawled', 'month_last_seen',\n",
    "              'reg_month'\n",
    "              ], axis=1)"
   ]
  },
  {
   "cell_type": "code",
   "execution_count": 30,
   "metadata": {},
   "outputs": [],
   "source": [
    "def retro_classifier(year):\n",
    "    if year < 1996:\n",
    "        return 1\n",
    "    else:\n",
    "        return 0\n",
    "\n",
    "df['retro'] = df['reg_year'].apply(retro_classifier)"
   ]
  },
  {
   "cell_type": "markdown",
   "metadata": {},
   "source": [
    "## Model training"
   ]
  },
  {
   "cell_type": "markdown",
   "metadata": {},
   "source": [
    "We will divide the dataset into samples"
   ]
  },
  {
   "cell_type": "code",
   "execution_count": 31,
   "metadata": {},
   "outputs": [
    {
     "name": "stdout",
     "output_type": "stream",
     "text": [
      "Размер тренировочной выборки:\n",
      "признаки (174055, 11);\n",
      "целевой признак (174055,)\n",
      "это 60% от датасета\n",
      "\n",
      "Размер валидационной выборки:\n",
      "признаки (58019, 11);\n",
      "целевой признак (58019,)\n",
      "это 20% от датасета\n",
      "\n",
      "Размер тестовой выборки:\n",
      "признаки (58019, 11);\n",
      "целевой признак (58019,)\n",
      "это 20% от датасета\n"
     ]
    }
   ],
   "source": [
    "X = df.drop(['price'], axis=1)\n",
    "y = df['price']\n",
    "\n",
    "X_train_n_valid, X_test, y_train_n_valid, y_test = train_test_split(\n",
    "    X, y, test_size=0.2, random_state=1337)\n",
    "\n",
    "X_train, X_valid, y_train, y_valid = train_test_split(\n",
    "    X_train_n_valid, y_train_n_valid, test_size=0.25, random_state=1337)\n",
    "\n",
    "print('Размер тренировочной выборки:')\n",
    "print(f'признаки {X_train.shape};')\n",
    "print(f'целевой признак {y_train.shape}')\n",
    "print(f'это {round((y_train.count() / y.count()) * 100)}% от датасета')\n",
    "print()\n",
    "print('Размер валидационной выборки:')\n",
    "print(f'признаки {X_valid.shape};')\n",
    "print(f'целевой признак {y_valid.shape}')\n",
    "print(f'это {round((y_valid.count() / y.count()) * 100)}% от датасета')\n",
    "print()\n",
    "print('Размер тестовой выборки:')\n",
    "print(f'признаки {X_test.shape};')\n",
    "print(f'целевой признак {y_test.shape}')\n",
    "print(f'это {round((y_test.count() / y.count()) * 100)}% от датасета')"
   ]
  },
  {
   "cell_type": "markdown",
   "metadata": {},
   "source": [
    "We encode parameters by `binaryencoder`"
   ]
  },
  {
   "cell_type": "code",
   "execution_count": 32,
   "metadata": {},
   "outputs": [],
   "source": [
    "# обозначаем названия столбцов для кодировки списком\n",
    "x_to_enc = ['vehicle_type','fuel_type','brand','model','gearbox','repaired']\n",
    "\n",
    "# выбираем кодировщик\n",
    "bn = BinaryEncoder()\n",
    "\n",
    "# сбрасываем индексы в выборка для корректного объединения кодированных данных с остальной таблицей в дальнейшем\n",
    "X_train.reset_index(inplace=True)\n",
    "X_train.drop(['index'], axis=1, inplace=True)\n",
    "X_valid.reset_index(inplace=True)\n",
    "X_valid.drop(['index'], axis=1, inplace=True)\n",
    "X_test.reset_index(inplace=True)\n",
    "X_test.drop(['index'], axis=1, inplace=True)\n",
    "\n",
    "# кодируем выбранные столбцы по списку названий в выборках обучая кодировщик на них же\n",
    "coded_X_train = bn.fit_transform(X_train[x_to_enc].values)\n",
    "coded_X_valid = bn.transform(X_valid[x_to_enc].values)\n",
    "coded_X_test = bn.transform(X_test[x_to_enc].values)\n",
    "\n",
    "# удаляем из выборок оригинальные, не закодированные столбцы\n",
    "X_train = X_train.drop(x_to_enc, axis=1)\n",
    "X_valid = X_valid.drop(x_to_enc, axis=1)\n",
    "X_test = X_test.drop(x_to_enc, axis=1)\n",
    "\n",
    "# добавляем в выборки закодированные столбцы\n",
    "X_train = pd.concat([X_train, coded_X_train], axis=1)\n",
    "X_valid = pd.concat([X_valid, coded_X_valid], axis=1)\n",
    "X_test = pd.concat([X_test, coded_X_test], axis=1)"
   ]
  },
  {
   "cell_type": "markdown",
   "metadata": {},
   "source": [
    "Create a variable for ross validation"
   ]
  },
  {
   "cell_type": "code",
   "execution_count": 33,
   "metadata": {},
   "outputs": [],
   "source": [
    "cv = KFold(n_splits=5, random_state=1337, shuffle=True)"
   ]
  },
  {
   "cell_type": "markdown",
   "metadata": {},
   "source": [
    "## RandomForestregressor Model"
   ]
  },
  {
   "cell_type": "markdown",
   "metadata": {},
   "source": [
    "Find good parameters using `RandomizedSearchcv`.To do this, we will take a validation sample, since it is less and the process will pass faster."
   ]
  },
  {
   "cell_type": "code",
   "execution_count": 34,
   "metadata": {},
   "outputs": [
    {
     "name": "stdout",
     "output_type": "stream",
     "text": [
      "значение RMSE модели случайного леса:\n",
      "1732.9619596967764\n",
      "при следующих параметрах:\n",
      "{'random_state': 1337, 'n_estimators': 200, 'min_samples_split': 2, 'min_samples_leaf': 2, 'max_depth': 16}\n"
     ]
    }
   ],
   "source": [
    "rf_model = RandomForestRegressor()\n",
    "\n",
    "rf_params = {'random_state': [1337],\n",
    "             'n_estimators': range(100, 1001, 100),\n",
    "             'max_depth': [1,4,8,12,16,20],\n",
    "             'min_samples_split' : [2,6,10,16],\n",
    "             'min_samples_leaf' : [1,2,4,8,16]\n",
    "             }\n",
    "\n",
    "rf_rndsch = RandomizedSearchCV(rf_model,\n",
    "                               param_distributions = rf_params,\n",
    "                               n_iter = 20,\n",
    "                               scoring='neg_root_mean_squared_error',\n",
    "                               error_score='raise',\n",
    "                               cv = cv,\n",
    "                               random_state = 1337,\n",
    "                               n_jobs = -1\n",
    "                               )\n",
    "\n",
    "rf_rndsch.fit(X_valid, y_valid)\n",
    "\n",
    "rf_rmse = abs(rf_rndsch.best_score_)\n",
    "\n",
    "print('значение RMSE модели случайного леса:')\n",
    "print(rf_rmse)\n",
    "print('при следующих параметрах:')\n",
    "print(rf_rndsch.best_params_)"
   ]
  },
  {
   "cell_type": "markdown",
   "metadata": {},
   "source": [
    "The parameters found using RandomizedSearchcv:\n",
    "\n",
    "The value of the RMSE model of random forest:\n",
    "1732.9619596967764\n",
    "At the following parameters:\n",
    "{'random_state': 1337, 'n_estimators': 200, 'min_samples_split': 2, 'min_samples_leaf': 2, 'max_depth': 16}\n",
    "\n",
    "The overkill of the parameters is carried out among this space of options:\n",
    "\n",
    "{'random_state': [1337],\n",
    "'n_estimators': Range (100, 1001, 100),\n",
    "'max_depth': [1,4,8,12,16,20],\n",
    "'min_samples_split': [2,6,10,16],\n",
    "'min_samples_leaf': [1,2,4,8,16]\n",
    "}\n",
    "\n",
    "Time spent in search of 21 minutes"
   ]
  },
  {
   "cell_type": "markdown",
   "metadata": {},
   "source": [
    "We use the found parameters for teaching the model already on the training sample and check on the validation"
   ]
  },
  {
   "cell_type": "code",
   "execution_count": 35,
   "metadata": {},
   "outputs": [],
   "source": [
    "rf_model = RandomForestRegressor(random_state=1337,\n",
    "                              n_estimators=200,\n",
    "                              max_depth=16,\n",
    "                              min_samples_split=2,\n",
    "                              min_samples_leaf=2\n",
    "                              )"
   ]
  },
  {
   "cell_type": "code",
   "execution_count": 36,
   "metadata": {},
   "outputs": [
    {
     "name": "stdout",
     "output_type": "stream",
     "text": [
      "CPU times: user 2min 44s, sys: 1e+03 ms, total: 2min 45s\n",
      "Wall time: 2min 45s\n"
     ]
    },
    {
     "data": {
      "text/plain": [
       "RandomForestRegressor(max_depth=16, min_samples_leaf=2, n_estimators=200,\n",
       "                      random_state=1337)"
      ]
     },
     "execution_count": 36,
     "metadata": {},
     "output_type": "execute_result"
    }
   ],
   "source": [
    "%%time\n",
    "rf_model.fit(X_train, y_train)"
   ]
  },
  {
   "cell_type": "code",
   "execution_count": 37,
   "metadata": {},
   "outputs": [
    {
     "name": "stdout",
     "output_type": "stream",
     "text": [
      "CPU times: user 3.08 s, sys: 16 ms, total: 3.1 s\n",
      "Wall time: 3.11 s\n"
     ]
    }
   ],
   "source": [
    "%%time\n",
    "predict_valid = rf_model.predict(X_valid)"
   ]
  },
  {
   "cell_type": "code",
   "execution_count": 38,
   "metadata": {},
   "outputs": [
    {
     "name": "stdout",
     "output_type": "stream",
     "text": [
      "RMSE модели случайного леса: 1595.56\n"
     ]
    }
   ],
   "source": [
    "rf_rmse = mean_squared_error(predict_valid, y_valid)**0.5\n",
    "print('RMSE модели случайного леса:', round(rf_rmse, 2))"
   ]
  },
  {
   "cell_type": "markdown",
   "metadata": {},
   "source": [
    "## Lightgbm Model"
   ]
  },
  {
   "cell_type": "markdown",
   "metadata": {},
   "source": [
    "To begin with, we will enter the parameters for the gradient boosting model with our hands to understand what we are from"
   ]
  },
  {
   "cell_type": "code",
   "execution_count": 50,
   "metadata": {},
   "outputs": [
    {
     "name": "stdout",
     "output_type": "stream",
     "text": [
      "RMSE модели градиентного бустинга LightGBM 1704.72\n",
      "CPU times: user 12.7 s, sys: 68.8 ms, total: 12.8 s\n",
      "Wall time: 12.8 s\n"
     ]
    }
   ],
   "source": [
    "%%time\n",
    "\n",
    "gb1_model = LGBMRegressor(\n",
    "    boosting_type='gbdt',\n",
    "    num_leaves=31,\n",
    "    max_depth=-1,\n",
    "    learning_rate=0.1,\n",
    "    n_estimators=100,\n",
    "    objective='regression',\n",
    "    min_split_gain=0.0,\n",
    "    min_child_samples=20,\n",
    "    subsample=1.0,\n",
    "    subsample_freq=0,\n",
    "    colsample_bytree=1.0,\n",
    "    reg_alpha=0.0,\n",
    "    reg_lambda=0.0,\n",
    "    random_state=1337,\n",
    "    silent=True\n",
    "    )\n",
    "\n",
    "gb1_rmse = cross_val_score(gb1_model, X_valid, y_valid, scoring='neg_root_mean_squared_error', cv=cv, n_jobs=-1, error_score='raise')\n",
    "print(f'RMSE модели градиентного бустинга LightGBM {round(abs(np.mean(gb1_rmse)), 2)}')"
   ]
  },
  {
   "cell_type": "markdown",
   "metadata": {},
   "source": [
    "Find the parameters that will improve our quality using `RandomizedSearchcv`"
   ]
  },
  {
   "cell_type": "code",
   "execution_count": 40,
   "metadata": {},
   "outputs": [
    {
     "name": "stdout",
     "output_type": "stream",
     "text": [
      "значение RMSE LightGBM модели градиентного бустинга:\n",
      "1626.133687051163\n",
      "при следующих параметрах:\n",
      "{'num_leaves': 60, 'n_estimators': 400, 'max_depth': 16, 'learning_rate': 0.1}\n"
     ]
    }
   ],
   "source": [
    "gbrs_model = LGBMRegressor(\n",
    "                    objective='regression',\n",
    "                    min_split_gain=0.0,\n",
    "                    min_child_samples=20,\n",
    "                    subsample=1.0,\n",
    "                    subsample_freq=0,\n",
    "                    colsample_bytree=1.0,\n",
    "                    reg_alpha=0.0,\n",
    "                    reg_lambda=0.0,\n",
    "                    seed=1337\n",
    "                )\n",
    "\n",
    "gb_parameters = {'num_leaves': [21, 31, 41, 60],\n",
    "                'max_depth': [-1, 0, 1, 16, 32],\n",
    "                'learning_rate': [0.01, 0.1, 0.2, 0.3, 0.4],\n",
    "                'n_estimators': [100, 200, 400]\n",
    "                }\n",
    "                \n",
    "gb_rndsch = RandomizedSearchCV(gbrs_model, \n",
    "                               param_distributions = gb_parameters,\n",
    "                               n_iter = 300, \n",
    "                               scoring='neg_root_mean_squared_error', \n",
    "                               error_score='raise', \n",
    "                               cv = cv,\n",
    "                               random_state = 1337,\n",
    "                               n_jobs = -1\n",
    "                               )\n",
    "\n",
    "gb_rndsch.fit(X_valid, y_valid)\n",
    "\n",
    "gb_rndsch_rmse = abs(gb_rndsch.best_score_)\n",
    "\n",
    "print('значение RMSE LightGBM модели градиентного бустинга:')\n",
    "print(gb_rndsch_rmse)\n",
    "print('при следующих параметрах:')\n",
    "print(gb_rndsch.best_params_)"
   ]
  },
  {
   "cell_type": "markdown",
   "metadata": {},
   "source": [
    "The parameters found using RandomizedSearchcv:\n",
    "\n",
    "RMSE LightGBM value of gradient boosts:\n",
    "1626.133687051163\n",
    "At the following parameters:\n",
    "{'num_leaves': 60, 'n_estimators': 400, 'max_depth': 16, 'Learning_Rate': 0.1}\n",
    "\n",
    "The overkill of the parameters is carried out among this space of options:\n",
    "\n",
    "{'num_leaves': [21, 31, 41, 60],\n",
    "'max_depth': [-1, 0, 1, 16, 32],\n",
    "'Learning_Rate': [0.01, 0.1, 0.2, 0.3, 0.4],\n",
    "'n_estimators': [100, 200, 400]\n",
    "}\n",
    "\n",
    "Time spent in search"
   ]
  },
  {
   "cell_type": "markdown",
   "metadata": {},
   "source": [
    "Check the found parameters on the validation sample and compare the results"
   ]
  },
  {
   "cell_type": "code",
   "execution_count": 52,
   "metadata": {},
   "outputs": [
    {
     "name": "stdout",
     "output_type": "stream",
     "text": [
      "RMSE модели градиентного бустинга LightGBM 1626.13\n",
      "CPU times: user 59.2 s, sys: 480 ms, total: 59.6 s\n",
      "Wall time: 60 s\n"
     ]
    }
   ],
   "source": [
    "%%time\n",
    "\n",
    "gb2_model = LGBMRegressor(\n",
    "    boosting_type='gbdt',\n",
    "    num_leaves=60,\n",
    "    max_depth=16,\n",
    "    learning_rate=0.1,\n",
    "    n_estimators=400,\n",
    "    objective='regression',\n",
    "    min_split_gain=0.0,\n",
    "    min_child_samples=20,\n",
    "    subsample=1.0,\n",
    "    subsample_freq=0,\n",
    "    colsample_bytree=1.0,\n",
    "    reg_alpha=0.0,\n",
    "    reg_lambda=0.0,\n",
    "    random_state=1337,\n",
    "    silent=True\n",
    "    )\n",
    "\n",
    "gb2_rmse = cross_val_score(gb2_model, X_valid, y_valid, scoring='neg_root_mean_squared_error', cv=cv, n_jobs=-1, error_score='raise')\n",
    "print(f'RMSE модели градиентного бустинга LightGBM {round(abs(np.mean(gb2_rmse)), 2)}')"
   ]
  },
  {
   "cell_type": "markdown",
   "metadata": {},
   "source": [
    "The quality has improved from 1704.72 to 1626.13, while the time spent on teaching the model on the cross -country cross and the metric calculation increased from 12.8 S to 59.6 s.\n",
    "As we see, the growth as a completely proportional time spent, the speed of training has decreased significantly, and since the speed of training is also important to us, such a mural of quality is not such a slowdown in the process.In the task, we needed to achieve the quality of RMSE no more than 2500, and we achieve these goals with the initially taken parameters, but with a much ray time of training.\n",
    "\n",
    "\n",
    "We will train the model in the training sample"
   ]
  },
  {
   "cell_type": "code",
   "execution_count": 51,
   "metadata": {},
   "outputs": [],
   "source": [
    "gb_model = LGBMRegressor(\n",
    "    boosting_type='gbdt',\n",
    "    num_leaves=31,\n",
    "    max_depth=-1,\n",
    "    learning_rate=0.1,\n",
    "    n_estimators=100,\n",
    "    objective='regression',\n",
    "    min_split_gain=0.0,\n",
    "    min_child_samples=20,\n",
    "    subsample=1.0,\n",
    "    subsample_freq=0,\n",
    "    colsample_bytree=1.0,\n",
    "    reg_alpha=0.0,\n",
    "    reg_lambda=0.0,\n",
    "    random_state=1337,\n",
    "    silent=True\n",
    "    )"
   ]
  },
  {
   "cell_type": "code",
   "execution_count": 43,
   "metadata": {},
   "outputs": [
    {
     "name": "stdout",
     "output_type": "stream",
     "text": [
      "CPU times: user 5.34 s, sys: 37.4 ms, total: 5.38 s\n",
      "Wall time: 5.39 s\n"
     ]
    },
    {
     "data": {
      "text/plain": [
       "LGBMRegressor(objective='regression', random_state=1337, silent=True)"
      ]
     },
     "execution_count": 43,
     "metadata": {},
     "output_type": "execute_result"
    }
   ],
   "source": [
    "%%time\n",
    "gb_model.fit(X_train, y_train)"
   ]
  },
  {
   "cell_type": "code",
   "execution_count": 44,
   "metadata": {},
   "outputs": [
    {
     "name": "stdout",
     "output_type": "stream",
     "text": [
      "CPU times: user 460 ms, sys: 0 ns, total: 460 ms\n",
      "Wall time: 411 ms\n"
     ]
    }
   ],
   "source": [
    "%%time\n",
    "gb_predict_valid = gb_model.predict(X_valid)"
   ]
  },
  {
   "cell_type": "code",
   "execution_count": 45,
   "metadata": {},
   "outputs": [
    {
     "name": "stdout",
     "output_type": "stream",
     "text": [
      "RMSE модели градиентного бустинга: 1673.48\n"
     ]
    }
   ],
   "source": [
    "gb_rmse = mean_squared_error(gb_predict_valid, y_valid)**0.5\n",
    "print('RMSE модели градиентного бустинга:', round(gb_rmse, 2))"
   ]
  },
  {
   "cell_type": "markdown",
   "metadata": {},
   "source": [
    "## Analysis of models"
   ]
  },
  {
   "cell_type": "code",
   "execution_count": 54,
   "metadata": {},
   "outputs": [
    {
     "data": {
      "text/html": [
       "<div>\n",
       "<style scoped>\n",
       "    .dataframe tbody tr th:only-of-type {\n",
       "        vertical-align: middle;\n",
       "    }\n",
       "\n",
       "    .dataframe tbody tr th {\n",
       "        vertical-align: top;\n",
       "    }\n",
       "\n",
       "    .dataframe thead th {\n",
       "        text-align: right;\n",
       "    }\n",
       "</style>\n",
       "<table border=\"1\" class=\"dataframe\">\n",
       "  <thead>\n",
       "    <tr style=\"text-align: right;\">\n",
       "      <th></th>\n",
       "      <th>Model</th>\n",
       "      <th>RMSE</th>\n",
       "      <th>CPU time: обучение</th>\n",
       "      <th>CPU time: предсказание</th>\n",
       "    </tr>\n",
       "  </thead>\n",
       "  <tbody>\n",
       "    <tr>\n",
       "      <th>0</th>\n",
       "      <td>RandomForestRegressor Model</td>\n",
       "      <td>1595.56</td>\n",
       "      <td>2min 45s</td>\n",
       "      <td>3.1 s</td>\n",
       "    </tr>\n",
       "    <tr>\n",
       "      <th>1</th>\n",
       "      <td>LightGBM Model</td>\n",
       "      <td>1673.48</td>\n",
       "      <td>5.38 s</td>\n",
       "      <td>460 ms</td>\n",
       "    </tr>\n",
       "  </tbody>\n",
       "</table>\n",
       "</div>"
      ],
      "text/plain": [
       "                         Model    RMSE CPU time: обучение  \\\n",
       "0  RandomForestRegressor Model 1595.56           2min 45s   \n",
       "1               LightGBM Model 1673.48             5.38 s   \n",
       "\n",
       "  CPU time: предсказание  \n",
       "0                  3.1 s  \n",
       "1                 460 ms  "
      ]
     },
     "execution_count": 54,
     "metadata": {},
     "output_type": "execute_result"
    }
   ],
   "source": [
    "analys_df = pd.DataFrame({'Model': ['RandomForestRegressor Model', 'LightGBM Model'],\n",
    "                          'RMSE': [rf_rmse, gb_rmse],\n",
    "                          'CPU time: обучение': ['2min 45s', '5.38 s'],\n",
    "                          'CPU time: предсказание': ['3.1 s', '460 ms']\n",
    "                          })\n",
    "analys_df"
   ]
  },
  {
   "cell_type": "markdown",
   "metadata": {},
   "source": [
    "Compared to the model of random forest, the model of gradient boosting shows a huge increase in the speed of training, while demonstrating good quality.Unlike RandomForest, gradient boosting is not studying in minutes, but in seconds.The rate of prediction also increases by double and is calculated in a fraction of a second.\n",
    "\n",
    "When choosing the parameters, you can achieve possible qualities better than that of the model of a random forest, while the speed will still be better, but becauseThe task is to find the balance between quality and speed, it was decided to leave the quality such a little worse than that of a random forest, for the sake of speed of work, which increases significantly on such parameters"
   ]
  },
  {
   "cell_type": "markdown",
   "metadata": {},
   "source": [
    "Check the model on test data"
   ]
  },
  {
   "cell_type": "code",
   "execution_count": 47,
   "metadata": {},
   "outputs": [
    {
     "name": "stdout",
     "output_type": "stream",
     "text": [
      "CPU times: user 479 ms, sys: 0 ns, total: 479 ms\n",
      "Wall time: 381 ms\n"
     ]
    }
   ],
   "source": [
    "%%time\n",
    "gb_predict_test = gb_model.predict(X_test)"
   ]
  },
  {
   "cell_type": "code",
   "execution_count": 48,
   "metadata": {},
   "outputs": [
    {
     "name": "stdout",
     "output_type": "stream",
     "text": [
      "RMSE модели: 1669.03\n"
     ]
    }
   ],
   "source": [
    "final_rmse = mean_squared_error(gb_predict_test, y_test)**0.5\n",
    "print('RMSE модели:', round(final_rmse, 2))"
   ]
  },
  {
   "cell_type": "markdown",
   "metadata": {},
   "source": [
    "Conclusion\n",
    "\n",
    "In the course of work, data for teaching models were studied and prepared.A comparative analysis of models of random forest and gradient boosting was carried out.\n",
    "The gradient boosting model showed itself better in all respects both in quality and in the speed of prediction and especially in the speed of training.\n",
    "\n",
    "The final RMSE model in the test sample is 1669.03\n",
    "The speed of training was 5.38 s\n",
    "Prediction speed 479 ms"
   ]
  },
  {
   "cell_type": "code",
   "execution_count": null,
   "metadata": {},
   "outputs": [],
   "source": []
  }
 ],
 "metadata": {
  "ExecuteTimeLog": [
   {
    "duration": 1836,
    "start_time": "2023-02-07T19:55:19.148Z"
   },
   {
    "duration": 2442,
    "start_time": "2023-02-07T19:55:20.987Z"
   },
   {
    "duration": 1412,
    "start_time": "2023-02-07T19:55:23.431Z"
   },
   {
    "duration": 1279,
    "start_time": "2023-02-07T19:55:24.845Z"
   },
   {
    "duration": 11,
    "start_time": "2023-02-07T19:55:26.126Z"
   },
   {
    "duration": 2313,
    "start_time": "2023-02-07T19:55:26.139Z"
   },
   {
    "duration": 4,
    "start_time": "2023-02-07T19:55:28.454Z"
   },
   {
    "duration": 78,
    "start_time": "2023-02-07T19:55:28.459Z"
   },
   {
    "duration": 41,
    "start_time": "2023-02-07T19:55:28.539Z"
   },
   {
    "duration": 437,
    "start_time": "2023-02-07T19:55:28.584Z"
   },
   {
    "duration": 47,
    "start_time": "2023-02-07T19:55:29.023Z"
   },
   {
    "duration": 113,
    "start_time": "2023-02-07T19:55:29.072Z"
   },
   {
    "duration": 25,
    "start_time": "2023-02-07T19:55:29.187Z"
   },
   {
    "duration": 53,
    "start_time": "2023-02-07T19:55:29.214Z"
   },
   {
    "duration": 38,
    "start_time": "2023-02-07T19:55:29.269Z"
   },
   {
    "duration": 98,
    "start_time": "2023-02-07T19:55:29.308Z"
   },
   {
    "duration": 1892,
    "start_time": "2023-02-07T19:55:29.408Z"
   },
   {
    "duration": 317,
    "start_time": "2023-02-07T19:55:31.301Z"
   },
   {
    "duration": 149,
    "start_time": "2023-02-07T19:55:31.620Z"
   },
   {
    "duration": 96,
    "start_time": "2023-02-07T19:55:31.771Z"
   },
   {
    "duration": 29,
    "start_time": "2023-02-07T19:55:31.869Z"
   },
   {
    "duration": 99,
    "start_time": "2023-02-07T19:55:31.900Z"
   },
   {
    "duration": 8,
    "start_time": "2023-02-07T19:55:32.000Z"
   },
   {
    "duration": 11,
    "start_time": "2023-02-07T19:55:32.010Z"
   },
   {
    "duration": 18,
    "start_time": "2023-02-07T19:55:32.023Z"
   },
   {
    "duration": 195,
    "start_time": "2023-02-07T19:55:32.042Z"
   },
   {
    "duration": 81,
    "start_time": "2023-02-07T19:55:32.239Z"
   },
   {
    "duration": 94,
    "start_time": "2023-02-07T19:55:32.323Z"
   },
   {
    "duration": 115,
    "start_time": "2023-02-07T19:55:32.418Z"
   },
   {
    "duration": 102,
    "start_time": "2023-02-07T19:55:32.535Z"
   },
   {
    "duration": 138,
    "start_time": "2023-02-07T19:55:32.640Z"
   },
   {
    "duration": 1611,
    "start_time": "2023-02-07T19:55:49.047Z"
   },
   {
    "duration": 4,
    "start_time": "2023-02-07T19:56:12.717Z"
   },
   {
    "duration": 5215,
    "start_time": "2023-02-07T19:56:13.534Z"
   },
   {
    "duration": 492,
    "start_time": "2023-02-07T19:56:18.752Z"
   },
   {
    "duration": 5,
    "start_time": "2023-02-07T19:56:21.788Z"
   },
   {
    "duration": 384,
    "start_time": "2023-02-07T19:56:27.456Z"
   },
   {
    "duration": 4,
    "start_time": "2023-02-07T19:56:28.668Z"
   },
   {
    "duration": 194,
    "start_time": "2023-02-07T19:56:40.184Z"
   },
   {
    "duration": 120,
    "start_time": "2023-02-07T19:56:42.709Z"
   },
   {
    "duration": 2025,
    "start_time": "2023-02-07T19:56:43.337Z"
   },
   {
    "duration": 4,
    "start_time": "2023-02-07T19:56:50.461Z"
   },
   {
    "duration": 7786,
    "start_time": "2023-02-07T19:56:50.959Z"
   },
   {
    "duration": 401,
    "start_time": "2023-02-07T19:56:58.747Z"
   },
   {
    "duration": 4,
    "start_time": "2023-02-07T19:56:59.150Z"
   },
   {
    "duration": 3019,
    "start_time": "2023-02-07T20:26:14.066Z"
   },
   {
    "duration": 3392,
    "start_time": "2023-02-07T20:26:17.087Z"
   },
   {
    "duration": 1996,
    "start_time": "2023-02-07T20:26:20.482Z"
   },
   {
    "duration": 1450,
    "start_time": "2023-02-07T20:26:22.480Z"
   },
   {
    "duration": 24,
    "start_time": "2023-02-07T20:26:23.932Z"
   },
   {
    "duration": 3040,
    "start_time": "2023-02-07T20:26:23.958Z"
   },
   {
    "duration": 4,
    "start_time": "2023-02-07T20:26:27.000Z"
   },
   {
    "duration": 83,
    "start_time": "2023-02-07T20:26:27.006Z"
   },
   {
    "duration": 55,
    "start_time": "2023-02-07T20:26:27.091Z"
   },
   {
    "duration": 576,
    "start_time": "2023-02-07T20:26:27.152Z"
   },
   {
    "duration": 59,
    "start_time": "2023-02-07T20:26:27.730Z"
   },
   {
    "duration": 142,
    "start_time": "2023-02-07T20:26:27.790Z"
   },
   {
    "duration": 45,
    "start_time": "2023-02-07T20:26:27.937Z"
   },
   {
    "duration": 46,
    "start_time": "2023-02-07T20:26:27.984Z"
   },
   {
    "duration": 56,
    "start_time": "2023-02-07T20:26:28.042Z"
   },
   {
    "duration": 140,
    "start_time": "2023-02-07T20:26:28.099Z"
   },
   {
    "duration": 2343,
    "start_time": "2023-02-07T20:26:28.241Z"
   },
   {
    "duration": 369,
    "start_time": "2023-02-07T20:26:30.586Z"
   },
   {
    "duration": 165,
    "start_time": "2023-02-07T20:26:30.957Z"
   },
   {
    "duration": 93,
    "start_time": "2023-02-07T20:26:31.123Z"
   },
   {
    "duration": 51,
    "start_time": "2023-02-07T20:26:31.217Z"
   },
   {
    "duration": 113,
    "start_time": "2023-02-07T20:26:31.271Z"
   },
   {
    "duration": 9,
    "start_time": "2023-02-07T20:26:31.386Z"
   },
   {
    "duration": 34,
    "start_time": "2023-02-07T20:26:31.396Z"
   },
   {
    "duration": 45,
    "start_time": "2023-02-07T20:26:31.431Z"
   },
   {
    "duration": 222,
    "start_time": "2023-02-07T20:26:31.477Z"
   },
   {
    "duration": 112,
    "start_time": "2023-02-07T20:26:31.700Z"
   },
   {
    "duration": 105,
    "start_time": "2023-02-07T20:26:31.817Z"
   },
   {
    "duration": 106,
    "start_time": "2023-02-07T20:26:31.924Z"
   },
   {
    "duration": 102,
    "start_time": "2023-02-07T20:26:32.032Z"
   },
   {
    "duration": 159,
    "start_time": "2023-02-07T20:26:32.135Z"
   },
   {
    "duration": 1911,
    "start_time": "2023-02-07T20:26:32.295Z"
   },
   {
    "duration": 3,
    "start_time": "2023-02-07T20:26:34.207Z"
   },
   {
    "duration": 7601956,
    "start_time": "2023-02-07T20:26:34.212Z"
   },
   {
    "duration": 5,
    "start_time": "2023-02-07T22:33:16.169Z"
   },
   {
    "duration": 165639,
    "start_time": "2023-02-07T22:33:16.175Z"
   },
   {
    "duration": 3111,
    "start_time": "2023-02-07T22:36:01.815Z"
   },
   {
    "duration": 5,
    "start_time": "2023-02-07T22:36:04.927Z"
   },
   {
    "duration": 829801,
    "start_time": "2023-02-07T22:36:04.938Z"
   },
   {
    "duration": 11988704,
    "start_time": "2023-02-07T22:49:54.742Z"
   },
   {
    "duration": 12492,
    "start_time": "2023-02-08T02:09:43.447Z"
   },
   {
    "duration": 4,
    "start_time": "2023-02-08T02:09:55.941Z"
   },
   {
    "duration": 5400,
    "start_time": "2023-02-08T02:09:55.946Z"
   },
   {
    "duration": 490,
    "start_time": "2023-02-08T02:10:01.348Z"
   },
   {
    "duration": 6,
    "start_time": "2023-02-08T02:10:01.840Z"
   },
   {
    "duration": 74,
    "start_time": "2023-02-08T02:10:01.848Z"
   },
   {
    "duration": 513,
    "start_time": "2023-02-08T02:10:01.925Z"
   },
   {
    "duration": 6,
    "start_time": "2023-02-08T02:10:02.440Z"
   },
   {
    "duration": 12775,
    "start_time": "2023-02-08T02:54:23.371Z"
   },
   {
    "duration": 12819,
    "start_time": "2023-02-08T02:56:48.720Z"
   },
   {
    "duration": 4,
    "start_time": "2023-02-08T02:58:23.379Z"
   },
   {
    "duration": 59999,
    "start_time": "2023-02-08T03:00:20.241Z"
   },
   {
    "duration": 9,
    "start_time": "2023-02-08T03:07:14.539Z"
   },
   {
    "duration": 9,
    "start_time": "2023-02-08T03:07:55.007Z"
   }
  ],
  "kernelspec": {
   "display_name": "Python 3",
   "language": "python",
   "name": "python3"
  },
  "language_info": {
   "codemirror_mode": {
    "name": "ipython",
    "version": 3
   },
   "file_extension": ".py",
   "mimetype": "text/x-python",
   "name": "python",
   "nbconvert_exporter": "python",
   "pygments_lexer": "ipython3",
   "version": "3.10.6"
  },
  "toc": {
   "base_numbering": 1,
   "nav_menu": {},
   "number_sections": true,
   "sideBar": true,
   "skip_h1_title": true,
   "title_cell": "Table of Contents",
   "title_sidebar": "Contents",
   "toc_cell": false,
   "toc_position": {},
   "toc_section_display": true,
   "toc_window_display": false
  },
  "vscode": {
   "interpreter": {
    "hash": "8a5edab282632443219e051e4ade2d1d5bbc671c781051bf1437897cbdfea0f1"
   }
  }
 },
 "nbformat": 4,
 "nbformat_minor": 2
}
