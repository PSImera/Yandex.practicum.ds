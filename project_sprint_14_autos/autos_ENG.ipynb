{
 "cells": [
  {
   "cell_type": "markdown",
   "metadata": {},
   "source": [
    "# Determining the cost of cars"
   ]
  },
  {
   "cell_type": "markdown",
   "metadata": {},
   "source": [
    "The service for the sale of cars with “not bit, not painted” is developing an application to attract new customers.In it you can quickly find out the market value of your car.At your disposal historical data: technical characteristics, configuration and prices of cars.You need to build a model to determine the cost.\n",
    "\n",
    "The customer is important:\n",
    "\n",
    "- quality of prediction;\n",
    "- the speed of prediction;\n",
    "- The time of training."
   ]
  },
  {
   "cell_type": "markdown",
   "metadata": {},
   "source": [
    "Instructions for the implementation of the project\n",
    "\n",
    "To strengthen the study, do not limit yourself to gradient boosting.Try simpler models - sometimes they work better.These rare cases are easy to skip if only boosting is always used.\n",
    "Experiment and compare the characteristics of models: training time, prediction time, accuracy of the result.\n",
    "\n",
    "Main steps:\n",
    "\n",
    "- Download the data, the path to the file: `/datasets/autos.csv`\n",
    "- Study the data.Fill in the missed values ​​and process anomalies in column.If there are non -informative ones among the signs, remove them\n",
    "- Prepare samples for teaching models\n",
    "- Teach different models, one of which is LightGBM, at least one - not boosting.For each model, try different hyperparameters\n",
    "- Analyze the time of training, the time of prediction and the quality of the models\n",
    "- Based on the customer’s criteria, choose the best model, check its quality in a test sample\n",
    "\n",
    "Notes:\n",
    "- To assess the quality of models, use RMSE metric\n",
    "- the value of the RMSE metric should be less than 2500\n",
    "- Start the LightGBM library yourself and build a gradient boosting model with its means\n",
    "- The time of execution of the Jupyter Notebook code can be obtained by a special team.Find it\n",
    "- The model of gradient boosting can study for a long time, so change her only two or three parameters\n",
    "- If Jupyter Notebook stops working, delete extra variables `Del`\n",
    "\n",
    "Del features_train\n",
    "\n",
    "Data description\n",
    "- Data are in the file [/datasets/autos.csv](Https://code.s3.yandex.net/datasets/autos.csv \"Code.s3.S3.yandex.NET/DATASTS/ATOS.CSV\")\n",
    "\n",
    "Signs\n",
    "- `DateCrawled` - Date of downloading of the questionnaire from the base\n",
    "- `VehicleType` - type of car body\n",
    "- `RegistrationYear` - year of registration of the car\n",
    "- `Gearbox` - type of gearbox\n",
    "- `Power` - power (p.)\n",
    "- `Model` - car model\n",
    "- `kilometer` - mileage (km)\n",
    "- `RegistrationMonth` - Month of car registration\n",
    "- `FuelType` - fuel type\n",
    "- `Brand` - car brand\n",
    "- `Repaired` - there was a car in repair or not\n",
    "- `DateCreated` - Date of creation of a questionnaire\n",
    "- `NumberOfPictures` - number of car photos\n",
    "- `PostalCode` - postal index of the questionnaire (user)\n",
    "- `Lastseen` - Date of the last user activity\n",
    "\n",
    "Target sign\n",
    "- `Price` - price (euro)"
   ]
  },
  {
   "cell_type": "markdown",
   "metadata": {},
   "source": [
    "## Data Preparation"
   ]
  },
  {
   "cell_type": "code",
   "execution_count": 85,
   "metadata": {},
   "outputs": [],
   "source": [
    "import warnings\n",
    "warnings.filterwarnings('ignore')\n",
    "\n",
    "import pandas as pd\n",
    "import numpy as np\n",
    "import os.path\n",
    "import math\n",
    "\n",
    "import matplotlib.pyplot as plt\n",
    "import seaborn as sns\n",
    "plt.style.use('dark_background')\n",
    "\n",
    "from sklearn.model_selection import train_test_split\n",
    "from category_encoders.binary import BinaryEncoder\n",
    "from sklearn.model_selection import KFold\n",
    "from sklearn.model_selection import cross_val_score\n",
    "from lightgbm import LGBMRegressor\n",
    "from sklearn.ensemble import RandomForestRegressor\n",
    "from sklearn.metrics import mean_squared_error\n",
    "from sklearn.model_selection import GridSearchCV, RandomizedSearchCV\n",
    "\n",
    "pd.set_option('display.max_columns', None)\n",
    "pd.set_option('display.float_format', lambda x: '%.2f' % x)\n",
    "pd.options.mode.chained_assignment = None"
   ]
  },
  {
   "cell_type": "code",
   "execution_count": 86,
   "metadata": {},
   "outputs": [],
   "source": [
    "try:\n",
    "    path_df = os.path.join('datasets/autos.csv')\n",
    "    df = pd.read_csv(path_df)\n",
    "except:\n",
    "    df = pd.read_csv('https://code.s3.yandex.net/datasets/autos.csv')"
   ]
  },
  {
   "cell_type": "code",
   "execution_count": 87,
   "metadata": {},
   "outputs": [],
   "source": [
    "def first_view(data):\n",
    "    title_lenght = 79\n",
    "    title_one = 'Overview of the data of the first and last five rows'\n",
    "    print('~' * int((title_lenght - len(title_one)) / 2), title_one, '~' * (title_lenght - len(title_one) - int((title_lenght - len(title_one)) / 2)))\n",
    "    display(data.head(5))\n",
    "    display(data.tail(5))\n",
    "    print()\n",
    "    title_two = 'General describe info'\n",
    "    print('~' * int((title_lenght - len(title_two)) / 2), title_two, '~' * (title_lenght - len(title_two) - int((title_lenght - len(title_two)) / 2)))\n",
    "    display(data.describe())\n",
    "    print()\n",
    "    title_three = 'Data type' \n",
    "    print('~' * int((title_lenght - len(title_three)) / 2), title_three, '~' * (title_lenght - len(title_three) - int((title_lenght - len(title_three)) / 2)))\n",
    "    data.info()\n",
    "    print()\n",
    "    title_four = 'Counting passes'\n",
    "    print('~' * int((title_lenght - len(title_four)) / 2), title_four, '~' * (title_lenght - len(title_four) - int((title_lenght - len(title_four)) / 2)))\n",
    "    all_nulls = 0\n",
    "    for col in data.columns:\n",
    "       if data[col].isna().sum() > 0:\n",
    "            all_nulls += 1\n",
    "            print(f\"{data[col].isna().sum()} missing values ​​in the column {col}. it's {round(data[col].isna().mean() * 100, 2)}%\")\n",
    "    if all_nulls == 0:\n",
    "        print('There are no gaps in the data frame')\n",
    "    print()\n",
    "    title_five = 'Obvious duplicates'\n",
    "    print('~' * int((title_lenght - len(title_five)) / 2), title_five, '~' * (title_lenght - len(title_five) - int((title_lenght - len(title_five)) / 2)))\n",
    "    if data.duplicated().sum() > 0:\n",
    "        print('Count of obvious duplicates - ', data.duplicated().sum())\n",
    "    else:\n",
    "        print('There is no Obvious duplicates in data frame')\n",
    "    print()\n",
    "    title_six = 'Dataframe histograms'\n",
    "    print('~' * int((title_lenght - len(title_six)) / 2), title_six, '~' * (title_lenght - len(title_six) - int((title_lenght - len(title_six)) / 2)))\n",
    "    data.hist(bins=50, figsize = (8, 8));"
   ]
  },
  {
   "cell_type": "code",
   "execution_count": 88,
   "metadata": {},
   "outputs": [
    {
     "name": "stdout",
     "output_type": "stream",
     "text": [
      "~~~~~~~~~~~~~ Overview of the data of the first and last five rows ~~~~~~~~~~~~~~\n"
     ]
    },
    {
     "data": {
      "text/html": [
       "<div>\n",
       "<style scoped>\n",
       "    .dataframe tbody tr th:only-of-type {\n",
       "        vertical-align: middle;\n",
       "    }\n",
       "\n",
       "    .dataframe tbody tr th {\n",
       "        vertical-align: top;\n",
       "    }\n",
       "\n",
       "    .dataframe thead th {\n",
       "        text-align: right;\n",
       "    }\n",
       "</style>\n",
       "<table border=\"1\" class=\"dataframe\">\n",
       "  <thead>\n",
       "    <tr style=\"text-align: right;\">\n",
       "      <th></th>\n",
       "      <th>DateCrawled</th>\n",
       "      <th>Price</th>\n",
       "      <th>VehicleType</th>\n",
       "      <th>RegistrationYear</th>\n",
       "      <th>Gearbox</th>\n",
       "      <th>Power</th>\n",
       "      <th>Model</th>\n",
       "      <th>Kilometer</th>\n",
       "      <th>RegistrationMonth</th>\n",
       "      <th>FuelType</th>\n",
       "      <th>Brand</th>\n",
       "      <th>Repaired</th>\n",
       "      <th>DateCreated</th>\n",
       "      <th>NumberOfPictures</th>\n",
       "      <th>PostalCode</th>\n",
       "      <th>LastSeen</th>\n",
       "    </tr>\n",
       "  </thead>\n",
       "  <tbody>\n",
       "    <tr>\n",
       "      <th>0</th>\n",
       "      <td>2016-03-24 11:52:17</td>\n",
       "      <td>480</td>\n",
       "      <td>NaN</td>\n",
       "      <td>1993</td>\n",
       "      <td>manual</td>\n",
       "      <td>0</td>\n",
       "      <td>golf</td>\n",
       "      <td>150000</td>\n",
       "      <td>0</td>\n",
       "      <td>petrol</td>\n",
       "      <td>volkswagen</td>\n",
       "      <td>NaN</td>\n",
       "      <td>2016-03-24 00:00:00</td>\n",
       "      <td>0</td>\n",
       "      <td>70435</td>\n",
       "      <td>2016-04-07 03:16:57</td>\n",
       "    </tr>\n",
       "    <tr>\n",
       "      <th>1</th>\n",
       "      <td>2016-03-24 10:58:45</td>\n",
       "      <td>18300</td>\n",
       "      <td>coupe</td>\n",
       "      <td>2011</td>\n",
       "      <td>manual</td>\n",
       "      <td>190</td>\n",
       "      <td>NaN</td>\n",
       "      <td>125000</td>\n",
       "      <td>5</td>\n",
       "      <td>gasoline</td>\n",
       "      <td>audi</td>\n",
       "      <td>yes</td>\n",
       "      <td>2016-03-24 00:00:00</td>\n",
       "      <td>0</td>\n",
       "      <td>66954</td>\n",
       "      <td>2016-04-07 01:46:50</td>\n",
       "    </tr>\n",
       "    <tr>\n",
       "      <th>2</th>\n",
       "      <td>2016-03-14 12:52:21</td>\n",
       "      <td>9800</td>\n",
       "      <td>suv</td>\n",
       "      <td>2004</td>\n",
       "      <td>auto</td>\n",
       "      <td>163</td>\n",
       "      <td>grand</td>\n",
       "      <td>125000</td>\n",
       "      <td>8</td>\n",
       "      <td>gasoline</td>\n",
       "      <td>jeep</td>\n",
       "      <td>NaN</td>\n",
       "      <td>2016-03-14 00:00:00</td>\n",
       "      <td>0</td>\n",
       "      <td>90480</td>\n",
       "      <td>2016-04-05 12:47:46</td>\n",
       "    </tr>\n",
       "    <tr>\n",
       "      <th>3</th>\n",
       "      <td>2016-03-17 16:54:04</td>\n",
       "      <td>1500</td>\n",
       "      <td>small</td>\n",
       "      <td>2001</td>\n",
       "      <td>manual</td>\n",
       "      <td>75</td>\n",
       "      <td>golf</td>\n",
       "      <td>150000</td>\n",
       "      <td>6</td>\n",
       "      <td>petrol</td>\n",
       "      <td>volkswagen</td>\n",
       "      <td>no</td>\n",
       "      <td>2016-03-17 00:00:00</td>\n",
       "      <td>0</td>\n",
       "      <td>91074</td>\n",
       "      <td>2016-03-17 17:40:17</td>\n",
       "    </tr>\n",
       "    <tr>\n",
       "      <th>4</th>\n",
       "      <td>2016-03-31 17:25:20</td>\n",
       "      <td>3600</td>\n",
       "      <td>small</td>\n",
       "      <td>2008</td>\n",
       "      <td>manual</td>\n",
       "      <td>69</td>\n",
       "      <td>fabia</td>\n",
       "      <td>90000</td>\n",
       "      <td>7</td>\n",
       "      <td>gasoline</td>\n",
       "      <td>skoda</td>\n",
       "      <td>no</td>\n",
       "      <td>2016-03-31 00:00:00</td>\n",
       "      <td>0</td>\n",
       "      <td>60437</td>\n",
       "      <td>2016-04-06 10:17:21</td>\n",
       "    </tr>\n",
       "  </tbody>\n",
       "</table>\n",
       "</div>"
      ],
      "text/plain": [
       "           DateCrawled  Price VehicleType  RegistrationYear Gearbox  Power  \\\n",
       "0  2016-03-24 11:52:17    480         NaN              1993  manual      0   \n",
       "1  2016-03-24 10:58:45  18300       coupe              2011  manual    190   \n",
       "2  2016-03-14 12:52:21   9800         suv              2004    auto    163   \n",
       "3  2016-03-17 16:54:04   1500       small              2001  manual     75   \n",
       "4  2016-03-31 17:25:20   3600       small              2008  manual     69   \n",
       "\n",
       "   Model  Kilometer  RegistrationMonth  FuelType       Brand Repaired  \\\n",
       "0   golf     150000                  0    petrol  volkswagen      NaN   \n",
       "1    NaN     125000                  5  gasoline        audi      yes   \n",
       "2  grand     125000                  8  gasoline        jeep      NaN   \n",
       "3   golf     150000                  6    petrol  volkswagen       no   \n",
       "4  fabia      90000                  7  gasoline       skoda       no   \n",
       "\n",
       "           DateCreated  NumberOfPictures  PostalCode             LastSeen  \n",
       "0  2016-03-24 00:00:00                 0       70435  2016-04-07 03:16:57  \n",
       "1  2016-03-24 00:00:00                 0       66954  2016-04-07 01:46:50  \n",
       "2  2016-03-14 00:00:00                 0       90480  2016-04-05 12:47:46  \n",
       "3  2016-03-17 00:00:00                 0       91074  2016-03-17 17:40:17  \n",
       "4  2016-03-31 00:00:00                 0       60437  2016-04-06 10:17:21  "
      ]
     },
     "metadata": {},
     "output_type": "display_data"
    },
    {
     "data": {
      "text/html": [
       "<div>\n",
       "<style scoped>\n",
       "    .dataframe tbody tr th:only-of-type {\n",
       "        vertical-align: middle;\n",
       "    }\n",
       "\n",
       "    .dataframe tbody tr th {\n",
       "        vertical-align: top;\n",
       "    }\n",
       "\n",
       "    .dataframe thead th {\n",
       "        text-align: right;\n",
       "    }\n",
       "</style>\n",
       "<table border=\"1\" class=\"dataframe\">\n",
       "  <thead>\n",
       "    <tr style=\"text-align: right;\">\n",
       "      <th></th>\n",
       "      <th>DateCrawled</th>\n",
       "      <th>Price</th>\n",
       "      <th>VehicleType</th>\n",
       "      <th>RegistrationYear</th>\n",
       "      <th>Gearbox</th>\n",
       "      <th>Power</th>\n",
       "      <th>Model</th>\n",
       "      <th>Kilometer</th>\n",
       "      <th>RegistrationMonth</th>\n",
       "      <th>FuelType</th>\n",
       "      <th>Brand</th>\n",
       "      <th>Repaired</th>\n",
       "      <th>DateCreated</th>\n",
       "      <th>NumberOfPictures</th>\n",
       "      <th>PostalCode</th>\n",
       "      <th>LastSeen</th>\n",
       "    </tr>\n",
       "  </thead>\n",
       "  <tbody>\n",
       "    <tr>\n",
       "      <th>354364</th>\n",
       "      <td>2016-03-21 09:50:58</td>\n",
       "      <td>0</td>\n",
       "      <td>NaN</td>\n",
       "      <td>2005</td>\n",
       "      <td>manual</td>\n",
       "      <td>0</td>\n",
       "      <td>colt</td>\n",
       "      <td>150000</td>\n",
       "      <td>7</td>\n",
       "      <td>petrol</td>\n",
       "      <td>mitsubishi</td>\n",
       "      <td>yes</td>\n",
       "      <td>2016-03-21 00:00:00</td>\n",
       "      <td>0</td>\n",
       "      <td>2694</td>\n",
       "      <td>2016-03-21 10:42:49</td>\n",
       "    </tr>\n",
       "    <tr>\n",
       "      <th>354365</th>\n",
       "      <td>2016-03-14 17:48:27</td>\n",
       "      <td>2200</td>\n",
       "      <td>NaN</td>\n",
       "      <td>2005</td>\n",
       "      <td>NaN</td>\n",
       "      <td>0</td>\n",
       "      <td>NaN</td>\n",
       "      <td>20000</td>\n",
       "      <td>1</td>\n",
       "      <td>NaN</td>\n",
       "      <td>sonstige_autos</td>\n",
       "      <td>NaN</td>\n",
       "      <td>2016-03-14 00:00:00</td>\n",
       "      <td>0</td>\n",
       "      <td>39576</td>\n",
       "      <td>2016-04-06 00:46:52</td>\n",
       "    </tr>\n",
       "    <tr>\n",
       "      <th>354366</th>\n",
       "      <td>2016-03-05 19:56:21</td>\n",
       "      <td>1199</td>\n",
       "      <td>convertible</td>\n",
       "      <td>2000</td>\n",
       "      <td>auto</td>\n",
       "      <td>101</td>\n",
       "      <td>fortwo</td>\n",
       "      <td>125000</td>\n",
       "      <td>3</td>\n",
       "      <td>petrol</td>\n",
       "      <td>smart</td>\n",
       "      <td>no</td>\n",
       "      <td>2016-03-05 00:00:00</td>\n",
       "      <td>0</td>\n",
       "      <td>26135</td>\n",
       "      <td>2016-03-11 18:17:12</td>\n",
       "    </tr>\n",
       "    <tr>\n",
       "      <th>354367</th>\n",
       "      <td>2016-03-19 18:57:12</td>\n",
       "      <td>9200</td>\n",
       "      <td>bus</td>\n",
       "      <td>1996</td>\n",
       "      <td>manual</td>\n",
       "      <td>102</td>\n",
       "      <td>transporter</td>\n",
       "      <td>150000</td>\n",
       "      <td>3</td>\n",
       "      <td>gasoline</td>\n",
       "      <td>volkswagen</td>\n",
       "      <td>no</td>\n",
       "      <td>2016-03-19 00:00:00</td>\n",
       "      <td>0</td>\n",
       "      <td>87439</td>\n",
       "      <td>2016-04-07 07:15:26</td>\n",
       "    </tr>\n",
       "    <tr>\n",
       "      <th>354368</th>\n",
       "      <td>2016-03-20 19:41:08</td>\n",
       "      <td>3400</td>\n",
       "      <td>wagon</td>\n",
       "      <td>2002</td>\n",
       "      <td>manual</td>\n",
       "      <td>100</td>\n",
       "      <td>golf</td>\n",
       "      <td>150000</td>\n",
       "      <td>6</td>\n",
       "      <td>gasoline</td>\n",
       "      <td>volkswagen</td>\n",
       "      <td>NaN</td>\n",
       "      <td>2016-03-20 00:00:00</td>\n",
       "      <td>0</td>\n",
       "      <td>40764</td>\n",
       "      <td>2016-03-24 12:45:21</td>\n",
       "    </tr>\n",
       "  </tbody>\n",
       "</table>\n",
       "</div>"
      ],
      "text/plain": [
       "                DateCrawled  Price  VehicleType  RegistrationYear Gearbox  \\\n",
       "354364  2016-03-21 09:50:58      0          NaN              2005  manual   \n",
       "354365  2016-03-14 17:48:27   2200          NaN              2005     NaN   \n",
       "354366  2016-03-05 19:56:21   1199  convertible              2000    auto   \n",
       "354367  2016-03-19 18:57:12   9200          bus              1996  manual   \n",
       "354368  2016-03-20 19:41:08   3400        wagon              2002  manual   \n",
       "\n",
       "        Power        Model  Kilometer  RegistrationMonth  FuelType  \\\n",
       "354364      0         colt     150000                  7    petrol   \n",
       "354365      0          NaN      20000                  1       NaN   \n",
       "354366    101       fortwo     125000                  3    petrol   \n",
       "354367    102  transporter     150000                  3  gasoline   \n",
       "354368    100         golf     150000                  6  gasoline   \n",
       "\n",
       "                 Brand Repaired          DateCreated  NumberOfPictures  \\\n",
       "354364      mitsubishi      yes  2016-03-21 00:00:00                 0   \n",
       "354365  sonstige_autos      NaN  2016-03-14 00:00:00                 0   \n",
       "354366           smart       no  2016-03-05 00:00:00                 0   \n",
       "354367      volkswagen       no  2016-03-19 00:00:00                 0   \n",
       "354368      volkswagen      NaN  2016-03-20 00:00:00                 0   \n",
       "\n",
       "        PostalCode             LastSeen  \n",
       "354364        2694  2016-03-21 10:42:49  \n",
       "354365       39576  2016-04-06 00:46:52  \n",
       "354366       26135  2016-03-11 18:17:12  \n",
       "354367       87439  2016-04-07 07:15:26  \n",
       "354368       40764  2016-03-24 12:45:21  "
      ]
     },
     "metadata": {},
     "output_type": "display_data"
    },
    {
     "name": "stdout",
     "output_type": "stream",
     "text": [
      "\n",
      "~~~~~~~~~~~~~~~~~~~~~~~~~~~~~ General describe info ~~~~~~~~~~~~~~~~~~~~~~~~~~~~~\n"
     ]
    },
    {
     "data": {
      "text/html": [
       "<div>\n",
       "<style scoped>\n",
       "    .dataframe tbody tr th:only-of-type {\n",
       "        vertical-align: middle;\n",
       "    }\n",
       "\n",
       "    .dataframe tbody tr th {\n",
       "        vertical-align: top;\n",
       "    }\n",
       "\n",
       "    .dataframe thead th {\n",
       "        text-align: right;\n",
       "    }\n",
       "</style>\n",
       "<table border=\"1\" class=\"dataframe\">\n",
       "  <thead>\n",
       "    <tr style=\"text-align: right;\">\n",
       "      <th></th>\n",
       "      <th>Price</th>\n",
       "      <th>RegistrationYear</th>\n",
       "      <th>Power</th>\n",
       "      <th>Kilometer</th>\n",
       "      <th>RegistrationMonth</th>\n",
       "      <th>NumberOfPictures</th>\n",
       "      <th>PostalCode</th>\n",
       "    </tr>\n",
       "  </thead>\n",
       "  <tbody>\n",
       "    <tr>\n",
       "      <th>count</th>\n",
       "      <td>354369.00</td>\n",
       "      <td>354369.00</td>\n",
       "      <td>354369.00</td>\n",
       "      <td>354369.00</td>\n",
       "      <td>354369.00</td>\n",
       "      <td>354369.00</td>\n",
       "      <td>354369.00</td>\n",
       "    </tr>\n",
       "    <tr>\n",
       "      <th>mean</th>\n",
       "      <td>4416.66</td>\n",
       "      <td>2004.23</td>\n",
       "      <td>110.09</td>\n",
       "      <td>128211.17</td>\n",
       "      <td>5.71</td>\n",
       "      <td>0.00</td>\n",
       "      <td>50508.69</td>\n",
       "    </tr>\n",
       "    <tr>\n",
       "      <th>std</th>\n",
       "      <td>4514.16</td>\n",
       "      <td>90.23</td>\n",
       "      <td>189.85</td>\n",
       "      <td>37905.34</td>\n",
       "      <td>3.73</td>\n",
       "      <td>0.00</td>\n",
       "      <td>25783.10</td>\n",
       "    </tr>\n",
       "    <tr>\n",
       "      <th>min</th>\n",
       "      <td>0.00</td>\n",
       "      <td>1000.00</td>\n",
       "      <td>0.00</td>\n",
       "      <td>5000.00</td>\n",
       "      <td>0.00</td>\n",
       "      <td>0.00</td>\n",
       "      <td>1067.00</td>\n",
       "    </tr>\n",
       "    <tr>\n",
       "      <th>25%</th>\n",
       "      <td>1050.00</td>\n",
       "      <td>1999.00</td>\n",
       "      <td>69.00</td>\n",
       "      <td>125000.00</td>\n",
       "      <td>3.00</td>\n",
       "      <td>0.00</td>\n",
       "      <td>30165.00</td>\n",
       "    </tr>\n",
       "    <tr>\n",
       "      <th>50%</th>\n",
       "      <td>2700.00</td>\n",
       "      <td>2003.00</td>\n",
       "      <td>105.00</td>\n",
       "      <td>150000.00</td>\n",
       "      <td>6.00</td>\n",
       "      <td>0.00</td>\n",
       "      <td>49413.00</td>\n",
       "    </tr>\n",
       "    <tr>\n",
       "      <th>75%</th>\n",
       "      <td>6400.00</td>\n",
       "      <td>2008.00</td>\n",
       "      <td>143.00</td>\n",
       "      <td>150000.00</td>\n",
       "      <td>9.00</td>\n",
       "      <td>0.00</td>\n",
       "      <td>71083.00</td>\n",
       "    </tr>\n",
       "    <tr>\n",
       "      <th>max</th>\n",
       "      <td>20000.00</td>\n",
       "      <td>9999.00</td>\n",
       "      <td>20000.00</td>\n",
       "      <td>150000.00</td>\n",
       "      <td>12.00</td>\n",
       "      <td>0.00</td>\n",
       "      <td>99998.00</td>\n",
       "    </tr>\n",
       "  </tbody>\n",
       "</table>\n",
       "</div>"
      ],
      "text/plain": [
       "          Price  RegistrationYear     Power  Kilometer  RegistrationMonth  \\\n",
       "count 354369.00         354369.00 354369.00  354369.00          354369.00   \n",
       "mean    4416.66           2004.23    110.09  128211.17               5.71   \n",
       "std     4514.16             90.23    189.85   37905.34               3.73   \n",
       "min        0.00           1000.00      0.00    5000.00               0.00   \n",
       "25%     1050.00           1999.00     69.00  125000.00               3.00   \n",
       "50%     2700.00           2003.00    105.00  150000.00               6.00   \n",
       "75%     6400.00           2008.00    143.00  150000.00               9.00   \n",
       "max    20000.00           9999.00  20000.00  150000.00              12.00   \n",
       "\n",
       "       NumberOfPictures  PostalCode  \n",
       "count         354369.00   354369.00  \n",
       "mean               0.00    50508.69  \n",
       "std                0.00    25783.10  \n",
       "min                0.00     1067.00  \n",
       "25%                0.00    30165.00  \n",
       "50%                0.00    49413.00  \n",
       "75%                0.00    71083.00  \n",
       "max                0.00    99998.00  "
      ]
     },
     "metadata": {},
     "output_type": "display_data"
    },
    {
     "name": "stdout",
     "output_type": "stream",
     "text": [
      "\n",
      "~~~~~~~~~~~~~~~~~~~~~~~~~~~~~~~~~~~ Data type ~~~~~~~~~~~~~~~~~~~~~~~~~~~~~~~~~~~\n",
      "<class 'pandas.core.frame.DataFrame'>\n",
      "RangeIndex: 354369 entries, 0 to 354368\n",
      "Data columns (total 16 columns):\n",
      " #   Column             Non-Null Count   Dtype \n",
      "---  ------             --------------   ----- \n",
      " 0   DateCrawled        354369 non-null  object\n",
      " 1   Price              354369 non-null  int64 \n",
      " 2   VehicleType        316879 non-null  object\n",
      " 3   RegistrationYear   354369 non-null  int64 \n",
      " 4   Gearbox            334536 non-null  object\n",
      " 5   Power              354369 non-null  int64 \n",
      " 6   Model              334664 non-null  object\n",
      " 7   Kilometer          354369 non-null  int64 \n",
      " 8   RegistrationMonth  354369 non-null  int64 \n",
      " 9   FuelType           321474 non-null  object\n",
      " 10  Brand              354369 non-null  object\n",
      " 11  Repaired           283215 non-null  object\n",
      " 12  DateCreated        354369 non-null  object\n",
      " 13  NumberOfPictures   354369 non-null  int64 \n",
      " 14  PostalCode         354369 non-null  int64 \n",
      " 15  LastSeen           354369 non-null  object\n",
      "dtypes: int64(7), object(9)\n",
      "memory usage: 43.3+ MB\n",
      "\n",
      "~~~~~~~~~~~~~~~~~~~~~~~~~~~~~~~~ Counting passes ~~~~~~~~~~~~~~~~~~~~~~~~~~~~~~~~\n",
      "37490 missing values ​​in the column VehicleType it's 11 %\n",
      "19833 missing values ​​in the column Gearbox it's 6 %\n",
      "19705 missing values ​​in the column Model it's 6 %\n",
      "32895 missing values ​​in the column FuelType it's 9 %\n",
      "71154 missing values ​​in the column Repaired it's 20 %\n",
      "\n",
      "~~~~~~~~~~~~~~~~~~~~~~~~~~~~~~ Obvious duplicates ~~~~~~~~~~~~~~~~~~~~~~~~~~~~~~~\n",
      "Count of obvious duplicates -  4\n",
      "\n",
      "~~~~~~~~~~~~~~~~~~~~~~~~~~~~~ Dataframe histograms ~~~~~~~~~~~~~~~~~~~~~~~~~~~~~~\n"
     ]
    },
    {
     "data": {
      "image/png": "[encoded data removed]",
      "text/plain": [
       "<Figure size 800x800 with 9 Axes>"
      ]
     },
     "metadata": {},
     "output_type": "display_data"
    }
   ],
   "source": [
    "first_view(df)"
   ]
  },
  {
   "cell_type": "markdown",
   "metadata": {},
   "source": [
    "Conclusion from the initial data inspection:\n",
    "\n",
    "- There are gaps\n",
    "- There are duplicates\n",
    "- there are anamal values ​​in the parameters of the year of registration and engine power\n",
    "- the number of images is a completely empty column in which all values ​​are zero\n",
    "- There are zero values ​​of the price in the target feature\n",
    "- In the column, the month of registration is zero value and this is not the beginning of the reference from zero, because there is 12"
   ]
  },
  {
   "cell_type": "markdown",
   "metadata": {},
   "source": [
    "We will analyze the data in more detail, preparing the data in the course of the case"
   ]
  },
  {
   "cell_type": "markdown",
   "metadata": {},
   "source": [
    "To begin with, rename the columns, group them in meaning for convenience and immediately get rid of the excess (an empty column with zero number of pictures everywhere)"
   ]
  },
  {
   "cell_type": "code",
   "execution_count": 89,
   "metadata": {},
   "outputs": [
    {
     "data": {
      "text/plain": [
       "['DateCrawled',\n",
       " 'Price',\n",
       " 'VehicleType',\n",
       " 'RegistrationYear',\n",
       " 'Gearbox',\n",
       " 'Power',\n",
       " 'Model',\n",
       " 'Kilometer',\n",
       " 'RegistrationMonth',\n",
       " 'FuelType',\n",
       " 'Brand',\n",
       " 'Repaired',\n",
       " 'DateCreated',\n",
       " 'NumberOfPictures',\n",
       " 'PostalCode',\n",
       " 'LastSeen']"
      ]
     },
     "execution_count": 89,
     "metadata": {},
     "output_type": "execute_result"
    }
   ],
   "source": [
    "df.columns.tolist()"
   ]
  },
  {
   "cell_type": "code",
   "execution_count": 90,
   "metadata": {},
   "outputs": [
    {
     "data": {
      "text/plain": [
       "['date_crawled',\n",
       " 'price',\n",
       " 'vehicle_type',\n",
       " 'reg_year',\n",
       " 'gearbox',\n",
       " 'power',\n",
       " 'model',\n",
       " 'km',\n",
       " 'reg_month',\n",
       " 'fuel_type',\n",
       " 'brand',\n",
       " 'repaired',\n",
       " 'date_created',\n",
       " 'NumberOfPictures',\n",
       " 'postal_code',\n",
       " 'date_last_seen']"
      ]
     },
     "execution_count": 90,
     "metadata": {},
     "output_type": "execute_result"
    }
   ],
   "source": [
    "df = df.rename(columns={\n",
    "    'Price':'price',\n",
    "    'VehicleType':'vehicle_type',\n",
    "    'RegistrationYear':'reg_year',\n",
    "    'Gearbox':'gearbox',\n",
    "    'Power':'power',\n",
    "    'Model':'model',\n",
    "    'Kilometer':'km',\n",
    "    'RegistrationMonth':'reg_month',\n",
    "    'FuelType':'fuel_type',\n",
    "    'Brand':'brand',\n",
    "    'Repaired':'repaired',\n",
    "    'PostalCode':'postal_code',\n",
    "    'DateCreated':'date_created',\n",
    "    'DateCrawled':'date_crawled',\n",
    "    'LastSeen':'date_last_seen'\n",
    "})\n",
    "\n",
    "df.columns.tolist()"
   ]
  },
  {
   "cell_type": "code",
   "execution_count": 91,
   "metadata": {},
   "outputs": [],
   "source": [
    "df = df[['date_created',\n",
    "         'date_crawled',\n",
    "         'date_last_seen',\n",
    "         'postal_code',\n",
    "         'vehicle_type',\n",
    "         'fuel_type',\n",
    "         'brand',\n",
    "         'model',\n",
    "         'reg_year',\n",
    "         'reg_month',\n",
    "         'km',\n",
    "         'gearbox',\n",
    "         'power',\n",
    "         'repaired',\n",
    "         'price'\n",
    "         ]]"
   ]
  },
  {
   "cell_type": "markdown",
   "metadata": {},
   "source": [
    "Get rid of duplicates"
   ]
  },
  {
   "cell_type": "code",
   "execution_count": 92,
   "metadata": {},
   "outputs": [],
   "source": [
    "df.drop_duplicates(inplace=True, ignore_index=True)"
   ]
  },
  {
   "cell_type": "markdown",
   "metadata": {},
   "source": [
    "We will get rid of anomalies in a column with a CAR COMP COMP"
   ]
  },
  {
   "cell_type": "code",
   "execution_count": 93,
   "metadata": {},
   "outputs": [
    {
     "name": "stdout",
     "output_type": "stream",
     "text": [
      "удалено строк: 24195\n"
     ]
    }
   ],
   "source": [
    "shape_before = df.shape[0]\n",
    "df = df.loc[(df['reg_year'] > 1900) & (df['reg_year'] < 2016)]\n",
    "print(f'удалено строк: {shape_before - df.shape[0]}')"
   ]
  },
  {
   "cell_type": "markdown",
   "metadata": {},
   "source": [
    "Get rid of anomalies in a column with engine power"
   ]
  },
  {
   "cell_type": "code",
   "execution_count": 94,
   "metadata": {},
   "outputs": [
    {
     "data": {
      "image/png": "[encoded data removed]",
      "text/plain": [
       "<Figure size 1500x200 with 1 Axes>"
      ]
     },
     "metadata": {},
     "output_type": "display_data"
    }
   ],
   "source": [
    "plt.figure(figsize=(15,2))\n",
    "plt.boxplot(df['power'], vert=False, widths=0.7)\n",
    "plt.xlim(0,1500)\n",
    "plt.show();"
   ]
  },
  {
   "cell_type": "markdown",
   "metadata": {},
   "source": [
    "There are very large emissions.Of course, there are cars with such powerful engines, but rather this is anomalies in the data.Let's look at these emissions"
   ]
  },
  {
   "cell_type": "code",
   "execution_count": 95,
   "metadata": {},
   "outputs": [
    {
     "data": {
      "text/html": [
       "<div>\n",
       "<style scoped>\n",
       "    .dataframe tbody tr th:only-of-type {\n",
       "        vertical-align: middle;\n",
       "    }\n",
       "\n",
       "    .dataframe tbody tr th {\n",
       "        vertical-align: top;\n",
       "    }\n",
       "\n",
       "    .dataframe thead th {\n",
       "        text-align: right;\n",
       "    }\n",
       "</style>\n",
       "<table border=\"1\" class=\"dataframe\">\n",
       "  <thead>\n",
       "    <tr style=\"text-align: right;\">\n",
       "      <th></th>\n",
       "      <th>date_created</th>\n",
       "      <th>date_crawled</th>\n",
       "      <th>date_last_seen</th>\n",
       "      <th>postal_code</th>\n",
       "      <th>vehicle_type</th>\n",
       "      <th>fuel_type</th>\n",
       "      <th>brand</th>\n",
       "      <th>model</th>\n",
       "      <th>reg_year</th>\n",
       "      <th>reg_month</th>\n",
       "      <th>km</th>\n",
       "      <th>gearbox</th>\n",
       "      <th>power</th>\n",
       "      <th>repaired</th>\n",
       "      <th>price</th>\n",
       "    </tr>\n",
       "  </thead>\n",
       "  <tbody>\n",
       "    <tr>\n",
       "      <th>219583</th>\n",
       "      <td>2016-03-09 00:00:00</td>\n",
       "      <td>2016-03-09 15:43:53</td>\n",
       "      <td>2016-03-30 08:47:08</td>\n",
       "      <td>19406</td>\n",
       "      <td>coupe</td>\n",
       "      <td>petrol</td>\n",
       "      <td>mercedes_benz</td>\n",
       "      <td>clk</td>\n",
       "      <td>1999</td>\n",
       "      <td>1</td>\n",
       "      <td>150000</td>\n",
       "      <td>auto</td>\n",
       "      <td>20000</td>\n",
       "      <td>no</td>\n",
       "      <td>4300</td>\n",
       "    </tr>\n",
       "    <tr>\n",
       "      <th>299177</th>\n",
       "      <td>2016-03-09 00:00:00</td>\n",
       "      <td>2016-03-09 08:53:11</td>\n",
       "      <td>2016-04-07 11:44:34</td>\n",
       "      <td>21129</td>\n",
       "      <td>wagon</td>\n",
       "      <td>NaN</td>\n",
       "      <td>bmw</td>\n",
       "      <td>5er</td>\n",
       "      <td>1997</td>\n",
       "      <td>1</td>\n",
       "      <td>150000</td>\n",
       "      <td>manual</td>\n",
       "      <td>19312</td>\n",
       "      <td>no</td>\n",
       "      <td>1500</td>\n",
       "    </tr>\n",
       "    <tr>\n",
       "      <th>114106</th>\n",
       "      <td>2016-04-03 00:00:00</td>\n",
       "      <td>2016-04-03 07:36:21</td>\n",
       "      <td>2016-04-07 10:16:10</td>\n",
       "      <td>45964</td>\n",
       "      <td>sedan</td>\n",
       "      <td>gasoline</td>\n",
       "      <td>bmw</td>\n",
       "      <td>1er</td>\n",
       "      <td>2006</td>\n",
       "      <td>0</td>\n",
       "      <td>125000</td>\n",
       "      <td>manual</td>\n",
       "      <td>19211</td>\n",
       "      <td>NaN</td>\n",
       "      <td>9999</td>\n",
       "    </tr>\n",
       "    <tr>\n",
       "      <th>132485</th>\n",
       "      <td>2016-03-25 00:00:00</td>\n",
       "      <td>2016-03-25 14:55:49</td>\n",
       "      <td>2016-03-30 05:16:18</td>\n",
       "      <td>59556</td>\n",
       "      <td>wagon</td>\n",
       "      <td>NaN</td>\n",
       "      <td>bmw</td>\n",
       "      <td>5er</td>\n",
       "      <td>2001</td>\n",
       "      <td>5</td>\n",
       "      <td>150000</td>\n",
       "      <td>manual</td>\n",
       "      <td>19208</td>\n",
       "      <td>yes</td>\n",
       "      <td>2100</td>\n",
       "    </tr>\n",
       "    <tr>\n",
       "      <th>63986</th>\n",
       "      <td>2016-03-28 00:00:00</td>\n",
       "      <td>2016-03-28 11:49:56</td>\n",
       "      <td>2016-04-06 14:17:21</td>\n",
       "      <td>86641</td>\n",
       "      <td>sedan</td>\n",
       "      <td>petrol</td>\n",
       "      <td>opel</td>\n",
       "      <td>omega</td>\n",
       "      <td>2001</td>\n",
       "      <td>6</td>\n",
       "      <td>150000</td>\n",
       "      <td>auto</td>\n",
       "      <td>17932</td>\n",
       "      <td>NaN</td>\n",
       "      <td>3250</td>\n",
       "    </tr>\n",
       "    <tr>\n",
       "      <th>...</th>\n",
       "      <td>...</td>\n",
       "      <td>...</td>\n",
       "      <td>...</td>\n",
       "      <td>...</td>\n",
       "      <td>...</td>\n",
       "      <td>...</td>\n",
       "      <td>...</td>\n",
       "      <td>...</td>\n",
       "      <td>...</td>\n",
       "      <td>...</td>\n",
       "      <td>...</td>\n",
       "      <td>...</td>\n",
       "      <td>...</td>\n",
       "      <td>...</td>\n",
       "      <td>...</td>\n",
       "    </tr>\n",
       "    <tr>\n",
       "      <th>128896</th>\n",
       "      <td>2016-03-19 00:00:00</td>\n",
       "      <td>2016-03-19 23:36:35</td>\n",
       "      <td>2016-04-02 05:15:39</td>\n",
       "      <td>25764</td>\n",
       "      <td>other</td>\n",
       "      <td>petrol</td>\n",
       "      <td>daihatsu</td>\n",
       "      <td>cuore</td>\n",
       "      <td>1998</td>\n",
       "      <td>4</td>\n",
       "      <td>125000</td>\n",
       "      <td>manual</td>\n",
       "      <td>301</td>\n",
       "      <td>no</td>\n",
       "      <td>1000</td>\n",
       "    </tr>\n",
       "    <tr>\n",
       "      <th>130007</th>\n",
       "      <td>2016-03-06 00:00:00</td>\n",
       "      <td>2016-03-06 10:49:30</td>\n",
       "      <td>2016-03-14 19:15:18</td>\n",
       "      <td>46483</td>\n",
       "      <td>coupe</td>\n",
       "      <td>petrol</td>\n",
       "      <td>nissan</td>\n",
       "      <td>NaN</td>\n",
       "      <td>2007</td>\n",
       "      <td>8</td>\n",
       "      <td>125000</td>\n",
       "      <td>manual</td>\n",
       "      <td>301</td>\n",
       "      <td>no</td>\n",
       "      <td>13900</td>\n",
       "    </tr>\n",
       "    <tr>\n",
       "      <th>224430</th>\n",
       "      <td>2016-04-04 00:00:00</td>\n",
       "      <td>2016-04-04 14:48:57</td>\n",
       "      <td>2016-04-06 16:17:21</td>\n",
       "      <td>84036</td>\n",
       "      <td>coupe</td>\n",
       "      <td>petrol</td>\n",
       "      <td>audi</td>\n",
       "      <td>NaN</td>\n",
       "      <td>1998</td>\n",
       "      <td>0</td>\n",
       "      <td>125000</td>\n",
       "      <td>manual</td>\n",
       "      <td>301</td>\n",
       "      <td>no</td>\n",
       "      <td>5990</td>\n",
       "    </tr>\n",
       "    <tr>\n",
       "      <th>11197</th>\n",
       "      <td>2016-03-26 00:00:00</td>\n",
       "      <td>2016-03-26 22:51:57</td>\n",
       "      <td>2016-04-06 18:48:25</td>\n",
       "      <td>10829</td>\n",
       "      <td>coupe</td>\n",
       "      <td>petrol</td>\n",
       "      <td>nissan</td>\n",
       "      <td>other</td>\n",
       "      <td>2005</td>\n",
       "      <td>5</td>\n",
       "      <td>150000</td>\n",
       "      <td>manual</td>\n",
       "      <td>301</td>\n",
       "      <td>NaN</td>\n",
       "      <td>11000</td>\n",
       "    </tr>\n",
       "    <tr>\n",
       "      <th>175148</th>\n",
       "      <td>2016-03-05 00:00:00</td>\n",
       "      <td>2016-03-05 18:51:58</td>\n",
       "      <td>2016-04-01 17:15:52</td>\n",
       "      <td>6667</td>\n",
       "      <td>coupe</td>\n",
       "      <td>NaN</td>\n",
       "      <td>nissan</td>\n",
       "      <td>NaN</td>\n",
       "      <td>2003</td>\n",
       "      <td>0</td>\n",
       "      <td>20000</td>\n",
       "      <td>manual</td>\n",
       "      <td>301</td>\n",
       "      <td>no</td>\n",
       "      <td>7500</td>\n",
       "    </tr>\n",
       "  </tbody>\n",
       "</table>\n",
       "<p>3317 rows × 15 columns</p>\n",
       "</div>"
      ],
      "text/plain": [
       "               date_created         date_crawled       date_last_seen  \\\n",
       "219583  2016-03-09 00:00:00  2016-03-09 15:43:53  2016-03-30 08:47:08   \n",
       "299177  2016-03-09 00:00:00  2016-03-09 08:53:11  2016-04-07 11:44:34   \n",
       "114106  2016-04-03 00:00:00  2016-04-03 07:36:21  2016-04-07 10:16:10   \n",
       "132485  2016-03-25 00:00:00  2016-03-25 14:55:49  2016-03-30 05:16:18   \n",
       "63986   2016-03-28 00:00:00  2016-03-28 11:49:56  2016-04-06 14:17:21   \n",
       "...                     ...                  ...                  ...   \n",
       "128896  2016-03-19 00:00:00  2016-03-19 23:36:35  2016-04-02 05:15:39   \n",
       "130007  2016-03-06 00:00:00  2016-03-06 10:49:30  2016-03-14 19:15:18   \n",
       "224430  2016-04-04 00:00:00  2016-04-04 14:48:57  2016-04-06 16:17:21   \n",
       "11197   2016-03-26 00:00:00  2016-03-26 22:51:57  2016-04-06 18:48:25   \n",
       "175148  2016-03-05 00:00:00  2016-03-05 18:51:58  2016-04-01 17:15:52   \n",
       "\n",
       "        postal_code vehicle_type fuel_type          brand  model  reg_year  \\\n",
       "219583        19406        coupe    petrol  mercedes_benz    clk      1999   \n",
       "299177        21129        wagon       NaN            bmw    5er      1997   \n",
       "114106        45964        sedan  gasoline            bmw    1er      2006   \n",
       "132485        59556        wagon       NaN            bmw    5er      2001   \n",
       "63986         86641        sedan    petrol           opel  omega      2001   \n",
       "...             ...          ...       ...            ...    ...       ...   \n",
       "128896        25764        other    petrol       daihatsu  cuore      1998   \n",
       "130007        46483        coupe    petrol         nissan    NaN      2007   \n",
       "224430        84036        coupe    petrol           audi    NaN      1998   \n",
       "11197         10829        coupe    petrol         nissan  other      2005   \n",
       "175148         6667        coupe       NaN         nissan    NaN      2003   \n",
       "\n",
       "        reg_month      km gearbox  power repaired  price  \n",
       "219583          1  150000    auto  20000       no   4300  \n",
       "299177          1  150000  manual  19312       no   1500  \n",
       "114106          0  125000  manual  19211      NaN   9999  \n",
       "132485          5  150000  manual  19208      yes   2100  \n",
       "63986           6  150000    auto  17932      NaN   3250  \n",
       "...           ...     ...     ...    ...      ...    ...  \n",
       "128896          4  125000  manual    301       no   1000  \n",
       "130007          8  125000  manual    301       no  13900  \n",
       "224430          0  125000  manual    301       no   5990  \n",
       "11197           5  150000  manual    301      NaN  11000  \n",
       "175148          0   20000  manual    301       no   7500  \n",
       "\n",
       "[3317 rows x 15 columns]"
      ]
     },
     "execution_count": 95,
     "metadata": {},
     "output_type": "execute_result"
    }
   ],
   "source": [
    "df.loc[df['power'] > 300].sort_values(by='power', ascending=False)"
   ]
  },
  {
   "cell_type": "markdown",
   "metadata": {},
   "source": [
    "More often these are serial cars (Audi, Opel, BMW) and there is a high probability that the power is extremely high, but really powerful cars like Porshe come across.It is difficult to draw a line between anomalies and just emissions, you will have to either leave part of the anomalies, but save useful data, or cut off useful data, but get rid of anomalies.We will leave part of the anomalies and get rid of only obvious anomalies in order not to lose useful data in the segment of powerful cars.We also remove cars with a power to zero L.S."
   ]
  },
  {
   "cell_type": "code",
   "execution_count": 96,
   "metadata": {},
   "outputs": [
    {
     "name": "stdout",
     "output_type": "stream",
     "text": [
      "удалено строк: 34081\n"
     ]
    }
   ],
   "source": [
    "shape_before = df.shape[0]\n",
    "df = df.loc[(df['power'] < 500) & (df['power'] != 0)]\n",
    "print(f'удалено строк: {shape_before - df.shape[0]}')"
   ]
  },
  {
   "cell_type": "markdown",
   "metadata": {},
   "source": [
    "Remove the anomalies in the target sign"
   ]
  },
  {
   "cell_type": "code",
   "execution_count": 97,
   "metadata": {},
   "outputs": [
    {
     "name": "stdout",
     "output_type": "stream",
     "text": [
      "удалено строк: 5996\n"
     ]
    }
   ],
   "source": [
    "shape_before = df.shape[0]\n",
    "df = df.loc[df['price'] != 0]\n",
    "print(f'удалено строк: {shape_before - df.shape[0]}')"
   ]
  },
  {
   "cell_type": "markdown",
   "metadata": {},
   "source": [
    "Passes fill in the field `unknown` becauseWe do not know real information from missed cells and if we try to fill them out with data, we will rather make more distortions, it is better to let the model predicts the price on the basis that the data is missing"
   ]
  },
  {
   "cell_type": "code",
   "execution_count": 98,
   "metadata": {},
   "outputs": [],
   "source": [
    "df.fillna('unknown', inplace=True)"
   ]
  },
  {
   "cell_type": "markdown",
   "metadata": {},
   "source": [
    "Let's see what is with the dates and if we need them"
   ]
  },
  {
   "cell_type": "code",
   "execution_count": 99,
   "metadata": {},
   "outputs": [
    {
     "data": {
      "image/png": "[encoded data removed]",
      "text/plain": [
       "<Figure size 1500x500 with 1 Axes>"
      ]
     },
     "metadata": {},
     "output_type": "display_data"
    }
   ],
   "source": [
    "plt.figure(figsize=(15,5))\n",
    "plt.title('Price dependence on the year of registration of the car')\n",
    "sns.boxplot(x='reg_year', y='price', data=df, palette=\"Set1\", width=0.5)\n",
    "plt.xticks(rotation=90, ha='right')\n",
    "plt.show()"
   ]
  },
  {
   "cell_type": "code",
   "execution_count": 100,
   "metadata": {},
   "outputs": [
    {
     "data": {
      "image/png": "[encoded data removed]",
      "text/plain": [
       "<Figure size 640x480 with 1 Axes>"
      ]
     },
     "metadata": {},
     "output_type": "display_data"
    }
   ],
   "source": [
    "plt.title('Price dependence on the year of registration of the car')\n",
    "sns.boxplot(x='reg_month', y='price', data=df, palette=\"Set1\", width=0.5)\n",
    "plt.show()"
   ]
  },
  {
   "cell_type": "markdown",
   "metadata": {},
   "source": [
    "### Convert date columns to datetime64 format"
   ]
  },
  {
   "cell_type": "code",
   "execution_count": 101,
   "metadata": {},
   "outputs": [],
   "source": [
    "df['date_created'] = pd.to_datetime(df['date_created'], format='%Y-%m-%d %H:%M:%S')\n",
    "df['date_crawled'] = pd.to_datetime(df['date_crawled'], format='%Y-%m-%d %H:%M:%S')\n",
    "df['date_last_seen'] = pd.to_datetime(df['date_last_seen'], format='%Y-%m-%d %H:%M:%S')"
   ]
  },
  {
   "cell_type": "markdown",
   "metadata": {},
   "source": [
    "### let's see what unique year values ​​are in the columns"
   ]
  },
  {
   "cell_type": "code",
   "execution_count": 102,
   "metadata": {},
   "outputs": [
    {
     "name": "stdout",
     "output_type": "stream",
     "text": [
      "[2016 2015]\n",
      "[2016]\n",
      "[2016]\n"
     ]
    }
   ],
   "source": [
    "print(df['date_created'].dt.year.unique())\n",
    "print(df['date_crawled'].dt.year.unique())\n",
    "print(df['date_last_seen'].dt.year.unique())"
   ]
  },
  {
   "cell_type": "markdown",
   "metadata": {},
   "source": [
    "### let's look at the ratio of the number of records for different years in the creation date column"
   ]
  },
  {
   "cell_type": "code",
   "execution_count": 103,
   "metadata": {},
   "outputs": [
    {
     "data": {
      "text/plain": [
       "date_created\n",
       "2016    290069\n",
       "2015        24\n",
       "Name: count, dtype: int64"
      ]
     },
     "execution_count": 103,
     "metadata": {},
     "output_type": "execute_result"
    }
   ],
   "source": [
    "df['date_created'].dt.year.value_counts()"
   ]
  },
  {
   "cell_type": "markdown",
   "metadata": {},
   "source": [
    "- Create separate columns with months for each column\n",
    "- Create a mini dataset with summary information on the average price for the month"
   ]
  },
  {
   "cell_type": "code",
   "execution_count": 104,
   "metadata": {},
   "outputs": [
    {
     "data": {
      "text/html": [
       "<div>\n",
       "<style scoped>\n",
       "    .dataframe tbody tr th:only-of-type {\n",
       "        vertical-align: middle;\n",
       "    }\n",
       "\n",
       "    .dataframe tbody tr th {\n",
       "        vertical-align: top;\n",
       "    }\n",
       "\n",
       "    .dataframe thead th {\n",
       "        text-align: right;\n",
       "    }\n",
       "</style>\n",
       "<table border=\"1\" class=\"dataframe\">\n",
       "  <thead>\n",
       "    <tr style=\"text-align: right;\">\n",
       "      <th></th>\n",
       "      <th>created</th>\n",
       "      <th>crawled</th>\n",
       "      <th>last seen</th>\n",
       "    </tr>\n",
       "  </thead>\n",
       "  <tbody>\n",
       "    <tr>\n",
       "      <th>1</th>\n",
       "      <td>8341.88</td>\n",
       "      <td>NaN</td>\n",
       "      <td>NaN</td>\n",
       "    </tr>\n",
       "    <tr>\n",
       "      <th>2</th>\n",
       "      <td>6367.48</td>\n",
       "      <td>NaN</td>\n",
       "      <td>NaN</td>\n",
       "    </tr>\n",
       "    <tr>\n",
       "      <th>3</th>\n",
       "      <td>4864.26</td>\n",
       "      <td>4866.11</td>\n",
       "      <td>4095.27</td>\n",
       "    </tr>\n",
       "    <tr>\n",
       "      <th>4</th>\n",
       "      <td>5086.82</td>\n",
       "      <td>5092.07</td>\n",
       "      <td>5490.21</td>\n",
       "    </tr>\n",
       "    <tr>\n",
       "      <th>8</th>\n",
       "      <td>9725.00</td>\n",
       "      <td>NaN</td>\n",
       "      <td>NaN</td>\n",
       "    </tr>\n",
       "    <tr>\n",
       "      <th>9</th>\n",
       "      <td>3566.67</td>\n",
       "      <td>NaN</td>\n",
       "      <td>NaN</td>\n",
       "    </tr>\n",
       "    <tr>\n",
       "      <th>11</th>\n",
       "      <td>7753.89</td>\n",
       "      <td>NaN</td>\n",
       "      <td>NaN</td>\n",
       "    </tr>\n",
       "    <tr>\n",
       "      <th>12</th>\n",
       "      <td>7249.89</td>\n",
       "      <td>NaN</td>\n",
       "      <td>NaN</td>\n",
       "    </tr>\n",
       "  </tbody>\n",
       "</table>\n",
       "</div>"
      ],
      "text/plain": [
       "    created  crawled  last seen\n",
       "1   8341.88      NaN        NaN\n",
       "2   6367.48      NaN        NaN\n",
       "3   4864.26  4866.11    4095.27\n",
       "4   5086.82  5092.07    5490.21\n",
       "8   9725.00      NaN        NaN\n",
       "9   3566.67      NaN        NaN\n",
       "11  7753.89      NaN        NaN\n",
       "12  7249.89      NaN        NaN"
      ]
     },
     "execution_count": 104,
     "metadata": {},
     "output_type": "execute_result"
    }
   ],
   "source": [
    "df['month_created'] = df['date_created'].dt.month\n",
    "df['month_crawled'] = df['date_crawled'].dt.month\n",
    "df['month_last_seen'] = df['date_last_seen'].dt.month\n",
    "\n",
    "month = pd.DataFrame({'created': df.groupby('month_created')['price'].mean(),\n",
    "                     'crawled': df.groupby('month_crawled')['price'].mean(),\n",
    "                     'last seen': df.groupby('month_last_seen')['price'].mean()})\n",
    "\n",
    "month"
   ]
  },
  {
   "cell_type": "markdown",
   "metadata": {},
   "source": [
    "### Number of entries by month in the creation date column"
   ]
  },
  {
   "cell_type": "code",
   "execution_count": 105,
   "metadata": {},
   "outputs": [
    {
     "data": {
      "text/plain": [
       "month_created\n",
       "1         57\n",
       "2        351\n",
       "3     242669\n",
       "4      46993\n",
       "8          2\n",
       "9          3\n",
       "11         9\n",
       "12         9\n",
       "Name: price, dtype: int64"
      ]
     },
     "execution_count": 105,
     "metadata": {},
     "output_type": "execute_result"
    }
   ],
   "source": [
    "df.groupby('month_created')['price'].count()"
   ]
  },
  {
   "cell_type": "code",
   "execution_count": 106,
   "metadata": {},
   "outputs": [
    {
     "data": {
      "text/plain": [
       "month_crawled\n",
       "3    242735\n",
       "4     47358\n",
       "Name: price, dtype: int64"
      ]
     },
     "execution_count": 106,
     "metadata": {},
     "output_type": "execute_result"
    }
   ],
   "source": [
    "df.groupby('month_crawled')['price'].count()"
   ]
  },
  {
   "cell_type": "code",
   "execution_count": 107,
   "metadata": {},
   "outputs": [
    {
     "data": {
      "text/plain": [
       "month_last_seen\n",
       "3    122118\n",
       "4    167975\n",
       "Name: price, dtype: int64"
      ]
     },
     "execution_count": 107,
     "metadata": {},
     "output_type": "execute_result"
    }
   ],
   "source": [
    "df.groupby('month_last_seen')['price'].count()"
   ]
  },
  {
   "cell_type": "markdown",
   "metadata": {},
   "source": [
    "- Сreate columns by week\n",
    "- Create a pivot table with average prices for the week\n",
    "- Display this data in tables"
   ]
  },
  {
   "cell_type": "code",
   "execution_count": 108,
   "metadata": {},
   "outputs": [
    {
     "data": {
      "image/png": "[encoded data removed]",
      "text/plain": [
       "<Figure size 400x200 with 1 Axes>"
      ]
     },
     "metadata": {},
     "output_type": "display_data"
    }
   ],
   "source": [
    "df['weekday_created'] = df['date_created'].dt.weekday\n",
    "df['weekday_crawled'] = df['date_crawled'].dt.weekday\n",
    "df['weekday_last_seen'] = df['date_last_seen'].dt.weekday\n",
    "\n",
    "week = pd.DataFrame({'created': df.groupby('weekday_created')['price'].mean(),\n",
    "                     'crawled': df.groupby('weekday_crawled')['price'].mean(),\n",
    "                     'last seen': df.groupby('weekday_last_seen')['price'].mean()})\n",
    "\n",
    "bars = ('mon', 'tue', 'wed', 'thu', 'fri', 'sat', 'sun')\n",
    "y_pos = np.arange(len(bars))\n",
    "\n",
    "plt.figure(figsize=(4,2))\n",
    "plt.bar(y_pos, week['created'])\n",
    "plt.xticks(y_pos, bars)\n",
    "plt.show()"
   ]
  },
  {
   "cell_type": "code",
   "execution_count": 109,
   "metadata": {},
   "outputs": [
    {
     "data": {
      "image/png": "[encoded data removed]",
      "text/plain": [
       "<Figure size 400x200 with 1 Axes>"
      ]
     },
     "metadata": {},
     "output_type": "display_data"
    }
   ],
   "source": [
    "plt.figure(figsize=(4,2))\n",
    "plt.bar(y_pos, week['crawled'])\n",
    "plt.xticks(y_pos, bars)\n",
    "plt.show()"
   ]
  },
  {
   "cell_type": "code",
   "execution_count": 110,
   "metadata": {},
   "outputs": [
    {
     "data": {
      "image/png": "[encoded data removed]",
      "text/plain": [
       "<Figure size 400x200 with 1 Axes>"
      ]
     },
     "metadata": {},
     "output_type": "display_data"
    }
   ],
   "source": [
    "plt.figure(figsize=(4,2))\n",
    "plt.bar(y_pos, week['last seen'])\n",
    "plt.xticks(y_pos, bars)\n",
    "plt.show()"
   ]
  },
  {
   "cell_type": "markdown",
   "metadata": {},
   "source": [
    "Year of registration of cars\n",
    "\n",
    "Prices for cars 20 or less, falls than the car is older than the car, after 20 years, prices on the contrary begin to grow, the retro car segment begins.Here you can create an additional class for segmentation on retro/new.\n",
    "\n",
    "A month of registration of a car\n",
    "\n",
    "In all 12 months, there is no significant impact on the price, moreover, there is an incomprehensible zero month that just affects the price.Perhaps people selling an old and cheap car do not bother to enter a month correctly.Be that as it may, this column only bothers us, get rid of it.\n",
    "\n",
    "\n",
    "columns with the dates of creation/registration/unloading\n",
    "\n",
    "Everywhere there is one in all three columns, with the exception of several records of not 2016, but one column that can be dedicated to.\n",
    "\n",
    "Almost all notes occur for 3 and 4 months in all three columns with dates, this is strange, the reason for this is not clear, but using such data dubious idea.\n",
    "\n",
    "The days of the week from the two columns are almost never flooded, there is a slight inflinking for the price in the column that is responsible for the last appearance of the user on the site.This is strange, the price of a car is unlikely to depend on when the person was last on the site.\n",
    "\n",
    "It looks so that these columns can simply remove and do not load the model with them, it will be learned without them faster and these data will not enter errors, so the quality will be better without them."
   ]
  },
  {
   "cell_type": "code",
   "execution_count": 111,
   "metadata": {},
   "outputs": [],
   "source": [
    "df = df.drop(['date_created','date_crawled','date_last_seen',\n",
    "              'weekday_created','weekday_crawled','weekday_last_seen',\n",
    "              'month_created', 'month_crawled', 'month_last_seen',\n",
    "              'reg_month'\n",
    "              ], axis=1)"
   ]
  },
  {
   "cell_type": "code",
   "execution_count": 112,
   "metadata": {},
   "outputs": [],
   "source": [
    "def retro_classifier(year):\n",
    "    if year < 1996:\n",
    "        return 1\n",
    "    else:\n",
    "        return 0\n",
    "\n",
    "df['retro'] = df['reg_year'].apply(retro_classifier)"
   ]
  },
  {
   "cell_type": "markdown",
   "metadata": {},
   "source": [
    "## Model training"
   ]
  },
  {
   "cell_type": "markdown",
   "metadata": {},
   "source": [
    "We will divide the dataset into samples"
   ]
  },
  {
   "cell_type": "code",
   "execution_count": 113,
   "metadata": {},
   "outputs": [
    {
     "name": "stdout",
     "output_type": "stream",
     "text": [
      "Training set size:\n",
      "features (174055, 11);\n",
      "target (174055,)\n",
      "is 60% of dataset\n",
      "\n",
      "Validation set size:\n",
      "features (58019, 11);\n",
      "target (58019,)\n",
      "is 20% of dataset\n",
      "\n",
      "Test set size:\n",
      "features (58019, 11);\n",
      "target (58019,)\n",
      "is 20% of the dataset\n"
     ]
    }
   ],
   "source": [
    "X = df.drop(['price'], axis=1)\n",
    "y = df['price']\n",
    "\n",
    "X_train_n_valid, X_test, y_train_n_valid, y_test = train_test_split(\n",
    "    X, y, test_size=0.2, random_state=1337)\n",
    "\n",
    "X_train, X_valid, y_train, y_valid = train_test_split(\n",
    "    X_train_n_valid, y_train_n_valid, test_size=0.25, random_state=1337)\n",
    "\n",
    "print('Training set size:')\n",
    "print(f'features {X_train.shape};')\n",
    "print(f'target {y_train.shape}')\n",
    "print(f'is {round((y_train.count() / y.count()) * 100)}% of dataset')\n",
    "print()\n",
    "print('Validation set size:')\n",
    "print(f'features {X_valid.shape};')\n",
    "print(f'target {y_valid.shape}')\n",
    "print(f'is {round((y_valid.count() / y.count()) * 100)}% of dataset')\n",
    "print()\n",
    "print('Test set size:')\n",
    "print(f'features {X_test.shape};')\n",
    "print(f'target {y_test.shape}') \n",
    "print(f'is {round((y_test.count() / y.count()) * 100)}% of the dataset')"
   ]
  },
  {
   "cell_type": "markdown",
   "metadata": {},
   "source": [
    "We encode parameters by `binaryencoder`"
   ]
  },
  {
   "cell_type": "code",
   "execution_count": 114,
   "metadata": {},
   "outputs": [],
   "source": [
    "x_to_enc = ['vehicle_type','fuel_type','brand','model','gearbox','repaired']\n",
    "bn = BinaryEncoder()\n",
    "\n",
    "X_train.reset_index(inplace=True)\n",
    "X_train.drop(['index'], axis=1, inplace=True)\n",
    "X_valid.reset_index(inplace=True)\n",
    "X_valid.drop(['index'], axis=1, inplace=True)\n",
    "X_test.reset_index(inplace=True)\n",
    "X_test.drop(['index'], axis=1, inplace=True)\n",
    "\n",
    "coded_X_train = bn.fit_transform(X_train[x_to_enc].values)\n",
    "coded_X_valid = bn.transform(X_valid[x_to_enc].values)\n",
    "coded_X_test = bn.transform(X_test[x_to_enc].values)\n",
    "\n",
    "X_train = X_train.drop(x_to_enc, axis=1)\n",
    "X_valid = X_valid.drop(x_to_enc, axis=1)\n",
    "X_test = X_test.drop(x_to_enc, axis=1)\n",
    "\n",
    "X_train = pd.concat([X_train, coded_X_train], axis=1)\n",
    "X_valid = pd.concat([X_valid, coded_X_valid], axis=1)\n",
    "X_test = pd.concat([X_test, coded_X_test], axis=1)"
   ]
  },
  {
   "cell_type": "markdown",
   "metadata": {},
   "source": [
    "Create a variable for ross validation"
   ]
  },
  {
   "cell_type": "code",
   "execution_count": 115,
   "metadata": {},
   "outputs": [],
   "source": [
    "cv = KFold(n_splits=5, random_state=1337, shuffle=True)"
   ]
  },
  {
   "cell_type": "markdown",
   "metadata": {},
   "source": [
    "## RandomForestregressor Model"
   ]
  },
  {
   "cell_type": "markdown",
   "metadata": {},
   "source": [
    "Find good parameters using `RandomizedSearchcv`.To do this, we will take a validation sample, since it is less and the process will pass faster."
   ]
  },
  {
   "cell_type": "code",
   "execution_count": 116,
   "metadata": {},
   "outputs": [
    {
     "name": "stdout",
     "output_type": "stream",
     "text": [
      "RMSE value of random forest model:\n",
      "1732.9619596967764\n",
      "with the following parameters:\n",
      "{'random_state': 1337, 'n_estimators': 200, 'min_samples_split': 2, 'min_samples_leaf': 2, 'max_depth': 16}\n"
     ]
    }
   ],
   "source": [
    "rf_model = RandomForestRegressor()\n",
    "\n",
    "rf_params = {'random_state': [1337],\n",
    "             'n_estimators': range(100, 1001, 100),\n",
    "             'max_depth': [1,4,8,12,16,20],\n",
    "             'min_samples_split' : [2,6,10,16],\n",
    "             'min_samples_leaf' : [1,2,4,8,16]\n",
    "             }\n",
    "\n",
    "rf_rndsch = RandomizedSearchCV(rf_model,\n",
    "                               param_distributions = rf_params,\n",
    "                               n_iter = 20,\n",
    "                               scoring='neg_root_mean_squared_error',\n",
    "                               error_score='raise',\n",
    "                               cv = cv,\n",
    "                               random_state = 1337,\n",
    "                               n_jobs = -1\n",
    "                               )\n",
    "\n",
    "rf_rndsch.fit(X_valid, y_valid)\n",
    "\n",
    "rf_rmse = abs(rf_rndsch.best_score_)\n",
    "\n",
    "print('RMSE value of random forest model:')\n",
    "print(rf_rmse)\n",
    "print('with the following parameters:')\n",
    "print(rf_rndsch.best_params_)"
   ]
  },
  {
   "cell_type": "markdown",
   "metadata": {},
   "source": [
    "The parameters found using RandomizedSearchcv:\n",
    "\n",
    "The value of the RMSE model of random forest:\n",
    "1732.9619596967764\n",
    "At the following parameters:\n",
    "{'random_state': 1337, 'n_estimators': 200, 'min_samples_split': 2, 'min_samples_leaf': 2, 'max_depth': 16}\n",
    "\n",
    "The overkill of the parameters is carried out among this space of options:\n",
    "\n",
    "{'random_state': [1337],\n",
    "'n_estimators': Range (100, 1001, 100),\n",
    "'max_depth': [1,4,8,12,16,20],\n",
    "'min_samples_split': [2,6,10,16],\n",
    "'min_samples_leaf': [1,2,4,8,16]\n",
    "}\n",
    "\n",
    "Time spent in search of 21 minutes"
   ]
  },
  {
   "cell_type": "markdown",
   "metadata": {},
   "source": [
    "We use the found parameters for teaching the model already on the training sample and check on the validation"
   ]
  },
  {
   "cell_type": "code",
   "execution_count": 117,
   "metadata": {},
   "outputs": [],
   "source": [
    "rf_model = RandomForestRegressor(random_state=1337,\n",
    "                              n_estimators=200,\n",
    "                              max_depth=16,\n",
    "                              min_samples_split=2,\n",
    "                              min_samples_leaf=2\n",
    "                              )"
   ]
  },
  {
   "cell_type": "code",
   "execution_count": 118,
   "metadata": {},
   "outputs": [
    {
     "name": "stdout",
     "output_type": "stream",
     "text": [
      "CPU times: total: 2min 16s\n",
      "Wall time: 2min 25s\n"
     ]
    },
    {
     "data": {
      "text/html": [
       "<style>#sk-container-id-1 {\n",
       "  /* Definition of color scheme common for light and dark mode */\n",
       "  --sklearn-color-text: black;\n",
       "  --sklearn-color-line: gray;\n",
       "  /* Definition of color scheme for unfitted estimators */\n",
       "  --sklearn-color-unfitted-level-0: #fff5e6;\n",
       "  --sklearn-color-unfitted-level-1: #f6e4d2;\n",
       "  --sklearn-color-unfitted-level-2: #ffe0b3;\n",
       "  --sklearn-color-unfitted-level-3: chocolate;\n",
       "  /* Definition of color scheme for fitted estimators */\n",
       "  --sklearn-color-fitted-level-0: #f0f8ff;\n",
       "  --sklearn-color-fitted-level-1: #d4ebff;\n",
       "  --sklearn-color-fitted-level-2: #b3dbfd;\n",
       "  --sklearn-color-fitted-level-3: cornflowerblue;\n",
       "\n",
       "  /* Specific color for light theme */\n",
       "  --sklearn-color-text-on-default-background: var(--sg-text-color, var(--theme-code-foreground, var(--jp-content-font-color1, black)));\n",
       "  --sklearn-color-background: var(--sg-background-color, var(--theme-background, var(--jp-layout-color0, white)));\n",
       "  --sklearn-color-border-box: var(--sg-text-color, var(--theme-code-foreground, var(--jp-content-font-color1, black)));\n",
       "  --sklearn-color-icon: #696969;\n",
       "\n",
       "  @media (prefers-color-scheme: dark) {\n",
       "    /* Redefinition of color scheme for dark theme */\n",
       "    --sklearn-color-text-on-default-background: var(--sg-text-color, var(--theme-code-foreground, var(--jp-content-font-color1, white)));\n",
       "    --sklearn-color-background: var(--sg-background-color, var(--theme-background, var(--jp-layout-color0, #111)));\n",
       "    --sklearn-color-border-box: var(--sg-text-color, var(--theme-code-foreground, var(--jp-content-font-color1, white)));\n",
       "    --sklearn-color-icon: #878787;\n",
       "  }\n",
       "}\n",
       "\n",
       "#sk-container-id-1 {\n",
       "  color: var(--sklearn-color-text);\n",
       "}\n",
       "\n",
       "#sk-container-id-1 pre {\n",
       "  padding: 0;\n",
       "}\n",
       "\n",
       "#sk-container-id-1 input.sk-hidden--visually {\n",
       "  border: 0;\n",
       "  clip: rect(1px 1px 1px 1px);\n",
       "  clip: rect(1px, 1px, 1px, 1px);\n",
       "  height: 1px;\n",
       "  margin: -1px;\n",
       "  overflow: hidden;\n",
       "  padding: 0;\n",
       "  position: absolute;\n",
       "  width: 1px;\n",
       "}\n",
       "\n",
       "#sk-container-id-1 div.sk-dashed-wrapped {\n",
       "  border: 1px dashed var(--sklearn-color-line);\n",
       "  margin: 0 0.4em 0.5em 0.4em;\n",
       "  box-sizing: border-box;\n",
       "  padding-bottom: 0.4em;\n",
       "  background-color: var(--sklearn-color-background);\n",
       "}\n",
       "\n",
       "#sk-container-id-1 div.sk-container {\n",
       "  /* jupyter's `normalize.less` sets `[hidden] { display: none; }`\n",
       "     but bootstrap.min.css set `[hidden] { display: none !important; }`\n",
       "     so we also need the `!important` here to be able to override the\n",
       "     default hidden behavior on the sphinx rendered scikit-learn.org.\n",
       "     See: https://github.com/scikit-learn/scikit-learn/issues/21755 */\n",
       "  display: inline-block !important;\n",
       "  position: relative;\n",
       "}\n",
       "\n",
       "#sk-container-id-1 div.sk-text-repr-fallback {\n",
       "  display: none;\n",
       "}\n",
       "\n",
       "div.sk-parallel-item,\n",
       "div.sk-serial,\n",
       "div.sk-item {\n",
       "  /* draw centered vertical line to link estimators */\n",
       "  background-image: linear-gradient(var(--sklearn-color-text-on-default-background), var(--sklearn-color-text-on-default-background));\n",
       "  background-size: 2px 100%;\n",
       "  background-repeat: no-repeat;\n",
       "  background-position: center center;\n",
       "}\n",
       "\n",
       "/* Parallel-specific style estimator block */\n",
       "\n",
       "#sk-container-id-1 div.sk-parallel-item::after {\n",
       "  content: \"\";\n",
       "  width: 100%;\n",
       "  border-bottom: 2px solid var(--sklearn-color-text-on-default-background);\n",
       "  flex-grow: 1;\n",
       "}\n",
       "\n",
       "#sk-container-id-1 div.sk-parallel {\n",
       "  display: flex;\n",
       "  align-items: stretch;\n",
       "  justify-content: center;\n",
       "  background-color: var(--sklearn-color-background);\n",
       "  position: relative;\n",
       "}\n",
       "\n",
       "#sk-container-id-1 div.sk-parallel-item {\n",
       "  display: flex;\n",
       "  flex-direction: column;\n",
       "}\n",
       "\n",
       "#sk-container-id-1 div.sk-parallel-item:first-child::after {\n",
       "  align-self: flex-end;\n",
       "  width: 50%;\n",
       "}\n",
       "\n",
       "#sk-container-id-1 div.sk-parallel-item:last-child::after {\n",
       "  align-self: flex-start;\n",
       "  width: 50%;\n",
       "}\n",
       "\n",
       "#sk-container-id-1 div.sk-parallel-item:only-child::after {\n",
       "  width: 0;\n",
       "}\n",
       "\n",
       "/* Serial-specific style estimator block */\n",
       "\n",
       "#sk-container-id-1 div.sk-serial {\n",
       "  display: flex;\n",
       "  flex-direction: column;\n",
       "  align-items: center;\n",
       "  background-color: var(--sklearn-color-background);\n",
       "  padding-right: 1em;\n",
       "  padding-left: 1em;\n",
       "}\n",
       "\n",
       "\n",
       "/* Toggleable style: style used for estimator/Pipeline/ColumnTransformer box that is\n",
       "clickable and can be expanded/collapsed.\n",
       "- Pipeline and ColumnTransformer use this feature and define the default style\n",
       "- Estimators will overwrite some part of the style using the `sk-estimator` class\n",
       "*/\n",
       "\n",
       "/* Pipeline and ColumnTransformer style (default) */\n",
       "\n",
       "#sk-container-id-1 div.sk-toggleable {\n",
       "  /* Default theme specific background. It is overwritten whether we have a\n",
       "  specific estimator or a Pipeline/ColumnTransformer */\n",
       "  background-color: var(--sklearn-color-background);\n",
       "}\n",
       "\n",
       "/* Toggleable label */\n",
       "#sk-container-id-1 label.sk-toggleable__label {\n",
       "  cursor: pointer;\n",
       "  display: block;\n",
       "  width: 100%;\n",
       "  margin-bottom: 0;\n",
       "  padding: 0.5em;\n",
       "  box-sizing: border-box;\n",
       "  text-align: center;\n",
       "}\n",
       "\n",
       "#sk-container-id-1 label.sk-toggleable__label-arrow:before {\n",
       "  /* Arrow on the left of the label */\n",
       "  content: \"▸\";\n",
       "  float: left;\n",
       "  margin-right: 0.25em;\n",
       "  color: var(--sklearn-color-icon);\n",
       "}\n",
       "\n",
       "#sk-container-id-1 label.sk-toggleable__label-arrow:hover:before {\n",
       "  color: var(--sklearn-color-text);\n",
       "}\n",
       "\n",
       "/* Toggleable content - dropdown */\n",
       "\n",
       "#sk-container-id-1 div.sk-toggleable__content {\n",
       "  max-height: 0;\n",
       "  max-width: 0;\n",
       "  overflow: hidden;\n",
       "  text-align: left;\n",
       "  /* unfitted */\n",
       "  background-color: var(--sklearn-color-unfitted-level-0);\n",
       "}\n",
       "\n",
       "#sk-container-id-1 div.sk-toggleable__content.fitted {\n",
       "  /* fitted */\n",
       "  background-color: var(--sklearn-color-fitted-level-0);\n",
       "}\n",
       "\n",
       "#sk-container-id-1 div.sk-toggleable__content pre {\n",
       "  margin: 0.2em;\n",
       "  border-radius: 0.25em;\n",
       "  color: var(--sklearn-color-text);\n",
       "  /* unfitted */\n",
       "  background-color: var(--sklearn-color-unfitted-level-0);\n",
       "}\n",
       "\n",
       "#sk-container-id-1 div.sk-toggleable__content.fitted pre {\n",
       "  /* unfitted */\n",
       "  background-color: var(--sklearn-color-fitted-level-0);\n",
       "}\n",
       "\n",
       "#sk-container-id-1 input.sk-toggleable__control:checked~div.sk-toggleable__content {\n",
       "  /* Expand drop-down */\n",
       "  max-height: 200px;\n",
       "  max-width: 100%;\n",
       "  overflow: auto;\n",
       "}\n",
       "\n",
       "#sk-container-id-1 input.sk-toggleable__control:checked~label.sk-toggleable__label-arrow:before {\n",
       "  content: \"▾\";\n",
       "}\n",
       "\n",
       "/* Pipeline/ColumnTransformer-specific style */\n",
       "\n",
       "#sk-container-id-1 div.sk-label input.sk-toggleable__control:checked~label.sk-toggleable__label {\n",
       "  color: var(--sklearn-color-text);\n",
       "  background-color: var(--sklearn-color-unfitted-level-2);\n",
       "}\n",
       "\n",
       "#sk-container-id-1 div.sk-label.fitted input.sk-toggleable__control:checked~label.sk-toggleable__label {\n",
       "  background-color: var(--sklearn-color-fitted-level-2);\n",
       "}\n",
       "\n",
       "/* Estimator-specific style */\n",
       "\n",
       "/* Colorize estimator box */\n",
       "#sk-container-id-1 div.sk-estimator input.sk-toggleable__control:checked~label.sk-toggleable__label {\n",
       "  /* unfitted */\n",
       "  background-color: var(--sklearn-color-unfitted-level-2);\n",
       "}\n",
       "\n",
       "#sk-container-id-1 div.sk-estimator.fitted input.sk-toggleable__control:checked~label.sk-toggleable__label {\n",
       "  /* fitted */\n",
       "  background-color: var(--sklearn-color-fitted-level-2);\n",
       "}\n",
       "\n",
       "#sk-container-id-1 div.sk-label label.sk-toggleable__label,\n",
       "#sk-container-id-1 div.sk-label label {\n",
       "  /* The background is the default theme color */\n",
       "  color: var(--sklearn-color-text-on-default-background);\n",
       "}\n",
       "\n",
       "/* On hover, darken the color of the background */\n",
       "#sk-container-id-1 div.sk-label:hover label.sk-toggleable__label {\n",
       "  color: var(--sklearn-color-text);\n",
       "  background-color: var(--sklearn-color-unfitted-level-2);\n",
       "}\n",
       "\n",
       "/* Label box, darken color on hover, fitted */\n",
       "#sk-container-id-1 div.sk-label.fitted:hover label.sk-toggleable__label.fitted {\n",
       "  color: var(--sklearn-color-text);\n",
       "  background-color: var(--sklearn-color-fitted-level-2);\n",
       "}\n",
       "\n",
       "/* Estimator label */\n",
       "\n",
       "#sk-container-id-1 div.sk-label label {\n",
       "  font-family: monospace;\n",
       "  font-weight: bold;\n",
       "  display: inline-block;\n",
       "  line-height: 1.2em;\n",
       "}\n",
       "\n",
       "#sk-container-id-1 div.sk-label-container {\n",
       "  text-align: center;\n",
       "}\n",
       "\n",
       "/* Estimator-specific */\n",
       "#sk-container-id-1 div.sk-estimator {\n",
       "  font-family: monospace;\n",
       "  border: 1px dotted var(--sklearn-color-border-box);\n",
       "  border-radius: 0.25em;\n",
       "  box-sizing: border-box;\n",
       "  margin-bottom: 0.5em;\n",
       "  /* unfitted */\n",
       "  background-color: var(--sklearn-color-unfitted-level-0);\n",
       "}\n",
       "\n",
       "#sk-container-id-1 div.sk-estimator.fitted {\n",
       "  /* fitted */\n",
       "  background-color: var(--sklearn-color-fitted-level-0);\n",
       "}\n",
       "\n",
       "/* on hover */\n",
       "#sk-container-id-1 div.sk-estimator:hover {\n",
       "  /* unfitted */\n",
       "  background-color: var(--sklearn-color-unfitted-level-2);\n",
       "}\n",
       "\n",
       "#sk-container-id-1 div.sk-estimator.fitted:hover {\n",
       "  /* fitted */\n",
       "  background-color: var(--sklearn-color-fitted-level-2);\n",
       "}\n",
       "\n",
       "/* Specification for estimator info (e.g. \"i\" and \"?\") */\n",
       "\n",
       "/* Common style for \"i\" and \"?\" */\n",
       "\n",
       ".sk-estimator-doc-link,\n",
       "a:link.sk-estimator-doc-link,\n",
       "a:visited.sk-estimator-doc-link {\n",
       "  float: right;\n",
       "  font-size: smaller;\n",
       "  line-height: 1em;\n",
       "  font-family: monospace;\n",
       "  background-color: var(--sklearn-color-background);\n",
       "  border-radius: 1em;\n",
       "  height: 1em;\n",
       "  width: 1em;\n",
       "  text-decoration: none !important;\n",
       "  margin-left: 1ex;\n",
       "  /* unfitted */\n",
       "  border: var(--sklearn-color-unfitted-level-1) 1pt solid;\n",
       "  color: var(--sklearn-color-unfitted-level-1);\n",
       "}\n",
       "\n",
       ".sk-estimator-doc-link.fitted,\n",
       "a:link.sk-estimator-doc-link.fitted,\n",
       "a:visited.sk-estimator-doc-link.fitted {\n",
       "  /* fitted */\n",
       "  border: var(--sklearn-color-fitted-level-1) 1pt solid;\n",
       "  color: var(--sklearn-color-fitted-level-1);\n",
       "}\n",
       "\n",
       "/* On hover */\n",
       "div.sk-estimator:hover .sk-estimator-doc-link:hover,\n",
       ".sk-estimator-doc-link:hover,\n",
       "div.sk-label-container:hover .sk-estimator-doc-link:hover,\n",
       ".sk-estimator-doc-link:hover {\n",
       "  /* unfitted */\n",
       "  background-color: var(--sklearn-color-unfitted-level-3);\n",
       "  color: var(--sklearn-color-background);\n",
       "  text-decoration: none;\n",
       "}\n",
       "\n",
       "div.sk-estimator.fitted:hover .sk-estimator-doc-link.fitted:hover,\n",
       ".sk-estimator-doc-link.fitted:hover,\n",
       "div.sk-label-container:hover .sk-estimator-doc-link.fitted:hover,\n",
       ".sk-estimator-doc-link.fitted:hover {\n",
       "  /* fitted */\n",
       "  background-color: var(--sklearn-color-fitted-level-3);\n",
       "  color: var(--sklearn-color-background);\n",
       "  text-decoration: none;\n",
       "}\n",
       "\n",
       "/* Span, style for the box shown on hovering the info icon */\n",
       ".sk-estimator-doc-link span {\n",
       "  display: none;\n",
       "  z-index: 9999;\n",
       "  position: relative;\n",
       "  font-weight: normal;\n",
       "  right: .2ex;\n",
       "  padding: .5ex;\n",
       "  margin: .5ex;\n",
       "  width: min-content;\n",
       "  min-width: 20ex;\n",
       "  max-width: 50ex;\n",
       "  color: var(--sklearn-color-text);\n",
       "  box-shadow: 2pt 2pt 4pt #999;\n",
       "  /* unfitted */\n",
       "  background: var(--sklearn-color-unfitted-level-0);\n",
       "  border: .5pt solid var(--sklearn-color-unfitted-level-3);\n",
       "}\n",
       "\n",
       ".sk-estimator-doc-link.fitted span {\n",
       "  /* fitted */\n",
       "  background: var(--sklearn-color-fitted-level-0);\n",
       "  border: var(--sklearn-color-fitted-level-3);\n",
       "}\n",
       "\n",
       ".sk-estimator-doc-link:hover span {\n",
       "  display: block;\n",
       "}\n",
       "\n",
       "/* \"?\"-specific style due to the `<a>` HTML tag */\n",
       "\n",
       "#sk-container-id-1 a.estimator_doc_link {\n",
       "  float: right;\n",
       "  font-size: 1rem;\n",
       "  line-height: 1em;\n",
       "  font-family: monospace;\n",
       "  background-color: var(--sklearn-color-background);\n",
       "  border-radius: 1rem;\n",
       "  height: 1rem;\n",
       "  width: 1rem;\n",
       "  text-decoration: none;\n",
       "  /* unfitted */\n",
       "  color: var(--sklearn-color-unfitted-level-1);\n",
       "  border: var(--sklearn-color-unfitted-level-1) 1pt solid;\n",
       "}\n",
       "\n",
       "#sk-container-id-1 a.estimator_doc_link.fitted {\n",
       "  /* fitted */\n",
       "  border: var(--sklearn-color-fitted-level-1) 1pt solid;\n",
       "  color: var(--sklearn-color-fitted-level-1);\n",
       "}\n",
       "\n",
       "/* On hover */\n",
       "#sk-container-id-1 a.estimator_doc_link:hover {\n",
       "  /* unfitted */\n",
       "  background-color: var(--sklearn-color-unfitted-level-3);\n",
       "  color: var(--sklearn-color-background);\n",
       "  text-decoration: none;\n",
       "}\n",
       "\n",
       "#sk-container-id-1 a.estimator_doc_link.fitted:hover {\n",
       "  /* fitted */\n",
       "  background-color: var(--sklearn-color-fitted-level-3);\n",
       "}\n",
       "</style><div id=\"sk-container-id-1\" class=\"sk-top-container\"><div class=\"sk-text-repr-fallback\"><pre>RandomForestRegressor(max_depth=16, min_samples_leaf=2, n_estimators=200,\n",
       "                      random_state=1337)</pre><b>In a Jupyter environment, please rerun this cell to show the HTML representation or trust the notebook. <br />On GitHub, the HTML representation is unable to render, please try loading this page with nbviewer.org.</b></div><div class=\"sk-container\" hidden><div class=\"sk-item\"><div class=\"sk-estimator fitted sk-toggleable\"><input class=\"sk-toggleable__control sk-hidden--visually\" id=\"sk-estimator-id-1\" type=\"checkbox\" checked><label for=\"sk-estimator-id-1\" class=\"sk-toggleable__label fitted sk-toggleable__label-arrow fitted\">&nbsp;&nbsp;RandomForestRegressor<a class=\"sk-estimator-doc-link fitted\" rel=\"noreferrer\" target=\"_blank\" href=\"https://scikit-learn.org/1.4/modules/generated/sklearn.ensemble.RandomForestRegressor.html\">?<span>Documentation for RandomForestRegressor</span></a><span class=\"sk-estimator-doc-link fitted\">i<span>Fitted</span></span></label><div class=\"sk-toggleable__content fitted\"><pre>RandomForestRegressor(max_depth=16, min_samples_leaf=2, n_estimators=200,\n",
       "                      random_state=1337)</pre></div> </div></div></div></div>"
      ],
      "text/plain": [
       "RandomForestRegressor(max_depth=16, min_samples_leaf=2, n_estimators=200,\n",
       "                      random_state=1337)"
      ]
     },
     "execution_count": 118,
     "metadata": {},
     "output_type": "execute_result"
    }
   ],
   "source": [
    "%%time\n",
    "rf_model.fit(X_train, y_train)"
   ]
  },
  {
   "cell_type": "code",
   "execution_count": 119,
   "metadata": {},
   "outputs": [
    {
     "name": "stdout",
     "output_type": "stream",
     "text": [
      "CPU times: total: 1.94 s\n",
      "Wall time: 2.2 s\n"
     ]
    }
   ],
   "source": [
    "%%time\n",
    "predict_valid = rf_model.predict(X_valid)"
   ]
  },
  {
   "cell_type": "code",
   "execution_count": 120,
   "metadata": {},
   "outputs": [
    {
     "name": "stdout",
     "output_type": "stream",
     "text": [
      "RMSE of random forest model: 1595.56\n"
     ]
    }
   ],
   "source": [
    "rf_rmse = mean_squared_error(predict_valid, y_valid)**0.5\n",
    "print('RMSE of random forest model:', round(rf_rmse, 2))"
   ]
  },
  {
   "cell_type": "markdown",
   "metadata": {},
   "source": [
    "## Lightgbm Model"
   ]
  },
  {
   "cell_type": "markdown",
   "metadata": {},
   "source": [
    "To begin with, we will enter the parameters for the gradient boosting model with our hands to understand what we are from"
   ]
  },
  {
   "cell_type": "code",
   "execution_count": 121,
   "metadata": {},
   "outputs": [
    {
     "name": "stdout",
     "output_type": "stream",
     "text": [
      "RMSE of the LightGBM gradient boosting model 1704.72\n",
      "CPU times: total: 15.6 ms\n",
      "Wall time: 1.49 s\n"
     ]
    }
   ],
   "source": [
    "%%time\n",
    "\n",
    "gb1_model = LGBMRegressor(\n",
    "    boosting_type='gbdt',\n",
    "    num_leaves=31,\n",
    "    max_depth=-1,\n",
    "    learning_rate=0.1,\n",
    "    n_estimators=100,\n",
    "    objective='regression',\n",
    "    min_split_gain=0.0,\n",
    "    min_child_samples=20,\n",
    "    subsample=1.0,\n",
    "    subsample_freq=0,\n",
    "    colsample_bytree=1.0,\n",
    "    reg_alpha=0.0,\n",
    "    reg_lambda=0.0,\n",
    "    random_state=1337,\n",
    "    silent=True\n",
    "    )\n",
    "\n",
    "gb1_rmse = cross_val_score(gb1_model, X_valid, y_valid, scoring='neg_root_mean_squared_error', cv=cv, n_jobs=-1, error_score='raise')\n",
    "print(f'RMSE of the LightGBM gradient boosting model {round(abs(np.mean(gb1_rmse)), 2)}')"
   ]
  },
  {
   "cell_type": "markdown",
   "metadata": {},
   "source": [
    "Find the parameters that will improve our quality using `RandomizedSearchcv`"
   ]
  },
  {
   "cell_type": "code",
   "execution_count": 122,
   "metadata": {},
   "outputs": [
    {
     "name": "stdout",
     "output_type": "stream",
     "text": [
      "[LightGBM] [Info] Auto-choosing row-wise multi-threading, the overhead of testing was 0.004453 seconds.\n",
      "You can set `force_row_wise=true` to remove the overhead.\n",
      "And if memory is not enough, you can set `force_col_wise=true`.\n",
      "[LightGBM] [Info] Total Bins 600\n",
      "[LightGBM] [Info] Number of data points in the train set: 58019, number of used features: 30\n",
      "[LightGBM] [Info] Start training from score 4917.237681\n",
      "the RMSE value of the LightGBM gradient boosting model is:\n",
      "1626.133687051163\n",
      "with the following parameters:\n",
      "{'num_leaves': 60, 'n_estimators': 400, 'max_depth': 16, 'learning_rate': 0.1}\n"
     ]
    }
   ],
   "source": [
    "gbrs_model = LGBMRegressor(\n",
    "                    objective='regression',\n",
    "                    min_split_gain=0.0,\n",
    "                    min_child_samples=20,\n",
    "                    subsample=1.0,\n",
    "                    subsample_freq=0,\n",
    "                    colsample_bytree=1.0,\n",
    "                    reg_alpha=0.0,\n",
    "                    reg_lambda=0.0,\n",
    "                    seed=1337\n",
    "                )\n",
    "\n",
    "gb_parameters = {'num_leaves': [21, 31, 41, 60],\n",
    "                'max_depth': [-1, 0, 1, 16, 32],\n",
    "                'learning_rate': [0.01, 0.1, 0.2, 0.3, 0.4],\n",
    "                'n_estimators': [100, 200, 400]\n",
    "                }\n",
    "                \n",
    "gb_rndsch = RandomizedSearchCV(gbrs_model, \n",
    "                               param_distributions = gb_parameters,\n",
    "                               n_iter = 300, \n",
    "                               scoring='neg_root_mean_squared_error', \n",
    "                               error_score='raise', \n",
    "                               cv = cv,\n",
    "                               random_state = 1337,\n",
    "                               n_jobs = -1\n",
    "                               )\n",
    "\n",
    "gb_rndsch.fit(X_valid, y_valid)\n",
    "\n",
    "gb_rndsch_rmse = abs(gb_rndsch.best_score_)\n",
    "\n",
    "print('the RMSE value of the LightGBM gradient boosting model is:')\n",
    "print(gb_rndsch_rmse)\n",
    "print('with the following parameters:')\n",
    "print(gb_rndsch.best_params_)"
   ]
  },
  {
   "cell_type": "markdown",
   "metadata": {},
   "source": [
    "The parameters found using RandomizedSearchcv:\n",
    "\n",
    "            RMSE LightGBM value of gradient boosts:\n",
    "            1626.133687051163\n",
    "            At the following parameters:\n",
    "            {'num_leaves': 60, 'n_estimators': 400, 'max_depth': 16, 'Learning_Rate': 0.1}\n",
    "\n",
    "The overkill of the parameters is carried out among this space of options:\n",
    "\n",
    "            {'num_leaves': [21, 31, 41, 60],\n",
    "            'max_depth': [-1, 0, 1, 16, 32],\n",
    "            'Learning_Rate': [0.01, 0.1, 0.2, 0.3, 0.4],\n",
    "            'n_estimators': [100, 200, 400]\n",
    "            }\n",
    "\n",
    "Time spent in search: 20 min"
   ]
  },
  {
   "cell_type": "markdown",
   "metadata": {},
   "source": [
    "Check the found parameters on the validation sample and compare the results"
   ]
  },
  {
   "cell_type": "code",
   "execution_count": 123,
   "metadata": {},
   "outputs": [
    {
     "name": "stdout",
     "output_type": "stream",
     "text": [
      "RMSE of the LightGBM gradient boosting model 1626.13\n",
      "CPU times: total: 266 ms\n",
      "Wall time: 4.45 s\n"
     ]
    }
   ],
   "source": [
    "%%time\n",
    "\n",
    "gb2_model = LGBMRegressor(\n",
    "    boosting_type='gbdt',\n",
    "    num_leaves=60,\n",
    "    max_depth=16,\n",
    "    learning_rate=0.1,\n",
    "    n_estimators=400,\n",
    "    objective='regression',\n",
    "    min_split_gain=0.0,\n",
    "    min_child_samples=20,\n",
    "    subsample=1.0,\n",
    "    subsample_freq=0,\n",
    "    colsample_bytree=1.0,\n",
    "    reg_alpha=0.0,\n",
    "    reg_lambda=0.0,\n",
    "    random_state=1337,\n",
    "    silent=True\n",
    "    )\n",
    "\n",
    "gb2_rmse = cross_val_score(gb2_model, X_valid, y_valid, scoring='neg_root_mean_squared_error', cv=cv, n_jobs=-1, error_score='raise')\n",
    "print(f'RMSE of the LightGBM gradient boosting model {round(abs(np.mean(gb2_rmse)), 2)}')"
   ]
  },
  {
   "cell_type": "markdown",
   "metadata": {},
   "source": [
    "The quality has improved from 1704.72 to 1626.13, while the time spent on teaching the model on the cross -country cross and the metric calculation increased from 12.8 S to 59.6 s.\n",
    "As we see, the growth as a completely proportional time spent, the speed of training has decreased significantly, and since the speed of training is also important to us, such a mural of quality is not such a slowdown in the process.In the task, we needed to achieve the quality of RMSE no more than 2500, and we achieve these goals with the initially taken parameters, but with a much ray time of training.\n",
    "\n",
    "\n",
    "We will train the model in the training sample"
   ]
  },
  {
   "cell_type": "code",
   "execution_count": 124,
   "metadata": {},
   "outputs": [],
   "source": [
    "gb_model = LGBMRegressor(\n",
    "    boosting_type='gbdt',\n",
    "    num_leaves=31,\n",
    "    max_depth=-1,\n",
    "    learning_rate=0.1,\n",
    "    n_estimators=100,\n",
    "    objective='regression',\n",
    "    min_split_gain=0.0,\n",
    "    min_child_samples=20,\n",
    "    subsample=1.0,\n",
    "    subsample_freq=0,\n",
    "    colsample_bytree=1.0,\n",
    "    reg_alpha=0.0,\n",
    "    reg_lambda=0.0,\n",
    "    random_state=1337,\n",
    "    silent=True\n",
    "    )"
   ]
  },
  {
   "cell_type": "code",
   "execution_count": 125,
   "metadata": {},
   "outputs": [
    {
     "name": "stdout",
     "output_type": "stream",
     "text": [
      "[LightGBM] [Warning] Unknown parameter: silent\n",
      "[LightGBM] [Warning] Unknown parameter: silent\n",
      "[LightGBM] [Info] Auto-choosing row-wise multi-threading, the overhead of testing was 0.012905 seconds.\n",
      "You can set `force_row_wise=true` to remove the overhead.\n",
      "And if memory is not enough, you can set `force_col_wise=true`.\n",
      "[LightGBM] [Info] Total Bins 617\n",
      "[LightGBM] [Info] Number of data points in the train set: 174055, number of used features: 31\n",
      "[LightGBM] [Info] Start training from score 4893.555761\n",
      "CPU times: total: 1.84 s\n",
      "Wall time: 654 ms\n"
     ]
    },
    {
     "data": {
      "text/html": [
       "<style>#sk-container-id-2 {\n",
       "  /* Definition of color scheme common for light and dark mode */\n",
       "  --sklearn-color-text: black;\n",
       "  --sklearn-color-line: gray;\n",
       "  /* Definition of color scheme for unfitted estimators */\n",
       "  --sklearn-color-unfitted-level-0: #fff5e6;\n",
       "  --sklearn-color-unfitted-level-1: #f6e4d2;\n",
       "  --sklearn-color-unfitted-level-2: #ffe0b3;\n",
       "  --sklearn-color-unfitted-level-3: chocolate;\n",
       "  /* Definition of color scheme for fitted estimators */\n",
       "  --sklearn-color-fitted-level-0: #f0f8ff;\n",
       "  --sklearn-color-fitted-level-1: #d4ebff;\n",
       "  --sklearn-color-fitted-level-2: #b3dbfd;\n",
       "  --sklearn-color-fitted-level-3: cornflowerblue;\n",
       "\n",
       "  /* Specific color for light theme */\n",
       "  --sklearn-color-text-on-default-background: var(--sg-text-color, var(--theme-code-foreground, var(--jp-content-font-color1, black)));\n",
       "  --sklearn-color-background: var(--sg-background-color, var(--theme-background, var(--jp-layout-color0, white)));\n",
       "  --sklearn-color-border-box: var(--sg-text-color, var(--theme-code-foreground, var(--jp-content-font-color1, black)));\n",
       "  --sklearn-color-icon: #696969;\n",
       "\n",
       "  @media (prefers-color-scheme: dark) {\n",
       "    /* Redefinition of color scheme for dark theme */\n",
       "    --sklearn-color-text-on-default-background: var(--sg-text-color, var(--theme-code-foreground, var(--jp-content-font-color1, white)));\n",
       "    --sklearn-color-background: var(--sg-background-color, var(--theme-background, var(--jp-layout-color0, #111)));\n",
       "    --sklearn-color-border-box: var(--sg-text-color, var(--theme-code-foreground, var(--jp-content-font-color1, white)));\n",
       "    --sklearn-color-icon: #878787;\n",
       "  }\n",
       "}\n",
       "\n",
       "#sk-container-id-2 {\n",
       "  color: var(--sklearn-color-text);\n",
       "}\n",
       "\n",
       "#sk-container-id-2 pre {\n",
       "  padding: 0;\n",
       "}\n",
       "\n",
       "#sk-container-id-2 input.sk-hidden--visually {\n",
       "  border: 0;\n",
       "  clip: rect(1px 1px 1px 1px);\n",
       "  clip: rect(1px, 1px, 1px, 1px);\n",
       "  height: 1px;\n",
       "  margin: -1px;\n",
       "  overflow: hidden;\n",
       "  padding: 0;\n",
       "  position: absolute;\n",
       "  width: 1px;\n",
       "}\n",
       "\n",
       "#sk-container-id-2 div.sk-dashed-wrapped {\n",
       "  border: 1px dashed var(--sklearn-color-line);\n",
       "  margin: 0 0.4em 0.5em 0.4em;\n",
       "  box-sizing: border-box;\n",
       "  padding-bottom: 0.4em;\n",
       "  background-color: var(--sklearn-color-background);\n",
       "}\n",
       "\n",
       "#sk-container-id-2 div.sk-container {\n",
       "  /* jupyter's `normalize.less` sets `[hidden] { display: none; }`\n",
       "     but bootstrap.min.css set `[hidden] { display: none !important; }`\n",
       "     so we also need the `!important` here to be able to override the\n",
       "     default hidden behavior on the sphinx rendered scikit-learn.org.\n",
       "     See: https://github.com/scikit-learn/scikit-learn/issues/21755 */\n",
       "  display: inline-block !important;\n",
       "  position: relative;\n",
       "}\n",
       "\n",
       "#sk-container-id-2 div.sk-text-repr-fallback {\n",
       "  display: none;\n",
       "}\n",
       "\n",
       "div.sk-parallel-item,\n",
       "div.sk-serial,\n",
       "div.sk-item {\n",
       "  /* draw centered vertical line to link estimators */\n",
       "  background-image: linear-gradient(var(--sklearn-color-text-on-default-background), var(--sklearn-color-text-on-default-background));\n",
       "  background-size: 2px 100%;\n",
       "  background-repeat: no-repeat;\n",
       "  background-position: center center;\n",
       "}\n",
       "\n",
       "/* Parallel-specific style estimator block */\n",
       "\n",
       "#sk-container-id-2 div.sk-parallel-item::after {\n",
       "  content: \"\";\n",
       "  width: 100%;\n",
       "  border-bottom: 2px solid var(--sklearn-color-text-on-default-background);\n",
       "  flex-grow: 1;\n",
       "}\n",
       "\n",
       "#sk-container-id-2 div.sk-parallel {\n",
       "  display: flex;\n",
       "  align-items: stretch;\n",
       "  justify-content: center;\n",
       "  background-color: var(--sklearn-color-background);\n",
       "  position: relative;\n",
       "}\n",
       "\n",
       "#sk-container-id-2 div.sk-parallel-item {\n",
       "  display: flex;\n",
       "  flex-direction: column;\n",
       "}\n",
       "\n",
       "#sk-container-id-2 div.sk-parallel-item:first-child::after {\n",
       "  align-self: flex-end;\n",
       "  width: 50%;\n",
       "}\n",
       "\n",
       "#sk-container-id-2 div.sk-parallel-item:last-child::after {\n",
       "  align-self: flex-start;\n",
       "  width: 50%;\n",
       "}\n",
       "\n",
       "#sk-container-id-2 div.sk-parallel-item:only-child::after {\n",
       "  width: 0;\n",
       "}\n",
       "\n",
       "/* Serial-specific style estimator block */\n",
       "\n",
       "#sk-container-id-2 div.sk-serial {\n",
       "  display: flex;\n",
       "  flex-direction: column;\n",
       "  align-items: center;\n",
       "  background-color: var(--sklearn-color-background);\n",
       "  padding-right: 1em;\n",
       "  padding-left: 1em;\n",
       "}\n",
       "\n",
       "\n",
       "/* Toggleable style: style used for estimator/Pipeline/ColumnTransformer box that is\n",
       "clickable and can be expanded/collapsed.\n",
       "- Pipeline and ColumnTransformer use this feature and define the default style\n",
       "- Estimators will overwrite some part of the style using the `sk-estimator` class\n",
       "*/\n",
       "\n",
       "/* Pipeline and ColumnTransformer style (default) */\n",
       "\n",
       "#sk-container-id-2 div.sk-toggleable {\n",
       "  /* Default theme specific background. It is overwritten whether we have a\n",
       "  specific estimator or a Pipeline/ColumnTransformer */\n",
       "  background-color: var(--sklearn-color-background);\n",
       "}\n",
       "\n",
       "/* Toggleable label */\n",
       "#sk-container-id-2 label.sk-toggleable__label {\n",
       "  cursor: pointer;\n",
       "  display: block;\n",
       "  width: 100%;\n",
       "  margin-bottom: 0;\n",
       "  padding: 0.5em;\n",
       "  box-sizing: border-box;\n",
       "  text-align: center;\n",
       "}\n",
       "\n",
       "#sk-container-id-2 label.sk-toggleable__label-arrow:before {\n",
       "  /* Arrow on the left of the label */\n",
       "  content: \"▸\";\n",
       "  float: left;\n",
       "  margin-right: 0.25em;\n",
       "  color: var(--sklearn-color-icon);\n",
       "}\n",
       "\n",
       "#sk-container-id-2 label.sk-toggleable__label-arrow:hover:before {\n",
       "  color: var(--sklearn-color-text);\n",
       "}\n",
       "\n",
       "/* Toggleable content - dropdown */\n",
       "\n",
       "#sk-container-id-2 div.sk-toggleable__content {\n",
       "  max-height: 0;\n",
       "  max-width: 0;\n",
       "  overflow: hidden;\n",
       "  text-align: left;\n",
       "  /* unfitted */\n",
       "  background-color: var(--sklearn-color-unfitted-level-0);\n",
       "}\n",
       "\n",
       "#sk-container-id-2 div.sk-toggleable__content.fitted {\n",
       "  /* fitted */\n",
       "  background-color: var(--sklearn-color-fitted-level-0);\n",
       "}\n",
       "\n",
       "#sk-container-id-2 div.sk-toggleable__content pre {\n",
       "  margin: 0.2em;\n",
       "  border-radius: 0.25em;\n",
       "  color: var(--sklearn-color-text);\n",
       "  /* unfitted */\n",
       "  background-color: var(--sklearn-color-unfitted-level-0);\n",
       "}\n",
       "\n",
       "#sk-container-id-2 div.sk-toggleable__content.fitted pre {\n",
       "  /* unfitted */\n",
       "  background-color: var(--sklearn-color-fitted-level-0);\n",
       "}\n",
       "\n",
       "#sk-container-id-2 input.sk-toggleable__control:checked~div.sk-toggleable__content {\n",
       "  /* Expand drop-down */\n",
       "  max-height: 200px;\n",
       "  max-width: 100%;\n",
       "  overflow: auto;\n",
       "}\n",
       "\n",
       "#sk-container-id-2 input.sk-toggleable__control:checked~label.sk-toggleable__label-arrow:before {\n",
       "  content: \"▾\";\n",
       "}\n",
       "\n",
       "/* Pipeline/ColumnTransformer-specific style */\n",
       "\n",
       "#sk-container-id-2 div.sk-label input.sk-toggleable__control:checked~label.sk-toggleable__label {\n",
       "  color: var(--sklearn-color-text);\n",
       "  background-color: var(--sklearn-color-unfitted-level-2);\n",
       "}\n",
       "\n",
       "#sk-container-id-2 div.sk-label.fitted input.sk-toggleable__control:checked~label.sk-toggleable__label {\n",
       "  background-color: var(--sklearn-color-fitted-level-2);\n",
       "}\n",
       "\n",
       "/* Estimator-specific style */\n",
       "\n",
       "/* Colorize estimator box */\n",
       "#sk-container-id-2 div.sk-estimator input.sk-toggleable__control:checked~label.sk-toggleable__label {\n",
       "  /* unfitted */\n",
       "  background-color: var(--sklearn-color-unfitted-level-2);\n",
       "}\n",
       "\n",
       "#sk-container-id-2 div.sk-estimator.fitted input.sk-toggleable__control:checked~label.sk-toggleable__label {\n",
       "  /* fitted */\n",
       "  background-color: var(--sklearn-color-fitted-level-2);\n",
       "}\n",
       "\n",
       "#sk-container-id-2 div.sk-label label.sk-toggleable__label,\n",
       "#sk-container-id-2 div.sk-label label {\n",
       "  /* The background is the default theme color */\n",
       "  color: var(--sklearn-color-text-on-default-background);\n",
       "}\n",
       "\n",
       "/* On hover, darken the color of the background */\n",
       "#sk-container-id-2 div.sk-label:hover label.sk-toggleable__label {\n",
       "  color: var(--sklearn-color-text);\n",
       "  background-color: var(--sklearn-color-unfitted-level-2);\n",
       "}\n",
       "\n",
       "/* Label box, darken color on hover, fitted */\n",
       "#sk-container-id-2 div.sk-label.fitted:hover label.sk-toggleable__label.fitted {\n",
       "  color: var(--sklearn-color-text);\n",
       "  background-color: var(--sklearn-color-fitted-level-2);\n",
       "}\n",
       "\n",
       "/* Estimator label */\n",
       "\n",
       "#sk-container-id-2 div.sk-label label {\n",
       "  font-family: monospace;\n",
       "  font-weight: bold;\n",
       "  display: inline-block;\n",
       "  line-height: 1.2em;\n",
       "}\n",
       "\n",
       "#sk-container-id-2 div.sk-label-container {\n",
       "  text-align: center;\n",
       "}\n",
       "\n",
       "/* Estimator-specific */\n",
       "#sk-container-id-2 div.sk-estimator {\n",
       "  font-family: monospace;\n",
       "  border: 1px dotted var(--sklearn-color-border-box);\n",
       "  border-radius: 0.25em;\n",
       "  box-sizing: border-box;\n",
       "  margin-bottom: 0.5em;\n",
       "  /* unfitted */\n",
       "  background-color: var(--sklearn-color-unfitted-level-0);\n",
       "}\n",
       "\n",
       "#sk-container-id-2 div.sk-estimator.fitted {\n",
       "  /* fitted */\n",
       "  background-color: var(--sklearn-color-fitted-level-0);\n",
       "}\n",
       "\n",
       "/* on hover */\n",
       "#sk-container-id-2 div.sk-estimator:hover {\n",
       "  /* unfitted */\n",
       "  background-color: var(--sklearn-color-unfitted-level-2);\n",
       "}\n",
       "\n",
       "#sk-container-id-2 div.sk-estimator.fitted:hover {\n",
       "  /* fitted */\n",
       "  background-color: var(--sklearn-color-fitted-level-2);\n",
       "}\n",
       "\n",
       "/* Specification for estimator info (e.g. \"i\" and \"?\") */\n",
       "\n",
       "/* Common style for \"i\" and \"?\" */\n",
       "\n",
       ".sk-estimator-doc-link,\n",
       "a:link.sk-estimator-doc-link,\n",
       "a:visited.sk-estimator-doc-link {\n",
       "  float: right;\n",
       "  font-size: smaller;\n",
       "  line-height: 1em;\n",
       "  font-family: monospace;\n",
       "  background-color: var(--sklearn-color-background);\n",
       "  border-radius: 1em;\n",
       "  height: 1em;\n",
       "  width: 1em;\n",
       "  text-decoration: none !important;\n",
       "  margin-left: 1ex;\n",
       "  /* unfitted */\n",
       "  border: var(--sklearn-color-unfitted-level-1) 1pt solid;\n",
       "  color: var(--sklearn-color-unfitted-level-1);\n",
       "}\n",
       "\n",
       ".sk-estimator-doc-link.fitted,\n",
       "a:link.sk-estimator-doc-link.fitted,\n",
       "a:visited.sk-estimator-doc-link.fitted {\n",
       "  /* fitted */\n",
       "  border: var(--sklearn-color-fitted-level-1) 1pt solid;\n",
       "  color: var(--sklearn-color-fitted-level-1);\n",
       "}\n",
       "\n",
       "/* On hover */\n",
       "div.sk-estimator:hover .sk-estimator-doc-link:hover,\n",
       ".sk-estimator-doc-link:hover,\n",
       "div.sk-label-container:hover .sk-estimator-doc-link:hover,\n",
       ".sk-estimator-doc-link:hover {\n",
       "  /* unfitted */\n",
       "  background-color: var(--sklearn-color-unfitted-level-3);\n",
       "  color: var(--sklearn-color-background);\n",
       "  text-decoration: none;\n",
       "}\n",
       "\n",
       "div.sk-estimator.fitted:hover .sk-estimator-doc-link.fitted:hover,\n",
       ".sk-estimator-doc-link.fitted:hover,\n",
       "div.sk-label-container:hover .sk-estimator-doc-link.fitted:hover,\n",
       ".sk-estimator-doc-link.fitted:hover {\n",
       "  /* fitted */\n",
       "  background-color: var(--sklearn-color-fitted-level-3);\n",
       "  color: var(--sklearn-color-background);\n",
       "  text-decoration: none;\n",
       "}\n",
       "\n",
       "/* Span, style for the box shown on hovering the info icon */\n",
       ".sk-estimator-doc-link span {\n",
       "  display: none;\n",
       "  z-index: 9999;\n",
       "  position: relative;\n",
       "  font-weight: normal;\n",
       "  right: .2ex;\n",
       "  padding: .5ex;\n",
       "  margin: .5ex;\n",
       "  width: min-content;\n",
       "  min-width: 20ex;\n",
       "  max-width: 50ex;\n",
       "  color: var(--sklearn-color-text);\n",
       "  box-shadow: 2pt 2pt 4pt #999;\n",
       "  /* unfitted */\n",
       "  background: var(--sklearn-color-unfitted-level-0);\n",
       "  border: .5pt solid var(--sklearn-color-unfitted-level-3);\n",
       "}\n",
       "\n",
       ".sk-estimator-doc-link.fitted span {\n",
       "  /* fitted */\n",
       "  background: var(--sklearn-color-fitted-level-0);\n",
       "  border: var(--sklearn-color-fitted-level-3);\n",
       "}\n",
       "\n",
       ".sk-estimator-doc-link:hover span {\n",
       "  display: block;\n",
       "}\n",
       "\n",
       "/* \"?\"-specific style due to the `<a>` HTML tag */\n",
       "\n",
       "#sk-container-id-2 a.estimator_doc_link {\n",
       "  float: right;\n",
       "  font-size: 1rem;\n",
       "  line-height: 1em;\n",
       "  font-family: monospace;\n",
       "  background-color: var(--sklearn-color-background);\n",
       "  border-radius: 1rem;\n",
       "  height: 1rem;\n",
       "  width: 1rem;\n",
       "  text-decoration: none;\n",
       "  /* unfitted */\n",
       "  color: var(--sklearn-color-unfitted-level-1);\n",
       "  border: var(--sklearn-color-unfitted-level-1) 1pt solid;\n",
       "}\n",
       "\n",
       "#sk-container-id-2 a.estimator_doc_link.fitted {\n",
       "  /* fitted */\n",
       "  border: var(--sklearn-color-fitted-level-1) 1pt solid;\n",
       "  color: var(--sklearn-color-fitted-level-1);\n",
       "}\n",
       "\n",
       "/* On hover */\n",
       "#sk-container-id-2 a.estimator_doc_link:hover {\n",
       "  /* unfitted */\n",
       "  background-color: var(--sklearn-color-unfitted-level-3);\n",
       "  color: var(--sklearn-color-background);\n",
       "  text-decoration: none;\n",
       "}\n",
       "\n",
       "#sk-container-id-2 a.estimator_doc_link.fitted:hover {\n",
       "  /* fitted */\n",
       "  background-color: var(--sklearn-color-fitted-level-3);\n",
       "}\n",
       "</style><div id=\"sk-container-id-2\" class=\"sk-top-container\"><div class=\"sk-text-repr-fallback\"><pre>LGBMRegressor(objective=&#x27;regression&#x27;, random_state=1337, silent=True)</pre><b>In a Jupyter environment, please rerun this cell to show the HTML representation or trust the notebook. <br />On GitHub, the HTML representation is unable to render, please try loading this page with nbviewer.org.</b></div><div class=\"sk-container\" hidden><div class=\"sk-item\"><div class=\"sk-estimator fitted sk-toggleable\"><input class=\"sk-toggleable__control sk-hidden--visually\" id=\"sk-estimator-id-2\" type=\"checkbox\" checked><label for=\"sk-estimator-id-2\" class=\"sk-toggleable__label fitted sk-toggleable__label-arrow fitted\">&nbsp;LGBMRegressor<span class=\"sk-estimator-doc-link fitted\">i<span>Fitted</span></span></label><div class=\"sk-toggleable__content fitted\"><pre>LGBMRegressor(objective=&#x27;regression&#x27;, random_state=1337, silent=True)</pre></div> </div></div></div></div>"
      ],
      "text/plain": [
       "LGBMRegressor(objective='regression', random_state=1337, silent=True)"
      ]
     },
     "execution_count": 125,
     "metadata": {},
     "output_type": "execute_result"
    }
   ],
   "source": [
    "%%time\n",
    "gb_model.fit(X_train, y_train)"
   ]
  },
  {
   "cell_type": "code",
   "execution_count": 126,
   "metadata": {},
   "outputs": [
    {
     "name": "stdout",
     "output_type": "stream",
     "text": [
      "[LightGBM] [Warning] Unknown parameter: silent\n",
      "CPU times: total: 188 ms\n",
      "Wall time: 73.6 ms\n"
     ]
    }
   ],
   "source": [
    "%%time\n",
    "gb_predict_valid = gb_model.predict(X_valid)"
   ]
  },
  {
   "cell_type": "code",
   "execution_count": 127,
   "metadata": {},
   "outputs": [
    {
     "name": "stdout",
     "output_type": "stream",
     "text": [
      "RMSE of gradient boosting model: 1673.48\n"
     ]
    }
   ],
   "source": [
    "gb_rmse = mean_squared_error(gb_predict_valid, y_valid)**0.5\n",
    "print('RMSE of gradient boosting model:', round(gb_rmse, 2))"
   ]
  },
  {
   "cell_type": "markdown",
   "metadata": {},
   "source": [
    "## Analysis of models"
   ]
  },
  {
   "cell_type": "code",
   "execution_count": 128,
   "metadata": {},
   "outputs": [
    {
     "data": {
      "text/html": [
       "<div>\n",
       "<style scoped>\n",
       "    .dataframe tbody tr th:only-of-type {\n",
       "        vertical-align: middle;\n",
       "    }\n",
       "\n",
       "    .dataframe tbody tr th {\n",
       "        vertical-align: top;\n",
       "    }\n",
       "\n",
       "    .dataframe thead th {\n",
       "        text-align: right;\n",
       "    }\n",
       "</style>\n",
       "<table border=\"1\" class=\"dataframe\">\n",
       "  <thead>\n",
       "    <tr style=\"text-align: right;\">\n",
       "      <th></th>\n",
       "      <th>Model</th>\n",
       "      <th>RMSE</th>\n",
       "      <th>CPU time: training</th>\n",
       "      <th>CPU time: prediction</th>\n",
       "    </tr>\n",
       "  </thead>\n",
       "  <tbody>\n",
       "    <tr>\n",
       "      <th>0</th>\n",
       "      <td>RandomForestRegressor Model</td>\n",
       "      <td>1595.56</td>\n",
       "      <td>2min 45s</td>\n",
       "      <td>3.1 s</td>\n",
       "    </tr>\n",
       "    <tr>\n",
       "      <th>1</th>\n",
       "      <td>LightGBM Model</td>\n",
       "      <td>1673.48</td>\n",
       "      <td>5.38 s</td>\n",
       "      <td>460 ms</td>\n",
       "    </tr>\n",
       "  </tbody>\n",
       "</table>\n",
       "</div>"
      ],
      "text/plain": [
       "                         Model    RMSE CPU time: training CPU time: prediction\n",
       "0  RandomForestRegressor Model 1595.56           2min 45s                3.1 s\n",
       "1               LightGBM Model 1673.48             5.38 s               460 ms"
      ]
     },
     "execution_count": 128,
     "metadata": {},
     "output_type": "execute_result"
    }
   ],
   "source": [
    "analys_df = pd.DataFrame({'Model': ['RandomForestRegressor Model', 'LightGBM Model'],\n",
    "                          'RMSE': [rf_rmse, gb_rmse],\n",
    "                          'CPU time: training': ['2min 45s', '5.38 s'],\n",
    "                          'CPU time: prediction': ['3.1 s', '460 ms']\n",
    "                          })\n",
    "analys_df"
   ]
  },
  {
   "cell_type": "markdown",
   "metadata": {},
   "source": [
    "Compared to the model of random forest, the model of gradient boosting shows a huge increase in the speed of training, while demonstrating good quality.Unlike RandomForest, gradient boosting is not studying in minutes, but in seconds.The rate of prediction also increases by double and is calculated in a fraction of a second.\n",
    "\n",
    "When choosing the parameters, you can achieve possible qualities better than that of the model of a random forest, while the speed will still be better, but becauseThe task is to find the balance between quality and speed, it was decided to leave the quality such a little worse than that of a random forest, for the sake of speed of work, which increases significantly on such parameters"
   ]
  },
  {
   "cell_type": "markdown",
   "metadata": {},
   "source": [
    "Check the model on test data"
   ]
  },
  {
   "cell_type": "code",
   "execution_count": 129,
   "metadata": {},
   "outputs": [
    {
     "name": "stdout",
     "output_type": "stream",
     "text": [
      "[LightGBM] [Warning] Unknown parameter: silent\n",
      "CPU times: total: 484 ms\n",
      "Wall time: 115 ms\n"
     ]
    }
   ],
   "source": [
    "%%time\n",
    "gb_predict_test = gb_model.predict(X_test)"
   ]
  },
  {
   "cell_type": "code",
   "execution_count": 130,
   "metadata": {},
   "outputs": [
    {
     "name": "stdout",
     "output_type": "stream",
     "text": [
      "RMSE of model: 1669.03\n"
     ]
    }
   ],
   "source": [
    "final_rmse = mean_squared_error(gb_predict_test, y_test)**0.5\n",
    "print('RMSE of model:', round(final_rmse, 2))"
   ]
  },
  {
   "cell_type": "markdown",
   "metadata": {},
   "source": [
    "Conclusion\n",
    "\n",
    "In the course of work, data for teaching models were studied and prepared.A comparative analysis of models of random forest and gradient boosting was carried out.\n",
    "The gradient boosting model showed itself better in all respects both in quality and in the speed of prediction and especially in the speed of training.\n",
    "\n",
    "The final RMSE model in the test sample is 1669.03\n",
    "The speed of training was 5.38 s\n",
    "Prediction speed 479 ms"
   ]
  },
  {
   "cell_type": "code",
   "execution_count": null,
   "metadata": {},
   "outputs": [],
   "source": []
  }
 ],
 "metadata": {
  "ExecuteTimeLog": [
   {
    "duration": 1836,
    "start_time": "2023-02-07T19:55:19.148Z"
   },
   {
    "duration": 2442,
    "start_time": "2023-02-07T19:55:20.987Z"
   },
   {
    "duration": 1412,
    "start_time": "2023-02-07T19:55:23.431Z"
   },
   {
    "duration": 1279,
    "start_time": "2023-02-07T19:55:24.845Z"
   },
   {
    "duration": 11,
    "start_time": "2023-02-07T19:55:26.126Z"
   },
   {
    "duration": 2313,
    "start_time": "2023-02-07T19:55:26.139Z"
   },
   {
    "duration": 4,
    "start_time": "2023-02-07T19:55:28.454Z"
   },
   {
    "duration": 78,
    "start_time": "2023-02-07T19:55:28.459Z"
   },
   {
    "duration": 41,
    "start_time": "2023-02-07T19:55:28.539Z"
   },
   {
    "duration": 437,
    "start_time": "2023-02-07T19:55:28.584Z"
   },
   {
    "duration": 47,
    "start_time": "2023-02-07T19:55:29.023Z"
   },
   {
    "duration": 113,
    "start_time": "2023-02-07T19:55:29.072Z"
   },
   {
    "duration": 25,
    "start_time": "2023-02-07T19:55:29.187Z"
   },
   {
    "duration": 53,
    "start_time": "2023-02-07T19:55:29.214Z"
   },
   {
    "duration": 38,
    "start_time": "2023-02-07T19:55:29.269Z"
   },
   {
    "duration": 98,
    "start_time": "2023-02-07T19:55:29.308Z"
   },
   {
    "duration": 1892,
    "start_time": "2023-02-07T19:55:29.408Z"
   },
   {
    "duration": 317,
    "start_time": "2023-02-07T19:55:31.301Z"
   },
   {
    "duration": 149,
    "start_time": "2023-02-07T19:55:31.620Z"
   },
   {
    "duration": 96,
    "start_time": "2023-02-07T19:55:31.771Z"
   },
   {
    "duration": 29,
    "start_time": "2023-02-07T19:55:31.869Z"
   },
   {
    "duration": 99,
    "start_time": "2023-02-07T19:55:31.900Z"
   },
   {
    "duration": 8,
    "start_time": "2023-02-07T19:55:32.000Z"
   },
   {
    "duration": 11,
    "start_time": "2023-02-07T19:55:32.010Z"
   },
   {
    "duration": 18,
    "start_time": "2023-02-07T19:55:32.023Z"
   },
   {
    "duration": 195,
    "start_time": "2023-02-07T19:55:32.042Z"
   },
   {
    "duration": 81,
    "start_time": "2023-02-07T19:55:32.239Z"
   },
   {
    "duration": 94,
    "start_time": "2023-02-07T19:55:32.323Z"
   },
   {
    "duration": 115,
    "start_time": "2023-02-07T19:55:32.418Z"
   },
   {
    "duration": 102,
    "start_time": "2023-02-07T19:55:32.535Z"
   },
   {
    "duration": 138,
    "start_time": "2023-02-07T19:55:32.640Z"
   },
   {
    "duration": 1611,
    "start_time": "2023-02-07T19:55:49.047Z"
   },
   {
    "duration": 4,
    "start_time": "2023-02-07T19:56:12.717Z"
   },
   {
    "duration": 5215,
    "start_time": "2023-02-07T19:56:13.534Z"
   },
   {
    "duration": 492,
    "start_time": "2023-02-07T19:56:18.752Z"
   },
   {
    "duration": 5,
    "start_time": "2023-02-07T19:56:21.788Z"
   },
   {
    "duration": 384,
    "start_time": "2023-02-07T19:56:27.456Z"
   },
   {
    "duration": 4,
    "start_time": "2023-02-07T19:56:28.668Z"
   },
   {
    "duration": 194,
    "start_time": "2023-02-07T19:56:40.184Z"
   },
   {
    "duration": 120,
    "start_time": "2023-02-07T19:56:42.709Z"
   },
   {
    "duration": 2025,
    "start_time": "2023-02-07T19:56:43.337Z"
   },
   {
    "duration": 4,
    "start_time": "2023-02-07T19:56:50.461Z"
   },
   {
    "duration": 7786,
    "start_time": "2023-02-07T19:56:50.959Z"
   },
   {
    "duration": 401,
    "start_time": "2023-02-07T19:56:58.747Z"
   },
   {
    "duration": 4,
    "start_time": "2023-02-07T19:56:59.150Z"
   },
   {
    "duration": 3019,
    "start_time": "2023-02-07T20:26:14.066Z"
   },
   {
    "duration": 3392,
    "start_time": "2023-02-07T20:26:17.087Z"
   },
   {
    "duration": 1996,
    "start_time": "2023-02-07T20:26:20.482Z"
   },
   {
    "duration": 1450,
    "start_time": "2023-02-07T20:26:22.480Z"
   },
   {
    "duration": 24,
    "start_time": "2023-02-07T20:26:23.932Z"
   },
   {
    "duration": 3040,
    "start_time": "2023-02-07T20:26:23.958Z"
   },
   {
    "duration": 4,
    "start_time": "2023-02-07T20:26:27.000Z"
   },
   {
    "duration": 83,
    "start_time": "2023-02-07T20:26:27.006Z"
   },
   {
    "duration": 55,
    "start_time": "2023-02-07T20:26:27.091Z"
   },
   {
    "duration": 576,
    "start_time": "2023-02-07T20:26:27.152Z"
   },
   {
    "duration": 59,
    "start_time": "2023-02-07T20:26:27.730Z"
   },
   {
    "duration": 142,
    "start_time": "2023-02-07T20:26:27.790Z"
   },
   {
    "duration": 45,
    "start_time": "2023-02-07T20:26:27.937Z"
   },
   {
    "duration": 46,
    "start_time": "2023-02-07T20:26:27.984Z"
   },
   {
    "duration": 56,
    "start_time": "2023-02-07T20:26:28.042Z"
   },
   {
    "duration": 140,
    "start_time": "2023-02-07T20:26:28.099Z"
   },
   {
    "duration": 2343,
    "start_time": "2023-02-07T20:26:28.241Z"
   },
   {
    "duration": 369,
    "start_time": "2023-02-07T20:26:30.586Z"
   },
   {
    "duration": 165,
    "start_time": "2023-02-07T20:26:30.957Z"
   },
   {
    "duration": 93,
    "start_time": "2023-02-07T20:26:31.123Z"
   },
   {
    "duration": 51,
    "start_time": "2023-02-07T20:26:31.217Z"
   },
   {
    "duration": 113,
    "start_time": "2023-02-07T20:26:31.271Z"
   },
   {
    "duration": 9,
    "start_time": "2023-02-07T20:26:31.386Z"
   },
   {
    "duration": 34,
    "start_time": "2023-02-07T20:26:31.396Z"
   },
   {
    "duration": 45,
    "start_time": "2023-02-07T20:26:31.431Z"
   },
   {
    "duration": 222,
    "start_time": "2023-02-07T20:26:31.477Z"
   },
   {
    "duration": 112,
    "start_time": "2023-02-07T20:26:31.700Z"
   },
   {
    "duration": 105,
    "start_time": "2023-02-07T20:26:31.817Z"
   },
   {
    "duration": 106,
    "start_time": "2023-02-07T20:26:31.924Z"
   },
   {
    "duration": 102,
    "start_time": "2023-02-07T20:26:32.032Z"
   },
   {
    "duration": 159,
    "start_time": "2023-02-07T20:26:32.135Z"
   },
   {
    "duration": 1911,
    "start_time": "2023-02-07T20:26:32.295Z"
   },
   {
    "duration": 3,
    "start_time": "2023-02-07T20:26:34.207Z"
   },
   {
    "duration": 7601956,
    "start_time": "2023-02-07T20:26:34.212Z"
   },
   {
    "duration": 5,
    "start_time": "2023-02-07T22:33:16.169Z"
   },
   {
    "duration": 165639,
    "start_time": "2023-02-07T22:33:16.175Z"
   },
   {
    "duration": 3111,
    "start_time": "2023-02-07T22:36:01.815Z"
   },
   {
    "duration": 5,
    "start_time": "2023-02-07T22:36:04.927Z"
   },
   {
    "duration": 829801,
    "start_time": "2023-02-07T22:36:04.938Z"
   },
   {
    "duration": 11988704,
    "start_time": "2023-02-07T22:49:54.742Z"
   },
   {
    "duration": 12492,
    "start_time": "2023-02-08T02:09:43.447Z"
   },
   {
    "duration": 4,
    "start_time": "2023-02-08T02:09:55.941Z"
   },
   {
    "duration": 5400,
    "start_time": "2023-02-08T02:09:55.946Z"
   },
   {
    "duration": 490,
    "start_time": "2023-02-08T02:10:01.348Z"
   },
   {
    "duration": 6,
    "start_time": "2023-02-08T02:10:01.840Z"
   },
   {
    "duration": 74,
    "start_time": "2023-02-08T02:10:01.848Z"
   },
   {
    "duration": 513,
    "start_time": "2023-02-08T02:10:01.925Z"
   },
   {
    "duration": 6,
    "start_time": "2023-02-08T02:10:02.440Z"
   },
   {
    "duration": 12775,
    "start_time": "2023-02-08T02:54:23.371Z"
   },
   {
    "duration": 12819,
    "start_time": "2023-02-08T02:56:48.720Z"
   },
   {
    "duration": 4,
    "start_time": "2023-02-08T02:58:23.379Z"
   },
   {
    "duration": 59999,
    "start_time": "2023-02-08T03:00:20.241Z"
   },
   {
    "duration": 9,
    "start_time": "2023-02-08T03:07:14.539Z"
   },
   {
    "duration": 9,
    "start_time": "2023-02-08T03:07:55.007Z"
   }
  ],
  "kernelspec": {
   "display_name": "Python 3",
   "language": "python",
   "name": "python3"
  },
  "language_info": {
   "codemirror_mode": {
    "name": "ipython",
    "version": 3
   },
   "file_extension": ".py",
   "mimetype": "text/x-python",
   "name": "python",
   "nbconvert_exporter": "python",
   "pygments_lexer": "ipython3",
   "version": "3.9.0"
  },
  "toc": {
   "base_numbering": 1,
   "nav_menu": {},
   "number_sections": true,
   "sideBar": true,
   "skip_h1_title": true,
   "title_cell": "Table of Contents",
   "title_sidebar": "Contents",
   "toc_cell": false,
   "toc_position": {},
   "toc_section_display": true,
   "toc_window_display": false
  },
  "vscode": {
   "interpreter": {
    "hash": "8a5edab282632443219e051e4ade2d1d5bbc671c781051bf1437897cbdfea0f1"
   }
  }
 },
 "nbformat": 4,
 "nbformat_minor": 2
}
